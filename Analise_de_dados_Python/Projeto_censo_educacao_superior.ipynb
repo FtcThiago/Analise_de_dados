{
 "cells": [
  {
   "cell_type": "markdown",
   "metadata": {},
   "source": [
    "## Importações de Bibliotecas"
   ]
  },
  {
   "cell_type": "code",
   "execution_count": 2,
   "metadata": {},
   "outputs": [],
   "source": [
    "# Biblioteca para analise e importações dos arquivos \n",
    "import pandas as pd"
   ]
  },
  {
   "cell_type": "markdown",
   "metadata": {},
   "source": [
    "### Criando função para otimizara leitura dos arquivos."
   ]
  },
  {
   "cell_type": "code",
   "execution_count": 3,
   "metadata": {},
   "outputs": [],
   "source": [
    "def importando_dados(lista_caminho:list[str]):\n",
    "\n",
    "    # Data frame criado para poder guardar a junção de todos os DataFrames. \n",
    "    juntando_dataFrames = pd.DataFrame()\n",
    "\n",
    "    # Laço for para que ocorra a leitura de todos os arquivos csv de acordo com seus caminhos(caminho local)\n",
    "    for arquivo in lista_caminho:\n",
    "\n",
    "        # Listar todas as colunas no arquivo, afim de não baixar todo o arquivo antes de excluir as colunas rejeitadas.\n",
    "        todas_colunas = pd.read_csv(arquivo, nrows=0,encoding=\"ISO-8859-1\", sep=';').columns.tolist()\n",
    "\n",
    "        # Definir as colunas que você quer excluir\n",
    "        # Essas colunas  estão sendo tiradas por se tratar apenas de dados do distrito_Federal, sem necessidade da permanencia de informações implicitamente informadas.\n",
    "        colunas_para_excluir = ['NO_REGIAO', 'CO_REGIAO','NO_UF','CO_UF','CO_MUNICIPIO','NO_MUNICIPIO','IN_CAPITAL']\n",
    "\n",
    "        # Listar as colunas que você deseja manter\n",
    "        colunas_para_manter = [coluna for coluna in todas_colunas if coluna not in colunas_para_excluir]\n",
    "\n",
    "        # Carregar o arquivo com apenas as colunas que você quer manter\n",
    "        df = pd.read_csv(arquivo, usecols=colunas_para_manter,encoding=\"ISO-8859-1\", sep=';')\n",
    "\n",
    "        # Utilizando do groupby para que somente as informações referente ao Distrito-Federal(DF) permaneçam.\n",
    "        dados_df = df.groupby(['SG_UF'] ).get_group('DF')\n",
    "\n",
    "        # Juntando os novos DataFrames com os anteriores. \n",
    "        juntando_dataFrames = pd.concat([dados_df,juntando_dataFrames],axis=0)\n",
    "\n",
    "    return juntando_dataFrames"
   ]
  },
  {
   "cell_type": "code",
   "execution_count": 4,
   "metadata": {},
   "outputs": [],
   "source": [
    "# Criando lista de caminhos onde os arquivos estão sendo mantidos.\n",
    "caminhos_lista = [\n",
    "    \"D:\\\\analise_de_Dados\\\\arquivos_Brutos\\\\Projeto_censo_educacao_superior\\\\Microdados do Censo da Educação Superior 2023\\\\dados\\\\MICRODADOS_CADASTRO_CURSOS_2023.CSV\",\n",
    "    \"D:\\\\analise_de_Dados\\\\arquivos_Brutos\\\\Projeto_censo_educacao_superior\\\\Microdados do Censo da Educação Superior 2022\\\\dados\\\\MICRODADOS_CADASTRO_CURSOS_2022.CSV\",\n",
    "    \"D:\\\\analise_de_Dados\\\\arquivos_Brutos\\\\Projeto_censo_educacao_superior\\\\Microdados do Censo da Educação Superior 2021\\\\dados\\\\MICRODADOS_CADASTRO_CURSOS_2021.CSV\",\n",
    "    \"D:\\\\analise_de_Dados\\\\arquivos_Brutos\\\\Projeto_censo_educacao_superior\\\\Microdados do Censo da Educação Superior 2020\\\\dados\\\\MICRODADOS_CADASTRO_CURSOS_2020.CSV\",\n",
    "    \"D:\\\\analise_de_Dados\\\\arquivos_Brutos\\\\Projeto_censo_educacao_superior\\\\Microdados do Censo da Educação Superior 2019\\\\dados\\\\MICRODADOS_CADASTRO_CURSOS_2019.CSV\",\n",
    "    \"D:\\\\analise_de_Dados\\\\arquivos_Brutos\\\\Projeto_censo_educacao_superior\\\\Microdados do Censo da Educação Superior 2018\\\\dados\\\\MICRODADOS_CADASTRO_CURSOS_2018.CSV\"\n",
    "]\n"
   ]
  },
  {
   "cell_type": "code",
   "execution_count": 5,
   "metadata": {},
   "outputs": [
    {
     "name": "stderr",
     "output_type": "stream",
     "text": [
      "C:\\Users\\Thiago\\AppData\\Local\\Temp\\ipykernel_5884\\288032912.py:20: DtypeWarning: Columns (4) have mixed types. Specify dtype option on import or set low_memory=False.\n",
      "  df = pd.read_csv(arquivo, usecols=colunas_para_manter,encoding=\"ISO-8859-1\", sep=';')\n",
      "C:\\Users\\Thiago\\AppData\\Local\\Temp\\ipykernel_5884\\288032912.py:23: FutureWarning: When grouping with a length-1 list-like, you will need to pass a length-1 tuple to get_group in a future version of pandas. Pass `(name,)` instead of `name` to silence this warning.\n",
      "  dados_df = df.groupby(['SG_UF'] ).get_group('DF')\n",
      "C:\\Users\\Thiago\\AppData\\Local\\Temp\\ipykernel_5884\\288032912.py:20: DtypeWarning: Columns (4) have mixed types. Specify dtype option on import or set low_memory=False.\n",
      "  df = pd.read_csv(arquivo, usecols=colunas_para_manter,encoding=\"ISO-8859-1\", sep=';')\n",
      "C:\\Users\\Thiago\\AppData\\Local\\Temp\\ipykernel_5884\\288032912.py:23: FutureWarning: When grouping with a length-1 list-like, you will need to pass a length-1 tuple to get_group in a future version of pandas. Pass `(name,)` instead of `name` to silence this warning.\n",
      "  dados_df = df.groupby(['SG_UF'] ).get_group('DF')\n",
      "C:\\Users\\Thiago\\AppData\\Local\\Temp\\ipykernel_5884\\288032912.py:20: DtypeWarning: Columns (4) have mixed types. Specify dtype option on import or set low_memory=False.\n",
      "  df = pd.read_csv(arquivo, usecols=colunas_para_manter,encoding=\"ISO-8859-1\", sep=';')\n",
      "C:\\Users\\Thiago\\AppData\\Local\\Temp\\ipykernel_5884\\288032912.py:23: FutureWarning: When grouping with a length-1 list-like, you will need to pass a length-1 tuple to get_group in a future version of pandas. Pass `(name,)` instead of `name` to silence this warning.\n",
      "  dados_df = df.groupby(['SG_UF'] ).get_group('DF')\n",
      "C:\\Users\\Thiago\\AppData\\Local\\Temp\\ipykernel_5884\\288032912.py:20: DtypeWarning: Columns (4) have mixed types. Specify dtype option on import or set low_memory=False.\n",
      "  df = pd.read_csv(arquivo, usecols=colunas_para_manter,encoding=\"ISO-8859-1\", sep=';')\n",
      "C:\\Users\\Thiago\\AppData\\Local\\Temp\\ipykernel_5884\\288032912.py:23: FutureWarning: When grouping with a length-1 list-like, you will need to pass a length-1 tuple to get_group in a future version of pandas. Pass `(name,)` instead of `name` to silence this warning.\n",
      "  dados_df = df.groupby(['SG_UF'] ).get_group('DF')\n",
      "C:\\Users\\Thiago\\AppData\\Local\\Temp\\ipykernel_5884\\288032912.py:20: DtypeWarning: Columns (4) have mixed types. Specify dtype option on import or set low_memory=False.\n",
      "  df = pd.read_csv(arquivo, usecols=colunas_para_manter,encoding=\"ISO-8859-1\", sep=';')\n",
      "C:\\Users\\Thiago\\AppData\\Local\\Temp\\ipykernel_5884\\288032912.py:23: FutureWarning: When grouping with a length-1 list-like, you will need to pass a length-1 tuple to get_group in a future version of pandas. Pass `(name,)` instead of `name` to silence this warning.\n",
      "  dados_df = df.groupby(['SG_UF'] ).get_group('DF')\n",
      "C:\\Users\\Thiago\\AppData\\Local\\Temp\\ipykernel_5884\\288032912.py:20: DtypeWarning: Columns (4) have mixed types. Specify dtype option on import or set low_memory=False.\n",
      "  df = pd.read_csv(arquivo, usecols=colunas_para_manter,encoding=\"ISO-8859-1\", sep=';')\n",
      "C:\\Users\\Thiago\\AppData\\Local\\Temp\\ipykernel_5884\\288032912.py:23: FutureWarning: When grouping with a length-1 list-like, you will need to pass a length-1 tuple to get_group in a future version of pandas. Pass `(name,)` instead of `name` to silence this warning.\n",
      "  dados_df = df.groupby(['SG_UF'] ).get_group('DF')\n"
     ]
    }
   ],
   "source": [
    "# Criando o DataFrame para receber o arquivo somente com os Dados do Distrito-Federal( DF)\n",
    "dados_censo_DF = importando_dados(caminhos_lista).reset_index(drop=True)"
   ]
  },
  {
   "cell_type": "code",
   "execution_count": 12,
   "metadata": {},
   "outputs": [],
   "source": [
    "# Salvando dados somente do DF.\n",
    "dados_censo_DF.to_csv(\"Censo_ed_sup_df.csv\",sep=';',index=False)"
   ]
  },
  {
   "cell_type": "code",
   "execution_count": 17,
   "metadata": {},
   "outputs": [
    {
     "data": {
      "text/plain": [
       "629"
      ]
     },
     "execution_count": 17,
     "metadata": {},
     "output_type": "execute_result"
    }
   ],
   "source": [
    "dados_censo_DF['QT_MAT_FEM'].nunique()"
   ]
  },
  {
   "cell_type": "code",
   "execution_count": 7,
   "metadata": {},
   "outputs": [
    {
     "data": {
      "text/html": [
       "<div>\n",
       "<style scoped>\n",
       "    .dataframe tbody tr th:only-of-type {\n",
       "        vertical-align: middle;\n",
       "    }\n",
       "\n",
       "    .dataframe tbody tr th {\n",
       "        vertical-align: top;\n",
       "    }\n",
       "\n",
       "    .dataframe thead th {\n",
       "        text-align: right;\n",
       "    }\n",
       "</style>\n",
       "<table border=\"1\" class=\"dataframe\">\n",
       "  <thead>\n",
       "    <tr style=\"text-align: right;\">\n",
       "      <th></th>\n",
       "      <th>NU_ANO_CENSO</th>\n",
       "      <th>SG_UF</th>\n",
       "      <th>TP_DIMENSAO</th>\n",
       "      <th>TP_ORGANIZACAO_ACADEMICA</th>\n",
       "      <th>TP_CATEGORIA_ADMINISTRATIVA</th>\n",
       "      <th>TP_REDE</th>\n",
       "      <th>CO_IES</th>\n",
       "      <th>NO_CURSO</th>\n",
       "      <th>CO_CURSO</th>\n",
       "      <th>NO_CINE_ROTULO</th>\n",
       "      <th>...</th>\n",
       "      <th>QT_ING_ATIV_EXTRACURRICULAR</th>\n",
       "      <th>QT_MAT_ATIV_EXTRACURRICULAR</th>\n",
       "      <th>QT_CONC_ATIV_EXTRACURRICULAR</th>\n",
       "      <th>QT_MOB_ACADEMICA</th>\n",
       "      <th>QT_ING_MOB_ACADEMICA</th>\n",
       "      <th>QT_MAT_MOB_ACADEMICA</th>\n",
       "      <th>QT_CONC_MOB_ACADEMICA</th>\n",
       "      <th>CO_CINE_ROTULO2</th>\n",
       "      <th>IN_COMUNITARIA</th>\n",
       "      <th>IN_CONFESSIONAL</th>\n",
       "    </tr>\n",
       "  </thead>\n",
       "  <tbody>\n",
       "    <tr>\n",
       "      <th>0</th>\n",
       "      <td>2018</td>\n",
       "      <td>DF</td>\n",
       "      <td>1</td>\n",
       "      <td>1</td>\n",
       "      <td>1</td>\n",
       "      <td>1</td>\n",
       "      <td>2</td>\n",
       "      <td>ABI - ARTES CÊNICAS</td>\n",
       "      <td>5001035</td>\n",
       "      <td>ABI Artes e humanidades</td>\n",
       "      <td>...</td>\n",
       "      <td>8.0</td>\n",
       "      <td>8.0</td>\n",
       "      <td>0.0</td>\n",
       "      <td>0.0</td>\n",
       "      <td>0.0</td>\n",
       "      <td>0.0</td>\n",
       "      <td>0.0</td>\n",
       "      <td>NaN</td>\n",
       "      <td>NaN</td>\n",
       "      <td>NaN</td>\n",
       "    </tr>\n",
       "    <tr>\n",
       "      <th>1</th>\n",
       "      <td>2018</td>\n",
       "      <td>DF</td>\n",
       "      <td>1</td>\n",
       "      <td>1</td>\n",
       "      <td>1</td>\n",
       "      <td>1</td>\n",
       "      <td>2</td>\n",
       "      <td>ABI - ARTES PLÁSTICAS</td>\n",
       "      <td>5001034</td>\n",
       "      <td>ABI Artes e humanidades</td>\n",
       "      <td>...</td>\n",
       "      <td>4.0</td>\n",
       "      <td>4.0</td>\n",
       "      <td>0.0</td>\n",
       "      <td>0.0</td>\n",
       "      <td>0.0</td>\n",
       "      <td>0.0</td>\n",
       "      <td>0.0</td>\n",
       "      <td>NaN</td>\n",
       "      <td>NaN</td>\n",
       "      <td>NaN</td>\n",
       "    </tr>\n",
       "    <tr>\n",
       "      <th>2</th>\n",
       "      <td>2018</td>\n",
       "      <td>DF</td>\n",
       "      <td>1</td>\n",
       "      <td>1</td>\n",
       "      <td>1</td>\n",
       "      <td>1</td>\n",
       "      <td>2</td>\n",
       "      <td>ABI - CIÊNCIAS SOCIAIS</td>\n",
       "      <td>5001037</td>\n",
       "      <td>ABI Ciências sociais, comunicação e informação</td>\n",
       "      <td>...</td>\n",
       "      <td>24.0</td>\n",
       "      <td>24.0</td>\n",
       "      <td>0.0</td>\n",
       "      <td>0.0</td>\n",
       "      <td>0.0</td>\n",
       "      <td>0.0</td>\n",
       "      <td>0.0</td>\n",
       "      <td>NaN</td>\n",
       "      <td>NaN</td>\n",
       "      <td>NaN</td>\n",
       "    </tr>\n",
       "    <tr>\n",
       "      <th>3</th>\n",
       "      <td>2018</td>\n",
       "      <td>DF</td>\n",
       "      <td>1</td>\n",
       "      <td>1</td>\n",
       "      <td>1</td>\n",
       "      <td>1</td>\n",
       "      <td>2</td>\n",
       "      <td>ABI - COMUNICAÇÃO SOCIAL</td>\n",
       "      <td>5001038</td>\n",
       "      <td>ABI Ciências sociais, comunicação e informação</td>\n",
       "      <td>...</td>\n",
       "      <td>14.0</td>\n",
       "      <td>13.0</td>\n",
       "      <td>0.0</td>\n",
       "      <td>0.0</td>\n",
       "      <td>0.0</td>\n",
       "      <td>0.0</td>\n",
       "      <td>0.0</td>\n",
       "      <td>NaN</td>\n",
       "      <td>NaN</td>\n",
       "      <td>NaN</td>\n",
       "    </tr>\n",
       "    <tr>\n",
       "      <th>4</th>\n",
       "      <td>2018</td>\n",
       "      <td>DF</td>\n",
       "      <td>1</td>\n",
       "      <td>1</td>\n",
       "      <td>1</td>\n",
       "      <td>1</td>\n",
       "      <td>2</td>\n",
       "      <td>ABI - DESIGN</td>\n",
       "      <td>5001039</td>\n",
       "      <td>ABI Artes e humanidades</td>\n",
       "      <td>...</td>\n",
       "      <td>6.0</td>\n",
       "      <td>6.0</td>\n",
       "      <td>0.0</td>\n",
       "      <td>0.0</td>\n",
       "      <td>0.0</td>\n",
       "      <td>0.0</td>\n",
       "      <td>0.0</td>\n",
       "      <td>NaN</td>\n",
       "      <td>NaN</td>\n",
       "      <td>NaN</td>\n",
       "    </tr>\n",
       "  </tbody>\n",
       "</table>\n",
       "<p>5 rows × 196 columns</p>\n",
       "</div>"
      ],
      "text/plain": [
       "   NU_ANO_CENSO SG_UF  TP_DIMENSAO  TP_ORGANIZACAO_ACADEMICA  \\\n",
       "0          2018    DF            1                         1   \n",
       "1          2018    DF            1                         1   \n",
       "2          2018    DF            1                         1   \n",
       "3          2018    DF            1                         1   \n",
       "4          2018    DF            1                         1   \n",
       "\n",
       "   TP_CATEGORIA_ADMINISTRATIVA  TP_REDE  CO_IES                  NO_CURSO  \\\n",
       "0                            1        1       2       ABI - ARTES CÊNICAS   \n",
       "1                            1        1       2     ABI - ARTES PLÁSTICAS   \n",
       "2                            1        1       2    ABI - CIÊNCIAS SOCIAIS   \n",
       "3                            1        1       2  ABI - COMUNICAÇÃO SOCIAL   \n",
       "4                            1        1       2              ABI - DESIGN   \n",
       "\n",
       "   CO_CURSO                                  NO_CINE_ROTULO  ...  \\\n",
       "0   5001035                         ABI Artes e humanidades  ...   \n",
       "1   5001034                         ABI Artes e humanidades  ...   \n",
       "2   5001037  ABI Ciências sociais, comunicação e informação  ...   \n",
       "3   5001038  ABI Ciências sociais, comunicação e informação  ...   \n",
       "4   5001039                         ABI Artes e humanidades  ...   \n",
       "\n",
       "  QT_ING_ATIV_EXTRACURRICULAR  QT_MAT_ATIV_EXTRACURRICULAR  \\\n",
       "0                         8.0                          8.0   \n",
       "1                         4.0                          4.0   \n",
       "2                        24.0                         24.0   \n",
       "3                        14.0                         13.0   \n",
       "4                         6.0                          6.0   \n",
       "\n",
       "  QT_CONC_ATIV_EXTRACURRICULAR  QT_MOB_ACADEMICA QT_ING_MOB_ACADEMICA  \\\n",
       "0                          0.0               0.0                  0.0   \n",
       "1                          0.0               0.0                  0.0   \n",
       "2                          0.0               0.0                  0.0   \n",
       "3                          0.0               0.0                  0.0   \n",
       "4                          0.0               0.0                  0.0   \n",
       "\n",
       "   QT_MAT_MOB_ACADEMICA QT_CONC_MOB_ACADEMICA  CO_CINE_ROTULO2  \\\n",
       "0                   0.0                   0.0              NaN   \n",
       "1                   0.0                   0.0              NaN   \n",
       "2                   0.0                   0.0              NaN   \n",
       "3                   0.0                   0.0              NaN   \n",
       "4                   0.0                   0.0              NaN   \n",
       "\n",
       "   IN_COMUNITARIA  IN_CONFESSIONAL  \n",
       "0             NaN              NaN  \n",
       "1             NaN              NaN  \n",
       "2             NaN              NaN  \n",
       "3             NaN              NaN  \n",
       "4             NaN              NaN  \n",
       "\n",
       "[5 rows x 196 columns]"
      ]
     },
     "execution_count": 7,
     "metadata": {},
     "output_type": "execute_result"
    }
   ],
   "source": [
    "# Visualizando as 10 primeiras linhas do DataFrame\n",
    "dados_censo_DF.head()"
   ]
  },
  {
   "cell_type": "markdown",
   "metadata": {},
   "source": [
    "### Visualizando os Tipos de cursos e seus nomes disponibilizados no DF"
   ]
  },
  {
   "cell_type": "code",
   "execution_count": 8,
   "metadata": {},
   "outputs": [
    {
     "data": {
      "text/plain": [
       "727"
      ]
     },
     "execution_count": 8,
     "metadata": {},
     "output_type": "execute_result"
    }
   ],
   "source": [
    "dados_censo_DF['NO_CURSO'].nunique()"
   ]
  },
  {
   "cell_type": "code",
   "execution_count": 9,
   "metadata": {},
   "outputs": [
    {
     "data": {
      "text/plain": [
       "NO_CINE_ROTULO\n",
       "Direito                    3\n",
       "Sistemas de informação     2\n",
       "Gestão pública             2\n",
       "Gestão de pessoas          2\n",
       "Psicologia                 1\n",
       "Jornalismo                 1\n",
       "Arquitetura e urbanismo    1\n",
       "Moda                       1\n",
       "Estética e cosmética       1\n",
       "Gestão de negócios         1\n",
       "Marketing                  1\n",
       "Educação física            1\n",
       "Name: count, dtype: int64"
      ]
     },
     "execution_count": 9,
     "metadata": {},
     "output_type": "execute_result"
    }
   ],
   "source": [
    "iesb = dados_censo_DF[dados_censo_DF['CO_IES'] == 1060]\n",
    "iesb[iesb['QT_CONC_INDIGENA'] != 0]['NO_CINE_ROTULO'].value_counts()"
   ]
  },
  {
   "cell_type": "code",
   "execution_count": 10,
   "metadata": {},
   "outputs": [
    {
     "data": {
      "text/plain": [
       "NU_ANO_CENSO\n",
       "2023    3751\n",
       "2022    3413\n",
       "2021    2799\n",
       "2020    2362\n",
       "2019    2108\n",
       "2018    1732\n",
       "Name: count, dtype: int64"
      ]
     },
     "execution_count": 10,
     "metadata": {},
     "output_type": "execute_result"
    }
   ],
   "source": [
    "# Verificando quantos registros para cada ano\n",
    "\n",
    "dados_censo_DF['NU_ANO_CENSO'].value_counts()"
   ]
  },
  {
   "cell_type": "code",
   "execution_count": null,
   "metadata": {},
   "outputs": [],
   "source": []
  },
  {
   "cell_type": "code",
   "execution_count": null,
   "metadata": {},
   "outputs": [],
   "source": []
  },
  {
   "cell_type": "code",
   "execution_count": null,
   "metadata": {},
   "outputs": [],
   "source": []
  },
  {
   "cell_type": "code",
   "execution_count": null,
   "metadata": {},
   "outputs": [],
   "source": []
  },
  {
   "cell_type": "code",
   "execution_count": null,
   "metadata": {},
   "outputs": [],
   "source": []
  },
  {
   "cell_type": "code",
   "execution_count": null,
   "metadata": {},
   "outputs": [],
   "source": []
  }
 ],
 "metadata": {
  "kernelspec": {
   "display_name": "Python 3",
   "language": "python",
   "name": "python3"
  },
  "language_info": {
   "codemirror_mode": {
    "name": "ipython",
    "version": 3
   },
   "file_extension": ".py",
   "mimetype": "text/x-python",
   "name": "python",
   "nbconvert_exporter": "python",
   "pygments_lexer": "ipython3",
   "version": "3.13.1"
  }
 },
 "nbformat": 4,
 "nbformat_minor": 2
}
