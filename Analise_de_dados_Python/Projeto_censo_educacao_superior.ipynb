{
 "cells": [
  {
   "cell_type": "markdown",
   "metadata": {},
   "source": [
    "## Importações de Bibliotecas"
   ]
  },
  {
   "cell_type": "code",
   "execution_count": 148,
   "metadata": {},
   "outputs": [],
   "source": [
    "# Biblioteca para analise e importações dos arquivos \n",
    "import pandas as pd\n",
    "import matplotlib.pyplot as plt\n",
    " "
   ]
  },
  {
   "cell_type": "markdown",
   "metadata": {},
   "source": [
    "### Fazendo conexão com o DRIVE. "
   ]
  },
  {
   "cell_type": "markdown",
   "metadata": {},
   "source": [
    "### 1. Definição do Problema"
   ]
  },
  {
   "cell_type": "markdown",
   "metadata": {},
   "source": [
    "# Taxas de Desistência no Ensino Superior do Distrito Federal\n",
    "Análise das Taxas de Desistência no Ensino Superior do Distrito Federal: Um Estudo nas Dez Instituições Mais Bem Avaliadas pelo MEC em 2021\n",
    "\n",
    "## Objetivo da Análise\n",
    "Este estudo tem como objetivo analisar e compreender os fatores associados às taxas de desistência em cursos de graduação no Distrito Federal. A investigação será conduzida com base em dados públicos extraídos de plataformas governamentais, que abrangem informações sobre instituições de ensino superior públicas e privadas. Para fins de recorte metodológico, a amostra será composta pelas dez instituições de ensino superior do DF que obtiveram as melhores avaliações segundo o Índice Geral de Cursos (IGC) do Ministério da Educação (MEC) no ano de 2021.\n",
    "\n",
    "## Justificativa\n",
    "A escolha por focar apenas nas dez instituições de ensino superior mais bem avaliadas do Distrito Federal tem como objetivo garantir maior clareza e confiabilidade na análise. Essas instituições costumam ter estruturas mais organizadas e sistemas de gestão mais transparentes, o que facilita o acesso a dados mais completos e padronizados. Além disso, ao analisar faculdades com bom desempenho, buscamos entender se a evasão estudantil também ocorre em contextos considerados positivos — o que pode apontar para questões mais amplas e estruturais no ensino superior brasileiro. Essa delimitação também está relacionada ao fato de este ser um trabalho de início de graduação, o que exige um recorte de dados menor e mais viável, sem a necessidade de incluir todas as instituições do DF ou de outros estados do país.\n",
    "\n",
    "\n"
   ]
  },
  {
   "cell_type": "markdown",
   "metadata": {},
   "source": [
    "### 2. Coleta de Dados"
   ]
  },
  {
   "cell_type": "markdown",
   "metadata": {},
   "source": [
    "### Criando função para otimizara leitura dos arquivos."
   ]
  },
  {
   "cell_type": "code",
   "execution_count": 149,
   "metadata": {},
   "outputs": [],
   "source": [
    "def importando_dados(lista_caminho:list[str]):\n",
    "\n",
    "    # Data frame criado para poder guardar a junção de todos os DataFrames. \n",
    "    juntando_dataFrames = pd.DataFrame()\n",
    "\n",
    "    # Laço for para que ocorra a leitura de todos os arquivos csv de acordo com seus caminhos(caminho local)\n",
    "    for arquivo in lista_caminho:\n",
    "\n",
    "        # Listar todas as colunas no arquivo, afim de não baixar todo o arquivo antes de excluir as colunas rejeitadas.\n",
    "        todas_colunas = pd.read_csv(arquivo, nrows=0,encoding=\"ISO-8859-1\", sep=';').columns.tolist()\n",
    "\n",
    "        # Definir as colunas que você quer excluir\n",
    "        # Essas colunas  estão sendo tiradas por se tratar apenas de dados do distrito_Federal, sem necessidade da permanencia de informações implicitamente informadas.\n",
    "        colunas_para_excluir = ['NO_REGIAO', 'CO_REGIAO','NO_UF','CO_UF','CO_MUNICIPIO','NO_MUNICIPIO','IN_CAPITAL']\n",
    "\n",
    "        # Listar as colunas que você deseja manter\n",
    "        colunas_para_manter = [coluna for coluna in todas_colunas if coluna not in colunas_para_excluir]\n",
    "\n",
    "        # Carregar o arquivo com apenas as colunas que você quer manter\n",
    "        df = pd.read_csv(arquivo, usecols=colunas_para_manter,encoding=\"ISO-8859-1\", sep=';')\n",
    "\n",
    "        # Utilizando do groupby para que somente as informações referente ao Distrito-Federal(DF) permaneçam.\n",
    "        dados_df = df.groupby(['SG_UF'] ).get_group('DF')\n",
    "\n",
    "        # Juntando os novos DataFrames com os anteriores. \n",
    "        juntando_dataFrames = pd.concat([dados_df,juntando_dataFrames],axis=0)\n",
    "\n",
    "    return juntando_dataFrames"
   ]
  },
  {
   "cell_type": "code",
   "execution_count": 150,
   "metadata": {},
   "outputs": [],
   "source": [
    "# Criando lista de caminhos onde os arquivos estão sendo mantidos.\n",
    "caminhos_lista = [\n",
    "    \"D:\\\\analise_de_Dados\\\\arquivos_Brutos\\\\Projeto_censo_educacao_superior\\\\Microdados do Censo da Educação Superior 2023\\\\dados\\\\MICRODADOS_CADASTRO_CURSOS_2023.CSV\",\n",
    "    \"D:\\\\analise_de_Dados\\\\arquivos_Brutos\\\\Projeto_censo_educacao_superior\\\\Microdados do Censo da Educação Superior 2022\\\\dados\\\\MICRODADOS_CADASTRO_CURSOS_2022.CSV\",\n",
    "    \"D:\\\\analise_de_Dados\\\\arquivos_Brutos\\\\Projeto_censo_educacao_superior\\\\Microdados do Censo da Educação Superior 2021\\\\dados\\\\MICRODADOS_CADASTRO_CURSOS_2021.CSV\",\n",
    "    \"D:\\\\analise_de_Dados\\\\arquivos_Brutos\\\\Projeto_censo_educacao_superior\\\\Microdados do Censo da Educação Superior 2020\\\\dados\\\\MICRODADOS_CADASTRO_CURSOS_2020.CSV\",\n",
    "    \"D:\\\\analise_de_Dados\\\\arquivos_Brutos\\\\Projeto_censo_educacao_superior\\\\Microdados do Censo da Educação Superior 2019\\\\dados\\\\MICRODADOS_CADASTRO_CURSOS_2019.CSV\",\n",
    "    \"D:\\\\analise_de_Dados\\\\arquivos_Brutos\\\\Projeto_censo_educacao_superior\\\\Microdados do Censo da Educação Superior 2018\\\\dados\\\\MICRODADOS_CADASTRO_CURSOS_2018.CSV\",\n",
    "    \n",
    "]\n"
   ]
  },
  {
   "cell_type": "code",
   "execution_count": 151,
   "metadata": {},
   "outputs": [
    {
     "name": "stderr",
     "output_type": "stream",
     "text": [
      "C:\\Users\\Thiago\\AppData\\Local\\Temp\\ipykernel_3568\\288032912.py:20: DtypeWarning: Columns (4) have mixed types. Specify dtype option on import or set low_memory=False.\n",
      "  df = pd.read_csv(arquivo, usecols=colunas_para_manter,encoding=\"ISO-8859-1\", sep=';')\n",
      "C:\\Users\\Thiago\\AppData\\Local\\Temp\\ipykernel_3568\\288032912.py:23: FutureWarning: When grouping with a length-1 list-like, you will need to pass a length-1 tuple to get_group in a future version of pandas. Pass `(name,)` instead of `name` to silence this warning.\n",
      "  dados_df = df.groupby(['SG_UF'] ).get_group('DF')\n",
      "C:\\Users\\Thiago\\AppData\\Local\\Temp\\ipykernel_3568\\288032912.py:20: DtypeWarning: Columns (4) have mixed types. Specify dtype option on import or set low_memory=False.\n",
      "  df = pd.read_csv(arquivo, usecols=colunas_para_manter,encoding=\"ISO-8859-1\", sep=';')\n",
      "C:\\Users\\Thiago\\AppData\\Local\\Temp\\ipykernel_3568\\288032912.py:23: FutureWarning: When grouping with a length-1 list-like, you will need to pass a length-1 tuple to get_group in a future version of pandas. Pass `(name,)` instead of `name` to silence this warning.\n",
      "  dados_df = df.groupby(['SG_UF'] ).get_group('DF')\n",
      "C:\\Users\\Thiago\\AppData\\Local\\Temp\\ipykernel_3568\\288032912.py:20: DtypeWarning: Columns (4) have mixed types. Specify dtype option on import or set low_memory=False.\n",
      "  df = pd.read_csv(arquivo, usecols=colunas_para_manter,encoding=\"ISO-8859-1\", sep=';')\n",
      "C:\\Users\\Thiago\\AppData\\Local\\Temp\\ipykernel_3568\\288032912.py:23: FutureWarning: When grouping with a length-1 list-like, you will need to pass a length-1 tuple to get_group in a future version of pandas. Pass `(name,)` instead of `name` to silence this warning.\n",
      "  dados_df = df.groupby(['SG_UF'] ).get_group('DF')\n",
      "C:\\Users\\Thiago\\AppData\\Local\\Temp\\ipykernel_3568\\288032912.py:20: DtypeWarning: Columns (4) have mixed types. Specify dtype option on import or set low_memory=False.\n",
      "  df = pd.read_csv(arquivo, usecols=colunas_para_manter,encoding=\"ISO-8859-1\", sep=';')\n",
      "C:\\Users\\Thiago\\AppData\\Local\\Temp\\ipykernel_3568\\288032912.py:23: FutureWarning: When grouping with a length-1 list-like, you will need to pass a length-1 tuple to get_group in a future version of pandas. Pass `(name,)` instead of `name` to silence this warning.\n",
      "  dados_df = df.groupby(['SG_UF'] ).get_group('DF')\n",
      "C:\\Users\\Thiago\\AppData\\Local\\Temp\\ipykernel_3568\\288032912.py:20: DtypeWarning: Columns (4) have mixed types. Specify dtype option on import or set low_memory=False.\n",
      "  df = pd.read_csv(arquivo, usecols=colunas_para_manter,encoding=\"ISO-8859-1\", sep=';')\n",
      "C:\\Users\\Thiago\\AppData\\Local\\Temp\\ipykernel_3568\\288032912.py:23: FutureWarning: When grouping with a length-1 list-like, you will need to pass a length-1 tuple to get_group in a future version of pandas. Pass `(name,)` instead of `name` to silence this warning.\n",
      "  dados_df = df.groupby(['SG_UF'] ).get_group('DF')\n",
      "C:\\Users\\Thiago\\AppData\\Local\\Temp\\ipykernel_3568\\288032912.py:20: DtypeWarning: Columns (4) have mixed types. Specify dtype option on import or set low_memory=False.\n",
      "  df = pd.read_csv(arquivo, usecols=colunas_para_manter,encoding=\"ISO-8859-1\", sep=';')\n",
      "C:\\Users\\Thiago\\AppData\\Local\\Temp\\ipykernel_3568\\288032912.py:23: FutureWarning: When grouping with a length-1 list-like, you will need to pass a length-1 tuple to get_group in a future version of pandas. Pass `(name,)` instead of `name` to silence this warning.\n",
      "  dados_df = df.groupby(['SG_UF'] ).get_group('DF')\n"
     ]
    }
   ],
   "source": [
    "# Criando o DataFrame para receber o arquivo somente com os Dados do Distrito-Federal( DF)\n",
    "dados_censo_DF = importando_dados(caminhos_lista).reset_index(drop=True)"
   ]
  },
  {
   "cell_type": "code",
   "execution_count": 152,
   "metadata": {},
   "outputs": [],
   "source": [
    "# Importando somente os dados sigla da universidade, para ter os nomes das mesma para melhor identificação\n",
    "df_cadastro_ies = pd.read_csv(\"D:\\\\analise_de_Dados\\\\arquivos_Brutos\\\\Projeto_censo_educacao_superior\\\\Microdados do Censo da Educação Superior 2023\\\\dados\\\\MICRODADOS_ED_SUP_IES_2023.csv\",sep=';',encoding=\"ISO-8859-1\",usecols=['CO_IES','SG_IES'])"
   ]
  },
  {
   "cell_type": "code",
   "execution_count": 153,
   "metadata": {},
   "outputs": [],
   "source": [
    "# Juntando Dataframe com os dados das instituições junto com suas respectivas Siglas.\n",
    "dados_censo_DF_SGIS = pd.merge(dados_censo_DF,df_cadastro_ies,on='CO_IES',how='inner')"
   ]
  },
  {
   "cell_type": "code",
   "execution_count": 154,
   "metadata": {},
   "outputs": [
    {
     "data": {
      "application/vnd.microsoft.datawrangler.viewer.v0+json": {
       "columns": [
        {
         "name": "index",
         "rawType": "int64",
         "type": "integer"
        },
        {
         "name": "NU_ANO_CENSO",
         "rawType": "int64",
         "type": "integer"
        },
        {
         "name": "SG_UF",
         "rawType": "object",
         "type": "string"
        },
        {
         "name": "TP_DIMENSAO",
         "rawType": "int64",
         "type": "integer"
        },
        {
         "name": "TP_ORGANIZACAO_ACADEMICA",
         "rawType": "int64",
         "type": "integer"
        },
        {
         "name": "TP_CATEGORIA_ADMINISTRATIVA",
         "rawType": "int64",
         "type": "integer"
        },
        {
         "name": "TP_REDE",
         "rawType": "int64",
         "type": "integer"
        },
        {
         "name": "CO_IES",
         "rawType": "int64",
         "type": "integer"
        },
        {
         "name": "NO_CURSO",
         "rawType": "object",
         "type": "string"
        },
        {
         "name": "CO_CURSO",
         "rawType": "int64",
         "type": "integer"
        },
        {
         "name": "NO_CINE_ROTULO",
         "rawType": "object",
         "type": "string"
        },
        {
         "name": "CO_CINE_ROTULO",
         "rawType": "object",
         "type": "string"
        },
        {
         "name": "CO_CINE_AREA_GERAL",
         "rawType": "int64",
         "type": "integer"
        },
        {
         "name": "NO_CINE_AREA_GERAL",
         "rawType": "object",
         "type": "string"
        },
        {
         "name": "CO_CINE_AREA_ESPECIFICA",
         "rawType": "int64",
         "type": "integer"
        },
        {
         "name": "NO_CINE_AREA_ESPECIFICA",
         "rawType": "object",
         "type": "string"
        },
        {
         "name": "CO_CINE_AREA_DETALHADA",
         "rawType": "int64",
         "type": "integer"
        },
        {
         "name": "NO_CINE_AREA_DETALHADA",
         "rawType": "object",
         "type": "string"
        },
        {
         "name": "TP_GRAU_ACADEMICO",
         "rawType": "float64",
         "type": "float"
        },
        {
         "name": "IN_GRATUITO",
         "rawType": "int64",
         "type": "integer"
        },
        {
         "name": "TP_MODALIDADE_ENSINO",
         "rawType": "int64",
         "type": "integer"
        },
        {
         "name": "TP_NIVEL_ACADEMICO",
         "rawType": "int64",
         "type": "integer"
        },
        {
         "name": "QT_CURSO",
         "rawType": "float64",
         "type": "float"
        },
        {
         "name": "QT_VG_TOTAL",
         "rawType": "float64",
         "type": "float"
        },
        {
         "name": "QT_VG_TOTAL_DIURNO",
         "rawType": "float64",
         "type": "float"
        },
        {
         "name": "QT_VG_TOTAL_NOTURNO",
         "rawType": "float64",
         "type": "float"
        },
        {
         "name": "QT_VG_TOTAL_EAD",
         "rawType": "float64",
         "type": "float"
        },
        {
         "name": "QT_VG_NOVA",
         "rawType": "float64",
         "type": "float"
        },
        {
         "name": "QT_VG_PROC_SELETIVO",
         "rawType": "float64",
         "type": "float"
        },
        {
         "name": "QT_VG_REMANESC",
         "rawType": "float64",
         "type": "float"
        },
        {
         "name": "QT_VG_PROG_ESPECIAL",
         "rawType": "float64",
         "type": "float"
        },
        {
         "name": "QT_INSCRITO_TOTAL",
         "rawType": "float64",
         "type": "float"
        },
        {
         "name": "QT_INSCRITO_TOTAL_DIURNO",
         "rawType": "float64",
         "type": "float"
        },
        {
         "name": "QT_INSCRITO_TOTAL_NOTURNO",
         "rawType": "float64",
         "type": "float"
        },
        {
         "name": "QT_INSCRITO_TOTAL_EAD",
         "rawType": "float64",
         "type": "float"
        },
        {
         "name": "QT_INSC_VG_NOVA",
         "rawType": "float64",
         "type": "float"
        },
        {
         "name": "QT_INSC_PROC_SELETIVO",
         "rawType": "float64",
         "type": "float"
        },
        {
         "name": "QT_INSC_VG_REMANESC",
         "rawType": "float64",
         "type": "float"
        },
        {
         "name": "QT_INSC_VG_PROG_ESPECIAL",
         "rawType": "float64",
         "type": "float"
        },
        {
         "name": "QT_ING",
         "rawType": "float64",
         "type": "float"
        },
        {
         "name": "QT_ING_FEM",
         "rawType": "float64",
         "type": "float"
        },
        {
         "name": "QT_ING_MASC",
         "rawType": "float64",
         "type": "float"
        },
        {
         "name": "QT_ING_DIURNO",
         "rawType": "float64",
         "type": "float"
        },
        {
         "name": "QT_ING_NOTURNO",
         "rawType": "float64",
         "type": "float"
        },
        {
         "name": "QT_ING_VG_NOVA",
         "rawType": "float64",
         "type": "float"
        },
        {
         "name": "QT_ING_VESTIBULAR",
         "rawType": "float64",
         "type": "float"
        },
        {
         "name": "QT_ING_ENEM",
         "rawType": "float64",
         "type": "float"
        },
        {
         "name": "QT_ING_AVALIACAO_SERIADA",
         "rawType": "float64",
         "type": "float"
        },
        {
         "name": "QT_ING_SELECAO_SIMPLIFICA",
         "rawType": "float64",
         "type": "float"
        },
        {
         "name": "QT_ING_EGR",
         "rawType": "float64",
         "type": "float"
        },
        {
         "name": "QT_ING_OUTRO_TIPO_SELECAO",
         "rawType": "float64",
         "type": "float"
        },
        {
         "name": "QT_ING_PROC_SELETIVO",
         "rawType": "float64",
         "type": "float"
        },
        {
         "name": "QT_ING_VG_REMANESC",
         "rawType": "float64",
         "type": "float"
        },
        {
         "name": "QT_ING_VG_PROG_ESPECIAL",
         "rawType": "float64",
         "type": "float"
        },
        {
         "name": "QT_ING_OUTRA_FORMA",
         "rawType": "float64",
         "type": "float"
        },
        {
         "name": "QT_ING_0_17",
         "rawType": "float64",
         "type": "float"
        },
        {
         "name": "QT_ING_18_24",
         "rawType": "float64",
         "type": "float"
        },
        {
         "name": "QT_ING_25_29",
         "rawType": "float64",
         "type": "float"
        },
        {
         "name": "QT_ING_30_34",
         "rawType": "float64",
         "type": "float"
        },
        {
         "name": "QT_ING_35_39",
         "rawType": "float64",
         "type": "float"
        },
        {
         "name": "QT_ING_40_49",
         "rawType": "float64",
         "type": "float"
        },
        {
         "name": "QT_ING_50_59",
         "rawType": "float64",
         "type": "float"
        },
        {
         "name": "QT_ING_60_MAIS",
         "rawType": "float64",
         "type": "float"
        },
        {
         "name": "QT_ING_BRANCA",
         "rawType": "float64",
         "type": "float"
        },
        {
         "name": "QT_ING_PRETA",
         "rawType": "float64",
         "type": "float"
        },
        {
         "name": "QT_ING_PARDA",
         "rawType": "float64",
         "type": "float"
        },
        {
         "name": "QT_ING_AMARELA",
         "rawType": "float64",
         "type": "float"
        },
        {
         "name": "QT_ING_INDIGENA",
         "rawType": "float64",
         "type": "float"
        },
        {
         "name": "QT_ING_CORND",
         "rawType": "float64",
         "type": "float"
        },
        {
         "name": "QT_MAT",
         "rawType": "float64",
         "type": "float"
        },
        {
         "name": "QT_MAT_FEM",
         "rawType": "float64",
         "type": "float"
        },
        {
         "name": "QT_MAT_MASC",
         "rawType": "float64",
         "type": "float"
        },
        {
         "name": "QT_MAT_DIURNO",
         "rawType": "float64",
         "type": "float"
        },
        {
         "name": "QT_MAT_NOTURNO",
         "rawType": "float64",
         "type": "float"
        },
        {
         "name": "QT_MAT_0_17",
         "rawType": "float64",
         "type": "float"
        },
        {
         "name": "QT_MAT_18_24",
         "rawType": "float64",
         "type": "float"
        },
        {
         "name": "QT_MAT_25_29",
         "rawType": "float64",
         "type": "float"
        },
        {
         "name": "QT_MAT_30_34",
         "rawType": "float64",
         "type": "float"
        },
        {
         "name": "QT_MAT_35_39",
         "rawType": "float64",
         "type": "float"
        },
        {
         "name": "QT_MAT_40_49",
         "rawType": "float64",
         "type": "float"
        },
        {
         "name": "QT_MAT_50_59",
         "rawType": "float64",
         "type": "float"
        },
        {
         "name": "QT_MAT_60_MAIS",
         "rawType": "float64",
         "type": "float"
        },
        {
         "name": "QT_MAT_BRANCA",
         "rawType": "float64",
         "type": "float"
        },
        {
         "name": "QT_MAT_PRETA",
         "rawType": "float64",
         "type": "float"
        },
        {
         "name": "QT_MAT_PARDA",
         "rawType": "float64",
         "type": "float"
        },
        {
         "name": "QT_MAT_AMARELA",
         "rawType": "float64",
         "type": "float"
        },
        {
         "name": "QT_MAT_INDIGENA",
         "rawType": "float64",
         "type": "float"
        },
        {
         "name": "QT_MAT_CORND",
         "rawType": "float64",
         "type": "float"
        },
        {
         "name": "QT_CONC",
         "rawType": "float64",
         "type": "float"
        },
        {
         "name": "QT_CONC_FEM",
         "rawType": "float64",
         "type": "float"
        },
        {
         "name": "QT_CONC_MASC",
         "rawType": "float64",
         "type": "float"
        },
        {
         "name": "QT_CONC_DIURNO",
         "rawType": "float64",
         "type": "float"
        },
        {
         "name": "QT_CONC_NOTURNO",
         "rawType": "float64",
         "type": "float"
        },
        {
         "name": "QT_CONC_0_17",
         "rawType": "float64",
         "type": "float"
        },
        {
         "name": "QT_CONC_18_24",
         "rawType": "float64",
         "type": "float"
        },
        {
         "name": "QT_CONC_25_29",
         "rawType": "float64",
         "type": "float"
        },
        {
         "name": "QT_CONC_30_34",
         "rawType": "float64",
         "type": "float"
        },
        {
         "name": "QT_CONC_35_39",
         "rawType": "float64",
         "type": "float"
        },
        {
         "name": "QT_CONC_40_49",
         "rawType": "float64",
         "type": "float"
        },
        {
         "name": "QT_CONC_50_59",
         "rawType": "float64",
         "type": "float"
        },
        {
         "name": "QT_CONC_60_MAIS",
         "rawType": "float64",
         "type": "float"
        },
        {
         "name": "QT_CONC_BRANCA",
         "rawType": "float64",
         "type": "float"
        },
        {
         "name": "QT_CONC_PRETA",
         "rawType": "float64",
         "type": "float"
        },
        {
         "name": "QT_CONC_PARDA",
         "rawType": "float64",
         "type": "float"
        },
        {
         "name": "QT_CONC_AMARELA",
         "rawType": "float64",
         "type": "float"
        },
        {
         "name": "QT_CONC_INDIGENA",
         "rawType": "float64",
         "type": "float"
        },
        {
         "name": "QT_CONC_CORND",
         "rawType": "float64",
         "type": "float"
        },
        {
         "name": "QT_ING_NACBRAS",
         "rawType": "float64",
         "type": "float"
        },
        {
         "name": "QT_ING_NACESTRANG",
         "rawType": "float64",
         "type": "float"
        },
        {
         "name": "QT_MAT_NACBRAS",
         "rawType": "float64",
         "type": "float"
        },
        {
         "name": "QT_MAT_NACESTRANG",
         "rawType": "float64",
         "type": "float"
        },
        {
         "name": "QT_CONC_NACBRAS",
         "rawType": "float64",
         "type": "float"
        },
        {
         "name": "QT_CONC_NACESTRANG",
         "rawType": "float64",
         "type": "float"
        },
        {
         "name": "QT_ALUNO_DEFICIENTE",
         "rawType": "float64",
         "type": "float"
        },
        {
         "name": "QT_ING_DEFICIENTE",
         "rawType": "float64",
         "type": "float"
        },
        {
         "name": "QT_MAT_DEFICIENTE",
         "rawType": "float64",
         "type": "float"
        },
        {
         "name": "QT_CONC_DEFICIENTE",
         "rawType": "float64",
         "type": "float"
        },
        {
         "name": "QT_ING_FINANC",
         "rawType": "float64",
         "type": "float"
        },
        {
         "name": "QT_ING_FINANC_REEMB",
         "rawType": "float64",
         "type": "float"
        },
        {
         "name": "QT_ING_FIES",
         "rawType": "float64",
         "type": "float"
        },
        {
         "name": "QT_ING_RPFIES",
         "rawType": "float64",
         "type": "float"
        },
        {
         "name": "QT_ING_FINANC_REEMB_OUTROS",
         "rawType": "float64",
         "type": "float"
        },
        {
         "name": "QT_ING_FINANC_NREEMB",
         "rawType": "float64",
         "type": "float"
        },
        {
         "name": "QT_ING_PROUNII",
         "rawType": "float64",
         "type": "float"
        },
        {
         "name": "QT_ING_PROUNIP",
         "rawType": "float64",
         "type": "float"
        },
        {
         "name": "QT_ING_NRPFIES",
         "rawType": "float64",
         "type": "float"
        },
        {
         "name": "QT_ING_FINANC_NREEMB_OUTROS",
         "rawType": "float64",
         "type": "float"
        },
        {
         "name": "QT_MAT_FINANC",
         "rawType": "float64",
         "type": "float"
        },
        {
         "name": "QT_MAT_FINANC_REEMB",
         "rawType": "float64",
         "type": "float"
        },
        {
         "name": "QT_MAT_FIES",
         "rawType": "float64",
         "type": "float"
        },
        {
         "name": "QT_MAT_RPFIES",
         "rawType": "float64",
         "type": "float"
        },
        {
         "name": "QT_MAT_FINANC_REEMB_OUTROS",
         "rawType": "float64",
         "type": "float"
        },
        {
         "name": "QT_MAT_FINANC_NREEMB",
         "rawType": "float64",
         "type": "float"
        },
        {
         "name": "QT_MAT_PROUNII",
         "rawType": "float64",
         "type": "float"
        },
        {
         "name": "QT_MAT_PROUNIP",
         "rawType": "float64",
         "type": "float"
        },
        {
         "name": "QT_MAT_NRPFIES",
         "rawType": "float64",
         "type": "float"
        },
        {
         "name": "QT_MAT_FINANC_NREEMB_OUTROS",
         "rawType": "float64",
         "type": "float"
        },
        {
         "name": "QT_CONC_FINANC",
         "rawType": "float64",
         "type": "float"
        },
        {
         "name": "QT_CONC_FINANC_REEMB",
         "rawType": "float64",
         "type": "float"
        },
        {
         "name": "QT_CONC_FIES",
         "rawType": "float64",
         "type": "float"
        },
        {
         "name": "QT_CONC_RPFIES",
         "rawType": "float64",
         "type": "float"
        },
        {
         "name": "QT_CONC_FINANC_REEMB_OUTROS",
         "rawType": "float64",
         "type": "float"
        },
        {
         "name": "QT_CONC_FINANC_NREEMB",
         "rawType": "float64",
         "type": "float"
        },
        {
         "name": "QT_CONC_PROUNII",
         "rawType": "float64",
         "type": "float"
        },
        {
         "name": "QT_CONC_PROUNIP",
         "rawType": "float64",
         "type": "float"
        },
        {
         "name": "QT_CONC_NRPFIES",
         "rawType": "float64",
         "type": "float"
        },
        {
         "name": "QT_CONC_FINANC_NREEMB_OUTROS",
         "rawType": "float64",
         "type": "float"
        },
        {
         "name": "QT_ING_RESERVA_VAGA",
         "rawType": "float64",
         "type": "float"
        },
        {
         "name": "QT_ING_RVREDEPUBLICA",
         "rawType": "float64",
         "type": "float"
        },
        {
         "name": "QT_ING_RVETNICO",
         "rawType": "float64",
         "type": "float"
        },
        {
         "name": "QT_ING_RVPDEF",
         "rawType": "float64",
         "type": "float"
        },
        {
         "name": "QT_ING_RVSOCIAL_RF",
         "rawType": "float64",
         "type": "float"
        },
        {
         "name": "QT_ING_RVOUTROS",
         "rawType": "float64",
         "type": "float"
        },
        {
         "name": "QT_MAT_RESERVA_VAGA",
         "rawType": "float64",
         "type": "float"
        },
        {
         "name": "QT_MAT_RVREDEPUBLICA",
         "rawType": "float64",
         "type": "float"
        },
        {
         "name": "QT_MAT_RVETNICO",
         "rawType": "float64",
         "type": "float"
        },
        {
         "name": "QT_MAT_RVPDEF",
         "rawType": "float64",
         "type": "float"
        },
        {
         "name": "QT_MAT_RVSOCIAL_RF",
         "rawType": "float64",
         "type": "float"
        },
        {
         "name": "QT_MAT_RVOUTROS",
         "rawType": "float64",
         "type": "float"
        },
        {
         "name": "QT_CONC_RESERVA_VAGA",
         "rawType": "float64",
         "type": "float"
        },
        {
         "name": "QT_CONC_RVREDEPUBLICA",
         "rawType": "float64",
         "type": "float"
        },
        {
         "name": "QT_CONC_RVETNICO",
         "rawType": "float64",
         "type": "float"
        },
        {
         "name": "QT_CONC_RVPDEF",
         "rawType": "float64",
         "type": "float"
        },
        {
         "name": "QT_CONC_RVSOCIAL_RF",
         "rawType": "float64",
         "type": "float"
        },
        {
         "name": "QT_CONC_RVOUTROS",
         "rawType": "float64",
         "type": "float"
        },
        {
         "name": "QT_SIT_TRANCADA",
         "rawType": "float64",
         "type": "float"
        },
        {
         "name": "QT_SIT_DESVINCULADO",
         "rawType": "float64",
         "type": "float"
        },
        {
         "name": "QT_SIT_TRANSFERIDO",
         "rawType": "float64",
         "type": "float"
        },
        {
         "name": "QT_SIT_FALECIDO",
         "rawType": "float64",
         "type": "float"
        },
        {
         "name": "QT_ING_PROCESCPUBLICA",
         "rawType": "float64",
         "type": "float"
        },
        {
         "name": "QT_ING_PROCESCPRIVADA",
         "rawType": "float64",
         "type": "float"
        },
        {
         "name": "QT_ING_PROCNAOINFORMADA",
         "rawType": "float64",
         "type": "float"
        },
        {
         "name": "QT_MAT_PROCESCPUBLICA",
         "rawType": "float64",
         "type": "float"
        },
        {
         "name": "QT_MAT_PROCESCPRIVADA",
         "rawType": "float64",
         "type": "float"
        },
        {
         "name": "QT_MAT_PROCNAOINFORMADA",
         "rawType": "float64",
         "type": "float"
        },
        {
         "name": "QT_CONC_PROCESCPUBLICA",
         "rawType": "float64",
         "type": "float"
        },
        {
         "name": "QT_CONC_PROCESCPRIVADA",
         "rawType": "float64",
         "type": "float"
        },
        {
         "name": "QT_CONC_PROCNAOINFORMADA",
         "rawType": "float64",
         "type": "float"
        },
        {
         "name": "QT_PARFOR",
         "rawType": "float64",
         "type": "float"
        },
        {
         "name": "QT_ING_PARFOR",
         "rawType": "float64",
         "type": "float"
        },
        {
         "name": "QT_MAT_PARFOR",
         "rawType": "float64",
         "type": "float"
        },
        {
         "name": "QT_CONC_PARFOR",
         "rawType": "float64",
         "type": "float"
        },
        {
         "name": "QT_APOIO_SOCIAL",
         "rawType": "float64",
         "type": "float"
        },
        {
         "name": "QT_ING_APOIO_SOCIAL",
         "rawType": "float64",
         "type": "float"
        },
        {
         "name": "QT_MAT_APOIO_SOCIAL",
         "rawType": "float64",
         "type": "float"
        },
        {
         "name": "QT_CONC_APOIO_SOCIAL",
         "rawType": "float64",
         "type": "float"
        },
        {
         "name": "QT_ATIV_EXTRACURRICULAR",
         "rawType": "float64",
         "type": "float"
        },
        {
         "name": "QT_ING_ATIV_EXTRACURRICULAR",
         "rawType": "float64",
         "type": "float"
        },
        {
         "name": "QT_MAT_ATIV_EXTRACURRICULAR",
         "rawType": "float64",
         "type": "float"
        },
        {
         "name": "QT_CONC_ATIV_EXTRACURRICULAR",
         "rawType": "float64",
         "type": "float"
        },
        {
         "name": "QT_MOB_ACADEMICA",
         "rawType": "float64",
         "type": "float"
        },
        {
         "name": "QT_ING_MOB_ACADEMICA",
         "rawType": "float64",
         "type": "float"
        },
        {
         "name": "QT_MAT_MOB_ACADEMICA",
         "rawType": "float64",
         "type": "float"
        },
        {
         "name": "QT_CONC_MOB_ACADEMICA",
         "rawType": "float64",
         "type": "float"
        },
        {
         "name": "CO_CINE_ROTULO2",
         "rawType": "object",
         "type": "unknown"
        },
        {
         "name": "IN_COMUNITARIA",
         "rawType": "float64",
         "type": "float"
        },
        {
         "name": "IN_CONFESSIONAL",
         "rawType": "float64",
         "type": "float"
        },
        {
         "name": "SG_IES",
         "rawType": "object",
         "type": "string"
        }
       ],
       "ref": "09778b1c-0a00-45f6-93fa-e734b2080667",
       "rows": [
        [
         "0",
         "2018",
         "DF",
         "1",
         "1",
         "1",
         "1",
         "2",
         "ABI - ARTES CÊNICAS",
         "5001035",
         "ABI Artes e humanidades",
         "\"0011A02\"",
         "0",
         "Programas básicos",
         "1",
         "Programas básicos",
         "11",
         "Programas básicos",
         null,
         "1",
         "1",
         "1",
         "0.0",
         "52.0",
         "52.0",
         "0.0",
         "0.0",
         "52.0",
         "0.0",
         "0.0",
         "0.0",
         "96.0",
         "96.0",
         "0.0",
         "0.0",
         "96.0",
         "0.0",
         "0.0",
         "0.0",
         "51.0",
         "32.0",
         "19.0",
         "51.0",
         "0.0",
         "51.0",
         "26.0",
         "13.0",
         "12.0",
         "0.0",
         "0.0",
         "0.0",
         "0.0",
         "0.0",
         "0.0",
         "0.0",
         "2.0",
         "40.0",
         "5.0",
         "2.0",
         "2.0",
         "0.0",
         "0.0",
         "0.0",
         "17.0",
         "10.0",
         "10.0",
         "1.0",
         "0.0",
         "13.0",
         "45.0",
         "29.0",
         "16.0",
         "45.0",
         "0.0",
         "2.0",
         "35.0",
         "5.0",
         "1.0",
         "2.0",
         "0.0",
         "0.0",
         "0.0",
         "13.0",
         "9.0",
         "10.0",
         "1.0",
         "0.0",
         "12.0",
         "0.0",
         "0.0",
         "0.0",
         "0.0",
         "0.0",
         "0.0",
         "0.0",
         "0.0",
         "0.0",
         "0.0",
         "0.0",
         "0.0",
         "0.0",
         "0.0",
         "0.0",
         "0.0",
         "0.0",
         "0.0",
         "0.0",
         "51.0",
         "0.0",
         "45.0",
         "0.0",
         "0.0",
         "0.0",
         "0.0",
         "0.0",
         "0.0",
         "0.0",
         "0.0",
         "0.0",
         "0.0",
         "0.0",
         "0.0",
         "0.0",
         "0.0",
         "0.0",
         "0.0",
         "0.0",
         "0.0",
         "0.0",
         "0.0",
         "0.0",
         "0.0",
         "0.0",
         "0.0",
         "0.0",
         "0.0",
         "0.0",
         "0.0",
         "0.0",
         "0.0",
         "0.0",
         "0.0",
         "0.0",
         "0.0",
         "0.0",
         "0.0",
         "0.0",
         "20.0",
         "15.0",
         "13.0",
         "0.0",
         "7.0",
         "0.0",
         "20.0",
         "15.0",
         "13.0",
         "0.0",
         "7.0",
         "0.0",
         "0.0",
         "0.0",
         "0.0",
         "0.0",
         "0.0",
         "0.0",
         "4.0",
         "3.0",
         "50.0",
         "0.0",
         "20.0",
         "31.0",
         "0.0",
         "20.0",
         "25.0",
         "0.0",
         "0.0",
         "0.0",
         "0.0",
         "0.0",
         "0.0",
         "0.0",
         "0.0",
         "9.0",
         "4.0",
         "4.0",
         "0.0",
         "19.0",
         "8.0",
         "8.0",
         "0.0",
         "0.0",
         "0.0",
         "0.0",
         "0.0",
         null,
         null,
         null,
         "UNB"
        ],
        [
         "1",
         "2018",
         "DF",
         "1",
         "1",
         "1",
         "1",
         "2",
         "ABI - ARTES PLÁSTICAS",
         "5001034",
         "ABI Artes e humanidades",
         "\"0011A02\"",
         "0",
         "Programas básicos",
         "1",
         "Programas básicos",
         "11",
         "Programas básicos",
         null,
         "1",
         "1",
         "1",
         "0.0",
         "60.0",
         "60.0",
         "0.0",
         "0.0",
         "60.0",
         "0.0",
         "0.0",
         "0.0",
         "94.0",
         "94.0",
         "0.0",
         "0.0",
         "94.0",
         "0.0",
         "0.0",
         "0.0",
         "60.0",
         "38.0",
         "22.0",
         "60.0",
         "0.0",
         "60.0",
         "23.0",
         "15.0",
         "22.0",
         "0.0",
         "0.0",
         "0.0",
         "0.0",
         "0.0",
         "0.0",
         "0.0",
         "0.0",
         "51.0",
         "3.0",
         "4.0",
         "1.0",
         "0.0",
         "1.0",
         "0.0",
         "22.0",
         "3.0",
         "18.0",
         "0.0",
         "0.0",
         "17.0",
         "57.0",
         "36.0",
         "21.0",
         "57.0",
         "0.0",
         "0.0",
         "48.0",
         "3.0",
         "4.0",
         "1.0",
         "0.0",
         "1.0",
         "0.0",
         "20.0",
         "3.0",
         "18.0",
         "0.0",
         "0.0",
         "16.0",
         "0.0",
         "0.0",
         "0.0",
         "0.0",
         "0.0",
         "0.0",
         "0.0",
         "0.0",
         "0.0",
         "0.0",
         "0.0",
         "0.0",
         "0.0",
         "0.0",
         "0.0",
         "0.0",
         "0.0",
         "0.0",
         "0.0",
         "60.0",
         "0.0",
         "57.0",
         "0.0",
         "0.0",
         "0.0",
         "1.0",
         "0.0",
         "0.0",
         "0.0",
         "0.0",
         "0.0",
         "0.0",
         "0.0",
         "0.0",
         "0.0",
         "0.0",
         "0.0",
         "0.0",
         "0.0",
         "0.0",
         "0.0",
         "0.0",
         "0.0",
         "0.0",
         "0.0",
         "0.0",
         "0.0",
         "0.0",
         "0.0",
         "0.0",
         "0.0",
         "0.0",
         "0.0",
         "0.0",
         "0.0",
         "0.0",
         "0.0",
         "0.0",
         "0.0",
         "19.0",
         "17.0",
         "13.0",
         "0.0",
         "7.0",
         "0.0",
         "18.0",
         "16.0",
         "13.0",
         "0.0",
         "7.0",
         "0.0",
         "0.0",
         "0.0",
         "0.0",
         "0.0",
         "0.0",
         "0.0",
         "2.0",
         "1.0",
         "60.0",
         "0.0",
         "21.0",
         "39.0",
         "0.0",
         "20.0",
         "37.0",
         "0.0",
         "0.0",
         "0.0",
         "0.0",
         "0.0",
         "0.0",
         "0.0",
         "0.0",
         "9.0",
         "5.0",
         "5.0",
         "0.0",
         "14.0",
         "4.0",
         "4.0",
         "0.0",
         "0.0",
         "0.0",
         "0.0",
         "0.0",
         null,
         null,
         null,
         "UNB"
        ],
        [
         "2",
         "2018",
         "DF",
         "1",
         "1",
         "1",
         "1",
         "2",
         "ABI - CIÊNCIAS SOCIAIS",
         "5001037",
         "ABI Ciências sociais, comunicação e informação",
         "\"0011A03\"",
         "0",
         "Programas básicos",
         "1",
         "Programas básicos",
         "11",
         "Programas básicos",
         null,
         "1",
         "1",
         "1",
         "0.0",
         "180.0",
         "180.0",
         "0.0",
         "0.0",
         "180.0",
         "0.0",
         "0.0",
         "0.0",
         "713.0",
         "713.0",
         "0.0",
         "0.0",
         "713.0",
         "0.0",
         "0.0",
         "0.0",
         "179.0",
         "118.0",
         "61.0",
         "179.0",
         "0.0",
         "179.0",
         "47.0",
         "44.0",
         "88.0",
         "0.0",
         "0.0",
         "0.0",
         "0.0",
         "0.0",
         "0.0",
         "0.0",
         "4.0",
         "150.0",
         "12.0",
         "4.0",
         "5.0",
         "3.0",
         "1.0",
         "0.0",
         "59.0",
         "21.0",
         "68.0",
         "1.0",
         "1.0",
         "29.0",
         "165.0",
         "112.0",
         "53.0",
         "165.0",
         "0.0",
         "4.0",
         "142.0",
         "12.0",
         "0.0",
         "3.0",
         "3.0",
         "1.0",
         "0.0",
         "56.0",
         "20.0",
         "59.0",
         "1.0",
         "1.0",
         "28.0",
         "0.0",
         "0.0",
         "0.0",
         "0.0",
         "0.0",
         "0.0",
         "0.0",
         "0.0",
         "0.0",
         "0.0",
         "0.0",
         "0.0",
         "0.0",
         "0.0",
         "0.0",
         "0.0",
         "0.0",
         "0.0",
         "0.0",
         "179.0",
         "0.0",
         "165.0",
         "0.0",
         "0.0",
         "0.0",
         "0.0",
         "0.0",
         "0.0",
         "0.0",
         "0.0",
         "0.0",
         "0.0",
         "0.0",
         "0.0",
         "0.0",
         "0.0",
         "0.0",
         "0.0",
         "0.0",
         "0.0",
         "0.0",
         "0.0",
         "0.0",
         "0.0",
         "0.0",
         "0.0",
         "0.0",
         "0.0",
         "0.0",
         "0.0",
         "0.0",
         "0.0",
         "0.0",
         "0.0",
         "0.0",
         "0.0",
         "0.0",
         "0.0",
         "0.0",
         "97.0",
         "88.0",
         "58.0",
         "0.0",
         "34.0",
         "0.0",
         "88.0",
         "79.0",
         "52.0",
         "0.0",
         "29.0",
         "0.0",
         "0.0",
         "0.0",
         "0.0",
         "0.0",
         "0.0",
         "0.0",
         "13.0",
         "8.0",
         "154.0",
         "0.0",
         "100.0",
         "79.0",
         "0.0",
         "91.0",
         "74.0",
         "0.0",
         "0.0",
         "0.0",
         "0.0",
         "0.0",
         "0.0",
         "0.0",
         "0.0",
         "39.0",
         "12.0",
         "11.0",
         "0.0",
         "74.0",
         "24.0",
         "24.0",
         "0.0",
         "0.0",
         "0.0",
         "0.0",
         "0.0",
         null,
         null,
         null,
         "UNB"
        ]
       ],
       "shape": {
        "columns": 197,
        "rows": 3
       }
      },
      "text/html": [
       "<div>\n",
       "<style scoped>\n",
       "    .dataframe tbody tr th:only-of-type {\n",
       "        vertical-align: middle;\n",
       "    }\n",
       "\n",
       "    .dataframe tbody tr th {\n",
       "        vertical-align: top;\n",
       "    }\n",
       "\n",
       "    .dataframe thead th {\n",
       "        text-align: right;\n",
       "    }\n",
       "</style>\n",
       "<table border=\"1\" class=\"dataframe\">\n",
       "  <thead>\n",
       "    <tr style=\"text-align: right;\">\n",
       "      <th></th>\n",
       "      <th>NU_ANO_CENSO</th>\n",
       "      <th>SG_UF</th>\n",
       "      <th>TP_DIMENSAO</th>\n",
       "      <th>TP_ORGANIZACAO_ACADEMICA</th>\n",
       "      <th>TP_CATEGORIA_ADMINISTRATIVA</th>\n",
       "      <th>TP_REDE</th>\n",
       "      <th>CO_IES</th>\n",
       "      <th>NO_CURSO</th>\n",
       "      <th>CO_CURSO</th>\n",
       "      <th>NO_CINE_ROTULO</th>\n",
       "      <th>...</th>\n",
       "      <th>QT_MAT_ATIV_EXTRACURRICULAR</th>\n",
       "      <th>QT_CONC_ATIV_EXTRACURRICULAR</th>\n",
       "      <th>QT_MOB_ACADEMICA</th>\n",
       "      <th>QT_ING_MOB_ACADEMICA</th>\n",
       "      <th>QT_MAT_MOB_ACADEMICA</th>\n",
       "      <th>QT_CONC_MOB_ACADEMICA</th>\n",
       "      <th>CO_CINE_ROTULO2</th>\n",
       "      <th>IN_COMUNITARIA</th>\n",
       "      <th>IN_CONFESSIONAL</th>\n",
       "      <th>SG_IES</th>\n",
       "    </tr>\n",
       "  </thead>\n",
       "  <tbody>\n",
       "    <tr>\n",
       "      <th>0</th>\n",
       "      <td>2018</td>\n",
       "      <td>DF</td>\n",
       "      <td>1</td>\n",
       "      <td>1</td>\n",
       "      <td>1</td>\n",
       "      <td>1</td>\n",
       "      <td>2</td>\n",
       "      <td>ABI - ARTES CÊNICAS</td>\n",
       "      <td>5001035</td>\n",
       "      <td>ABI Artes e humanidades</td>\n",
       "      <td>...</td>\n",
       "      <td>8.0</td>\n",
       "      <td>0.0</td>\n",
       "      <td>0.0</td>\n",
       "      <td>0.0</td>\n",
       "      <td>0.0</td>\n",
       "      <td>0.0</td>\n",
       "      <td>NaN</td>\n",
       "      <td>NaN</td>\n",
       "      <td>NaN</td>\n",
       "      <td>UNB</td>\n",
       "    </tr>\n",
       "    <tr>\n",
       "      <th>1</th>\n",
       "      <td>2018</td>\n",
       "      <td>DF</td>\n",
       "      <td>1</td>\n",
       "      <td>1</td>\n",
       "      <td>1</td>\n",
       "      <td>1</td>\n",
       "      <td>2</td>\n",
       "      <td>ABI - ARTES PLÁSTICAS</td>\n",
       "      <td>5001034</td>\n",
       "      <td>ABI Artes e humanidades</td>\n",
       "      <td>...</td>\n",
       "      <td>4.0</td>\n",
       "      <td>0.0</td>\n",
       "      <td>0.0</td>\n",
       "      <td>0.0</td>\n",
       "      <td>0.0</td>\n",
       "      <td>0.0</td>\n",
       "      <td>NaN</td>\n",
       "      <td>NaN</td>\n",
       "      <td>NaN</td>\n",
       "      <td>UNB</td>\n",
       "    </tr>\n",
       "    <tr>\n",
       "      <th>2</th>\n",
       "      <td>2018</td>\n",
       "      <td>DF</td>\n",
       "      <td>1</td>\n",
       "      <td>1</td>\n",
       "      <td>1</td>\n",
       "      <td>1</td>\n",
       "      <td>2</td>\n",
       "      <td>ABI - CIÊNCIAS SOCIAIS</td>\n",
       "      <td>5001037</td>\n",
       "      <td>ABI Ciências sociais, comunicação e informação</td>\n",
       "      <td>...</td>\n",
       "      <td>24.0</td>\n",
       "      <td>0.0</td>\n",
       "      <td>0.0</td>\n",
       "      <td>0.0</td>\n",
       "      <td>0.0</td>\n",
       "      <td>0.0</td>\n",
       "      <td>NaN</td>\n",
       "      <td>NaN</td>\n",
       "      <td>NaN</td>\n",
       "      <td>UNB</td>\n",
       "    </tr>\n",
       "  </tbody>\n",
       "</table>\n",
       "<p>3 rows × 197 columns</p>\n",
       "</div>"
      ],
      "text/plain": [
       "   NU_ANO_CENSO SG_UF  TP_DIMENSAO  TP_ORGANIZACAO_ACADEMICA  \\\n",
       "0          2018    DF            1                         1   \n",
       "1          2018    DF            1                         1   \n",
       "2          2018    DF            1                         1   \n",
       "\n",
       "   TP_CATEGORIA_ADMINISTRATIVA  TP_REDE  CO_IES                NO_CURSO  \\\n",
       "0                            1        1       2     ABI - ARTES CÊNICAS   \n",
       "1                            1        1       2   ABI - ARTES PLÁSTICAS   \n",
       "2                            1        1       2  ABI - CIÊNCIAS SOCIAIS   \n",
       "\n",
       "   CO_CURSO                                  NO_CINE_ROTULO  ...  \\\n",
       "0   5001035                         ABI Artes e humanidades  ...   \n",
       "1   5001034                         ABI Artes e humanidades  ...   \n",
       "2   5001037  ABI Ciências sociais, comunicação e informação  ...   \n",
       "\n",
       "  QT_MAT_ATIV_EXTRACURRICULAR  QT_CONC_ATIV_EXTRACURRICULAR QT_MOB_ACADEMICA  \\\n",
       "0                         8.0                           0.0              0.0   \n",
       "1                         4.0                           0.0              0.0   \n",
       "2                        24.0                           0.0              0.0   \n",
       "\n",
       "   QT_ING_MOB_ACADEMICA QT_MAT_MOB_ACADEMICA  QT_CONC_MOB_ACADEMICA  \\\n",
       "0                   0.0                  0.0                    0.0   \n",
       "1                   0.0                  0.0                    0.0   \n",
       "2                   0.0                  0.0                    0.0   \n",
       "\n",
       "  CO_CINE_ROTULO2  IN_COMUNITARIA  IN_CONFESSIONAL  SG_IES  \n",
       "0             NaN             NaN              NaN     UNB  \n",
       "1             NaN             NaN              NaN     UNB  \n",
       "2             NaN             NaN              NaN     UNB  \n",
       "\n",
       "[3 rows x 197 columns]"
      ]
     },
     "execution_count": 154,
     "metadata": {},
     "output_type": "execute_result"
    }
   ],
   "source": [
    "# Visualizando Dataframe completo.\n",
    "dados_censo_DF_SGIS.head(3)"
   ]
  },
  {
   "cell_type": "code",
   "execution_count": null,
   "metadata": {},
   "outputs": [],
   "source": []
  },
  {
   "cell_type": "code",
   "execution_count": 155,
   "metadata": {},
   "outputs": [
    {
     "data": {
      "text/plain": [
       "array(['UNB', 'UNIP', 'UNICEUB', 'UCB', 'UPIS', 'UDF', 'FADM', 'IESB',\n",
       "       'UNIEURO', 'Anhanguera DF', 'UNIPLAN', 'FACEF', 'UNIPROJEÇÃO',\n",
       "       'ESTÁCIO BRASÍLIA', 'FAPRO', 'FACBRAS', 'FALBE', 'UNIPROCESSUS',\n",
       "       nan, 'ISALBE', 'UNILS', 'FTBB', 'Unicesp', 'FACULDADE FABRAS',\n",
       "       'UNIMAUÁ', 'FAC CCI', 'ICESP', 'APOGEU', 'UNICEPLAC', 'IDP-BSB',\n",
       "       'FATEO', 'IFB', 'FACHORIZONTE', 'ISCP', 'FANASPS', 'FATECNA',\n",
       "       'ESAS', 'FACDF', 'FPMB', 'ATAME', 'FACTI', 'ISCON', 'FACE',\n",
       "       'MACKENZIE', 'UNAR', 'CLARETIANOBT', 'UNIUBE', 'UNESA', 'UMESP',\n",
       "       'UNICSUL', 'Unopar', 'UB', 'FMU', 'UNISA', 'UNIFACS', 'UCDB',\n",
       "       'UNICID', 'UAM', 'Univeritas UNG', 'UNISUL', 'UNICNEC', 'UNIDERP',\n",
       "       'UNIGRAN', 'UNICEUMA', 'UP', 'UNICESUMAR', 'UNIFAEL',\n",
       "       'ESTÁCIO RIBEIRÃO PRE', 'UNIFACCAMP', 'UNASP', 'UNIASSELVI',\n",
       "       'UNIDOM - BOSCO', 'UNINTER', 'UNIGRANDE', 'AIEC / FAAB', 'EBAPE',\n",
       "       'UNINASSAU', 'UNIS-MG', 'UNIFACVEST', 'SENACSP', 'UNISIGNORELLI',\n",
       "       'FACAP', 'Nassau Brasília', 'FBr', 'UNOESTE', 'UNIFIL', 'UNIPAR',\n",
       "       'ULBRA', \"UNISANT'ANNA\", 'FCE', 'CAM', 'São Lucas PVH',\n",
       "       'UniFavip Wyden', 'UNILINS', 'ENIAC', 'FAESF/UNEF', 'FATIN',\n",
       "       'FIPECAFI', 'FU', 'FGV EPPG', 'FPC', 'UNINOVE', 'UNIVERSO',\n",
       "       'UNISANTA', 'UNIFAVENI', 'UniCV', 'UNINTA', 'EDUCA+', 'FACNOPAR',\n",
       "       'FGV/IDT', 'FAC UNIABA', 'UNAMA', 'UNIFRAN', 'UNILASALLE',\n",
       "       'UNIVATES', 'UNIAN-RJ', 'UNIFAMMA', 'UNIDOMPEDRO', 'UNIFATECIE',\n",
       "       'UNINORTE', 'UNIARAXÁ', 'UNI SANTA CRUZ', 'FSFA',\n",
       "       'FACULDADE FITEC', 'FAMEESP', 'FASUL EDUCACIONAL', 'FACETEN',\n",
       "       'ESNS', 'UnDF', 'Ibmec Brasília', 'UniEVANGÉLICA', 'UNIAMÉRICA',\n",
       "       'UniBRASÍLIA', 'UNIFATEC', 'UCL', 'UNICARIOCA', 'MULTIVIX SERRA',\n",
       "       'EFICAZ', 'FSF', 'FUNIP', 'FACSU', 'FASOUZA', 'FD', 'INSIDE',\n",
       "       'FAG', 'FCN', 'UCSAL', 'PUCRS', 'GRAN', 'UFBRA', 'GRAU', 'FAVI'],\n",
       "      dtype=object)"
      ]
     },
     "execution_count": 155,
     "metadata": {},
     "output_type": "execute_result"
    }
   ],
   "source": [
    "# Visualizando todas as instituições disponíveis.\n",
    "dados_censo_DF_SGIS['SG_IES'].unique()"
   ]
  },
  {
   "cell_type": "markdown",
   "metadata": {},
   "source": [
    "| Nome da instituição                          | Sigla       | Categoria Administrativa    | Organização Acadêmica | IGC | Ano  | Link (MEC/e-MEC)                                                                                                        |\n",
    "| -------------------------------------------- | ----------- | --------------------------- | --------------------- | --- | ---- | ----------------------------------------------------------------------------------------------------------------------- |\n",
    "| Universidade de Brasília                     | UNB         | Pública federal             | Universidade          | 5   | 2021 | [Consulta e-MEC](https://emec.mec.gov.br/emec/consulta-cadastro/detalhes-ies/d96957f455f6405d14c6542552b0f6eb/Mg==)     |\n",
    "| Instituto Federal de Brasília                | IFB         | Pública federal             | Instituto Federal     | 4   | 2021 | – (sem página e-MEC disponível)                                                                                         |\n",
    "| Universidade Católica de Brasília            | UCB         | Privada sem fins lucrativos | Universidade          | 4   | 2021 | [Consulta e-MEC](https://emec.mec.gov.br/emec/consulta-cadastro/detalhes-ies/d96957f455f6405d14c6542552b0f6eb/NDAz)     |\n",
    "| Centro Univ. de Brasília                     | UNICEUB     | Privada sem fins lucrativos | Centro Universitário  | 4   | 2021 | [Consulta e-MEC](https://emec.mec.gov.br/emec/consulta-cadastro/detalhes-ies/d96957f455f6405d14c6542552b0f6eb/NDAy)     |\n",
    "| Centro Univ. do Distrito Federal             | UDF         | Privada com fins lucrativos | Centro Universitário  | 3   | 2022 | [Consulta e-MEC](https://emec.mec.gov.br/emec/consulta-cadastro/detalhes-ies/d96957f455f6405d14c6542552b0f6eb/NTE4)     |\n",
    "| Centro Univ. IES Brasília                    | IESB        | Privada com fins lucrativos | Centro Universitário  | 3   | 2022 | [Consulta e-MEC](https://emec.mec.gov.br/emec/consulta-cadastro/detalhes-ies/d96957f455f6405d14c6542552b0f6eb/MTA2MA==) |\n",
    "| Centro Univ. Planalto Central (UNICEPLAC)    | UNICEPLAC   | Privada sem fins lucrativos | Centro Universitário  | 4   | 2021 | [Consulta e-MEC](https://emec.mec.gov.br/emec/consulta-cadastro/detalhes-ies/d96957f455f6405d14c6542552b0f6eb/NTQzOQ==) |\n",
    "| Centro Univ. LS (Centro Universitário LS)    | UNILS       | Privada com fins lucrativos | Centro Universitário  | 4   | 2021 | [Consulta e-MEC](https://emec.mec.gov.br/emec/consulta-cadastro/detalhes-ies/d96957f455f6405d14c6542552b0f6eb/MzM5Ng==) |\n",
    "| Centro Univ. Projeção (Sobradinho)           | UNIPROJEÇÃO | Privada sem fins lucrativos | Centro Universitário  | 4   | 2021 | [Consulta e-MEC](https://emec.mec.gov.br/emec/consulta-cadastro/detalhes-ies/d96957f455f6405d14c6542552b0f6eb/MTUzOA==) |\n",
    "| Instituto Brasileiro de Ensino, Desenvolvimento e Pesquisa de Brasília | IDP-BSB     | Privada    | Faculdade             | 4   | 2021 | – (sem página e-MEC disponível)                                                                                         |\n"
   ]
  },
  {
   "cell_type": "code",
   "execution_count": 156,
   "metadata": {},
   "outputs": [],
   "source": [
    "# SELECIONANDO AS MELHORES FACULDADES PUBLICAS E PRIVADAS DE ACORDO COM A NOTA DO MEC NO DF\n",
    "censo_DF_faculdades = dados_censo_DF_SGIS[dados_censo_DF_SGIS['SG_IES'].isin(['UNB','IFB','UNILS','UCB','IESB','UNICEUB','UNICEPLAC','UDF','IDP-BSB','UNIPROJEÇÃO'])]"
   ]
  },
  {
   "cell_type": "markdown",
   "metadata": {},
   "source": [
    "Durante a etapa de pré-processamento dos dados, identificamos um total de 197 variáveis disponíveis para análise. Considerando o escopo do trabalho e o objetivo de manter um foco mais direcionado, optamos por realizar uma seleção manual das colunas que poderiam contribuir de forma mais direta para a compreensão das possíveis causas de desistência nos cursos de graduação.\n",
    "\n",
    "A seleção levou em conta a relevância das variáveis para a análise, priorizando aquelas relacionadas a características dos cursos, perfil dos alunos, formas de ingresso, turnos, modalidades, entre outros fatores potencialmente associados à evasão. Após esse processo, reduzimos o número de variáveis para 71, listadas a seguir:\n",
    "\n",
    "['NU_ANO_CENSO','SG_IES','CO_IES','NO_CURSO','TP_ORGANIZACAO_ACADEMICA','TP_REDE','NO_CINE_ROTULO','NO_CINE_AREA_GERAL','NO_CINE_AREA_ESPECIFICA','NO_CINE_AREA_DETALHADA','TP_GRAU_ACADEMICO','IN_GRATUITO','TP_MODALIDADE_ENSINO','TP_NIVEL_ACADEMICO','QT_VG_TOTAL',\n",
    "\"QT_ING_ENEM\",\"QT_ING_VESTIBULAR\",'QT_INSCRITO_TOTAL_EAD','QT_VG_TOTAL_EAD','QT_VG_TOTAL_DIURNO','QT_VG_TOTAL_NOTURNO','QT_MAT', 'QT_MAT_FEM', 'QT_MAT_MASC', 'QT_MAT_DIURNO', 'QT_MAT_NOTURNO', 'QT_MAT_0_17', 'QT_MAT_18_24', 'QT_MAT_25_29', 'QT_MAT_30_34', 'QT_MAT_35_39', 'QT_MAT_40_49', 'QT_MAT_50_59', 'QT_MAT_60_MAIS', 'QT_MAT_BRANCA', 'QT_MAT_PRETA', 'QT_MAT_PARDA', 'QT_MAT_AMARELA', 'QT_MAT_INDIGENA', 'QT_MAT_CORND', 'QT_CONC', 'QT_CONC_FEM', 'QT_CONC_MASC', 'QT_CONC_DIURNO', 'QT_CONC_NOTURNO', 'QT_CONC_0_17', 'QT_CONC_18_24', 'QT_CONC_25_29', 'QT_CONC_30_34', 'QT_CONC_35_39', 'QT_CONC_40_49', 'QT_CONC_50_59', 'QT_CONC_60_MAIS', 'QT_CONC_BRANCA', 'QT_CONC_PRETA', 'QT_CONC_PARDA', 'QT_CONC_AMARELA', 'QT_CONC_INDIGENA','QT_CONC_CORND','QT_MAT_NACESTRANG','QT_CONC_NACESTRANG','QT_MAT_DEFICIENTE', 'QT_CONC_DEFICIENTE','QT_MAT_FINANC','QT_CONC_FINANC','QT_MAT_PROCESCPUBLICA', 'QT_MAT_PROCESCPRIVADA', 'QT_MAT_PROCNAOINFORMADA','QT_CONC_PROCESCPUBLICA', 'QT_CONC_PROCESCPRIVADA', 'QT_CONC_PROCNAOINFORMADA']\n",
    "\n",
    "Essa seleção visa manter o equilíbrio entre profundidade analítica e viabilidade de tratamento dos dados, considerando as limitações de tempo e escopo de um trabalho de graduação.\n",
    "\n",
    "        Observação: durante o tratamento e análise dos dados, é provável que esse conjunto de variáveis ainda passe por otimizações adicionais, com a exclusão de colunas redundantes ou com baixa relevância para os objetivos da pesquisa"
   ]
  },
  {
   "cell_type": "code",
   "execution_count": 157,
   "metadata": {},
   "outputs": [],
   "source": [
    "# SELECIONADO COLUNAS PARA ANÁLISE.\n",
    "Colunas_para_censo= ['NU_ANO_CENSO','SG_IES','CO_IES','NO_CURSO','TP_ORGANIZACAO_ACADEMICA','TP_REDE','NO_CINE_ROTULO','NO_CINE_AREA_GERAL','NO_CINE_AREA_ESPECIFICA','NO_CINE_AREA_DETALHADA','TP_GRAU_ACADEMICO','IN_GRATUITO','TP_MODALIDADE_ENSINO','TP_NIVEL_ACADEMICO','QT_VG_TOTAL',\n",
    "\"QT_ING_ENEM\",\"QT_ING_VESTIBULAR\",'QT_INSCRITO_TOTAL_EAD','QT_VG_TOTAL_EAD','QT_VG_TOTAL_DIURNO','QT_VG_TOTAL_NOTURNO','QT_MAT', 'QT_MAT_FEM', 'QT_MAT_MASC', 'QT_MAT_DIURNO', 'QT_MAT_NOTURNO', 'QT_MAT_0_17', 'QT_MAT_18_24', 'QT_MAT_25_29', 'QT_MAT_30_34', 'QT_MAT_35_39', 'QT_MAT_40_49', 'QT_MAT_50_59', 'QT_MAT_60_MAIS', 'QT_MAT_BRANCA', 'QT_MAT_PRETA', 'QT_MAT_PARDA', 'QT_MAT_AMARELA', 'QT_MAT_INDIGENA', 'QT_MAT_CORND', 'QT_CONC', 'QT_CONC_FEM', 'QT_CONC_MASC', 'QT_CONC_DIURNO', 'QT_CONC_NOTURNO', 'QT_CONC_0_17', 'QT_CONC_18_24', 'QT_CONC_25_29', 'QT_CONC_30_34', 'QT_CONC_35_39', 'QT_CONC_40_49', 'QT_CONC_50_59', 'QT_CONC_60_MAIS', 'QT_CONC_BRANCA', 'QT_CONC_PRETA', 'QT_CONC_PARDA', 'QT_CONC_AMARELA', 'QT_CONC_INDIGENA','QT_CONC_CORND','QT_MAT_NACESTRANG','QT_CONC_NACESTRANG','QT_MAT_DEFICIENTE', 'QT_CONC_DEFICIENTE','QT_MAT_FINANC','QT_CONC_FINANC','QT_MAT_PROCESCPUBLICA', 'QT_MAT_PROCESCPRIVADA', 'QT_MAT_PROCNAOINFORMADA','QT_CONC_PROCESCPUBLICA', 'QT_CONC_PROCESCPRIVADA', 'QT_CONC_PROCNAOINFORMADA']"
   ]
  },
  {
   "cell_type": "code",
   "execution_count": 158,
   "metadata": {},
   "outputs": [
    {
     "data": {
      "text/plain": [
       "71"
      ]
     },
     "execution_count": 158,
     "metadata": {},
     "output_type": "execute_result"
    }
   ],
   "source": [
    "# Quantidade de colunas escolhidas. \n",
    "len(Colunas_para_censo)"
   ]
  },
  {
   "cell_type": "code",
   "execution_count": 159,
   "metadata": {},
   "outputs": [],
   "source": [
    "# Pegando os registros com apenas as colunas de interesse\n",
    "dados_censo_DF = censo_DF_faculdades[Colunas_para_censo].reset_index(drop=True)"
   ]
  },
  {
   "cell_type": "markdown",
   "metadata": {},
   "source": [
    "A amostra foi composta apenas pelas 10 faculdades do Distrito Federal consideradas as melhores pelo MEC, não representando todas as instituições da região. As faculdades selecionadas são: UNB, IFB, UNILS, UCB, IESB, UNICEUB, UNICEPLAC, UDF, IDP-BSB e UNIPROJEÇÃO.\n",
    "\n"
   ]
  },
  {
   "cell_type": "code",
   "execution_count": 160,
   "metadata": {},
   "outputs": [
    {
     "data": {
      "text/plain": [
       "array(['UNB', 'UNICEUB', 'UCB', 'UDF', 'IESB', 'UNIPROJEÇÃO', 'UNILS',\n",
       "       'UNICEPLAC', 'IDP-BSB', 'IFB'], dtype=object)"
      ]
     },
     "execution_count": 160,
     "metadata": {},
     "output_type": "execute_result"
    }
   ],
   "source": [
    "# Visualizando se as faculdades desejadas estão no DataFrame - Estão sim.\n",
    "dados_censo_DF['SG_IES'].unique()"
   ]
  },
  {
   "cell_type": "code",
   "execution_count": 161,
   "metadata": {},
   "outputs": [
    {
     "data": {
      "application/vnd.microsoft.datawrangler.viewer.v0+json": {
       "columns": [
        {
         "name": "index",
         "rawType": "int64",
         "type": "integer"
        },
        {
         "name": "NU_ANO_CENSO",
         "rawType": "int64",
         "type": "integer"
        },
        {
         "name": "SG_IES",
         "rawType": "object",
         "type": "string"
        },
        {
         "name": "CO_IES",
         "rawType": "int64",
         "type": "integer"
        },
        {
         "name": "NO_CURSO",
         "rawType": "object",
         "type": "string"
        },
        {
         "name": "TP_ORGANIZACAO_ACADEMICA",
         "rawType": "int64",
         "type": "integer"
        },
        {
         "name": "TP_REDE",
         "rawType": "int64",
         "type": "integer"
        },
        {
         "name": "NO_CINE_ROTULO",
         "rawType": "object",
         "type": "string"
        },
        {
         "name": "NO_CINE_AREA_GERAL",
         "rawType": "object",
         "type": "string"
        },
        {
         "name": "NO_CINE_AREA_ESPECIFICA",
         "rawType": "object",
         "type": "string"
        },
        {
         "name": "NO_CINE_AREA_DETALHADA",
         "rawType": "object",
         "type": "string"
        },
        {
         "name": "TP_GRAU_ACADEMICO",
         "rawType": "float64",
         "type": "float"
        },
        {
         "name": "IN_GRATUITO",
         "rawType": "int64",
         "type": "integer"
        },
        {
         "name": "TP_MODALIDADE_ENSINO",
         "rawType": "int64",
         "type": "integer"
        },
        {
         "name": "TP_NIVEL_ACADEMICO",
         "rawType": "int64",
         "type": "integer"
        },
        {
         "name": "QT_VG_TOTAL",
         "rawType": "float64",
         "type": "float"
        },
        {
         "name": "QT_ING_ENEM",
         "rawType": "float64",
         "type": "float"
        },
        {
         "name": "QT_ING_VESTIBULAR",
         "rawType": "float64",
         "type": "float"
        },
        {
         "name": "QT_INSCRITO_TOTAL_EAD",
         "rawType": "float64",
         "type": "float"
        },
        {
         "name": "QT_VG_TOTAL_EAD",
         "rawType": "float64",
         "type": "float"
        },
        {
         "name": "QT_VG_TOTAL_DIURNO",
         "rawType": "float64",
         "type": "float"
        },
        {
         "name": "QT_VG_TOTAL_NOTURNO",
         "rawType": "float64",
         "type": "float"
        },
        {
         "name": "QT_MAT",
         "rawType": "float64",
         "type": "float"
        },
        {
         "name": "QT_MAT_FEM",
         "rawType": "float64",
         "type": "float"
        },
        {
         "name": "QT_MAT_MASC",
         "rawType": "float64",
         "type": "float"
        },
        {
         "name": "QT_MAT_DIURNO",
         "rawType": "float64",
         "type": "float"
        },
        {
         "name": "QT_MAT_NOTURNO",
         "rawType": "float64",
         "type": "float"
        },
        {
         "name": "QT_MAT_0_17",
         "rawType": "float64",
         "type": "float"
        },
        {
         "name": "QT_MAT_18_24",
         "rawType": "float64",
         "type": "float"
        },
        {
         "name": "QT_MAT_25_29",
         "rawType": "float64",
         "type": "float"
        },
        {
         "name": "QT_MAT_30_34",
         "rawType": "float64",
         "type": "float"
        },
        {
         "name": "QT_MAT_35_39",
         "rawType": "float64",
         "type": "float"
        },
        {
         "name": "QT_MAT_40_49",
         "rawType": "float64",
         "type": "float"
        },
        {
         "name": "QT_MAT_50_59",
         "rawType": "float64",
         "type": "float"
        },
        {
         "name": "QT_MAT_60_MAIS",
         "rawType": "float64",
         "type": "float"
        },
        {
         "name": "QT_MAT_BRANCA",
         "rawType": "float64",
         "type": "float"
        },
        {
         "name": "QT_MAT_PRETA",
         "rawType": "float64",
         "type": "float"
        },
        {
         "name": "QT_MAT_PARDA",
         "rawType": "float64",
         "type": "float"
        },
        {
         "name": "QT_MAT_AMARELA",
         "rawType": "float64",
         "type": "float"
        },
        {
         "name": "QT_MAT_INDIGENA",
         "rawType": "float64",
         "type": "float"
        },
        {
         "name": "QT_MAT_CORND",
         "rawType": "float64",
         "type": "float"
        },
        {
         "name": "QT_CONC",
         "rawType": "float64",
         "type": "float"
        },
        {
         "name": "QT_CONC_FEM",
         "rawType": "float64",
         "type": "float"
        },
        {
         "name": "QT_CONC_MASC",
         "rawType": "float64",
         "type": "float"
        },
        {
         "name": "QT_CONC_DIURNO",
         "rawType": "float64",
         "type": "float"
        },
        {
         "name": "QT_CONC_NOTURNO",
         "rawType": "float64",
         "type": "float"
        },
        {
         "name": "QT_CONC_0_17",
         "rawType": "float64",
         "type": "float"
        },
        {
         "name": "QT_CONC_18_24",
         "rawType": "float64",
         "type": "float"
        },
        {
         "name": "QT_CONC_25_29",
         "rawType": "float64",
         "type": "float"
        },
        {
         "name": "QT_CONC_30_34",
         "rawType": "float64",
         "type": "float"
        },
        {
         "name": "QT_CONC_35_39",
         "rawType": "float64",
         "type": "float"
        },
        {
         "name": "QT_CONC_40_49",
         "rawType": "float64",
         "type": "float"
        },
        {
         "name": "QT_CONC_50_59",
         "rawType": "float64",
         "type": "float"
        },
        {
         "name": "QT_CONC_60_MAIS",
         "rawType": "float64",
         "type": "float"
        },
        {
         "name": "QT_CONC_BRANCA",
         "rawType": "float64",
         "type": "float"
        },
        {
         "name": "QT_CONC_PRETA",
         "rawType": "float64",
         "type": "float"
        },
        {
         "name": "QT_CONC_PARDA",
         "rawType": "float64",
         "type": "float"
        },
        {
         "name": "QT_CONC_AMARELA",
         "rawType": "float64",
         "type": "float"
        },
        {
         "name": "QT_CONC_INDIGENA",
         "rawType": "float64",
         "type": "float"
        },
        {
         "name": "QT_CONC_CORND",
         "rawType": "float64",
         "type": "float"
        },
        {
         "name": "QT_MAT_NACESTRANG",
         "rawType": "float64",
         "type": "float"
        },
        {
         "name": "QT_CONC_NACESTRANG",
         "rawType": "float64",
         "type": "float"
        },
        {
         "name": "QT_MAT_DEFICIENTE",
         "rawType": "float64",
         "type": "float"
        },
        {
         "name": "QT_CONC_DEFICIENTE",
         "rawType": "float64",
         "type": "float"
        },
        {
         "name": "QT_MAT_FINANC",
         "rawType": "float64",
         "type": "float"
        },
        {
         "name": "QT_CONC_FINANC",
         "rawType": "float64",
         "type": "float"
        },
        {
         "name": "QT_MAT_PROCESCPUBLICA",
         "rawType": "float64",
         "type": "float"
        },
        {
         "name": "QT_MAT_PROCESCPRIVADA",
         "rawType": "float64",
         "type": "float"
        },
        {
         "name": "QT_MAT_PROCNAOINFORMADA",
         "rawType": "float64",
         "type": "float"
        },
        {
         "name": "QT_CONC_PROCESCPUBLICA",
         "rawType": "float64",
         "type": "float"
        },
        {
         "name": "QT_CONC_PROCESCPRIVADA",
         "rawType": "float64",
         "type": "float"
        },
        {
         "name": "QT_CONC_PROCNAOINFORMADA",
         "rawType": "float64",
         "type": "float"
        }
       ],
       "ref": "52f65540-eacc-4100-85e2-190d582cd8fe",
       "rows": [
        [
         "0",
         "2018",
         "UNB",
         "2",
         "ABI - ARTES CÊNICAS",
         "1",
         "1",
         "ABI Artes e humanidades",
         "Programas básicos",
         "Programas básicos",
         "Programas básicos",
         null,
         "1",
         "1",
         "1",
         "52.0",
         "13.0",
         "26.0",
         "0.0",
         "0.0",
         "52.0",
         "0.0",
         "45.0",
         "29.0",
         "16.0",
         "45.0",
         "0.0",
         "2.0",
         "35.0",
         "5.0",
         "1.0",
         "2.0",
         "0.0",
         "0.0",
         "0.0",
         "13.0",
         "9.0",
         "10.0",
         "1.0",
         "0.0",
         "12.0",
         "0.0",
         "0.0",
         "0.0",
         "0.0",
         "0.0",
         "0.0",
         "0.0",
         "0.0",
         "0.0",
         "0.0",
         "0.0",
         "0.0",
         "0.0",
         "0.0",
         "0.0",
         "0.0",
         "0.0",
         "0.0",
         "0.0",
         "0.0",
         "0.0",
         "0.0",
         "0.0",
         "0.0",
         "0.0",
         "20.0",
         "25.0",
         "0.0",
         "0.0",
         "0.0",
         "0.0"
        ],
        [
         "1",
         "2018",
         "UNB",
         "2",
         "ABI - ARTES PLÁSTICAS",
         "1",
         "1",
         "ABI Artes e humanidades",
         "Programas básicos",
         "Programas básicos",
         "Programas básicos",
         null,
         "1",
         "1",
         "1",
         "60.0",
         "15.0",
         "23.0",
         "0.0",
         "0.0",
         "60.0",
         "0.0",
         "57.0",
         "36.0",
         "21.0",
         "57.0",
         "0.0",
         "0.0",
         "48.0",
         "3.0",
         "4.0",
         "1.0",
         "0.0",
         "1.0",
         "0.0",
         "20.0",
         "3.0",
         "18.0",
         "0.0",
         "0.0",
         "16.0",
         "0.0",
         "0.0",
         "0.0",
         "0.0",
         "0.0",
         "0.0",
         "0.0",
         "0.0",
         "0.0",
         "0.0",
         "0.0",
         "0.0",
         "0.0",
         "0.0",
         "0.0",
         "0.0",
         "0.0",
         "0.0",
         "0.0",
         "0.0",
         "0.0",
         "0.0",
         "0.0",
         "0.0",
         "0.0",
         "20.0",
         "37.0",
         "0.0",
         "0.0",
         "0.0",
         "0.0"
        ],
        [
         "2",
         "2018",
         "UNB",
         "2",
         "ABI - CIÊNCIAS SOCIAIS",
         "1",
         "1",
         "ABI Ciências sociais, comunicação e informação",
         "Programas básicos",
         "Programas básicos",
         "Programas básicos",
         null,
         "1",
         "1",
         "1",
         "180.0",
         "44.0",
         "47.0",
         "0.0",
         "0.0",
         "180.0",
         "0.0",
         "165.0",
         "112.0",
         "53.0",
         "165.0",
         "0.0",
         "4.0",
         "142.0",
         "12.0",
         "0.0",
         "3.0",
         "3.0",
         "1.0",
         "0.0",
         "56.0",
         "20.0",
         "59.0",
         "1.0",
         "1.0",
         "28.0",
         "0.0",
         "0.0",
         "0.0",
         "0.0",
         "0.0",
         "0.0",
         "0.0",
         "0.0",
         "0.0",
         "0.0",
         "0.0",
         "0.0",
         "0.0",
         "0.0",
         "0.0",
         "0.0",
         "0.0",
         "0.0",
         "0.0",
         "0.0",
         "0.0",
         "0.0",
         "0.0",
         "0.0",
         "0.0",
         "91.0",
         "74.0",
         "0.0",
         "0.0",
         "0.0",
         "0.0"
        ],
        [
         "3",
         "2018",
         "UNB",
         "2",
         "ABI - COMUNICAÇÃO SOCIAL",
         "1",
         "1",
         "ABI Ciências sociais, comunicação e informação",
         "Programas básicos",
         "Programas básicos",
         "Programas básicos",
         null,
         "1",
         "1",
         "1",
         "88.0",
         "24.0",
         "22.0",
         "0.0",
         "0.0",
         "88.0",
         "0.0",
         "79.0",
         "47.0",
         "32.0",
         "79.0",
         "0.0",
         "3.0",
         "71.0",
         "2.0",
         "1.0",
         "0.0",
         "1.0",
         "0.0",
         "1.0",
         "24.0",
         "7.0",
         "36.0",
         "0.0",
         "0.0",
         "12.0",
         "0.0",
         "0.0",
         "0.0",
         "0.0",
         "0.0",
         "0.0",
         "0.0",
         "0.0",
         "0.0",
         "0.0",
         "0.0",
         "0.0",
         "0.0",
         "0.0",
         "0.0",
         "0.0",
         "0.0",
         "0.0",
         "0.0",
         "0.0",
         "0.0",
         "0.0",
         "0.0",
         "0.0",
         "0.0",
         "41.0",
         "38.0",
         "0.0",
         "0.0",
         "0.0",
         "0.0"
        ],
        [
         "4",
         "2018",
         "UNB",
         "2",
         "ABI - DESIGN",
         "1",
         "1",
         "ABI Artes e humanidades",
         "Programas básicos",
         "Programas básicos",
         "Programas básicos",
         null,
         "1",
         "1",
         "1",
         "40.0",
         "10.0",
         "10.0",
         "0.0",
         "0.0",
         "40.0",
         "0.0",
         "39.0",
         "20.0",
         "19.0",
         "39.0",
         "0.0",
         "0.0",
         "38.0",
         "1.0",
         "0.0",
         "0.0",
         "0.0",
         "0.0",
         "0.0",
         "10.0",
         "1.0",
         "10.0",
         "1.0",
         "0.0",
         "17.0",
         "0.0",
         "0.0",
         "0.0",
         "0.0",
         "0.0",
         "0.0",
         "0.0",
         "0.0",
         "0.0",
         "0.0",
         "0.0",
         "0.0",
         "0.0",
         "0.0",
         "0.0",
         "0.0",
         "0.0",
         "0.0",
         "0.0",
         "0.0",
         "0.0",
         "0.0",
         "0.0",
         "0.0",
         "0.0",
         "14.0",
         "25.0",
         "0.0",
         "0.0",
         "0.0",
         "0.0"
        ]
       ],
       "shape": {
        "columns": 71,
        "rows": 5
       }
      },
      "text/html": [
       "<div>\n",
       "<style scoped>\n",
       "    .dataframe tbody tr th:only-of-type {\n",
       "        vertical-align: middle;\n",
       "    }\n",
       "\n",
       "    .dataframe tbody tr th {\n",
       "        vertical-align: top;\n",
       "    }\n",
       "\n",
       "    .dataframe thead th {\n",
       "        text-align: right;\n",
       "    }\n",
       "</style>\n",
       "<table border=\"1\" class=\"dataframe\">\n",
       "  <thead>\n",
       "    <tr style=\"text-align: right;\">\n",
       "      <th></th>\n",
       "      <th>NU_ANO_CENSO</th>\n",
       "      <th>SG_IES</th>\n",
       "      <th>CO_IES</th>\n",
       "      <th>NO_CURSO</th>\n",
       "      <th>TP_ORGANIZACAO_ACADEMICA</th>\n",
       "      <th>TP_REDE</th>\n",
       "      <th>NO_CINE_ROTULO</th>\n",
       "      <th>NO_CINE_AREA_GERAL</th>\n",
       "      <th>NO_CINE_AREA_ESPECIFICA</th>\n",
       "      <th>NO_CINE_AREA_DETALHADA</th>\n",
       "      <th>...</th>\n",
       "      <th>QT_MAT_DEFICIENTE</th>\n",
       "      <th>QT_CONC_DEFICIENTE</th>\n",
       "      <th>QT_MAT_FINANC</th>\n",
       "      <th>QT_CONC_FINANC</th>\n",
       "      <th>QT_MAT_PROCESCPUBLICA</th>\n",
       "      <th>QT_MAT_PROCESCPRIVADA</th>\n",
       "      <th>QT_MAT_PROCNAOINFORMADA</th>\n",
       "      <th>QT_CONC_PROCESCPUBLICA</th>\n",
       "      <th>QT_CONC_PROCESCPRIVADA</th>\n",
       "      <th>QT_CONC_PROCNAOINFORMADA</th>\n",
       "    </tr>\n",
       "  </thead>\n",
       "  <tbody>\n",
       "    <tr>\n",
       "      <th>0</th>\n",
       "      <td>2018</td>\n",
       "      <td>UNB</td>\n",
       "      <td>2</td>\n",
       "      <td>ABI - ARTES CÊNICAS</td>\n",
       "      <td>1</td>\n",
       "      <td>1</td>\n",
       "      <td>ABI Artes e humanidades</td>\n",
       "      <td>Programas básicos</td>\n",
       "      <td>Programas básicos</td>\n",
       "      <td>Programas básicos</td>\n",
       "      <td>...</td>\n",
       "      <td>0.0</td>\n",
       "      <td>0.0</td>\n",
       "      <td>0.0</td>\n",
       "      <td>0.0</td>\n",
       "      <td>20.0</td>\n",
       "      <td>25.0</td>\n",
       "      <td>0.0</td>\n",
       "      <td>0.0</td>\n",
       "      <td>0.0</td>\n",
       "      <td>0.0</td>\n",
       "    </tr>\n",
       "    <tr>\n",
       "      <th>1</th>\n",
       "      <td>2018</td>\n",
       "      <td>UNB</td>\n",
       "      <td>2</td>\n",
       "      <td>ABI - ARTES PLÁSTICAS</td>\n",
       "      <td>1</td>\n",
       "      <td>1</td>\n",
       "      <td>ABI Artes e humanidades</td>\n",
       "      <td>Programas básicos</td>\n",
       "      <td>Programas básicos</td>\n",
       "      <td>Programas básicos</td>\n",
       "      <td>...</td>\n",
       "      <td>0.0</td>\n",
       "      <td>0.0</td>\n",
       "      <td>0.0</td>\n",
       "      <td>0.0</td>\n",
       "      <td>20.0</td>\n",
       "      <td>37.0</td>\n",
       "      <td>0.0</td>\n",
       "      <td>0.0</td>\n",
       "      <td>0.0</td>\n",
       "      <td>0.0</td>\n",
       "    </tr>\n",
       "    <tr>\n",
       "      <th>2</th>\n",
       "      <td>2018</td>\n",
       "      <td>UNB</td>\n",
       "      <td>2</td>\n",
       "      <td>ABI - CIÊNCIAS SOCIAIS</td>\n",
       "      <td>1</td>\n",
       "      <td>1</td>\n",
       "      <td>ABI Ciências sociais, comunicação e informação</td>\n",
       "      <td>Programas básicos</td>\n",
       "      <td>Programas básicos</td>\n",
       "      <td>Programas básicos</td>\n",
       "      <td>...</td>\n",
       "      <td>0.0</td>\n",
       "      <td>0.0</td>\n",
       "      <td>0.0</td>\n",
       "      <td>0.0</td>\n",
       "      <td>91.0</td>\n",
       "      <td>74.0</td>\n",
       "      <td>0.0</td>\n",
       "      <td>0.0</td>\n",
       "      <td>0.0</td>\n",
       "      <td>0.0</td>\n",
       "    </tr>\n",
       "    <tr>\n",
       "      <th>3</th>\n",
       "      <td>2018</td>\n",
       "      <td>UNB</td>\n",
       "      <td>2</td>\n",
       "      <td>ABI - COMUNICAÇÃO SOCIAL</td>\n",
       "      <td>1</td>\n",
       "      <td>1</td>\n",
       "      <td>ABI Ciências sociais, comunicação e informação</td>\n",
       "      <td>Programas básicos</td>\n",
       "      <td>Programas básicos</td>\n",
       "      <td>Programas básicos</td>\n",
       "      <td>...</td>\n",
       "      <td>0.0</td>\n",
       "      <td>0.0</td>\n",
       "      <td>0.0</td>\n",
       "      <td>0.0</td>\n",
       "      <td>41.0</td>\n",
       "      <td>38.0</td>\n",
       "      <td>0.0</td>\n",
       "      <td>0.0</td>\n",
       "      <td>0.0</td>\n",
       "      <td>0.0</td>\n",
       "    </tr>\n",
       "    <tr>\n",
       "      <th>4</th>\n",
       "      <td>2018</td>\n",
       "      <td>UNB</td>\n",
       "      <td>2</td>\n",
       "      <td>ABI - DESIGN</td>\n",
       "      <td>1</td>\n",
       "      <td>1</td>\n",
       "      <td>ABI Artes e humanidades</td>\n",
       "      <td>Programas básicos</td>\n",
       "      <td>Programas básicos</td>\n",
       "      <td>Programas básicos</td>\n",
       "      <td>...</td>\n",
       "      <td>0.0</td>\n",
       "      <td>0.0</td>\n",
       "      <td>0.0</td>\n",
       "      <td>0.0</td>\n",
       "      <td>14.0</td>\n",
       "      <td>25.0</td>\n",
       "      <td>0.0</td>\n",
       "      <td>0.0</td>\n",
       "      <td>0.0</td>\n",
       "      <td>0.0</td>\n",
       "    </tr>\n",
       "  </tbody>\n",
       "</table>\n",
       "<p>5 rows × 71 columns</p>\n",
       "</div>"
      ],
      "text/plain": [
       "   NU_ANO_CENSO SG_IES  CO_IES                  NO_CURSO  \\\n",
       "0          2018    UNB       2       ABI - ARTES CÊNICAS   \n",
       "1          2018    UNB       2     ABI - ARTES PLÁSTICAS   \n",
       "2          2018    UNB       2    ABI - CIÊNCIAS SOCIAIS   \n",
       "3          2018    UNB       2  ABI - COMUNICAÇÃO SOCIAL   \n",
       "4          2018    UNB       2              ABI - DESIGN   \n",
       "\n",
       "   TP_ORGANIZACAO_ACADEMICA  TP_REDE  \\\n",
       "0                         1        1   \n",
       "1                         1        1   \n",
       "2                         1        1   \n",
       "3                         1        1   \n",
       "4                         1        1   \n",
       "\n",
       "                                   NO_CINE_ROTULO NO_CINE_AREA_GERAL  \\\n",
       "0                         ABI Artes e humanidades  Programas básicos   \n",
       "1                         ABI Artes e humanidades  Programas básicos   \n",
       "2  ABI Ciências sociais, comunicação e informação  Programas básicos   \n",
       "3  ABI Ciências sociais, comunicação e informação  Programas básicos   \n",
       "4                         ABI Artes e humanidades  Programas básicos   \n",
       "\n",
       "  NO_CINE_AREA_ESPECIFICA NO_CINE_AREA_DETALHADA  ...  QT_MAT_DEFICIENTE  \\\n",
       "0       Programas básicos      Programas básicos  ...                0.0   \n",
       "1       Programas básicos      Programas básicos  ...                0.0   \n",
       "2       Programas básicos      Programas básicos  ...                0.0   \n",
       "3       Programas básicos      Programas básicos  ...                0.0   \n",
       "4       Programas básicos      Programas básicos  ...                0.0   \n",
       "\n",
       "   QT_CONC_DEFICIENTE  QT_MAT_FINANC  QT_CONC_FINANC  QT_MAT_PROCESCPUBLICA  \\\n",
       "0                 0.0            0.0             0.0                   20.0   \n",
       "1                 0.0            0.0             0.0                   20.0   \n",
       "2                 0.0            0.0             0.0                   91.0   \n",
       "3                 0.0            0.0             0.0                   41.0   \n",
       "4                 0.0            0.0             0.0                   14.0   \n",
       "\n",
       "   QT_MAT_PROCESCPRIVADA  QT_MAT_PROCNAOINFORMADA  QT_CONC_PROCESCPUBLICA  \\\n",
       "0                   25.0                      0.0                     0.0   \n",
       "1                   37.0                      0.0                     0.0   \n",
       "2                   74.0                      0.0                     0.0   \n",
       "3                   38.0                      0.0                     0.0   \n",
       "4                   25.0                      0.0                     0.0   \n",
       "\n",
       "   QT_CONC_PROCESCPRIVADA  QT_CONC_PROCNAOINFORMADA  \n",
       "0                     0.0                       0.0  \n",
       "1                     0.0                       0.0  \n",
       "2                     0.0                       0.0  \n",
       "3                     0.0                       0.0  \n",
       "4                     0.0                       0.0  \n",
       "\n",
       "[5 rows x 71 columns]"
      ]
     },
     "execution_count": 161,
     "metadata": {},
     "output_type": "execute_result"
    }
   ],
   "source": [
    "dados_censo_DF.head(5)"
   ]
  },
  {
   "cell_type": "code",
   "execution_count": 162,
   "metadata": {},
   "outputs": [],
   "source": [
    "# Salvando dados somente do DF. #OBS: O SAS NAO RECONHECE O NAN, EU PRECISO DEIXAR OS VALORES VAZIOS DE OUTRA FORMA PARA O SAS IDENTIFICAR...POIS TAMBEM QUERO FAZER UMA ANALISE LÁ. \n",
    "dados_censo_DF.to_csv(\"D:\\\\analise_de_Dados\\\\arquivos_Brutos\\\\Projeto_censo_educacao_superior\\\\Censo_ed_sup_df.csv\",sep=';',encoding=\"ISO-8859-1\",index=False)"
   ]
  },
  {
   "cell_type": "code",
   "execution_count": 163,
   "metadata": {},
   "outputs": [
    {
     "name": "stdout",
     "output_type": "stream",
     "text": [
      "<class 'pandas.core.frame.DataFrame'>\n",
      "RangeIndex: 3173 entries, 0 to 3172\n",
      "Data columns (total 71 columns):\n",
      " #   Column                    Non-Null Count  Dtype  \n",
      "---  ------                    --------------  -----  \n",
      " 0   NU_ANO_CENSO              3173 non-null   int64  \n",
      " 1   SG_IES                    3173 non-null   object \n",
      " 2   CO_IES                    3173 non-null   int64  \n",
      " 3   NO_CURSO                  3173 non-null   object \n",
      " 4   TP_ORGANIZACAO_ACADEMICA  3173 non-null   int64  \n",
      " 5   TP_REDE                   3173 non-null   int64  \n",
      " 6   NO_CINE_ROTULO            3173 non-null   object \n",
      " 7   NO_CINE_AREA_GERAL        3173 non-null   object \n",
      " 8   NO_CINE_AREA_ESPECIFICA   3173 non-null   object \n",
      " 9   NO_CINE_AREA_DETALHADA    3173 non-null   object \n",
      " 10  TP_GRAU_ACADEMICO         3094 non-null   float64\n",
      " 11  IN_GRATUITO               3173 non-null   int64  \n",
      " 12  TP_MODALIDADE_ENSINO      3173 non-null   int64  \n",
      " 13  TP_NIVEL_ACADEMICO        3173 non-null   int64  \n",
      " 14  QT_VG_TOTAL               3033 non-null   float64\n",
      " 15  QT_ING_ENEM               3173 non-null   float64\n",
      " 16  QT_ING_VESTIBULAR         3173 non-null   float64\n",
      " 17  QT_INSCRITO_TOTAL_EAD     3033 non-null   float64\n",
      " 18  QT_VG_TOTAL_EAD           3033 non-null   float64\n",
      " 19  QT_VG_TOTAL_DIURNO        3033 non-null   float64\n",
      " 20  QT_VG_TOTAL_NOTURNO       3033 non-null   float64\n",
      " 21  QT_MAT                    3173 non-null   float64\n",
      " 22  QT_MAT_FEM                3173 non-null   float64\n",
      " 23  QT_MAT_MASC               3173 non-null   float64\n",
      " 24  QT_MAT_DIURNO             3173 non-null   float64\n",
      " 25  QT_MAT_NOTURNO            3173 non-null   float64\n",
      " 26  QT_MAT_0_17               3173 non-null   float64\n",
      " 27  QT_MAT_18_24              3173 non-null   float64\n",
      " 28  QT_MAT_25_29              3173 non-null   float64\n",
      " 29  QT_MAT_30_34              3173 non-null   float64\n",
      " 30  QT_MAT_35_39              3173 non-null   float64\n",
      " 31  QT_MAT_40_49              3173 non-null   float64\n",
      " 32  QT_MAT_50_59              3173 non-null   float64\n",
      " 33  QT_MAT_60_MAIS            3173 non-null   float64\n",
      " 34  QT_MAT_BRANCA             3173 non-null   float64\n",
      " 35  QT_MAT_PRETA              3173 non-null   float64\n",
      " 36  QT_MAT_PARDA              3173 non-null   float64\n",
      " 37  QT_MAT_AMARELA            3173 non-null   float64\n",
      " 38  QT_MAT_INDIGENA           3173 non-null   float64\n",
      " 39  QT_MAT_CORND              3173 non-null   float64\n",
      " 40  QT_CONC                   3173 non-null   float64\n",
      " 41  QT_CONC_FEM               3173 non-null   float64\n",
      " 42  QT_CONC_MASC              3173 non-null   float64\n",
      " 43  QT_CONC_DIURNO            3173 non-null   float64\n",
      " 44  QT_CONC_NOTURNO           3173 non-null   float64\n",
      " 45  QT_CONC_0_17              3173 non-null   float64\n",
      " 46  QT_CONC_18_24             3173 non-null   float64\n",
      " 47  QT_CONC_25_29             3173 non-null   float64\n",
      " 48  QT_CONC_30_34             3173 non-null   float64\n",
      " 49  QT_CONC_35_39             3173 non-null   float64\n",
      " 50  QT_CONC_40_49             3173 non-null   float64\n",
      " 51  QT_CONC_50_59             3173 non-null   float64\n",
      " 52  QT_CONC_60_MAIS           3173 non-null   float64\n",
      " 53  QT_CONC_BRANCA            3173 non-null   float64\n",
      " 54  QT_CONC_PRETA             3173 non-null   float64\n",
      " 55  QT_CONC_PARDA             3173 non-null   float64\n",
      " 56  QT_CONC_AMARELA           3173 non-null   float64\n",
      " 57  QT_CONC_INDIGENA          3173 non-null   float64\n",
      " 58  QT_CONC_CORND             3173 non-null   float64\n",
      " 59  QT_MAT_NACESTRANG         3173 non-null   float64\n",
      " 60  QT_CONC_NACESTRANG        3173 non-null   float64\n",
      " 61  QT_MAT_DEFICIENTE         3173 non-null   float64\n",
      " 62  QT_CONC_DEFICIENTE        3173 non-null   float64\n",
      " 63  QT_MAT_FINANC             3173 non-null   float64\n",
      " 64  QT_CONC_FINANC            3173 non-null   float64\n",
      " 65  QT_MAT_PROCESCPUBLICA     3173 non-null   float64\n",
      " 66  QT_MAT_PROCESCPRIVADA     3173 non-null   float64\n",
      " 67  QT_MAT_PROCNAOINFORMADA   3173 non-null   float64\n",
      " 68  QT_CONC_PROCESCPUBLICA    3173 non-null   float64\n",
      " 69  QT_CONC_PROCESCPRIVADA    3173 non-null   float64\n",
      " 70  QT_CONC_PROCNAOINFORMADA  3173 non-null   float64\n",
      "dtypes: float64(58), int64(7), object(6)\n",
      "memory usage: 1.7+ MB\n"
     ]
    }
   ],
   "source": [
    "dados_censo_DF.info()"
   ]
  },
  {
   "cell_type": "markdown",
   "metadata": {},
   "source": [
    "# LIMPEZA DE DADOS"
   ]
  },
  {
   "cell_type": "code",
   "execution_count": 164,
   "metadata": {},
   "outputs": [
    {
     "name": "stdout",
     "output_type": "stream",
     "text": [
      "<class 'pandas.core.frame.DataFrame'>\n",
      "RangeIndex: 3173 entries, 0 to 3172\n",
      "Data columns (total 71 columns):\n",
      " #   Column                    Non-Null Count  Dtype  \n",
      "---  ------                    --------------  -----  \n",
      " 0   NU_ANO_CENSO              3173 non-null   int64  \n",
      " 1   SG_IES                    3173 non-null   object \n",
      " 2   CO_IES                    3173 non-null   int64  \n",
      " 3   NO_CURSO                  3173 non-null   object \n",
      " 4   TP_ORGANIZACAO_ACADEMICA  3173 non-null   int64  \n",
      " 5   TP_REDE                   3173 non-null   int64  \n",
      " 6   NO_CINE_ROTULO            3173 non-null   object \n",
      " 7   NO_CINE_AREA_GERAL        3173 non-null   object \n",
      " 8   NO_CINE_AREA_ESPECIFICA   3173 non-null   object \n",
      " 9   NO_CINE_AREA_DETALHADA    3173 non-null   object \n",
      " 10  TP_GRAU_ACADEMICO         3094 non-null   float64\n",
      " 11  IN_GRATUITO               3173 non-null   int64  \n",
      " 12  TP_MODALIDADE_ENSINO      3173 non-null   int64  \n",
      " 13  TP_NIVEL_ACADEMICO        3173 non-null   int64  \n",
      " 14  QT_VG_TOTAL               3033 non-null   float64\n",
      " 15  QT_ING_ENEM               3173 non-null   float64\n",
      " 16  QT_ING_VESTIBULAR         3173 non-null   float64\n",
      " 17  QT_INSCRITO_TOTAL_EAD     3033 non-null   float64\n",
      " 18  QT_VG_TOTAL_EAD           3033 non-null   float64\n",
      " 19  QT_VG_TOTAL_DIURNO        3033 non-null   float64\n",
      " 20  QT_VG_TOTAL_NOTURNO       3033 non-null   float64\n",
      " 21  QT_MAT                    3173 non-null   float64\n",
      " 22  QT_MAT_FEM                3173 non-null   float64\n",
      " 23  QT_MAT_MASC               3173 non-null   float64\n",
      " 24  QT_MAT_DIURNO             3173 non-null   float64\n",
      " 25  QT_MAT_NOTURNO            3173 non-null   float64\n",
      " 26  QT_MAT_0_17               3173 non-null   float64\n",
      " 27  QT_MAT_18_24              3173 non-null   float64\n",
      " 28  QT_MAT_25_29              3173 non-null   float64\n",
      " 29  QT_MAT_30_34              3173 non-null   float64\n",
      " 30  QT_MAT_35_39              3173 non-null   float64\n",
      " 31  QT_MAT_40_49              3173 non-null   float64\n",
      " 32  QT_MAT_50_59              3173 non-null   float64\n",
      " 33  QT_MAT_60_MAIS            3173 non-null   float64\n",
      " 34  QT_MAT_BRANCA             3173 non-null   float64\n",
      " 35  QT_MAT_PRETA              3173 non-null   float64\n",
      " 36  QT_MAT_PARDA              3173 non-null   float64\n",
      " 37  QT_MAT_AMARELA            3173 non-null   float64\n",
      " 38  QT_MAT_INDIGENA           3173 non-null   float64\n",
      " 39  QT_MAT_CORND              3173 non-null   float64\n",
      " 40  QT_CONC                   3173 non-null   float64\n",
      " 41  QT_CONC_FEM               3173 non-null   float64\n",
      " 42  QT_CONC_MASC              3173 non-null   float64\n",
      " 43  QT_CONC_DIURNO            3173 non-null   float64\n",
      " 44  QT_CONC_NOTURNO           3173 non-null   float64\n",
      " 45  QT_CONC_0_17              3173 non-null   float64\n",
      " 46  QT_CONC_18_24             3173 non-null   float64\n",
      " 47  QT_CONC_25_29             3173 non-null   float64\n",
      " 48  QT_CONC_30_34             3173 non-null   float64\n",
      " 49  QT_CONC_35_39             3173 non-null   float64\n",
      " 50  QT_CONC_40_49             3173 non-null   float64\n",
      " 51  QT_CONC_50_59             3173 non-null   float64\n",
      " 52  QT_CONC_60_MAIS           3173 non-null   float64\n",
      " 53  QT_CONC_BRANCA            3173 non-null   float64\n",
      " 54  QT_CONC_PRETA             3173 non-null   float64\n",
      " 55  QT_CONC_PARDA             3173 non-null   float64\n",
      " 56  QT_CONC_AMARELA           3173 non-null   float64\n",
      " 57  QT_CONC_INDIGENA          3173 non-null   float64\n",
      " 58  QT_CONC_CORND             3173 non-null   float64\n",
      " 59  QT_MAT_NACESTRANG         3173 non-null   float64\n",
      " 60  QT_CONC_NACESTRANG        3173 non-null   float64\n",
      " 61  QT_MAT_DEFICIENTE         3173 non-null   float64\n",
      " 62  QT_CONC_DEFICIENTE        3173 non-null   float64\n",
      " 63  QT_MAT_FINANC             3173 non-null   float64\n",
      " 64  QT_CONC_FINANC            3173 non-null   float64\n",
      " 65  QT_MAT_PROCESCPUBLICA     3173 non-null   float64\n",
      " 66  QT_MAT_PROCESCPRIVADA     3173 non-null   float64\n",
      " 67  QT_MAT_PROCNAOINFORMADA   3173 non-null   float64\n",
      " 68  QT_CONC_PROCESCPUBLICA    3173 non-null   float64\n",
      " 69  QT_CONC_PROCESCPRIVADA    3173 non-null   float64\n",
      " 70  QT_CONC_PROCNAOINFORMADA  3173 non-null   float64\n",
      "dtypes: float64(58), int64(7), object(6)\n",
      "memory usage: 1.7+ MB\n"
     ]
    }
   ],
   "source": [
    "# Visualizando dados gerais.\n",
    "dados_censo_DF.info()"
   ]
  },
  {
   "cell_type": "markdown",
   "metadata": {},
   "source": [
    "## Visualizando se possui dados duplicados\n",
    "\n",
    "Verificar se há linhas repetidas no dataset."
   ]
  },
  {
   "cell_type": "code",
   "execution_count": 165,
   "metadata": {},
   "outputs": [
    {
     "data": {
      "text/plain": [
       "np.int64(1)"
      ]
     },
     "execution_count": 165,
     "metadata": {},
     "output_type": "execute_result"
    }
   ],
   "source": [
    "# Verificando a quantidade total de dados duplicados no nosso DataFrame\n",
    "dados_censo_DF.duplicated().sum()"
   ]
  },
  {
   "cell_type": "code",
   "execution_count": 166,
   "metadata": {},
   "outputs": [
    {
     "data": {
      "application/vnd.microsoft.datawrangler.viewer.v0+json": {
       "columns": [
        {
         "name": "index",
         "rawType": "int64",
         "type": "integer"
        },
        {
         "name": "NU_ANO_CENSO",
         "rawType": "int64",
         "type": "integer"
        },
        {
         "name": "SG_IES",
         "rawType": "object",
         "type": "string"
        },
        {
         "name": "CO_IES",
         "rawType": "int64",
         "type": "integer"
        },
        {
         "name": "NO_CURSO",
         "rawType": "object",
         "type": "string"
        },
        {
         "name": "TP_ORGANIZACAO_ACADEMICA",
         "rawType": "int64",
         "type": "integer"
        },
        {
         "name": "TP_REDE",
         "rawType": "int64",
         "type": "integer"
        },
        {
         "name": "NO_CINE_ROTULO",
         "rawType": "object",
         "type": "string"
        },
        {
         "name": "NO_CINE_AREA_GERAL",
         "rawType": "object",
         "type": "string"
        },
        {
         "name": "NO_CINE_AREA_ESPECIFICA",
         "rawType": "object",
         "type": "string"
        },
        {
         "name": "NO_CINE_AREA_DETALHADA",
         "rawType": "object",
         "type": "string"
        },
        {
         "name": "TP_GRAU_ACADEMICO",
         "rawType": "float64",
         "type": "float"
        },
        {
         "name": "IN_GRATUITO",
         "rawType": "int64",
         "type": "integer"
        },
        {
         "name": "TP_MODALIDADE_ENSINO",
         "rawType": "int64",
         "type": "integer"
        },
        {
         "name": "TP_NIVEL_ACADEMICO",
         "rawType": "int64",
         "type": "integer"
        },
        {
         "name": "QT_VG_TOTAL",
         "rawType": "float64",
         "type": "float"
        },
        {
         "name": "QT_ING_ENEM",
         "rawType": "float64",
         "type": "float"
        },
        {
         "name": "QT_ING_VESTIBULAR",
         "rawType": "float64",
         "type": "float"
        },
        {
         "name": "QT_INSCRITO_TOTAL_EAD",
         "rawType": "float64",
         "type": "float"
        },
        {
         "name": "QT_VG_TOTAL_EAD",
         "rawType": "float64",
         "type": "float"
        },
        {
         "name": "QT_VG_TOTAL_DIURNO",
         "rawType": "float64",
         "type": "float"
        },
        {
         "name": "QT_VG_TOTAL_NOTURNO",
         "rawType": "float64",
         "type": "float"
        },
        {
         "name": "QT_MAT",
         "rawType": "float64",
         "type": "float"
        },
        {
         "name": "QT_MAT_FEM",
         "rawType": "float64",
         "type": "float"
        },
        {
         "name": "QT_MAT_MASC",
         "rawType": "float64",
         "type": "float"
        },
        {
         "name": "QT_MAT_DIURNO",
         "rawType": "float64",
         "type": "float"
        },
        {
         "name": "QT_MAT_NOTURNO",
         "rawType": "float64",
         "type": "float"
        },
        {
         "name": "QT_MAT_0_17",
         "rawType": "float64",
         "type": "float"
        },
        {
         "name": "QT_MAT_18_24",
         "rawType": "float64",
         "type": "float"
        },
        {
         "name": "QT_MAT_25_29",
         "rawType": "float64",
         "type": "float"
        },
        {
         "name": "QT_MAT_30_34",
         "rawType": "float64",
         "type": "float"
        },
        {
         "name": "QT_MAT_35_39",
         "rawType": "float64",
         "type": "float"
        },
        {
         "name": "QT_MAT_40_49",
         "rawType": "float64",
         "type": "float"
        },
        {
         "name": "QT_MAT_50_59",
         "rawType": "float64",
         "type": "float"
        },
        {
         "name": "QT_MAT_60_MAIS",
         "rawType": "float64",
         "type": "float"
        },
        {
         "name": "QT_MAT_BRANCA",
         "rawType": "float64",
         "type": "float"
        },
        {
         "name": "QT_MAT_PRETA",
         "rawType": "float64",
         "type": "float"
        },
        {
         "name": "QT_MAT_PARDA",
         "rawType": "float64",
         "type": "float"
        },
        {
         "name": "QT_MAT_AMARELA",
         "rawType": "float64",
         "type": "float"
        },
        {
         "name": "QT_MAT_INDIGENA",
         "rawType": "float64",
         "type": "float"
        },
        {
         "name": "QT_MAT_CORND",
         "rawType": "float64",
         "type": "float"
        },
        {
         "name": "QT_CONC",
         "rawType": "float64",
         "type": "float"
        },
        {
         "name": "QT_CONC_FEM",
         "rawType": "float64",
         "type": "float"
        },
        {
         "name": "QT_CONC_MASC",
         "rawType": "float64",
         "type": "float"
        },
        {
         "name": "QT_CONC_DIURNO",
         "rawType": "float64",
         "type": "float"
        },
        {
         "name": "QT_CONC_NOTURNO",
         "rawType": "float64",
         "type": "float"
        },
        {
         "name": "QT_CONC_0_17",
         "rawType": "float64",
         "type": "float"
        },
        {
         "name": "QT_CONC_18_24",
         "rawType": "float64",
         "type": "float"
        },
        {
         "name": "QT_CONC_25_29",
         "rawType": "float64",
         "type": "float"
        },
        {
         "name": "QT_CONC_30_34",
         "rawType": "float64",
         "type": "float"
        },
        {
         "name": "QT_CONC_35_39",
         "rawType": "float64",
         "type": "float"
        },
        {
         "name": "QT_CONC_40_49",
         "rawType": "float64",
         "type": "float"
        },
        {
         "name": "QT_CONC_50_59",
         "rawType": "float64",
         "type": "float"
        },
        {
         "name": "QT_CONC_60_MAIS",
         "rawType": "float64",
         "type": "float"
        },
        {
         "name": "QT_CONC_BRANCA",
         "rawType": "float64",
         "type": "float"
        },
        {
         "name": "QT_CONC_PRETA",
         "rawType": "float64",
         "type": "float"
        },
        {
         "name": "QT_CONC_PARDA",
         "rawType": "float64",
         "type": "float"
        },
        {
         "name": "QT_CONC_AMARELA",
         "rawType": "float64",
         "type": "float"
        },
        {
         "name": "QT_CONC_INDIGENA",
         "rawType": "float64",
         "type": "float"
        },
        {
         "name": "QT_CONC_CORND",
         "rawType": "float64",
         "type": "float"
        },
        {
         "name": "QT_MAT_NACESTRANG",
         "rawType": "float64",
         "type": "float"
        },
        {
         "name": "QT_CONC_NACESTRANG",
         "rawType": "float64",
         "type": "float"
        },
        {
         "name": "QT_MAT_DEFICIENTE",
         "rawType": "float64",
         "type": "float"
        },
        {
         "name": "QT_CONC_DEFICIENTE",
         "rawType": "float64",
         "type": "float"
        },
        {
         "name": "QT_MAT_FINANC",
         "rawType": "float64",
         "type": "float"
        },
        {
         "name": "QT_CONC_FINANC",
         "rawType": "float64",
         "type": "float"
        },
        {
         "name": "QT_MAT_PROCESCPUBLICA",
         "rawType": "float64",
         "type": "float"
        },
        {
         "name": "QT_MAT_PROCESCPRIVADA",
         "rawType": "float64",
         "type": "float"
        },
        {
         "name": "QT_MAT_PROCNAOINFORMADA",
         "rawType": "float64",
         "type": "float"
        },
        {
         "name": "QT_CONC_PROCESCPUBLICA",
         "rawType": "float64",
         "type": "float"
        },
        {
         "name": "QT_CONC_PROCESCPRIVADA",
         "rawType": "float64",
         "type": "float"
        },
        {
         "name": "QT_CONC_PROCNAOINFORMADA",
         "rawType": "float64",
         "type": "float"
        }
       ],
       "ref": "240a0872-75fb-4858-9c6a-d8c613ae7a98",
       "rows": [
        [
         "2758",
         "2023",
         "UCB",
         "403",
         "Gestão De Recursos Humanos",
         "1",
         "2",
         "Gestão de pessoas",
         "Negócios, administração e direito",
         "Negócios e administração",
         "Gestão e administração",
         "3.0",
         "0",
         "1",
         "1",
         "160.0",
         "0.0",
         "0.0",
         "0.0",
         "0.0",
         "80.0",
         "80.0",
         "0.0",
         "0.0",
         "0.0",
         "0.0",
         "0.0",
         "0.0",
         "0.0",
         "0.0",
         "0.0",
         "0.0",
         "0.0",
         "0.0",
         "0.0",
         "0.0",
         "0.0",
         "0.0",
         "0.0",
         "0.0",
         "0.0",
         "0.0",
         "0.0",
         "0.0",
         "0.0",
         "0.0",
         "0.0",
         "0.0",
         "0.0",
         "0.0",
         "0.0",
         "0.0",
         "0.0",
         "0.0",
         "0.0",
         "0.0",
         "0.0",
         "0.0",
         "0.0",
         "0.0",
         "0.0",
         "0.0",
         "0.0",
         "0.0",
         "0.0",
         "0.0",
         "0.0",
         "0.0",
         "0.0",
         "0.0",
         "0.0",
         "0.0"
        ],
        [
         "2759",
         "2023",
         "UCB",
         "403",
         "Gestão De Recursos Humanos",
         "1",
         "2",
         "Gestão de pessoas",
         "Negócios, administração e direito",
         "Negócios e administração",
         "Gestão e administração",
         "3.0",
         "0",
         "1",
         "1",
         "160.0",
         "0.0",
         "0.0",
         "0.0",
         "0.0",
         "80.0",
         "80.0",
         "0.0",
         "0.0",
         "0.0",
         "0.0",
         "0.0",
         "0.0",
         "0.0",
         "0.0",
         "0.0",
         "0.0",
         "0.0",
         "0.0",
         "0.0",
         "0.0",
         "0.0",
         "0.0",
         "0.0",
         "0.0",
         "0.0",
         "0.0",
         "0.0",
         "0.0",
         "0.0",
         "0.0",
         "0.0",
         "0.0",
         "0.0",
         "0.0",
         "0.0",
         "0.0",
         "0.0",
         "0.0",
         "0.0",
         "0.0",
         "0.0",
         "0.0",
         "0.0",
         "0.0",
         "0.0",
         "0.0",
         "0.0",
         "0.0",
         "0.0",
         "0.0",
         "0.0",
         "0.0",
         "0.0",
         "0.0",
         "0.0",
         "0.0"
        ]
       ],
       "shape": {
        "columns": 71,
        "rows": 2
       }
      },
      "text/html": [
       "<div>\n",
       "<style scoped>\n",
       "    .dataframe tbody tr th:only-of-type {\n",
       "        vertical-align: middle;\n",
       "    }\n",
       "\n",
       "    .dataframe tbody tr th {\n",
       "        vertical-align: top;\n",
       "    }\n",
       "\n",
       "    .dataframe thead th {\n",
       "        text-align: right;\n",
       "    }\n",
       "</style>\n",
       "<table border=\"1\" class=\"dataframe\">\n",
       "  <thead>\n",
       "    <tr style=\"text-align: right;\">\n",
       "      <th></th>\n",
       "      <th>NU_ANO_CENSO</th>\n",
       "      <th>SG_IES</th>\n",
       "      <th>CO_IES</th>\n",
       "      <th>NO_CURSO</th>\n",
       "      <th>TP_ORGANIZACAO_ACADEMICA</th>\n",
       "      <th>TP_REDE</th>\n",
       "      <th>NO_CINE_ROTULO</th>\n",
       "      <th>NO_CINE_AREA_GERAL</th>\n",
       "      <th>NO_CINE_AREA_ESPECIFICA</th>\n",
       "      <th>NO_CINE_AREA_DETALHADA</th>\n",
       "      <th>...</th>\n",
       "      <th>QT_MAT_DEFICIENTE</th>\n",
       "      <th>QT_CONC_DEFICIENTE</th>\n",
       "      <th>QT_MAT_FINANC</th>\n",
       "      <th>QT_CONC_FINANC</th>\n",
       "      <th>QT_MAT_PROCESCPUBLICA</th>\n",
       "      <th>QT_MAT_PROCESCPRIVADA</th>\n",
       "      <th>QT_MAT_PROCNAOINFORMADA</th>\n",
       "      <th>QT_CONC_PROCESCPUBLICA</th>\n",
       "      <th>QT_CONC_PROCESCPRIVADA</th>\n",
       "      <th>QT_CONC_PROCNAOINFORMADA</th>\n",
       "    </tr>\n",
       "  </thead>\n",
       "  <tbody>\n",
       "    <tr>\n",
       "      <th>2758</th>\n",
       "      <td>2023</td>\n",
       "      <td>UCB</td>\n",
       "      <td>403</td>\n",
       "      <td>Gestão De Recursos Humanos</td>\n",
       "      <td>1</td>\n",
       "      <td>2</td>\n",
       "      <td>Gestão de pessoas</td>\n",
       "      <td>Negócios, administração e direito</td>\n",
       "      <td>Negócios e administração</td>\n",
       "      <td>Gestão e administração</td>\n",
       "      <td>...</td>\n",
       "      <td>0.0</td>\n",
       "      <td>0.0</td>\n",
       "      <td>0.0</td>\n",
       "      <td>0.0</td>\n",
       "      <td>0.0</td>\n",
       "      <td>0.0</td>\n",
       "      <td>0.0</td>\n",
       "      <td>0.0</td>\n",
       "      <td>0.0</td>\n",
       "      <td>0.0</td>\n",
       "    </tr>\n",
       "    <tr>\n",
       "      <th>2759</th>\n",
       "      <td>2023</td>\n",
       "      <td>UCB</td>\n",
       "      <td>403</td>\n",
       "      <td>Gestão De Recursos Humanos</td>\n",
       "      <td>1</td>\n",
       "      <td>2</td>\n",
       "      <td>Gestão de pessoas</td>\n",
       "      <td>Negócios, administração e direito</td>\n",
       "      <td>Negócios e administração</td>\n",
       "      <td>Gestão e administração</td>\n",
       "      <td>...</td>\n",
       "      <td>0.0</td>\n",
       "      <td>0.0</td>\n",
       "      <td>0.0</td>\n",
       "      <td>0.0</td>\n",
       "      <td>0.0</td>\n",
       "      <td>0.0</td>\n",
       "      <td>0.0</td>\n",
       "      <td>0.0</td>\n",
       "      <td>0.0</td>\n",
       "      <td>0.0</td>\n",
       "    </tr>\n",
       "  </tbody>\n",
       "</table>\n",
       "<p>2 rows × 71 columns</p>\n",
       "</div>"
      ],
      "text/plain": [
       "      NU_ANO_CENSO SG_IES  CO_IES                    NO_CURSO  \\\n",
       "2758          2023    UCB     403  Gestão De Recursos Humanos   \n",
       "2759          2023    UCB     403  Gestão De Recursos Humanos   \n",
       "\n",
       "      TP_ORGANIZACAO_ACADEMICA  TP_REDE     NO_CINE_ROTULO  \\\n",
       "2758                         1        2  Gestão de pessoas   \n",
       "2759                         1        2  Gestão de pessoas   \n",
       "\n",
       "                     NO_CINE_AREA_GERAL   NO_CINE_AREA_ESPECIFICA  \\\n",
       "2758  Negócios, administração e direito  Negócios e administração   \n",
       "2759  Negócios, administração e direito  Negócios e administração   \n",
       "\n",
       "      NO_CINE_AREA_DETALHADA  ...  QT_MAT_DEFICIENTE  QT_CONC_DEFICIENTE  \\\n",
       "2758  Gestão e administração  ...                0.0                 0.0   \n",
       "2759  Gestão e administração  ...                0.0                 0.0   \n",
       "\n",
       "      QT_MAT_FINANC  QT_CONC_FINANC  QT_MAT_PROCESCPUBLICA  \\\n",
       "2758            0.0             0.0                    0.0   \n",
       "2759            0.0             0.0                    0.0   \n",
       "\n",
       "      QT_MAT_PROCESCPRIVADA  QT_MAT_PROCNAOINFORMADA  QT_CONC_PROCESCPUBLICA  \\\n",
       "2758                    0.0                      0.0                     0.0   \n",
       "2759                    0.0                      0.0                     0.0   \n",
       "\n",
       "      QT_CONC_PROCESCPRIVADA  QT_CONC_PROCNAOINFORMADA  \n",
       "2758                     0.0                       0.0  \n",
       "2759                     0.0                       0.0  \n",
       "\n",
       "[2 rows x 71 columns]"
      ]
     },
     "execution_count": 166,
     "metadata": {},
     "output_type": "execute_result"
    }
   ],
   "source": [
    "# Visualizando de perto se de fato esse único dado duplicado é igual.\n",
    "dados_censo_DF[dados_censo_DF.duplicated(keep=False)]"
   ]
  },
  {
   "cell_type": "code",
   "execution_count": 167,
   "metadata": {},
   "outputs": [
    {
     "data": {
      "text/plain": [
       "np.int64(0)"
      ]
     },
     "execution_count": 167,
     "metadata": {},
     "output_type": "execute_result"
    }
   ],
   "source": [
    "# Eliminando linhas duplicadas. \n",
    "dados_censo_DF = dados_censo_DF.drop_duplicates().copy()\n",
    "# Verificando se as linhas foram retiradas. \n",
    "dados_censo_DF.duplicated().sum()"
   ]
  },
  {
   "cell_type": "markdown",
   "metadata": {},
   "source": [
    "## Verificando Dados ausentes(Dados Nullos)\n",
    "\n",
    "Identificar valores nulos ou faltantes."
   ]
  },
  {
   "cell_type": "code",
   "execution_count": 168,
   "metadata": {},
   "outputs": [
    {
     "name": "stdout",
     "output_type": "stream",
     "text": [
      "<class 'pandas.core.frame.DataFrame'>\n",
      "Index: 3172 entries, 0 to 3172\n",
      "Data columns (total 6 columns):\n",
      " #   Column                 Non-Null Count  Dtype  \n",
      "---  ------                 --------------  -----  \n",
      " 0   TP_GRAU_ACADEMICO      3093 non-null   float64\n",
      " 1   QT_VG_TOTAL            3032 non-null   float64\n",
      " 2   QT_INSCRITO_TOTAL_EAD  3032 non-null   float64\n",
      " 3   QT_VG_TOTAL_EAD        3032 non-null   float64\n",
      " 4   QT_VG_TOTAL_DIURNO     3032 non-null   float64\n",
      " 5   QT_VG_TOTAL_NOTURNO    3032 non-null   float64\n",
      "dtypes: float64(6)\n",
      "memory usage: 173.5 KB\n"
     ]
    }
   ],
   "source": [
    "# Verificando quais colunas possuem pelo menos um dado NULO( FALTANTE )\n",
    "# Utilização do metodo any com o intuito de pegar somente as colunas que possuem dados faltantes\n",
    "\n",
    "dados_censo_DF[dados_censo_DF.columns[dados_censo_DF.isnull().any()]].info()"
   ]
  },
  {
   "cell_type": "markdown",
   "metadata": {},
   "source": [
    "Primeira análise: \n",
    "\n",
    "    -Temos 6 colunas que possuem dados sem informação nenhuma(supostamente não significam nada)\n",
    "\n",
    "    -Todas são númericas\n",
    "\n",
    "    -Cinco colunas possuem as mesmas quantidades de linhas e tem por nome Quantidade de algo(Temos um padrão aqui)\n",
    "        -Observa-se que são 140 linhas vazias."
   ]
  },
  {
   "cell_type": "code",
   "execution_count": 169,
   "metadata": {},
   "outputs": [
    {
     "data": {
      "application/vnd.microsoft.datawrangler.viewer.v0+json": {
       "columns": [
        {
         "name": "index",
         "rawType": "int64",
         "type": "integer"
        },
        {
         "name": "QT_VG_TOTAL",
         "rawType": "float64",
         "type": "float"
        },
        {
         "name": "QT_INSCRITO_TOTAL_EAD",
         "rawType": "float64",
         "type": "float"
        },
        {
         "name": "QT_VG_TOTAL_EAD",
         "rawType": "float64",
         "type": "float"
        },
        {
         "name": "QT_VG_TOTAL_DIURNO",
         "rawType": "float64",
         "type": "float"
        },
        {
         "name": "QT_VG_TOTAL_NOTURNO",
         "rawType": "float64",
         "type": "float"
        }
       ],
       "ref": "f7cb39ae-5a7c-47eb-9150-5e871366975b",
       "rows": [
        [
         "391",
         null,
         null,
         null,
         null,
         null
        ],
        [
         "392",
         null,
         null,
         null,
         null,
         null
        ],
        [
         "393",
         null,
         null,
         null,
         null,
         null
        ],
        [
         "394",
         null,
         null,
         null,
         null,
         null
        ],
        [
         "395",
         null,
         null,
         null,
         null,
         null
        ],
        [
         "396",
         null,
         null,
         null,
         null,
         null
        ],
        [
         "397",
         null,
         null,
         null,
         null,
         null
        ],
        [
         "398",
         null,
         null,
         null,
         null,
         null
        ],
        [
         "399",
         null,
         null,
         null,
         null,
         null
        ],
        [
         "400",
         null,
         null,
         null,
         null,
         null
        ],
        [
         "401",
         null,
         null,
         null,
         null,
         null
        ],
        [
         "402",
         null,
         null,
         null,
         null,
         null
        ],
        [
         "403",
         null,
         null,
         null,
         null,
         null
        ],
        [
         "404",
         null,
         null,
         null,
         null,
         null
        ],
        [
         "405",
         null,
         null,
         null,
         null,
         null
        ],
        [
         "406",
         null,
         null,
         null,
         null,
         null
        ],
        [
         "407",
         null,
         null,
         null,
         null,
         null
        ],
        [
         "408",
         null,
         null,
         null,
         null,
         null
        ],
        [
         "409",
         null,
         null,
         null,
         null,
         null
        ],
        [
         "410",
         null,
         null,
         null,
         null,
         null
        ],
        [
         "411",
         null,
         null,
         null,
         null,
         null
        ],
        [
         "412",
         null,
         null,
         null,
         null,
         null
        ],
        [
         "413",
         null,
         null,
         null,
         null,
         null
        ],
        [
         "414",
         null,
         null,
         null,
         null,
         null
        ],
        [
         "415",
         null,
         null,
         null,
         null,
         null
        ],
        [
         "416",
         null,
         null,
         null,
         null,
         null
        ],
        [
         "417",
         null,
         null,
         null,
         null,
         null
        ],
        [
         "418",
         null,
         null,
         null,
         null,
         null
        ],
        [
         "419",
         null,
         null,
         null,
         null,
         null
        ],
        [
         "420",
         null,
         null,
         null,
         null,
         null
        ],
        [
         "421",
         null,
         null,
         null,
         null,
         null
        ],
        [
         "422",
         null,
         null,
         null,
         null,
         null
        ],
        [
         "423",
         null,
         null,
         null,
         null,
         null
        ],
        [
         "424",
         null,
         null,
         null,
         null,
         null
        ],
        [
         "425",
         null,
         null,
         null,
         null,
         null
        ],
        [
         "426",
         null,
         null,
         null,
         null,
         null
        ],
        [
         "427",
         null,
         null,
         null,
         null,
         null
        ],
        [
         "428",
         null,
         null,
         null,
         null,
         null
        ],
        [
         "429",
         null,
         null,
         null,
         null,
         null
        ],
        [
         "430",
         null,
         null,
         null,
         null,
         null
        ],
        [
         "431",
         null,
         null,
         null,
         null,
         null
        ],
        [
         "432",
         null,
         null,
         null,
         null,
         null
        ],
        [
         "433",
         null,
         null,
         null,
         null,
         null
        ],
        [
         "434",
         null,
         null,
         null,
         null,
         null
        ],
        [
         "435",
         null,
         null,
         null,
         null,
         null
        ],
        [
         "436",
         null,
         null,
         null,
         null,
         null
        ],
        [
         "437",
         null,
         null,
         null,
         null,
         null
        ],
        [
         "438",
         null,
         null,
         null,
         null,
         null
        ],
        [
         "439",
         null,
         null,
         null,
         null,
         null
        ],
        [
         "440",
         null,
         null,
         null,
         null,
         null
        ]
       ],
       "shape": {
        "columns": 5,
        "rows": 140
       }
      },
      "text/html": [
       "<div>\n",
       "<style scoped>\n",
       "    .dataframe tbody tr th:only-of-type {\n",
       "        vertical-align: middle;\n",
       "    }\n",
       "\n",
       "    .dataframe tbody tr th {\n",
       "        vertical-align: top;\n",
       "    }\n",
       "\n",
       "    .dataframe thead th {\n",
       "        text-align: right;\n",
       "    }\n",
       "</style>\n",
       "<table border=\"1\" class=\"dataframe\">\n",
       "  <thead>\n",
       "    <tr style=\"text-align: right;\">\n",
       "      <th></th>\n",
       "      <th>QT_VG_TOTAL</th>\n",
       "      <th>QT_INSCRITO_TOTAL_EAD</th>\n",
       "      <th>QT_VG_TOTAL_EAD</th>\n",
       "      <th>QT_VG_TOTAL_DIURNO</th>\n",
       "      <th>QT_VG_TOTAL_NOTURNO</th>\n",
       "    </tr>\n",
       "  </thead>\n",
       "  <tbody>\n",
       "    <tr>\n",
       "      <th>391</th>\n",
       "      <td>NaN</td>\n",
       "      <td>NaN</td>\n",
       "      <td>NaN</td>\n",
       "      <td>NaN</td>\n",
       "      <td>NaN</td>\n",
       "    </tr>\n",
       "    <tr>\n",
       "      <th>392</th>\n",
       "      <td>NaN</td>\n",
       "      <td>NaN</td>\n",
       "      <td>NaN</td>\n",
       "      <td>NaN</td>\n",
       "      <td>NaN</td>\n",
       "    </tr>\n",
       "    <tr>\n",
       "      <th>393</th>\n",
       "      <td>NaN</td>\n",
       "      <td>NaN</td>\n",
       "      <td>NaN</td>\n",
       "      <td>NaN</td>\n",
       "      <td>NaN</td>\n",
       "    </tr>\n",
       "    <tr>\n",
       "      <th>394</th>\n",
       "      <td>NaN</td>\n",
       "      <td>NaN</td>\n",
       "      <td>NaN</td>\n",
       "      <td>NaN</td>\n",
       "      <td>NaN</td>\n",
       "    </tr>\n",
       "    <tr>\n",
       "      <th>395</th>\n",
       "      <td>NaN</td>\n",
       "      <td>NaN</td>\n",
       "      <td>NaN</td>\n",
       "      <td>NaN</td>\n",
       "      <td>NaN</td>\n",
       "    </tr>\n",
       "    <tr>\n",
       "      <th>...</th>\n",
       "      <td>...</td>\n",
       "      <td>...</td>\n",
       "      <td>...</td>\n",
       "      <td>...</td>\n",
       "      <td>...</td>\n",
       "    </tr>\n",
       "    <tr>\n",
       "      <th>945</th>\n",
       "      <td>NaN</td>\n",
       "      <td>NaN</td>\n",
       "      <td>NaN</td>\n",
       "      <td>NaN</td>\n",
       "      <td>NaN</td>\n",
       "    </tr>\n",
       "    <tr>\n",
       "      <th>946</th>\n",
       "      <td>NaN</td>\n",
       "      <td>NaN</td>\n",
       "      <td>NaN</td>\n",
       "      <td>NaN</td>\n",
       "      <td>NaN</td>\n",
       "    </tr>\n",
       "    <tr>\n",
       "      <th>947</th>\n",
       "      <td>NaN</td>\n",
       "      <td>NaN</td>\n",
       "      <td>NaN</td>\n",
       "      <td>NaN</td>\n",
       "      <td>NaN</td>\n",
       "    </tr>\n",
       "    <tr>\n",
       "      <th>948</th>\n",
       "      <td>NaN</td>\n",
       "      <td>NaN</td>\n",
       "      <td>NaN</td>\n",
       "      <td>NaN</td>\n",
       "      <td>NaN</td>\n",
       "    </tr>\n",
       "    <tr>\n",
       "      <th>949</th>\n",
       "      <td>NaN</td>\n",
       "      <td>NaN</td>\n",
       "      <td>NaN</td>\n",
       "      <td>NaN</td>\n",
       "      <td>NaN</td>\n",
       "    </tr>\n",
       "  </tbody>\n",
       "</table>\n",
       "<p>140 rows × 5 columns</p>\n",
       "</div>"
      ],
      "text/plain": [
       "     QT_VG_TOTAL  QT_INSCRITO_TOTAL_EAD  QT_VG_TOTAL_EAD  QT_VG_TOTAL_DIURNO  \\\n",
       "391          NaN                    NaN              NaN                 NaN   \n",
       "392          NaN                    NaN              NaN                 NaN   \n",
       "393          NaN                    NaN              NaN                 NaN   \n",
       "394          NaN                    NaN              NaN                 NaN   \n",
       "395          NaN                    NaN              NaN                 NaN   \n",
       "..           ...                    ...              ...                 ...   \n",
       "945          NaN                    NaN              NaN                 NaN   \n",
       "946          NaN                    NaN              NaN                 NaN   \n",
       "947          NaN                    NaN              NaN                 NaN   \n",
       "948          NaN                    NaN              NaN                 NaN   \n",
       "949          NaN                    NaN              NaN                 NaN   \n",
       "\n",
       "     QT_VG_TOTAL_NOTURNO  \n",
       "391                  NaN  \n",
       "392                  NaN  \n",
       "393                  NaN  \n",
       "394                  NaN  \n",
       "395                  NaN  \n",
       "..                   ...  \n",
       "945                  NaN  \n",
       "946                  NaN  \n",
       "947                  NaN  \n",
       "948                  NaN  \n",
       "949                  NaN  \n",
       "\n",
       "[140 rows x 5 columns]"
      ]
     },
     "execution_count": 169,
     "metadata": {},
     "output_type": "execute_result"
    }
   ],
   "source": [
    "# Observando somente as colunas que possuem valores vazios, tendo como base de procura uma delas.\n",
    "# Foi verificado todas essas colunas pertencem ao mesmo registro, isto é, se uma está vazia a outra tambem está.\n",
    "dados_censo_DF[dados_censo_DF['QT_VG_TOTAL'].isnull()][['QT_VG_TOTAL','QT_INSCRITO_TOTAL_EAD','QT_VG_TOTAL_EAD','QT_VG_TOTAL_DIURNO','QT_VG_TOTAL_NOTURNO']]"
   ]
  },
  {
   "cell_type": "code",
   "execution_count": 170,
   "metadata": {},
   "outputs": [
    {
     "data": {
      "application/vnd.microsoft.datawrangler.viewer.v0+json": {
       "columns": [
        {
         "name": "SG_IES",
         "rawType": "object",
         "type": "string"
        },
        {
         "name": "count",
         "rawType": "int64",
         "type": "integer"
        }
       ],
       "ref": "77e93d27-d7be-4bc8-930e-4398b559b092",
       "rows": [
        [
         "UCB",
         "47"
        ],
        [
         "IESB",
         "47"
        ],
        [
         "UNICEUB",
         "25"
        ],
        [
         "UNIPROJEÇÃO",
         "19"
        ],
        [
         "UNB",
         "2"
        ]
       ],
       "shape": {
        "columns": 1,
        "rows": 5
       }
      },
      "text/plain": [
       "SG_IES\n",
       "UCB            47\n",
       "IESB           47\n",
       "UNICEUB        25\n",
       "UNIPROJEÇÃO    19\n",
       "UNB             2\n",
       "Name: count, dtype: int64"
      ]
     },
     "execution_count": 170,
     "metadata": {},
     "output_type": "execute_result"
    }
   ],
   "source": [
    "# É Verificado que das 10 Universidades e faculdades, apenas essas cincos possuem esses valores vazios nessas colunas.\n",
    "# É verificado que em sua maioria , pertencem ao IESB E UCB\n",
    "dados_censo_DF[dados_censo_DF['QT_VG_TOTAL'].isnull()]['SG_IES'].value_counts()"
   ]
  },
  {
   "cell_type": "markdown",
   "metadata": {},
   "source": [
    "Iremos tentar entender qual o possível motivo desses valores vazios. Quem sabe achar algum padrão"
   ]
  },
  {
   "cell_type": "code",
   "execution_count": 171,
   "metadata": {},
   "outputs": [
    {
     "data": {
      "text/plain": [
       "array(['Geografia formação de professor', 'Teatro formação de professor',\n",
       "       'Administração', 'Sistemas de informação', 'Banco de dados',\n",
       "       'Contabilidade', 'Gestão da tecnologia da informação',\n",
       "       'Gestão de pessoas', 'Gestão financeira', 'Gestão pública',\n",
       "       'Marketing', 'Gestão de negócios', 'Segurança da informação',\n",
       "       'Economia', 'Comércio exterior', 'Filosofia formação de professor',\n",
       "       'Filosofia', 'Turismo', 'Letras português formação de professor',\n",
       "       'Logística', 'Pedagogia',\n",
       "       'Formação pedagógica de professor para a educação básica',\n",
       "       'Redes de computadores', 'Segurança pública', 'Serviço social',\n",
       "       'Gestão de serviços', 'Biomedicina', 'Design de interiores',\n",
       "       'Design gráfico', 'Engenharia civil', 'Farmácia',\n",
       "       'Gestão comercial', 'Gestão hospitalar', 'Gestão da qualidade',\n",
       "       'Serviços jurídicos e cartoriais', 'Empreendedorismo',\n",
       "       'Engenharia de software', 'Engenharia elétrica', 'Eventos',\n",
       "       'Gestão do agronegócio', 'Secretariado'], dtype=object)"
      ]
     },
     "execution_count": 171,
     "metadata": {},
     "output_type": "execute_result"
    }
   ],
   "source": [
    "# Verificando se é algum curso especifico ( Existe muitos curso, o problema não é o curso)\n",
    "dados_censo_DF[dados_censo_DF['QT_VG_TOTAL'].isnull()]['NO_CINE_ROTULO'].unique()"
   ]
  },
  {
   "cell_type": "code",
   "execution_count": 172,
   "metadata": {},
   "outputs": [
    {
     "data": {
      "application/vnd.microsoft.datawrangler.viewer.v0+json": {
       "columns": [
        {
         "name": "NU_ANO_CENSO",
         "rawType": "int64",
         "type": "integer"
        },
        {
         "name": "count",
         "rawType": "int64",
         "type": "integer"
        }
       ],
       "ref": "2a934f6c-339d-4cec-8766-871c33c55c16",
       "rows": [
        [
         "2019",
         "75"
        ],
        [
         "2018",
         "65"
        ]
       ],
       "shape": {
        "columns": 1,
        "rows": 2
       }
      },
      "text/plain": [
       "NU_ANO_CENSO\n",
       "2019    75\n",
       "2018    65\n",
       "Name: count, dtype: int64"
      ]
     },
     "execution_count": 172,
     "metadata": {},
     "output_type": "execute_result"
    }
   ],
   "source": [
    "# Verificando o ANO DO CURSO( foi verificado que dos 6 ANOS, apenas dois possuem dados vazios - 2018 e 2019)\n",
    "dados_censo_DF[dados_censo_DF['QT_VG_TOTAL'].isnull()]['NU_ANO_CENSO'].value_counts()"
   ]
  },
  {
   "cell_type": "code",
   "execution_count": 173,
   "metadata": {},
   "outputs": [
    {
     "data": {
      "application/vnd.microsoft.datawrangler.viewer.v0+json": {
       "columns": [
        {
         "name": "NU_ANO_CENSO",
         "rawType": "int64",
         "type": "integer"
        },
        {
         "name": "count",
         "rawType": "int64",
         "type": "integer"
        }
       ],
       "ref": "04574e93-7a5f-4495-badc-7d09f242a76f",
       "rows": [
        [
         "2023",
         "582"
        ],
        [
         "2022",
         "561"
        ],
        [
         "2020",
         "541"
        ],
        [
         "2021",
         "538"
        ],
        [
         "2019",
         "494"
        ],
        [
         "2018",
         "456"
        ]
       ],
       "shape": {
        "columns": 1,
        "rows": 6
       }
      },
      "text/plain": [
       "NU_ANO_CENSO\n",
       "2023    582\n",
       "2022    561\n",
       "2020    541\n",
       "2021    538\n",
       "2019    494\n",
       "2018    456\n",
       "Name: count, dtype: int64"
      ]
     },
     "execution_count": 173,
     "metadata": {},
     "output_type": "execute_result"
    }
   ],
   "source": [
    "# Verificando a quantidade total de dados para cada ano\n",
    "dados_censo_DF['NU_ANO_CENSO'].value_counts()"
   ]
  },
  {
   "cell_type": "markdown",
   "metadata": {},
   "source": [
    "QUAL A DECISÃO SOBRE ESSES 140 DADOS VAZIOS?\n",
    "\n",
    "\"Serão removidos OS dados vazios dos anos de 2018 e 2019, ficando apenas com os restantes\"\n",
    "\n",
    "📊 Situação:\n",
    "\n",
    "Total de registros em 2018: 456\n",
    "\n",
    "Registros com nulos em 2018: 65\n",
    "\n",
    "→ 14,25% dos dados de 2018 estão nulos\n",
    "\n",
    "Total de registros em 2019: 494\n",
    "\n",
    "Registros com nulos em 2019: 75\n",
    "\n",
    "→ 15,18% dos dados de 2019 estão nulos\n",
    "\n",
    "Ainda sobra cerca de 80% dos Dados, que é o suficiente para termos uma realidade coerente sobre aqueles anos \n",
    "\n"
   ]
  },
  {
   "cell_type": "code",
   "execution_count": 174,
   "metadata": {},
   "outputs": [
    {
     "data": {
      "application/vnd.microsoft.datawrangler.viewer.v0+json": {
       "columns": [
        {
         "name": "NU_ANO_CENSO",
         "rawType": "int64",
         "type": "integer"
        },
        {
         "name": "count",
         "rawType": "int64",
         "type": "integer"
        }
       ],
       "ref": "9316ce7c-ab26-48ed-b89b-b54b3178a4a3",
       "rows": [
        [
         "2023",
         "17"
        ],
        [
         "2018",
         "16"
        ],
        [
         "2019",
         "16"
        ],
        [
         "2020",
         "15"
        ],
        [
         "2021",
         "15"
        ]
       ],
       "shape": {
        "columns": 1,
        "rows": 5
       }
      },
      "text/plain": [
       "NU_ANO_CENSO\n",
       "2023    17\n",
       "2018    16\n",
       "2019    16\n",
       "2020    15\n",
       "2021    15\n",
       "Name: count, dtype: int64"
      ]
     },
     "execution_count": 174,
     "metadata": {},
     "output_type": "execute_result"
    }
   ],
   "source": [
    "dados_censo_DF[dados_censo_DF['TP_GRAU_ACADEMICO'].isnull()]['NU_ANO_CENSO'].value_counts()   "
   ]
  },
  {
   "cell_type": "code",
   "execution_count": 175,
   "metadata": {},
   "outputs": [],
   "source": [
    "# Retirando todos os dados Nulos do DataFrame. Incluindo o da coluna  TP_GRAU_ACADEMICO\n",
    "dados_censo_DF_sem_nullos = dados_censo_DF.dropna().copy()\n"
   ]
  },
  {
   "cell_type": "code",
   "execution_count": 176,
   "metadata": {},
   "outputs": [
    {
     "data": {
      "text/plain": [
       "np.int64(0)"
      ]
     },
     "execution_count": 176,
     "metadata": {},
     "output_type": "execute_result"
    }
   ],
   "source": [
    "# Verificando se a valores Nullos após a exclusão ( DEU TUDO CERTO)\n",
    "dados_censo_DF_sem_nullos.isnull().any().sum()"
   ]
  },
  {
   "cell_type": "code",
   "execution_count": 177,
   "metadata": {},
   "outputs": [
    {
     "name": "stdout",
     "output_type": "stream",
     "text": [
      "<class 'pandas.core.frame.DataFrame'>\n",
      "Index: 2953 entries, 15 to 3170\n",
      "Empty DataFrame\n"
     ]
    }
   ],
   "source": [
    "# Verificando se a valores Nullos após a exclusão ( DEU TUDO CERTO)\n",
    "dados_censo_DF_sem_nullos[dados_censo_DF_sem_nullos.columns[dados_censo_DF_sem_nullos.isnull().any()]].info()"
   ]
  },
  {
   "cell_type": "code",
   "execution_count": 178,
   "metadata": {},
   "outputs": [
    {
     "data": {
      "application/vnd.microsoft.datawrangler.viewer.v0+json": {
       "columns": [
        {
         "name": "SG_IES",
         "rawType": "object",
         "type": "string"
        },
        {
         "name": "count",
         "rawType": "int64",
         "type": "integer"
        }
       ],
       "ref": "705c62af-038c-4cd3-829b-e8890a2ea7ad",
       "rows": [
        [
         "UNB",
         "769"
        ],
        [
         "IESB",
         "478"
        ],
        [
         "UCB",
         "452"
        ],
        [
         "UNICEUB",
         "365"
        ],
        [
         "UNIPROJEÇÃO",
         "230"
        ],
        [
         "UDF",
         "215"
        ],
        [
         "IFB",
         "164"
        ],
        [
         "UNICEPLAC",
         "139"
        ],
        [
         "UNILS",
         "108"
        ],
        [
         "IDP-BSB",
         "33"
        ]
       ],
       "shape": {
        "columns": 1,
        "rows": 10
       }
      },
      "text/plain": [
       "SG_IES\n",
       "UNB            769\n",
       "IESB           478\n",
       "UCB            452\n",
       "UNICEUB        365\n",
       "UNIPROJEÇÃO    230\n",
       "UDF            215\n",
       "IFB            164\n",
       "UNICEPLAC      139\n",
       "UNILS          108\n",
       "IDP-BSB         33\n",
       "Name: count, dtype: int64"
      ]
     },
     "execution_count": 178,
     "metadata": {},
     "output_type": "execute_result"
    }
   ],
   "source": [
    "# Não está muito bem distribuido\n",
    "dados_censo_DF_sem_nullos['SG_IES'].value_counts()"
   ]
  },
  {
   "cell_type": "code",
   "execution_count": 179,
   "metadata": {},
   "outputs": [
    {
     "data": {
      "application/vnd.microsoft.datawrangler.viewer.v0+json": {
       "columns": [
        {
         "name": "NU_ANO_CENSO",
         "rawType": "int64",
         "type": "integer"
        },
        {
         "name": "count",
         "rawType": "int64",
         "type": "integer"
        }
       ],
       "ref": "6de87940-354a-4ce9-8b19-83be98a60b02",
       "rows": [
        [
         "2023",
         "565"
        ],
        [
         "2022",
         "561"
        ],
        [
         "2020",
         "526"
        ],
        [
         "2021",
         "523"
        ],
        [
         "2019",
         "403"
        ],
        [
         "2018",
         "375"
        ]
       ],
       "shape": {
        "columns": 1,
        "rows": 6
       }
      },
      "text/plain": [
       "NU_ANO_CENSO\n",
       "2023    565\n",
       "2022    561\n",
       "2020    526\n",
       "2021    523\n",
       "2019    403\n",
       "2018    375\n",
       "Name: count, dtype: int64"
      ]
     },
     "execution_count": 179,
     "metadata": {},
     "output_type": "execute_result"
    }
   ],
   "source": [
    "# O ano está bem distribuido.\n",
    "dados_censo_DF_sem_nullos['NU_ANO_CENSO'].value_counts()"
   ]
  },
  {
   "cell_type": "markdown",
   "metadata": {},
   "source": [
    "### Remoção de dados estrategicos"
   ]
  },
  {
   "cell_type": "markdown",
   "metadata": {},
   "source": [
    "### Foi decidio que ficariamos apenas com 6 instituições. explicação abaixo."
   ]
  },
  {
   "cell_type": "markdown",
   "metadata": {},
   "source": [
    "📌 Distribuição por Instituição (SG_IES)\n",
    "Instituição\tRegistros\tPorcentagem aproximada\n",
    "\n",
    "| Instituição     | Registros | Porcentagem aproximada |\n",
    "| --------------- | --------- | ---------------------- |\n",
    "| **UNB**         | 769       | \\~25%                  |\n",
    "| **IESB**        | 478       | \\~16%                  |\n",
    "| **UCB**         | 452       | \\~15%                  |\n",
    "| **UNICEUB**     | 365       | \\~12%                  |\n",
    "| **UNIPROJEÇÃO** | 230       | \\~8%                   |\n",
    "| **UDF**         | 215       | \\~7%                   |\n",
    "| **IFB**         | 164       | \\~5%                   |\n",
    "| **UNICEPLAC**   | 139       | \\~5%                   |\n",
    "| **UNILS**       | 108       | \\~4%                   |\n",
    "| **IDP-BSB**     | 33        | \\~1%                   |\n",
    "\n",
    "\n",
    "\n",
    "🎯 Análise crítica\n",
    "✅ Pontos positivos:\n",
    "\n",
    "Temos 10 instituições diferentes, o que já dá uma boa diversidade.\n",
    "\n",
    "A UNB tem mais de 700 registros, o que permite análises bem detalhadas nela.\n",
    "\n",
    "⚠️ Pontos de atenção:\n",
    "\n",
    "A distribuição não é equilibrada: mais da metade dos dados está concentrada em apenas 3 instituições (UNB, IESB, UCB).\n",
    "\n",
    "Algumas instituições como IDP-BSB têm pouquíssimos dados — análises sobre elas serão menos confiáveis ou até inviáveis.\n",
    "\n",
    "📌 O que isso significa para sua análise de evasão?\n",
    "\n",
    "Possivel escolha:\n",
    "\n",
    "Focar nas instituições com dados suficientes, pode usar as 6 ou 7 maiores (UNB até UDF, por exemplo).\n",
    "\n",
    "Analisar evasão em todo o DF, vai precisar deixar claro que a amostra tem maior peso de certas instituições e isso pode influenciar os resultados.\n",
    "\n"
   ]
  },
  {
   "cell_type": "code",
   "execution_count": 180,
   "metadata": {},
   "outputs": [
    {
     "data": {
      "text/plain": [
       "array(['UNB', 'UNICEUB', 'UCB', 'UDF', 'IESB'], dtype=object)"
      ]
     },
     "execution_count": 180,
     "metadata": {},
     "output_type": "execute_result"
    }
   ],
   "source": [
    "# lista para selecionar apenas as instituições que possuam acima de 6% de informações.\n",
    "instituicoes = [\"UNB\",\"IESB\",\"UCB\",\"UNICEUB\",\"UNIPROJECAO\",\"UDF\"]\n",
    "novo_dados_censo_DF = dados_censo_DF_sem_nullos[dados_censo_DF_sem_nullos['SG_IES'].isin(instituicoes)].copy()\n",
    "# Verificando se foi bem sucedido a escolha das instituições.\n",
    "novo_dados_censo_DF['SG_IES'].unique()"
   ]
  },
  {
   "cell_type": "code",
   "execution_count": 181,
   "metadata": {},
   "outputs": [
    {
     "name": "stdout",
     "output_type": "stream",
     "text": [
      "Linhas: 2279\n",
      "Colunas: 71\n"
     ]
    }
   ],
   "source": [
    "# Verificando a quantidade de registros que sobraram\n",
    "\n",
    "print(\"Linhas:\",novo_dados_censo_DF.shape[0])\n",
    "print(\"Colunas:\",novo_dados_censo_DF.shape[1])"
   ]
  },
  {
   "cell_type": "markdown",
   "metadata": {},
   "source": [
    "Colunas que não precisamos :\n",
    "- CO_IES (Ja Possuimos o SG_IES, para identifição das instituições )\n",
    "- TP_NIVEL_ACADEMICO(TRAZ UMA INFORMAÇÃO DE CERTA FORMA, IGUAL A DA TP_GRAU_ACADEMICO)\n",
    "- "
   ]
  },
  {
   "cell_type": "markdown",
   "metadata": {},
   "source": [
    "## Correção de tipos de dados\n",
    "\n",
    "Garantir que cada coluna tenha o tipo certo (string, int, float, datetime etc)."
   ]
  },
  {
   "cell_type": "code",
   "execution_count": 182,
   "metadata": {},
   "outputs": [
    {
     "name": "stdout",
     "output_type": "stream",
     "text": [
      "<class 'pandas.core.frame.DataFrame'>\n",
      "Index: 2279 entries, 15 to 3150\n",
      "Data columns (total 71 columns):\n",
      " #   Column                    Dtype  \n",
      "---  ------                    -----  \n",
      " 0   NU_ANO_CENSO              int64  \n",
      " 1   SG_IES                    object \n",
      " 2   CO_IES                    int64  \n",
      " 3   NO_CURSO                  object \n",
      " 4   TP_ORGANIZACAO_ACADEMICA  int64  \n",
      " 5   TP_REDE                   int64  \n",
      " 6   NO_CINE_ROTULO            object \n",
      " 7   NO_CINE_AREA_GERAL        object \n",
      " 8   NO_CINE_AREA_ESPECIFICA   object \n",
      " 9   NO_CINE_AREA_DETALHADA    object \n",
      " 10  TP_GRAU_ACADEMICO         float64\n",
      " 11  IN_GRATUITO               int64  \n",
      " 12  TP_MODALIDADE_ENSINO      int64  \n",
      " 13  TP_NIVEL_ACADEMICO        int64  \n",
      " 14  QT_VG_TOTAL               float64\n",
      " 15  QT_ING_ENEM               float64\n",
      " 16  QT_ING_VESTIBULAR         float64\n",
      " 17  QT_INSCRITO_TOTAL_EAD     float64\n",
      " 18  QT_VG_TOTAL_EAD           float64\n",
      " 19  QT_VG_TOTAL_DIURNO        float64\n",
      " 20  QT_VG_TOTAL_NOTURNO       float64\n",
      " 21  QT_MAT                    float64\n",
      " 22  QT_MAT_FEM                float64\n",
      " 23  QT_MAT_MASC               float64\n",
      " 24  QT_MAT_DIURNO             float64\n",
      " 25  QT_MAT_NOTURNO            float64\n",
      " 26  QT_MAT_0_17               float64\n",
      " 27  QT_MAT_18_24              float64\n",
      " 28  QT_MAT_25_29              float64\n",
      " 29  QT_MAT_30_34              float64\n",
      " 30  QT_MAT_35_39              float64\n",
      " 31  QT_MAT_40_49              float64\n",
      " 32  QT_MAT_50_59              float64\n",
      " 33  QT_MAT_60_MAIS            float64\n",
      " 34  QT_MAT_BRANCA             float64\n",
      " 35  QT_MAT_PRETA              float64\n",
      " 36  QT_MAT_PARDA              float64\n",
      " 37  QT_MAT_AMARELA            float64\n",
      " 38  QT_MAT_INDIGENA           float64\n",
      " 39  QT_MAT_CORND              float64\n",
      " 40  QT_CONC                   float64\n",
      " 41  QT_CONC_FEM               float64\n",
      " 42  QT_CONC_MASC              float64\n",
      " 43  QT_CONC_DIURNO            float64\n",
      " 44  QT_CONC_NOTURNO           float64\n",
      " 45  QT_CONC_0_17              float64\n",
      " 46  QT_CONC_18_24             float64\n",
      " 47  QT_CONC_25_29             float64\n",
      " 48  QT_CONC_30_34             float64\n",
      " 49  QT_CONC_35_39             float64\n",
      " 50  QT_CONC_40_49             float64\n",
      " 51  QT_CONC_50_59             float64\n",
      " 52  QT_CONC_60_MAIS           float64\n",
      " 53  QT_CONC_BRANCA            float64\n",
      " 54  QT_CONC_PRETA             float64\n",
      " 55  QT_CONC_PARDA             float64\n",
      " 56  QT_CONC_AMARELA           float64\n",
      " 57  QT_CONC_INDIGENA          float64\n",
      " 58  QT_CONC_CORND             float64\n",
      " 59  QT_MAT_NACESTRANG         float64\n",
      " 60  QT_CONC_NACESTRANG        float64\n",
      " 61  QT_MAT_DEFICIENTE         float64\n",
      " 62  QT_CONC_DEFICIENTE        float64\n",
      " 63  QT_MAT_FINANC             float64\n",
      " 64  QT_CONC_FINANC            float64\n",
      " 65  QT_MAT_PROCESCPUBLICA     float64\n",
      " 66  QT_MAT_PROCESCPRIVADA     float64\n",
      " 67  QT_MAT_PROCNAOINFORMADA   float64\n",
      " 68  QT_CONC_PROCESCPUBLICA    float64\n",
      " 69  QT_CONC_PROCESCPRIVADA    float64\n",
      " 70  QT_CONC_PROCNAOINFORMADA  float64\n",
      "dtypes: float64(58), int64(7), object(6)"
     ]
    }
   ],
   "source": [
    "novo_dados_censo_DF.info(show_counts=False,memory_usage=False)"
   ]
  },
  {
   "cell_type": "markdown",
   "metadata": {},
   "source": [
    "Colunas que precisam ter seu tipo de dados alterados:\n",
    "\n",
    "-NU_ANO_CENSO - O ano precisa ser TIPO DATA e não int (OK)\n",
    "- Segue abaixo dados que tem um tipo de dado categorico Nominais( mas está como int, é necessario uma transformação)\n",
    "\n",
    "    -TP_ORGANIZACAO_ACADEMICA (OK)\n",
    "\n",
    "    -TP_REDE (OK)\n",
    "\n",
    "    -TP_GRAU_ACADEMICO \n",
    "        \n",
    "        (# OBS: FOI VERIFICADO QUE NO DICIONARIO TEMOS A CHAVE 4 (Bacharelado e Licenciatura), MAS NÃO FOI LOCALIZADO NOS DADOS ESSA CHAVE(ERRO DE COLETA? PRECISA LEVAR EM CONSIDERAÇÃO NA ANLISE.) - ISSO É SOBRE O GRAU ACADEMICO) (OK)\n",
    "\n",
    "    -IN_GRATUITO (OK)\n",
    "\n",
    "    -TP_MODALIDADE_ENSINO (OK)\n",
    "    \n",
    "    -TP_NIVEL_ACADEMICO \n",
    "        \n",
    "        (# NÃO ACHO NECESSARIO COLOCAR ESSA COLUNA(NIVEL ACADEMICO), ANTES POR QUE A MESMA POSSUI APENAS UMA INFORMAÇÃO. E PARECE SER A MESMA INFORMAÇÃO DA COLUNA TP_GRAU_ACADEMICO (PRECISA DE UMA ANALISE PARA ENTENDER) (OK)\n",
    "\n",
    "        \n"
   ]
  },
  {
   "cell_type": "code",
   "execution_count": 183,
   "metadata": {},
   "outputs": [],
   "source": [
    "# Corrigindo dado do ano de int para Data.\n",
    "dados_tipo_corrigido_censo_DF = novo_dados_censo_DF.copy()\n",
    "dados_tipo_corrigido_censo_DF['NU_ANO_CENSO'] = pd.to_datetime(dados_tipo_corrigido_censo_DF['NU_ANO_CENSO'])"
   ]
  },
  {
   "cell_type": "code",
   "execution_count": 184,
   "metadata": {},
   "outputs": [
    {
     "name": "stdout",
     "output_type": "stream",
     "text": [
      "<class 'pandas.core.frame.DataFrame'>\n",
      "Index: 2279 entries, 15 to 3150\n",
      "Data columns (total 71 columns):\n",
      " #   Column                    Non-Null Count  Dtype         \n",
      "---  ------                    --------------  -----         \n",
      " 0   NU_ANO_CENSO              2279 non-null   datetime64[ns]\n",
      " 1   SG_IES                    2279 non-null   object        \n",
      " 2   CO_IES                    2279 non-null   int64         \n",
      " 3   NO_CURSO                  2279 non-null   object        \n",
      " 4   TP_ORGANIZACAO_ACADEMICA  2279 non-null   int64         \n",
      " 5   TP_REDE                   2279 non-null   int64         \n",
      " 6   NO_CINE_ROTULO            2279 non-null   object        \n",
      " 7   NO_CINE_AREA_GERAL        2279 non-null   object        \n",
      " 8   NO_CINE_AREA_ESPECIFICA   2279 non-null   object        \n",
      " 9   NO_CINE_AREA_DETALHADA    2279 non-null   object        \n",
      " 10  TP_GRAU_ACADEMICO         2279 non-null   float64       \n",
      " 11  IN_GRATUITO               2279 non-null   int64         \n",
      " 12  TP_MODALIDADE_ENSINO      2279 non-null   int64         \n",
      " 13  TP_NIVEL_ACADEMICO        2279 non-null   int64         \n",
      " 14  QT_VG_TOTAL               2279 non-null   float64       \n",
      " 15  QT_ING_ENEM               2279 non-null   float64       \n",
      " 16  QT_ING_VESTIBULAR         2279 non-null   float64       \n",
      " 17  QT_INSCRITO_TOTAL_EAD     2279 non-null   float64       \n",
      " 18  QT_VG_TOTAL_EAD           2279 non-null   float64       \n",
      " 19  QT_VG_TOTAL_DIURNO        2279 non-null   float64       \n",
      " 20  QT_VG_TOTAL_NOTURNO       2279 non-null   float64       \n",
      " 21  QT_MAT                    2279 non-null   float64       \n",
      " 22  QT_MAT_FEM                2279 non-null   float64       \n",
      " 23  QT_MAT_MASC               2279 non-null   float64       \n",
      " 24  QT_MAT_DIURNO             2279 non-null   float64       \n",
      " 25  QT_MAT_NOTURNO            2279 non-null   float64       \n",
      " 26  QT_MAT_0_17               2279 non-null   float64       \n",
      " 27  QT_MAT_18_24              2279 non-null   float64       \n",
      " 28  QT_MAT_25_29              2279 non-null   float64       \n",
      " 29  QT_MAT_30_34              2279 non-null   float64       \n",
      " 30  QT_MAT_35_39              2279 non-null   float64       \n",
      " 31  QT_MAT_40_49              2279 non-null   float64       \n",
      " 32  QT_MAT_50_59              2279 non-null   float64       \n",
      " 33  QT_MAT_60_MAIS            2279 non-null   float64       \n",
      " 34  QT_MAT_BRANCA             2279 non-null   float64       \n",
      " 35  QT_MAT_PRETA              2279 non-null   float64       \n",
      " 36  QT_MAT_PARDA              2279 non-null   float64       \n",
      " 37  QT_MAT_AMARELA            2279 non-null   float64       \n",
      " 38  QT_MAT_INDIGENA           2279 non-null   float64       \n",
      " 39  QT_MAT_CORND              2279 non-null   float64       \n",
      " 40  QT_CONC                   2279 non-null   float64       \n",
      " 41  QT_CONC_FEM               2279 non-null   float64       \n",
      " 42  QT_CONC_MASC              2279 non-null   float64       \n",
      " 43  QT_CONC_DIURNO            2279 non-null   float64       \n",
      " 44  QT_CONC_NOTURNO           2279 non-null   float64       \n",
      " 45  QT_CONC_0_17              2279 non-null   float64       \n",
      " 46  QT_CONC_18_24             2279 non-null   float64       \n",
      " 47  QT_CONC_25_29             2279 non-null   float64       \n",
      " 48  QT_CONC_30_34             2279 non-null   float64       \n",
      " 49  QT_CONC_35_39             2279 non-null   float64       \n",
      " 50  QT_CONC_40_49             2279 non-null   float64       \n",
      " 51  QT_CONC_50_59             2279 non-null   float64       \n",
      " 52  QT_CONC_60_MAIS           2279 non-null   float64       \n",
      " 53  QT_CONC_BRANCA            2279 non-null   float64       \n",
      " 54  QT_CONC_PRETA             2279 non-null   float64       \n",
      " 55  QT_CONC_PARDA             2279 non-null   float64       \n",
      " 56  QT_CONC_AMARELA           2279 non-null   float64       \n",
      " 57  QT_CONC_INDIGENA          2279 non-null   float64       \n",
      " 58  QT_CONC_CORND             2279 non-null   float64       \n",
      " 59  QT_MAT_NACESTRANG         2279 non-null   float64       \n",
      " 60  QT_CONC_NACESTRANG        2279 non-null   float64       \n",
      " 61  QT_MAT_DEFICIENTE         2279 non-null   float64       \n",
      " 62  QT_CONC_DEFICIENTE        2279 non-null   float64       \n",
      " 63  QT_MAT_FINANC             2279 non-null   float64       \n",
      " 64  QT_CONC_FINANC            2279 non-null   float64       \n",
      " 65  QT_MAT_PROCESCPUBLICA     2279 non-null   float64       \n",
      " 66  QT_MAT_PROCESCPRIVADA     2279 non-null   float64       \n",
      " 67  QT_MAT_PROCNAOINFORMADA   2279 non-null   float64       \n",
      " 68  QT_CONC_PROCESCPUBLICA    2279 non-null   float64       \n",
      " 69  QT_CONC_PROCESCPRIVADA    2279 non-null   float64       \n",
      " 70  QT_CONC_PROCNAOINFORMADA  2279 non-null   float64       \n",
      "dtypes: datetime64[ns](1), float64(58), int64(6), object(6)\n",
      "memory usage: 1.3+ MB\n"
     ]
    }
   ],
   "source": [
    "# Visualizando a correção.\n",
    "dados_tipo_corrigido_censo_DF.info()"
   ]
  },
  {
   "cell_type": "markdown",
   "metadata": {},
   "source": [
    "#### Criando dicionário(com seus respectivos nomes) para as colunas categoricas, para que possam ser transformados para uma linguagem facil de analise."
   ]
  },
  {
   "cell_type": "code",
   "execution_count": 185,
   "metadata": {},
   "outputs": [
    {
     "name": "stdout",
     "output_type": "stream",
     "text": [
      "TP_ORGANIZACAO_ACADEMICA [1 2]\n",
      "TP_REDE [1 2]\n",
      "TP_GRAU_ACADEMICO [1. 2. 3. 0.]\n",
      "IN_GRATUITO [1 0]\n",
      "TP_MODALIDADE_ENSINO [1 2]\n",
      "TP_NIVEL_ACADEMICO [1]\n"
     ]
    }
   ],
   "source": [
    "# Verificando valores ÚNICOS para não esquecer de nenhum dado categorico.\n",
    "\n",
    "# Selecionando em lista as colunas que serão transformadas para categoricas.Para melhor otimização.\n",
    "lista_categoricos = ['TP_ORGANIZACAO_ACADEMICA','TP_REDE','TP_GRAU_ACADEMICO','IN_GRATUITO','TP_MODALIDADE_ENSINO','TP_NIVEL_ACADEMICO']\n",
    "\n",
    "for i in lista_categoricos:\n",
    "    print(f'{i}',dados_tipo_corrigido_censo_DF[i].unique())"
   ]
  },
  {
   "cell_type": "code",
   "execution_count": 186,
   "metadata": {},
   "outputs": [
    {
     "data": {
      "text/plain": [
       "array([1])"
      ]
     },
     "execution_count": 186,
     "metadata": {},
     "output_type": "execute_result"
    }
   ],
   "source": [
    "dic_TP_ORGANIZACAO_ACADEMICA = {1:\"Universidade\",\n",
    "2: \"Centro Universitário\"}\n",
    "\n",
    "dic_TP_REDE = {1:\"Pública\", 2:\"Privada\"}\n",
    "\n",
    "# OBS: FOI VERIFICADO QUE NO DICIONARIO TEMOS A CHAVE 4 (Bacharelado e Licenciatura), MAS NÃO FOI LOCALIZADO NOS DADOS ESSA CHAVE(ERRO DE COLETA? PRECISA LEVAR EM CONSIDERAÇÃO NA ANLISE.) - ISSO É SOBRE O GRAU ACADEMICO\n",
    "dic_TP_GRAU_ACADEMICO = {1:\"Bacharelado\",\n",
    "2:\"Licenciatura\",\n",
    "3:\"Tecnológico\",\n",
    "0:\"Não aplicável \"}\n",
    "\n",
    "dic_IN_GRATUITO = {0:\"Não\",1:\"Sim\"}\n",
    "\n",
    "dic_TP_MODALIDADE_ENSINO = {1:\"Presencial\", 2:\"Curso a distância\"}\n",
    "\n",
    "# NÃO ACHO NECESSARIO COLOCAR ESSA COLUNA, ANTES POR QUE A MESMA POSSUI APENAS UMA INFORMAÇÃO. E PARECE SER A MESMA INFORMAÇÃO DA COLUNA TP_GRAU_ACADEMICO (ANALISAR )\n",
    "dic_TP_NIVEL_ACADEMICO  = {1:\"Graduação\"}\n",
    "\n",
    "# Criando lista para utilização em tranformação das categorias\n",
    "lista_dicionario = [dic_TP_ORGANIZACAO_ACADEMICA,dic_TP_REDE,dic_TP_GRAU_ACADEMICO,dic_IN_GRATUITO,dic_TP_MODALIDADE_ENSINO,dic_TP_NIVEL_ACADEMICO]\n",
    "\n",
    "dados_tipo_corrigido_censo_DF['TP_NIVEL_ACADEMICO'].unique()\n",
    "\n"
   ]
  },
  {
   "cell_type": "code",
   "execution_count": 187,
   "metadata": {},
   "outputs": [],
   "source": [
    "# Novo DataFrame para receber os dados já categorizados\n",
    "novos_dados_corrigido_censo_DF = dados_tipo_corrigido_censo_DF.copy()\n",
    "\n",
    "# Laço for para transformar dados do type int em categoricos faceis de compreender e analisar. \n",
    "for i in zip(lista_categoricos,lista_dicionario):\n",
    "   novo_dados_censo_DF[i[0]] = novo_dados_censo_DF[i[0]].map(i[1])\n"
   ]
  },
  {
   "cell_type": "markdown",
   "metadata": {},
   "source": [
    "### Transformando colunas númericas em categoricas com linguagem fácil.  "
   ]
  },
  {
   "cell_type": "code",
   "execution_count": 188,
   "metadata": {},
   "outputs": [
    {
     "data": {
      "application/vnd.microsoft.datawrangler.viewer.v0+json": {
       "columns": [
        {
         "name": "index",
         "rawType": "int64",
         "type": "integer"
        },
        {
         "name": "NU_ANO_CENSO",
         "rawType": "int64",
         "type": "integer"
        },
        {
         "name": "SG_IES",
         "rawType": "object",
         "type": "string"
        },
        {
         "name": "CO_IES",
         "rawType": "int64",
         "type": "integer"
        },
        {
         "name": "NO_CURSO",
         "rawType": "object",
         "type": "string"
        },
        {
         "name": "TP_ORGANIZACAO_ACADEMICA",
         "rawType": "object",
         "type": "string"
        },
        {
         "name": "TP_REDE",
         "rawType": "object",
         "type": "string"
        },
        {
         "name": "NO_CINE_ROTULO",
         "rawType": "object",
         "type": "string"
        },
        {
         "name": "NO_CINE_AREA_GERAL",
         "rawType": "object",
         "type": "string"
        },
        {
         "name": "NO_CINE_AREA_ESPECIFICA",
         "rawType": "object",
         "type": "string"
        },
        {
         "name": "NO_CINE_AREA_DETALHADA",
         "rawType": "object",
         "type": "string"
        },
        {
         "name": "TP_GRAU_ACADEMICO",
         "rawType": "object",
         "type": "string"
        },
        {
         "name": "IN_GRATUITO",
         "rawType": "object",
         "type": "string"
        },
        {
         "name": "TP_MODALIDADE_ENSINO",
         "rawType": "object",
         "type": "string"
        },
        {
         "name": "TP_NIVEL_ACADEMICO",
         "rawType": "object",
         "type": "string"
        },
        {
         "name": "QT_VG_TOTAL",
         "rawType": "float64",
         "type": "float"
        },
        {
         "name": "QT_ING_ENEM",
         "rawType": "float64",
         "type": "float"
        },
        {
         "name": "QT_ING_VESTIBULAR",
         "rawType": "float64",
         "type": "float"
        },
        {
         "name": "QT_INSCRITO_TOTAL_EAD",
         "rawType": "float64",
         "type": "float"
        },
        {
         "name": "QT_VG_TOTAL_EAD",
         "rawType": "float64",
         "type": "float"
        },
        {
         "name": "QT_VG_TOTAL_DIURNO",
         "rawType": "float64",
         "type": "float"
        },
        {
         "name": "QT_VG_TOTAL_NOTURNO",
         "rawType": "float64",
         "type": "float"
        },
        {
         "name": "QT_MAT",
         "rawType": "float64",
         "type": "float"
        },
        {
         "name": "QT_MAT_FEM",
         "rawType": "float64",
         "type": "float"
        },
        {
         "name": "QT_MAT_MASC",
         "rawType": "float64",
         "type": "float"
        },
        {
         "name": "QT_MAT_DIURNO",
         "rawType": "float64",
         "type": "float"
        },
        {
         "name": "QT_MAT_NOTURNO",
         "rawType": "float64",
         "type": "float"
        },
        {
         "name": "QT_MAT_0_17",
         "rawType": "float64",
         "type": "float"
        },
        {
         "name": "QT_MAT_18_24",
         "rawType": "float64",
         "type": "float"
        },
        {
         "name": "QT_MAT_25_29",
         "rawType": "float64",
         "type": "float"
        },
        {
         "name": "QT_MAT_30_34",
         "rawType": "float64",
         "type": "float"
        },
        {
         "name": "QT_MAT_35_39",
         "rawType": "float64",
         "type": "float"
        },
        {
         "name": "QT_MAT_40_49",
         "rawType": "float64",
         "type": "float"
        },
        {
         "name": "QT_MAT_50_59",
         "rawType": "float64",
         "type": "float"
        },
        {
         "name": "QT_MAT_60_MAIS",
         "rawType": "float64",
         "type": "float"
        },
        {
         "name": "QT_MAT_BRANCA",
         "rawType": "float64",
         "type": "float"
        },
        {
         "name": "QT_MAT_PRETA",
         "rawType": "float64",
         "type": "float"
        },
        {
         "name": "QT_MAT_PARDA",
         "rawType": "float64",
         "type": "float"
        },
        {
         "name": "QT_MAT_AMARELA",
         "rawType": "float64",
         "type": "float"
        },
        {
         "name": "QT_MAT_INDIGENA",
         "rawType": "float64",
         "type": "float"
        },
        {
         "name": "QT_MAT_CORND",
         "rawType": "float64",
         "type": "float"
        },
        {
         "name": "QT_CONC",
         "rawType": "float64",
         "type": "float"
        },
        {
         "name": "QT_CONC_FEM",
         "rawType": "float64",
         "type": "float"
        },
        {
         "name": "QT_CONC_MASC",
         "rawType": "float64",
         "type": "float"
        },
        {
         "name": "QT_CONC_DIURNO",
         "rawType": "float64",
         "type": "float"
        },
        {
         "name": "QT_CONC_NOTURNO",
         "rawType": "float64",
         "type": "float"
        },
        {
         "name": "QT_CONC_0_17",
         "rawType": "float64",
         "type": "float"
        },
        {
         "name": "QT_CONC_18_24",
         "rawType": "float64",
         "type": "float"
        },
        {
         "name": "QT_CONC_25_29",
         "rawType": "float64",
         "type": "float"
        },
        {
         "name": "QT_CONC_30_34",
         "rawType": "float64",
         "type": "float"
        },
        {
         "name": "QT_CONC_35_39",
         "rawType": "float64",
         "type": "float"
        },
        {
         "name": "QT_CONC_40_49",
         "rawType": "float64",
         "type": "float"
        },
        {
         "name": "QT_CONC_50_59",
         "rawType": "float64",
         "type": "float"
        },
        {
         "name": "QT_CONC_60_MAIS",
         "rawType": "float64",
         "type": "float"
        },
        {
         "name": "QT_CONC_BRANCA",
         "rawType": "float64",
         "type": "float"
        },
        {
         "name": "QT_CONC_PRETA",
         "rawType": "float64",
         "type": "float"
        },
        {
         "name": "QT_CONC_PARDA",
         "rawType": "float64",
         "type": "float"
        },
        {
         "name": "QT_CONC_AMARELA",
         "rawType": "float64",
         "type": "float"
        },
        {
         "name": "QT_CONC_INDIGENA",
         "rawType": "float64",
         "type": "float"
        },
        {
         "name": "QT_CONC_CORND",
         "rawType": "float64",
         "type": "float"
        },
        {
         "name": "QT_MAT_NACESTRANG",
         "rawType": "float64",
         "type": "float"
        },
        {
         "name": "QT_CONC_NACESTRANG",
         "rawType": "float64",
         "type": "float"
        },
        {
         "name": "QT_MAT_DEFICIENTE",
         "rawType": "float64",
         "type": "float"
        },
        {
         "name": "QT_CONC_DEFICIENTE",
         "rawType": "float64",
         "type": "float"
        },
        {
         "name": "QT_MAT_FINANC",
         "rawType": "float64",
         "type": "float"
        },
        {
         "name": "QT_CONC_FINANC",
         "rawType": "float64",
         "type": "float"
        },
        {
         "name": "QT_MAT_PROCESCPUBLICA",
         "rawType": "float64",
         "type": "float"
        },
        {
         "name": "QT_MAT_PROCESCPRIVADA",
         "rawType": "float64",
         "type": "float"
        },
        {
         "name": "QT_MAT_PROCNAOINFORMADA",
         "rawType": "float64",
         "type": "float"
        },
        {
         "name": "QT_CONC_PROCESCPUBLICA",
         "rawType": "float64",
         "type": "float"
        },
        {
         "name": "QT_CONC_PROCESCPRIVADA",
         "rawType": "float64",
         "type": "float"
        },
        {
         "name": "QT_CONC_PROCNAOINFORMADA",
         "rawType": "float64",
         "type": "float"
        }
       ],
       "ref": "005cfeec-40c8-4ce6-a7d4-ba07042c6435",
       "rows": [
        [
         "15",
         "2018",
         "UNB",
         "2",
         "ADMINISTRAÇÃO",
         "Universidade",
         "Pública",
         "Administração",
         "Negócios, administração e direito",
         "Negócios e administração",
         "Gestão e administração",
         "Bacharelado",
         "Sim",
         "Presencial",
         "Graduação",
         "285.0",
         "53.0",
         "61.0",
         "0.0",
         "0.0",
         "134.0",
         "151.0",
         "1079.0",
         "440.0",
         "639.0",
         "544.0",
         "535.0",
         "3.0",
         "831.0",
         "158.0",
         "38.0",
         "20.0",
         "18.0",
         "10.0",
         "1.0",
         "440.0",
         "86.0",
         "393.0",
         "24.0",
         "3.0",
         "133.0",
         "145.0",
         "67.0",
         "78.0",
         "72.0",
         "73.0",
         "0.0",
         "91.0",
         "38.0",
         "10.0",
         "5.0",
         "1.0",
         "0.0",
         "0.0",
         "71.0",
         "16.0",
         "50.0",
         "4.0",
         "0.0",
         "4.0",
         "13.0",
         "1.0",
         "1.0",
         "0.0",
         "0.0",
         "0.0",
         "466.0",
         "613.0",
         "0.0",
         "38.0",
         "107.0",
         "0.0"
        ],
        [
         "16",
         "2018",
         "UNB",
         "2",
         "AGRONOMIA",
         "Universidade",
         "Pública",
         "Agronomia",
         "Agricultura, silvicultura, pesca e veterinária",
         "Agricultura",
         "Produção agrícola, agropecuária e zootecnia",
         "Bacharelado",
         "Sim",
         "Presencial",
         "Graduação",
         "172.0",
         "39.0",
         "38.0",
         "0.0",
         "0.0",
         "172.0",
         "0.0",
         "704.0",
         "313.0",
         "391.0",
         "704.0",
         "0.0",
         "0.0",
         "585.0",
         "86.0",
         "23.0",
         "8.0",
         "2.0",
         "0.0",
         "0.0",
         "247.0",
         "54.0",
         "291.0",
         "11.0",
         "1.0",
         "100.0",
         "92.0",
         "43.0",
         "49.0",
         "92.0",
         "0.0",
         "0.0",
         "47.0",
         "39.0",
         "2.0",
         "4.0",
         "0.0",
         "0.0",
         "0.0",
         "39.0",
         "7.0",
         "42.0",
         "3.0",
         "0.0",
         "1.0",
         "6.0",
         "1.0",
         "0.0",
         "0.0",
         "0.0",
         "0.0",
         "345.0",
         "359.0",
         "0.0",
         "38.0",
         "54.0",
         "0.0"
        ],
        [
         "17",
         "2018",
         "UNB",
         "2",
         "ARQUITETURA E URBANISMO",
         "Universidade",
         "Pública",
         "Arquitetura e urbanismo",
         "Engenharia, produção e construção",
         "Arquitetura e construção",
         "Arquitetura e planejamento urbano",
         "Bacharelado",
         "Sim",
         "Presencial",
         "Graduação",
         "92.0",
         "19.0",
         "20.0",
         "0.0",
         "0.0",
         "92.0",
         "0.0",
         "539.0",
         "390.0",
         "149.0",
         "539.0",
         "0.0",
         "4.0",
         "436.0",
         "91.0",
         "4.0",
         "2.0",
         "0.0",
         "1.0",
         "1.0",
         "241.0",
         "38.0",
         "180.0",
         "8.0",
         "2.0",
         "70.0",
         "70.0",
         "53.0",
         "17.0",
         "70.0",
         "0.0",
         "0.0",
         "26.0",
         "42.0",
         "1.0",
         "1.0",
         "0.0",
         "0.0",
         "0.0",
         "39.0",
         "4.0",
         "23.0",
         "3.0",
         "0.0",
         "1.0",
         "8.0",
         "1.0",
         "0.0",
         "0.0",
         "0.0",
         "0.0",
         "188.0",
         "351.0",
         "0.0",
         "9.0",
         "61.0",
         "0.0"
        ],
        [
         "18",
         "2018",
         "UNB",
         "2",
         "ARQUITETURA E URBANISMO",
         "Universidade",
         "Pública",
         "Arquitetura e urbanismo",
         "Engenharia, produção e construção",
         "Arquitetura e construção",
         "Arquitetura e planejamento urbano",
         "Bacharelado",
         "Sim",
         "Presencial",
         "Graduação",
         "72.0",
         "15.0",
         "15.0",
         "0.0",
         "0.0",
         "0.0",
         "72.0",
         "386.0",
         "258.0",
         "128.0",
         "0.0",
         "386.0",
         "3.0",
         "281.0",
         "77.0",
         "11.0",
         "6.0",
         "7.0",
         "1.0",
         "0.0",
         "173.0",
         "23.0",
         "141.0",
         "4.0",
         "2.0",
         "43.0",
         "48.0",
         "37.0",
         "11.0",
         "0.0",
         "48.0",
         "0.0",
         "15.0",
         "29.0",
         "2.0",
         "1.0",
         "1.0",
         "0.0",
         "0.0",
         "31.0",
         "6.0",
         "8.0",
         "1.0",
         "0.0",
         "2.0",
         "1.0",
         "0.0",
         "1.0",
         "0.0",
         "0.0",
         "0.0",
         "141.0",
         "245.0",
         "0.0",
         "11.0",
         "37.0",
         "0.0"
        ],
        [
         "19",
         "2018",
         "UNB",
         "2",
         "ARQUIVOLOGIA",
         "Universidade",
         "Pública",
         "Arquivologia",
         "Ciências sociais, comunicação e informação",
         "Comunicação e informação",
         "Ciência da informação e museologia",
         "Bacharelado",
         "Sim",
         "Presencial",
         "Graduação",
         "92.0",
         "20.0",
         "21.0",
         "0.0",
         "0.0",
         "0.0",
         "92.0",
         "350.0",
         "186.0",
         "164.0",
         "0.0",
         "350.0",
         "0.0",
         "234.0",
         "56.0",
         "32.0",
         "12.0",
         "13.0",
         "2.0",
         "1.0",
         "113.0",
         "41.0",
         "154.0",
         "4.0",
         "0.0",
         "38.0",
         "54.0",
         "26.0",
         "28.0",
         "0.0",
         "54.0",
         "0.0",
         "23.0",
         "15.0",
         "9.0",
         "6.0",
         "0.0",
         "1.0",
         "0.0",
         "21.0",
         "4.0",
         "27.0",
         "1.0",
         "0.0",
         "1.0",
         "0.0",
         "0.0",
         "2.0",
         "0.0",
         "0.0",
         "0.0",
         "197.0",
         "153.0",
         "0.0",
         "26.0",
         "28.0",
         "0.0"
        ]
       ],
       "shape": {
        "columns": 71,
        "rows": 5
       }
      },
      "text/html": [
       "<div>\n",
       "<style scoped>\n",
       "    .dataframe tbody tr th:only-of-type {\n",
       "        vertical-align: middle;\n",
       "    }\n",
       "\n",
       "    .dataframe tbody tr th {\n",
       "        vertical-align: top;\n",
       "    }\n",
       "\n",
       "    .dataframe thead th {\n",
       "        text-align: right;\n",
       "    }\n",
       "</style>\n",
       "<table border=\"1\" class=\"dataframe\">\n",
       "  <thead>\n",
       "    <tr style=\"text-align: right;\">\n",
       "      <th></th>\n",
       "      <th>NU_ANO_CENSO</th>\n",
       "      <th>SG_IES</th>\n",
       "      <th>CO_IES</th>\n",
       "      <th>NO_CURSO</th>\n",
       "      <th>TP_ORGANIZACAO_ACADEMICA</th>\n",
       "      <th>TP_REDE</th>\n",
       "      <th>NO_CINE_ROTULO</th>\n",
       "      <th>NO_CINE_AREA_GERAL</th>\n",
       "      <th>NO_CINE_AREA_ESPECIFICA</th>\n",
       "      <th>NO_CINE_AREA_DETALHADA</th>\n",
       "      <th>...</th>\n",
       "      <th>QT_MAT_DEFICIENTE</th>\n",
       "      <th>QT_CONC_DEFICIENTE</th>\n",
       "      <th>QT_MAT_FINANC</th>\n",
       "      <th>QT_CONC_FINANC</th>\n",
       "      <th>QT_MAT_PROCESCPUBLICA</th>\n",
       "      <th>QT_MAT_PROCESCPRIVADA</th>\n",
       "      <th>QT_MAT_PROCNAOINFORMADA</th>\n",
       "      <th>QT_CONC_PROCESCPUBLICA</th>\n",
       "      <th>QT_CONC_PROCESCPRIVADA</th>\n",
       "      <th>QT_CONC_PROCNAOINFORMADA</th>\n",
       "    </tr>\n",
       "  </thead>\n",
       "  <tbody>\n",
       "    <tr>\n",
       "      <th>15</th>\n",
       "      <td>2018</td>\n",
       "      <td>UNB</td>\n",
       "      <td>2</td>\n",
       "      <td>ADMINISTRAÇÃO</td>\n",
       "      <td>Universidade</td>\n",
       "      <td>Pública</td>\n",
       "      <td>Administração</td>\n",
       "      <td>Negócios, administração e direito</td>\n",
       "      <td>Negócios e administração</td>\n",
       "      <td>Gestão e administração</td>\n",
       "      <td>...</td>\n",
       "      <td>1.0</td>\n",
       "      <td>0.0</td>\n",
       "      <td>0.0</td>\n",
       "      <td>0.0</td>\n",
       "      <td>466.0</td>\n",
       "      <td>613.0</td>\n",
       "      <td>0.0</td>\n",
       "      <td>38.0</td>\n",
       "      <td>107.0</td>\n",
       "      <td>0.0</td>\n",
       "    </tr>\n",
       "    <tr>\n",
       "      <th>16</th>\n",
       "      <td>2018</td>\n",
       "      <td>UNB</td>\n",
       "      <td>2</td>\n",
       "      <td>AGRONOMIA</td>\n",
       "      <td>Universidade</td>\n",
       "      <td>Pública</td>\n",
       "      <td>Agronomia</td>\n",
       "      <td>Agricultura, silvicultura, pesca e veterinária</td>\n",
       "      <td>Agricultura</td>\n",
       "      <td>Produção agrícola, agropecuária e zootecnia</td>\n",
       "      <td>...</td>\n",
       "      <td>0.0</td>\n",
       "      <td>0.0</td>\n",
       "      <td>0.0</td>\n",
       "      <td>0.0</td>\n",
       "      <td>345.0</td>\n",
       "      <td>359.0</td>\n",
       "      <td>0.0</td>\n",
       "      <td>38.0</td>\n",
       "      <td>54.0</td>\n",
       "      <td>0.0</td>\n",
       "    </tr>\n",
       "    <tr>\n",
       "      <th>17</th>\n",
       "      <td>2018</td>\n",
       "      <td>UNB</td>\n",
       "      <td>2</td>\n",
       "      <td>ARQUITETURA E URBANISMO</td>\n",
       "      <td>Universidade</td>\n",
       "      <td>Pública</td>\n",
       "      <td>Arquitetura e urbanismo</td>\n",
       "      <td>Engenharia, produção e construção</td>\n",
       "      <td>Arquitetura e construção</td>\n",
       "      <td>Arquitetura e planejamento urbano</td>\n",
       "      <td>...</td>\n",
       "      <td>0.0</td>\n",
       "      <td>0.0</td>\n",
       "      <td>0.0</td>\n",
       "      <td>0.0</td>\n",
       "      <td>188.0</td>\n",
       "      <td>351.0</td>\n",
       "      <td>0.0</td>\n",
       "      <td>9.0</td>\n",
       "      <td>61.0</td>\n",
       "      <td>0.0</td>\n",
       "    </tr>\n",
       "    <tr>\n",
       "      <th>18</th>\n",
       "      <td>2018</td>\n",
       "      <td>UNB</td>\n",
       "      <td>2</td>\n",
       "      <td>ARQUITETURA E URBANISMO</td>\n",
       "      <td>Universidade</td>\n",
       "      <td>Pública</td>\n",
       "      <td>Arquitetura e urbanismo</td>\n",
       "      <td>Engenharia, produção e construção</td>\n",
       "      <td>Arquitetura e construção</td>\n",
       "      <td>Arquitetura e planejamento urbano</td>\n",
       "      <td>...</td>\n",
       "      <td>1.0</td>\n",
       "      <td>0.0</td>\n",
       "      <td>0.0</td>\n",
       "      <td>0.0</td>\n",
       "      <td>141.0</td>\n",
       "      <td>245.0</td>\n",
       "      <td>0.0</td>\n",
       "      <td>11.0</td>\n",
       "      <td>37.0</td>\n",
       "      <td>0.0</td>\n",
       "    </tr>\n",
       "    <tr>\n",
       "      <th>19</th>\n",
       "      <td>2018</td>\n",
       "      <td>UNB</td>\n",
       "      <td>2</td>\n",
       "      <td>ARQUIVOLOGIA</td>\n",
       "      <td>Universidade</td>\n",
       "      <td>Pública</td>\n",
       "      <td>Arquivologia</td>\n",
       "      <td>Ciências sociais, comunicação e informação</td>\n",
       "      <td>Comunicação e informação</td>\n",
       "      <td>Ciência da informação e museologia</td>\n",
       "      <td>...</td>\n",
       "      <td>2.0</td>\n",
       "      <td>0.0</td>\n",
       "      <td>0.0</td>\n",
       "      <td>0.0</td>\n",
       "      <td>197.0</td>\n",
       "      <td>153.0</td>\n",
       "      <td>0.0</td>\n",
       "      <td>26.0</td>\n",
       "      <td>28.0</td>\n",
       "      <td>0.0</td>\n",
       "    </tr>\n",
       "  </tbody>\n",
       "</table>\n",
       "<p>5 rows × 71 columns</p>\n",
       "</div>"
      ],
      "text/plain": [
       "    NU_ANO_CENSO SG_IES  CO_IES                 NO_CURSO  \\\n",
       "15          2018    UNB       2            ADMINISTRAÇÃO   \n",
       "16          2018    UNB       2                AGRONOMIA   \n",
       "17          2018    UNB       2  ARQUITETURA E URBANISMO   \n",
       "18          2018    UNB       2  ARQUITETURA E URBANISMO   \n",
       "19          2018    UNB       2             ARQUIVOLOGIA   \n",
       "\n",
       "   TP_ORGANIZACAO_ACADEMICA  TP_REDE           NO_CINE_ROTULO  \\\n",
       "15             Universidade  Pública            Administração   \n",
       "16             Universidade  Pública                Agronomia   \n",
       "17             Universidade  Pública  Arquitetura e urbanismo   \n",
       "18             Universidade  Pública  Arquitetura e urbanismo   \n",
       "19             Universidade  Pública             Arquivologia   \n",
       "\n",
       "                                NO_CINE_AREA_GERAL   NO_CINE_AREA_ESPECIFICA  \\\n",
       "15               Negócios, administração e direito  Negócios e administração   \n",
       "16  Agricultura, silvicultura, pesca e veterinária               Agricultura   \n",
       "17               Engenharia, produção e construção  Arquitetura e construção   \n",
       "18               Engenharia, produção e construção  Arquitetura e construção   \n",
       "19      Ciências sociais, comunicação e informação  Comunicação e informação   \n",
       "\n",
       "                         NO_CINE_AREA_DETALHADA  ... QT_MAT_DEFICIENTE  \\\n",
       "15                       Gestão e administração  ...               1.0   \n",
       "16  Produção agrícola, agropecuária e zootecnia  ...               0.0   \n",
       "17            Arquitetura e planejamento urbano  ...               0.0   \n",
       "18            Arquitetura e planejamento urbano  ...               1.0   \n",
       "19           Ciência da informação e museologia  ...               2.0   \n",
       "\n",
       "   QT_CONC_DEFICIENTE QT_MAT_FINANC QT_CONC_FINANC  QT_MAT_PROCESCPUBLICA  \\\n",
       "15                0.0           0.0            0.0                  466.0   \n",
       "16                0.0           0.0            0.0                  345.0   \n",
       "17                0.0           0.0            0.0                  188.0   \n",
       "18                0.0           0.0            0.0                  141.0   \n",
       "19                0.0           0.0            0.0                  197.0   \n",
       "\n",
       "    QT_MAT_PROCESCPRIVADA  QT_MAT_PROCNAOINFORMADA  QT_CONC_PROCESCPUBLICA  \\\n",
       "15                  613.0                      0.0                    38.0   \n",
       "16                  359.0                      0.0                    38.0   \n",
       "17                  351.0                      0.0                     9.0   \n",
       "18                  245.0                      0.0                    11.0   \n",
       "19                  153.0                      0.0                    26.0   \n",
       "\n",
       "    QT_CONC_PROCESCPRIVADA  QT_CONC_PROCNAOINFORMADA  \n",
       "15                   107.0                       0.0  \n",
       "16                    54.0                       0.0  \n",
       "17                    61.0                       0.0  \n",
       "18                    37.0                       0.0  \n",
       "19                    28.0                       0.0  \n",
       "\n",
       "[5 rows x 71 columns]"
      ]
     },
     "execution_count": 188,
     "metadata": {},
     "output_type": "execute_result"
    }
   ],
   "source": [
    "novo_dados_censo_DF.head()"
   ]
  },
  {
   "cell_type": "markdown",
   "metadata": {},
   "source": [
    "### Verificando se a transformação ocorreu como esperado."
   ]
  },
  {
   "cell_type": "code",
   "execution_count": 189,
   "metadata": {},
   "outputs": [
    {
     "name": "stdout",
     "output_type": "stream",
     "text": [
      "TP_ORGANIZACAO_ACADEMICA 0\n",
      "TP_REDE 0\n",
      "TP_GRAU_ACADEMICO 0\n",
      "IN_GRATUITO 0\n",
      "TP_MODALIDADE_ENSINO 0\n",
      "TP_NIVEL_ACADEMICO 0\n"
     ]
    }
   ],
   "source": [
    "for i in lista_categoricos:\n",
    "    print(f'{i}',novo_dados_censo_DF[i].isnull().sum())\n"
   ]
  },
  {
   "cell_type": "markdown",
   "metadata": {},
   "source": [
    "## Padronização de dados"
   ]
  },
  {
   "cell_type": "code",
   "execution_count": 190,
   "metadata": {},
   "outputs": [],
   "source": [
    "# Salvando DataFrame para fazer sua analise de padronização em outro notebook.\n",
    "novo_dados_censo_DF.to_csv(\"D:\\\\analise_de_Dados\\\\arquivos_Brutos\\\\Projeto_censo_educacao_superior\\\\Dados_para_normalizar_df_ed_sup.csv\",sep=';',index=False)"
   ]
  },
  {
   "cell_type": "markdown",
   "metadata": {},
   "source": [
    "### Normalizando dados, após análise bem detalhada."
   ]
  },
  {
   "cell_type": "code",
   "execution_count": 191,
   "metadata": {},
   "outputs": [],
   "source": [
    "import unicodedata # Serve para remover acentos e caracteres do texto\n",
    "\n",
    "def normalizar(texto):\n",
    "    if not isinstance(texto, str): # Verifica se o valor recebido é uma string, se  não for, transforma em uma.\n",
    "        return str(texto)\n",
    "    \n",
    "    texto = texto.upper().strip() # Transformamos o valor recebido em maisculo, e apagamos os espaços na frente e atrás\n",
    "    texto = unicodedata.normalize('NFKD', texto).encode('ASCII', 'ignore').decode('utf-8') #\n",
    "    return texto"
   ]
  },
  {
   "cell_type": "code",
   "execution_count": 192,
   "metadata": {},
   "outputs": [],
   "source": [
    "# Listas de palavras que significam as mesmas coisas, mas por alguns detalhes aparecem diferentes.\n",
    "col_cor_NO_CURSOS = {\n",
    "    'LETRAS - PORTUGUES': 'LETRAS - LINGUA PORTUGUESA',\n",
    "    'COMUNICACAO SOCIAL - JORNALISMO': 'JORNALISMO',\n",
    "    'CIENCIA ECONOMICA': 'CIENCIAS ECONOMICAS',\n",
    "    'GESTAO DE SERVICOS JURIDICOS': 'SERVICOS JURIDICOS'\n",
    "}\n",
    "\n",
    "col_cor_NO_CINE_ROTULO = {\n",
    "    'ENGENHARIA DE COMPUTACAO': ['ENGENHARIA', 'COMPUTACAO'],\n",
    "}\n"
   ]
  },
  {
   "cell_type": "code",
   "execution_count": 193,
   "metadata": {},
   "outputs": [],
   "source": [
    "# Selecionando colunas que são strings.\n",
    "colunas_objects = novo_dados_censo_DF.select_dtypes(include='object').columns\n",
    "dados_censo_padronizado = novo_dados_censo_DF\n",
    "\n",
    "# Transformando todas as variaveis categoricas em maisculas.\n",
    "\n",
    "\n",
    "for i in colunas_objects:\n",
    "    # Aplicando a função normalizar para cada dados de cada coluna de string.\n",
    "    dados_censo_padronizado[i] = novo_dados_censo_DF[i].apply(lambda x: normalizar(x))\n",
    "\n",
    "    # Essas colunas precisam de um tratamento especial, alem de se tornarem maisculas. \n",
    "    if i == 'NO_CURSO':\n",
    "        dados_censo_padronizado[i] = dados_censo_padronizado[i].apply(lambda x: col_cor_NO_CURSOS.get(x, x))\n",
    "    if i == 'NO_CINE_ROTULO':\n",
    "        dados_censo_padronizado[i] = dados_censo_padronizado[i].apply(lambda x: col_cor_NO_CINE_ROTULO.get(x, x))"
   ]
  },
  {
   "cell_type": "markdown",
   "metadata": {},
   "source": [
    "🛠️ O que foi feito na normalização dos dados\n",
    "Pra deixar os dados mais organizados e confiáveis, precisei mandar o DataFrame pra outro notebook e analisar com calma cada coluna de texto. O objetivo era encontrar valores que pareciam diferentes, mas na verdade representavam a mesma coisa.\n",
    "\n",
    "👀 O que eu encontrei:\n",
    "Tinha curso escrito em maiúsculo e minúsculo, e por isso apareciam como se fossem diferentes (ex: letras - português e LETRAS - PORTUGUÊS).\n",
    "\n",
    "Alguns nomes estavam com ou sem acentos, o que também causava duplicações.\n",
    "\n",
    "E outros estavam com pequenas variações, como:\n",
    "\n",
    "'CIENCIA ECONOMICA' e 'CIENCIAS ECONOMICAS' (só muda um \"S\")\n",
    "\n",
    "'COMUNICACAO SOCIAL - JORNALISMO' e 'JORNALISMO', que são a mesma coisa, só que escrito de formas diferentes.\n",
    "\n",
    "✂️ O que eu fiz:\n",
    "Criei uma função chamada normalizar que:\n",
    "\n",
    "Deixa tudo em maiúsculo\n",
    "\n",
    "Tira acentos\n",
    "\n",
    "Remove espaços desnecessários\n",
    "\n",
    "Depois disso, usei dois dicionários pra corrigir alguns nomes específicos que ainda estavam diferentes, mesmo depois da limpeza:\n",
    "\n",
    "col_cor_NO_CURSO = {\n",
    "    'LETRAS - PORTUGUES': 'LETRAS - LINGUA PORTUGUESA',\n",
    "    'COMUNICACAO SOCIAL - JORNALISMO': 'JORNALISMO',\n",
    "    'CIENCIA ECONOMICA': 'CIENCIAS ECONOMICAS',\n",
    "    'GESTAO DE SERVICOS JURIDICOS': 'SERVICOS JURIDICOS'\n",
    "}\n",
    "\n",
    "col_cor_NO_CINE_ROTULO = {\n",
    "    'ENGENHARIA DE COMPUTACAO': ['ENGENHARIA', 'COMPUTACAO']\n",
    "}\n",
    "\n",
    "✅ Resultado:\n",
    "Agora os cursos estão mais padronizados, com menos duplicidade e prontos pra análises mais confiáveis, como agrupamentos, gráficos e comparações."
   ]
  },
  {
   "cell_type": "code",
   "execution_count": 239,
   "metadata": {},
   "outputs": [],
   "source": [
    "# transformando ano.CO_IES para string(pois é categorico)\n",
    "dados_censo_padronizado['NU_ANO_CENSO'] = dados_censo_padronizado['NU_ANO_CENSO'].astype(str)\n",
    "dados_censo_padronizado['CO_IES'] = dados_censo_padronizado['CO_IES'].astype(str)"
   ]
  },
  {
   "cell_type": "code",
   "execution_count": 248,
   "metadata": {},
   "outputs": [],
   "source": [
    "# Foi verificado que não há inscrições nem vagas disponiveis para EAD, ESTRANHO. \n",
    "# foi decidido que será retirado.\n",
    "dados_censo_padronizado = dados_censo_padronizado.drop(columns=['QT_INSCRITO_TOTAL_EAD','QT_VG_TOTAL_EAD'])\n"
   ]
  },
  {
   "cell_type": "markdown",
   "metadata": {},
   "source": [
    "# Exploração e visualização de Dados."
   ]
  },
  {
   "cell_type": "code",
   "execution_count": 249,
   "metadata": {},
   "outputs": [],
   "source": [
    "# Visualizando as colunas númericas\n",
    "colunas_númericas = dados_censo_padronizado.select_dtypes(include=\"number\").columns\n",
    "# Visualizando as colunas Não númericas\n",
    "colunas_N_númericas = dados_censo_padronizado.select_dtypes(exclude=\"number\").columns\n"
   ]
  },
  {
   "cell_type": "code",
   "execution_count": null,
   "metadata": {},
   "outputs": [
    {
     "data": {
      "application/vnd.microsoft.datawrangler.viewer.v0+json": {
       "columns": [
        {
         "name": "index",
         "rawType": "object",
         "type": "string"
        },
        {
         "name": "QT_VG_TOTAL",
         "rawType": "float64",
         "type": "float"
        },
        {
         "name": "QT_ING_ENEM",
         "rawType": "float64",
         "type": "float"
        },
        {
         "name": "QT_ING_VESTIBULAR",
         "rawType": "float64",
         "type": "float"
        },
        {
         "name": "QT_VG_TOTAL_DIURNO",
         "rawType": "float64",
         "type": "float"
        },
        {
         "name": "QT_VG_TOTAL_NOTURNO",
         "rawType": "float64",
         "type": "float"
        },
        {
         "name": "QT_MAT",
         "rawType": "float64",
         "type": "float"
        },
        {
         "name": "QT_MAT_FEM",
         "rawType": "float64",
         "type": "float"
        },
        {
         "name": "QT_MAT_MASC",
         "rawType": "float64",
         "type": "float"
        },
        {
         "name": "QT_MAT_DIURNO",
         "rawType": "float64",
         "type": "float"
        },
        {
         "name": "QT_MAT_NOTURNO",
         "rawType": "float64",
         "type": "float"
        },
        {
         "name": "QT_MAT_0_17",
         "rawType": "float64",
         "type": "float"
        },
        {
         "name": "QT_MAT_18_24",
         "rawType": "float64",
         "type": "float"
        },
        {
         "name": "QT_MAT_25_29",
         "rawType": "float64",
         "type": "float"
        },
        {
         "name": "QT_MAT_30_34",
         "rawType": "float64",
         "type": "float"
        },
        {
         "name": "QT_MAT_35_39",
         "rawType": "float64",
         "type": "float"
        },
        {
         "name": "QT_MAT_40_49",
         "rawType": "float64",
         "type": "float"
        },
        {
         "name": "QT_MAT_50_59",
         "rawType": "float64",
         "type": "float"
        },
        {
         "name": "QT_MAT_60_MAIS",
         "rawType": "float64",
         "type": "float"
        },
        {
         "name": "QT_MAT_BRANCA",
         "rawType": "float64",
         "type": "float"
        },
        {
         "name": "QT_MAT_PRETA",
         "rawType": "float64",
         "type": "float"
        },
        {
         "name": "QT_MAT_PARDA",
         "rawType": "float64",
         "type": "float"
        },
        {
         "name": "QT_MAT_AMARELA",
         "rawType": "float64",
         "type": "float"
        },
        {
         "name": "QT_MAT_INDIGENA",
         "rawType": "float64",
         "type": "float"
        },
        {
         "name": "QT_MAT_CORND",
         "rawType": "float64",
         "type": "float"
        },
        {
         "name": "QT_CONC",
         "rawType": "float64",
         "type": "float"
        },
        {
         "name": "QT_CONC_FEM",
         "rawType": "float64",
         "type": "float"
        },
        {
         "name": "QT_CONC_MASC",
         "rawType": "float64",
         "type": "float"
        },
        {
         "name": "QT_CONC_DIURNO",
         "rawType": "float64",
         "type": "float"
        },
        {
         "name": "QT_CONC_NOTURNO",
         "rawType": "float64",
         "type": "float"
        },
        {
         "name": "QT_CONC_0_17",
         "rawType": "float64",
         "type": "float"
        },
        {
         "name": "QT_CONC_18_24",
         "rawType": "float64",
         "type": "float"
        },
        {
         "name": "QT_CONC_25_29",
         "rawType": "float64",
         "type": "float"
        },
        {
         "name": "QT_CONC_30_34",
         "rawType": "float64",
         "type": "float"
        },
        {
         "name": "QT_CONC_35_39",
         "rawType": "float64",
         "type": "float"
        },
        {
         "name": "QT_CONC_40_49",
         "rawType": "float64",
         "type": "float"
        },
        {
         "name": "QT_CONC_50_59",
         "rawType": "float64",
         "type": "float"
        },
        {
         "name": "QT_CONC_60_MAIS",
         "rawType": "float64",
         "type": "float"
        },
        {
         "name": "QT_CONC_BRANCA",
         "rawType": "float64",
         "type": "float"
        },
        {
         "name": "QT_CONC_PRETA",
         "rawType": "float64",
         "type": "float"
        },
        {
         "name": "QT_CONC_PARDA",
         "rawType": "float64",
         "type": "float"
        },
        {
         "name": "QT_CONC_AMARELA",
         "rawType": "float64",
         "type": "float"
        },
        {
         "name": "QT_CONC_INDIGENA",
         "rawType": "float64",
         "type": "float"
        },
        {
         "name": "QT_CONC_CORND",
         "rawType": "float64",
         "type": "float"
        },
        {
         "name": "QT_MAT_NACESTRANG",
         "rawType": "float64",
         "type": "float"
        },
        {
         "name": "QT_CONC_NACESTRANG",
         "rawType": "float64",
         "type": "float"
        },
        {
         "name": "QT_MAT_DEFICIENTE",
         "rawType": "float64",
         "type": "float"
        },
        {
         "name": "QT_CONC_DEFICIENTE",
         "rawType": "float64",
         "type": "float"
        },
        {
         "name": "QT_MAT_FINANC",
         "rawType": "float64",
         "type": "float"
        },
        {
         "name": "QT_CONC_FINANC",
         "rawType": "float64",
         "type": "float"
        },
        {
         "name": "QT_MAT_PROCESCPUBLICA",
         "rawType": "float64",
         "type": "float"
        },
        {
         "name": "QT_MAT_PROCESCPRIVADA",
         "rawType": "float64",
         "type": "float"
        },
        {
         "name": "QT_MAT_PROCNAOINFORMADA",
         "rawType": "float64",
         "type": "float"
        },
        {
         "name": "QT_CONC_PROCESCPUBLICA",
         "rawType": "float64",
         "type": "float"
        },
        {
         "name": "QT_CONC_PROCESCPRIVADA",
         "rawType": "float64",
         "type": "float"
        },
        {
         "name": "QT_CONC_PROCNAOINFORMADA",
         "rawType": "float64",
         "type": "float"
        }
       ],
       "ref": "5450cbc4-c611-449d-85ce-dc33b48b5164",
       "rows": [
        [
         "count",
         "2279.0",
         "2279.0",
         "2279.0",
         "2279.0",
         "2279.0",
         "2279.0",
         "2279.0",
         "2279.0",
         "2279.0",
         "2279.0",
         "2279.0",
         "2279.0",
         "2279.0",
         "2279.0",
         "2279.0",
         "2279.0",
         "2279.0",
         "2279.0",
         "2279.0",
         "2279.0",
         "2279.0",
         "2279.0",
         "2279.0",
         "2279.0",
         "2279.0",
         "2279.0",
         "2279.0",
         "2279.0",
         "2279.0",
         "2279.0",
         "2279.0",
         "2279.0",
         "2279.0",
         "2279.0",
         "2279.0",
         "2279.0",
         "2279.0",
         "2279.0",
         "2279.0",
         "2279.0",
         "2279.0",
         "2279.0",
         "2279.0",
         "2279.0",
         "2279.0",
         "2279.0",
         "2279.0",
         "2279.0",
         "2279.0",
         "2279.0",
         "2279.0",
         "2279.0",
         "2279.0",
         "2279.0",
         "2279.0"
        ],
        [
         "mean",
         "143.80561649846425",
         "22.897323387450637",
         "31.741992101799035",
         "79.70250109697236",
         "64.10311540149188",
         "235.8872312417727",
         "131.12198332602017",
         "104.76524791575252",
         "144.52391399736726",
         "72.46511627906976",
         "0.5708644142167617",
         "160.10399297937693",
         "37.262395787626154",
         "14.078104431768319",
         "9.312856516015797",
         "10.342694164107064",
         "3.448442299254059",
         "0.7678806494076349",
         "87.80166739798157",
         "18.353225098727513",
         "106.46687143483985",
         "3.907854322071084",
         "0.7134708205353225",
         "18.644142167617375",
         "37.07152259763054",
         "21.721369021500657",
         "15.350153576129882",
         "21.667836770513382",
         "12.328652917946467",
         "0.0",
         "19.07810443176832",
         "10.303641948222905",
         "2.9881526985519966",
         "1.8731899956121105",
         "2.0092145677928914",
         "0.6709082931110136",
         "0.1483106625713032",
         "14.30144800351031",
         "2.95129442738043",
         "17.748573935936815",
         "0.7547169811320755",
         "0.08556384379113646",
         "1.2299254058797717",
         "0.782799473453269",
         "0.11715664765247916",
         "1.650285212812637",
         "0.22290478279947346",
         "64.28565160157964",
         "12.795085563843791",
         "130.52566915313733",
         "105.35234752084247",
         "0.009214567792891619",
         "18.857832382623958",
         "18.21149627029399",
         "0.002193944712593243"
        ],
        [
         "std",
         "210.00827661279794",
         "33.879790423701486",
         "68.83209932781007",
         "124.38426097849992",
         "102.00789440752958",
         "351.3312372779886",
         "226.328783438488",
         "158.47738724656102",
         "258.9354976499631",
         "159.03083198222544",
         "2.0893460038792635",
         "239.28916934199663",
         "52.60989621433874",
         "26.195809044696627",
         "19.87595347328977",
         "24.59795558021036",
         "8.985592115077537",
         "2.500413386677132",
         "153.5114514917288",
         "28.230758120119013",
         "148.0146328586994",
         "7.362692462805916",
         "1.6645738691483276",
         "41.30380811862341",
         "64.24619071190602",
         "42.96622634555903",
         "26.251055227306196",
         "42.258836774443935",
         "30.31832026815724",
         "0.0",
         "33.53443643942068",
         "16.882669522014737",
         "6.621084000848757",
         "5.253384372948906",
         "5.602379656116804",
         "2.0465587317728784",
         "0.6179460569163914",
         "24.354258291654173",
         "5.427775997087232",
         "33.48595903555484",
         "1.7614403168041848",
         "0.3618767843484349",
         "3.4499760841582408",
         "1.9873928526851516",
         "0.4423375408369818",
         "4.286403628259921",
         "0.8197422372491439",
         "153.44535571620415",
         "37.811412871685704",
         "188.84831890739818",
         "211.33093445216915",
         "0.09557022175076996",
         "35.455718327406174",
         "37.24380474079618",
         "0.04679842206184888"
        ],
        [
         "min",
         "0.0",
         "0.0",
         "0.0",
         "0.0",
         "0.0",
         "0.0",
         "0.0",
         "0.0",
         "0.0",
         "0.0",
         "0.0",
         "0.0",
         "0.0",
         "0.0",
         "0.0",
         "0.0",
         "0.0",
         "0.0",
         "0.0",
         "0.0",
         "0.0",
         "0.0",
         "0.0",
         "0.0",
         "0.0",
         "0.0",
         "0.0",
         "0.0",
         "0.0",
         "0.0",
         "0.0",
         "0.0",
         "0.0",
         "0.0",
         "0.0",
         "0.0",
         "0.0",
         "0.0",
         "0.0",
         "0.0",
         "0.0",
         "0.0",
         "0.0",
         "0.0",
         "0.0",
         "0.0",
         "0.0",
         "0.0",
         "0.0",
         "0.0",
         "0.0",
         "0.0",
         "0.0",
         "0.0",
         "0.0"
        ],
        [
         "25%",
         "14.0",
         "1.0",
         "1.0",
         "0.0",
         "0.0",
         "51.0",
         "19.0",
         "19.0",
         "0.0",
         "0.0",
         "0.0",
         "22.0",
         "8.0",
         "3.0",
         "1.0",
         "1.0",
         "0.0",
         "0.0",
         "16.0",
         "3.0",
         "22.0",
         "0.0",
         "0.0",
         "0.0",
         "4.0",
         "1.0",
         "1.0",
         "0.0",
         "0.0",
         "0.0",
         "1.0",
         "1.0",
         "0.0",
         "0.0",
         "0.0",
         "0.0",
         "0.0",
         "1.0",
         "0.0",
         "2.0",
         "0.0",
         "0.0",
         "0.0",
         "0.0",
         "0.0",
         "0.0",
         "0.0",
         "0.0",
         "0.0",
         "26.0",
         "19.0",
         "0.0",
         "2.0",
         "1.0",
         "0.0"
        ],
        [
         "50%",
         "100.0",
         "16.0",
         "13.0",
         "60.0",
         "0.0",
         "153.0",
         "66.0",
         "61.0",
         "44.0",
         "0.0",
         "0.0",
         "100.0",
         "23.0",
         "7.0",
         "4.0",
         "4.0",
         "1.0",
         "0.0",
         "53.0",
         "11.0",
         "64.0",
         "2.0",
         "0.0",
         "7.0",
         "22.0",
         "10.0",
         "8.0",
         "2.0",
         "0.0",
         "0.0",
         "10.0",
         "6.0",
         "1.0",
         "0.0",
         "0.0",
         "0.0",
         "0.0",
         "8.0",
         "1.0",
         "10.0",
         "0.0",
         "0.0",
         "0.0",
         "0.0",
         "0.0",
         "0.0",
         "0.0",
         "4.0",
         "0.0",
         "73.0",
         "60.0",
         "0.0",
         "10.0",
         "9.0",
         "0.0"
        ],
        [
         "75%",
         "180.0",
         "31.0",
         "30.0",
         "120.0",
         "111.5",
         "319.0",
         "165.0",
         "132.0",
         "207.0",
         "72.0",
         "0.0",
         "226.0",
         "48.0",
         "15.0",
         "9.0",
         "10.0",
         "3.0",
         "1.0",
         "110.0",
         "24.0",
         "140.0",
         "5.0",
         "1.0",
         "24.0",
         "46.0",
         "26.0",
         "19.0",
         "30.0",
         "13.5",
         "0.0",
         "26.0",
         "13.0",
         "3.0",
         "2.0",
         "2.0",
         "1.0",
         "0.0",
         "18.0",
         "4.0",
         "21.0",
         "1.0",
         "0.0",
         "1.0",
         "1.0",
         "0.0",
         "2.0",
         "0.0",
         "64.0",
         "10.0",
         "170.5",
         "132.0",
         "0.0",
         "21.0",
         "23.0",
         "0.0"
        ],
        [
         "max",
         "2721.0",
         "707.0",
         "982.0",
         "1720.0",
         "1431.0",
         "5666.0",
         "3156.0",
         "2510.0",
         "3715.0",
         "1951.0",
         "51.0",
         "3921.0",
         "759.0",
         "343.0",
         "261.0",
         "273.0",
         "116.0",
         "30.0",
         "2913.0",
         "293.0",
         "1862.0",
         "103.0",
         "18.0",
         "741.0",
         "958.0",
         "579.0",
         "379.0",
         "594.0",
         "457.0",
         "0.0",
         "523.0",
         "256.0",
         "101.0",
         "100.0",
         "88.0",
         "26.0",
         "9.0",
         "393.0",
         "84.0",
         "506.0",
         "29.0",
         "6.0",
         "88.0",
         "28.0",
         "6.0",
         "74.0",
         "16.0",
         "2975.0",
         "800.0",
         "2078.0",
         "4235.0",
         "1.0",
         "625.0",
         "711.0",
         "1.0"
        ]
       ],
       "shape": {
        "columns": 55,
        "rows": 8
       }
      },
      "text/html": [
       "<div>\n",
       "<style scoped>\n",
       "    .dataframe tbody tr th:only-of-type {\n",
       "        vertical-align: middle;\n",
       "    }\n",
       "\n",
       "    .dataframe tbody tr th {\n",
       "        vertical-align: top;\n",
       "    }\n",
       "\n",
       "    .dataframe thead th {\n",
       "        text-align: right;\n",
       "    }\n",
       "</style>\n",
       "<table border=\"1\" class=\"dataframe\">\n",
       "  <thead>\n",
       "    <tr style=\"text-align: right;\">\n",
       "      <th></th>\n",
       "      <th>QT_VG_TOTAL</th>\n",
       "      <th>QT_ING_ENEM</th>\n",
       "      <th>QT_ING_VESTIBULAR</th>\n",
       "      <th>QT_VG_TOTAL_DIURNO</th>\n",
       "      <th>QT_VG_TOTAL_NOTURNO</th>\n",
       "      <th>QT_MAT</th>\n",
       "      <th>QT_MAT_FEM</th>\n",
       "      <th>QT_MAT_MASC</th>\n",
       "      <th>QT_MAT_DIURNO</th>\n",
       "      <th>QT_MAT_NOTURNO</th>\n",
       "      <th>...</th>\n",
       "      <th>QT_MAT_DEFICIENTE</th>\n",
       "      <th>QT_CONC_DEFICIENTE</th>\n",
       "      <th>QT_MAT_FINANC</th>\n",
       "      <th>QT_CONC_FINANC</th>\n",
       "      <th>QT_MAT_PROCESCPUBLICA</th>\n",
       "      <th>QT_MAT_PROCESCPRIVADA</th>\n",
       "      <th>QT_MAT_PROCNAOINFORMADA</th>\n",
       "      <th>QT_CONC_PROCESCPUBLICA</th>\n",
       "      <th>QT_CONC_PROCESCPRIVADA</th>\n",
       "      <th>QT_CONC_PROCNAOINFORMADA</th>\n",
       "    </tr>\n",
       "  </thead>\n",
       "  <tbody>\n",
       "    <tr>\n",
       "      <th>count</th>\n",
       "      <td>2279.000000</td>\n",
       "      <td>2279.000000</td>\n",
       "      <td>2279.000000</td>\n",
       "      <td>2279.000000</td>\n",
       "      <td>2279.000000</td>\n",
       "      <td>2279.000000</td>\n",
       "      <td>2279.000000</td>\n",
       "      <td>2279.000000</td>\n",
       "      <td>2279.000000</td>\n",
       "      <td>2279.000000</td>\n",
       "      <td>...</td>\n",
       "      <td>2279.000000</td>\n",
       "      <td>2279.000000</td>\n",
       "      <td>2279.000000</td>\n",
       "      <td>2279.000000</td>\n",
       "      <td>2279.000000</td>\n",
       "      <td>2279.000000</td>\n",
       "      <td>2279.000000</td>\n",
       "      <td>2279.000000</td>\n",
       "      <td>2279.000000</td>\n",
       "      <td>2279.000000</td>\n",
       "    </tr>\n",
       "    <tr>\n",
       "      <th>mean</th>\n",
       "      <td>143.805616</td>\n",
       "      <td>22.897323</td>\n",
       "      <td>31.741992</td>\n",
       "      <td>79.702501</td>\n",
       "      <td>64.103115</td>\n",
       "      <td>235.887231</td>\n",
       "      <td>131.121983</td>\n",
       "      <td>104.765248</td>\n",
       "      <td>144.523914</td>\n",
       "      <td>72.465116</td>\n",
       "      <td>...</td>\n",
       "      <td>1.650285</td>\n",
       "      <td>0.222905</td>\n",
       "      <td>64.285652</td>\n",
       "      <td>12.795086</td>\n",
       "      <td>130.525669</td>\n",
       "      <td>105.352348</td>\n",
       "      <td>0.009215</td>\n",
       "      <td>18.857832</td>\n",
       "      <td>18.211496</td>\n",
       "      <td>0.002194</td>\n",
       "    </tr>\n",
       "    <tr>\n",
       "      <th>std</th>\n",
       "      <td>210.008277</td>\n",
       "      <td>33.879790</td>\n",
       "      <td>68.832099</td>\n",
       "      <td>124.384261</td>\n",
       "      <td>102.007894</td>\n",
       "      <td>351.331237</td>\n",
       "      <td>226.328783</td>\n",
       "      <td>158.477387</td>\n",
       "      <td>258.935498</td>\n",
       "      <td>159.030832</td>\n",
       "      <td>...</td>\n",
       "      <td>4.286404</td>\n",
       "      <td>0.819742</td>\n",
       "      <td>153.445356</td>\n",
       "      <td>37.811413</td>\n",
       "      <td>188.848319</td>\n",
       "      <td>211.330934</td>\n",
       "      <td>0.095570</td>\n",
       "      <td>35.455718</td>\n",
       "      <td>37.243805</td>\n",
       "      <td>0.046798</td>\n",
       "    </tr>\n",
       "    <tr>\n",
       "      <th>min</th>\n",
       "      <td>0.000000</td>\n",
       "      <td>0.000000</td>\n",
       "      <td>0.000000</td>\n",
       "      <td>0.000000</td>\n",
       "      <td>0.000000</td>\n",
       "      <td>0.000000</td>\n",
       "      <td>0.000000</td>\n",
       "      <td>0.000000</td>\n",
       "      <td>0.000000</td>\n",
       "      <td>0.000000</td>\n",
       "      <td>...</td>\n",
       "      <td>0.000000</td>\n",
       "      <td>0.000000</td>\n",
       "      <td>0.000000</td>\n",
       "      <td>0.000000</td>\n",
       "      <td>0.000000</td>\n",
       "      <td>0.000000</td>\n",
       "      <td>0.000000</td>\n",
       "      <td>0.000000</td>\n",
       "      <td>0.000000</td>\n",
       "      <td>0.000000</td>\n",
       "    </tr>\n",
       "    <tr>\n",
       "      <th>25%</th>\n",
       "      <td>14.000000</td>\n",
       "      <td>1.000000</td>\n",
       "      <td>1.000000</td>\n",
       "      <td>0.000000</td>\n",
       "      <td>0.000000</td>\n",
       "      <td>51.000000</td>\n",
       "      <td>19.000000</td>\n",
       "      <td>19.000000</td>\n",
       "      <td>0.000000</td>\n",
       "      <td>0.000000</td>\n",
       "      <td>...</td>\n",
       "      <td>0.000000</td>\n",
       "      <td>0.000000</td>\n",
       "      <td>0.000000</td>\n",
       "      <td>0.000000</td>\n",
       "      <td>26.000000</td>\n",
       "      <td>19.000000</td>\n",
       "      <td>0.000000</td>\n",
       "      <td>2.000000</td>\n",
       "      <td>1.000000</td>\n",
       "      <td>0.000000</td>\n",
       "    </tr>\n",
       "    <tr>\n",
       "      <th>50%</th>\n",
       "      <td>100.000000</td>\n",
       "      <td>16.000000</td>\n",
       "      <td>13.000000</td>\n",
       "      <td>60.000000</td>\n",
       "      <td>0.000000</td>\n",
       "      <td>153.000000</td>\n",
       "      <td>66.000000</td>\n",
       "      <td>61.000000</td>\n",
       "      <td>44.000000</td>\n",
       "      <td>0.000000</td>\n",
       "      <td>...</td>\n",
       "      <td>0.000000</td>\n",
       "      <td>0.000000</td>\n",
       "      <td>4.000000</td>\n",
       "      <td>0.000000</td>\n",
       "      <td>73.000000</td>\n",
       "      <td>60.000000</td>\n",
       "      <td>0.000000</td>\n",
       "      <td>10.000000</td>\n",
       "      <td>9.000000</td>\n",
       "      <td>0.000000</td>\n",
       "    </tr>\n",
       "    <tr>\n",
       "      <th>75%</th>\n",
       "      <td>180.000000</td>\n",
       "      <td>31.000000</td>\n",
       "      <td>30.000000</td>\n",
       "      <td>120.000000</td>\n",
       "      <td>111.500000</td>\n",
       "      <td>319.000000</td>\n",
       "      <td>165.000000</td>\n",
       "      <td>132.000000</td>\n",
       "      <td>207.000000</td>\n",
       "      <td>72.000000</td>\n",
       "      <td>...</td>\n",
       "      <td>2.000000</td>\n",
       "      <td>0.000000</td>\n",
       "      <td>64.000000</td>\n",
       "      <td>10.000000</td>\n",
       "      <td>170.500000</td>\n",
       "      <td>132.000000</td>\n",
       "      <td>0.000000</td>\n",
       "      <td>21.000000</td>\n",
       "      <td>23.000000</td>\n",
       "      <td>0.000000</td>\n",
       "    </tr>\n",
       "    <tr>\n",
       "      <th>max</th>\n",
       "      <td>2721.000000</td>\n",
       "      <td>707.000000</td>\n",
       "      <td>982.000000</td>\n",
       "      <td>1720.000000</td>\n",
       "      <td>1431.000000</td>\n",
       "      <td>5666.000000</td>\n",
       "      <td>3156.000000</td>\n",
       "      <td>2510.000000</td>\n",
       "      <td>3715.000000</td>\n",
       "      <td>1951.000000</td>\n",
       "      <td>...</td>\n",
       "      <td>74.000000</td>\n",
       "      <td>16.000000</td>\n",
       "      <td>2975.000000</td>\n",
       "      <td>800.000000</td>\n",
       "      <td>2078.000000</td>\n",
       "      <td>4235.000000</td>\n",
       "      <td>1.000000</td>\n",
       "      <td>625.000000</td>\n",
       "      <td>711.000000</td>\n",
       "      <td>1.000000</td>\n",
       "    </tr>\n",
       "  </tbody>\n",
       "</table>\n",
       "<p>8 rows × 55 columns</p>\n",
       "</div>"
      ],
      "text/plain": [
       "       QT_VG_TOTAL  QT_ING_ENEM  QT_ING_VESTIBULAR  QT_VG_TOTAL_DIURNO  \\\n",
       "count  2279.000000  2279.000000        2279.000000         2279.000000   \n",
       "mean    143.805616    22.897323          31.741992           79.702501   \n",
       "std     210.008277    33.879790          68.832099          124.384261   \n",
       "min       0.000000     0.000000           0.000000            0.000000   \n",
       "25%      14.000000     1.000000           1.000000            0.000000   \n",
       "50%     100.000000    16.000000          13.000000           60.000000   \n",
       "75%     180.000000    31.000000          30.000000          120.000000   \n",
       "max    2721.000000   707.000000         982.000000         1720.000000   \n",
       "\n",
       "       QT_VG_TOTAL_NOTURNO       QT_MAT   QT_MAT_FEM  QT_MAT_MASC  \\\n",
       "count          2279.000000  2279.000000  2279.000000  2279.000000   \n",
       "mean             64.103115   235.887231   131.121983   104.765248   \n",
       "std             102.007894   351.331237   226.328783   158.477387   \n",
       "min               0.000000     0.000000     0.000000     0.000000   \n",
       "25%               0.000000    51.000000    19.000000    19.000000   \n",
       "50%               0.000000   153.000000    66.000000    61.000000   \n",
       "75%             111.500000   319.000000   165.000000   132.000000   \n",
       "max            1431.000000  5666.000000  3156.000000  2510.000000   \n",
       "\n",
       "       QT_MAT_DIURNO  QT_MAT_NOTURNO  ...  QT_MAT_DEFICIENTE  \\\n",
       "count    2279.000000     2279.000000  ...        2279.000000   \n",
       "mean      144.523914       72.465116  ...           1.650285   \n",
       "std       258.935498      159.030832  ...           4.286404   \n",
       "min         0.000000        0.000000  ...           0.000000   \n",
       "25%         0.000000        0.000000  ...           0.000000   \n",
       "50%        44.000000        0.000000  ...           0.000000   \n",
       "75%       207.000000       72.000000  ...           2.000000   \n",
       "max      3715.000000     1951.000000  ...          74.000000   \n",
       "\n",
       "       QT_CONC_DEFICIENTE  QT_MAT_FINANC  QT_CONC_FINANC  \\\n",
       "count         2279.000000    2279.000000     2279.000000   \n",
       "mean             0.222905      64.285652       12.795086   \n",
       "std              0.819742     153.445356       37.811413   \n",
       "min              0.000000       0.000000        0.000000   \n",
       "25%              0.000000       0.000000        0.000000   \n",
       "50%              0.000000       4.000000        0.000000   \n",
       "75%              0.000000      64.000000       10.000000   \n",
       "max             16.000000    2975.000000      800.000000   \n",
       "\n",
       "       QT_MAT_PROCESCPUBLICA  QT_MAT_PROCESCPRIVADA  QT_MAT_PROCNAOINFORMADA  \\\n",
       "count            2279.000000            2279.000000              2279.000000   \n",
       "mean              130.525669             105.352348                 0.009215   \n",
       "std               188.848319             211.330934                 0.095570   \n",
       "min                 0.000000               0.000000                 0.000000   \n",
       "25%                26.000000              19.000000                 0.000000   \n",
       "50%                73.000000              60.000000                 0.000000   \n",
       "75%               170.500000             132.000000                 0.000000   \n",
       "max              2078.000000            4235.000000                 1.000000   \n",
       "\n",
       "       QT_CONC_PROCESCPUBLICA  QT_CONC_PROCESCPRIVADA  \\\n",
       "count             2279.000000             2279.000000   \n",
       "mean                18.857832               18.211496   \n",
       "std                 35.455718               37.243805   \n",
       "min                  0.000000                0.000000   \n",
       "25%                  2.000000                1.000000   \n",
       "50%                 10.000000                9.000000   \n",
       "75%                 21.000000               23.000000   \n",
       "max                625.000000              711.000000   \n",
       "\n",
       "       QT_CONC_PROCNAOINFORMADA  \n",
       "count               2279.000000  \n",
       "mean                   0.002194  \n",
       "std                    0.046798  \n",
       "min                    0.000000  \n",
       "25%                    0.000000  \n",
       "50%                    0.000000  \n",
       "75%                    0.000000  \n",
       "max                    1.000000  \n",
       "\n",
       "[8 rows x 55 columns]"
      ]
     },
     "execution_count": 250,
     "metadata": {},
     "output_type": "execute_result"
    }
   ],
   "source": [
    "# Visualização rápida das medidas estatisticas\n",
    "dados_censo_padronizado[colunas_númericas].describe()"
   ]
  },
  {
   "cell_type": "markdown",
   "metadata": {},
   "source": [
    "## 1. Quantos alunos ingressaram e quantos se formaram?"
   ]
  },
  {
   "cell_type": "code",
   "execution_count": 294,
   "metadata": {},
   "outputs": [
    {
     "data": {
      "text/plain": [
       "<matplotlib.legend.Legend at 0x15208e8b9d0>"
      ]
     },
     "execution_count": 294,
     "metadata": {},
     "output_type": "execute_result"
    },
    {
     "data": {
      "image/png": "[encoded data removed]",
      "text/plain": [
       "<Figure size 1500x400 with 3 Axes>"
      ]
     },
     "metadata": {},
     "output_type": "display_data"
    }
   ],
   "source": [
    "fig,ax = plt.subplots(1,3,figsize=(15,4))\n",
    "\n",
    "\n",
    "ax[0].bar(dados_censo_padronizado['NU_ANO_CENSO'],dados_censo_padronizado['QT_MAT'],label='Matriculados')\n",
    "ax[0].bar(dados_censo_padronizado['NU_ANO_CENSO'],dados_censo_padronizado['QT_CONC'],label='Concluentes')\n",
    "ax[0].set_title(\"Matriculados & Concluintes - Geral\")\n",
    "ax[0].legend()\n",
    "\n",
    "ax[1].bar(dados_censo_padronizado['NU_ANO_CENSO'],dados_censo_padronizado['QT_MAT_MASC'],label='Matriculados_Masc')\n",
    "ax[1].bar(dados_censo_padronizado['NU_ANO_CENSO'],dados_censo_padronizado['QT_CONC_MASC'],label='Concluentes_Masc')\n",
    "ax[1].set_title(\"Matriculados & Concluintes - Masculino\")\n",
    "ax[1].legend()\n",
    "\n",
    "ax[2].bar(dados_censo_padronizado['NU_ANO_CENSO'],dados_censo_padronizado['QT_MAT_FEM'],label='Matriculados_FEM')\n",
    "ax[2].bar(dados_censo_padronizado['NU_ANO_CENSO'],dados_censo_padronizado['QT_CONC_FEM'],label='Concluentes_FEM')\n",
    "ax[2].set_title(\"Matriculados & Concluintes - Feminino\")\n",
    "ax[2].legend()"
   ]
  },
  {
   "cell_type": "code",
   "execution_count": null,
   "metadata": {},
   "outputs": [
    {
     "data": {
      "text/plain": [
       "<matplotlib.legend.Legend at 0x15265390910>"
      ]
     },
     "execution_count": 300,
     "metadata": {},
     "output_type": "execute_result"
    },
    {
     "data": {
      "image/png": "[encoded data removed]",
      "text/plain": [
       "<Figure size 1500x800 with 6 Axes>"
      ]
     },
     "metadata": {},
     "output_type": "display_data"
    }
   ],
   "source": [
    "fig,ax = plt.subplots(2,3,figsize=(15,8))\n",
    "\n",
    "\n",
    "ax[0][0].bar(dados_censo_padronizado['NU_ANO_CENSO'],dados_censo_padronizado['QT_MAT_BRANCA'],label='Matriculados')\n",
    "ax[0][0].bar(dados_censo_padronizado['NU_ANO_CENSO'],dados_censo_padronizado['QT_CONC_BRANCA'],label='Concluentes')\n",
    "ax[0][0].set_yticks([0,500,1000,1500,2000,2500,3000])\n",
    "ax[0][0].set_title(\"Matriculados & Concluintes - BRANCA\")\n",
    "ax[0][0].legend()\n",
    "\n",
    "ax[0][1].bar(dados_censo_padronizado['NU_ANO_CENSO'],dados_censo_padronizado['QT_MAT_PRETA'],label='Matriculados')\n",
    "ax[0][1].bar(dados_censo_padronizado['NU_ANO_CENSO'],dados_censo_padronizado['QT_CONC_PRETA'],label='Concluentes')\n",
    "ax[0][1].set_yticks([0,500,1000,1500,2000,2500,3000])\n",
    "ax[0][1].set_title(\"Matriculados & Concluintes - PRETA\")\n",
    "ax[0][1].legend()\n",
    "\n",
    "ax[0][2].bar(dados_censo_padronizado['NU_ANO_CENSO'],dados_censo_padronizado['QT_MAT_PARDA'],label='Matriculados')\n",
    "ax[0][2].bar(dados_censo_padronizado['NU_ANO_CENSO'],dados_censo_padronizado['QT_CONC_PARDA'],label='Concluentes')\n",
    "ax[0][2].set_yticks([0,500,1000,1500,2000,2500,3000])\n",
    "ax[0][2].set_title(\"Matriculados & Concluintes - PARDA\")\n",
    "ax[0][2].legend()\n",
    "\n",
    "ax[1][0].bar(dados_censo_padronizado['NU_ANO_CENSO'],dados_censo_padronizado['QT_MAT_AMARELA'],label='Matriculados')\n",
    "ax[1][0].bar(dados_censo_padronizado['NU_ANO_CENSO'],dados_censo_padronizado['QT_CONC_AMARELA'],label='Concluentes')\n",
    "ax[1][0].set_yticks([0,500,1000,1500,2000,2500,3000])\n",
    "ax[1][0].set_title(\"Matriculados & Concluintes - AMARELA\")\n",
    "ax[1][0].legend()\n",
    "\n",
    "ax[1][1].bar(dados_censo_padronizado['NU_ANO_CENSO'],dados_censo_padronizado['QT_MAT_INDIGENA'],label='Matriculados')\n",
    "ax[1][1].bar(dados_censo_padronizado['NU_ANO_CENSO'],dados_censo_padronizado['QT_CONC_INDIGENA'],label='Concluentes')\n",
    "ax[1][1].set_yticks([0,500,1000,1500,2000,2500,3000])\n",
    "ax[1][1].set_title(\"Matriculados & Concluintes - INDIGENA\")\n",
    "ax[1][1].legend()"
   ]
  },
  {
   "cell_type": "code",
   "execution_count": null,
   "metadata": {},
   "outputs": [],
   "source": []
  },
  {
   "cell_type": "code",
   "execution_count": null,
   "metadata": {},
   "outputs": [],
   "source": []
  },
  {
   "cell_type": "markdown",
   "metadata": {},
   "source": [
    "def grafico_box_plot(dados,colunas):\n",
    "    fig,ax = plt.subplots(6,10,figsize=(20,12))\n",
    "\n",
    "    for i in range(6):\n",
    "        for j in range(10):\n",
    "            for coluna in colunas:\n",
    "                ax[i][j].boxplot(dados[coluna])\n",
    "\n",
    "grafico_box_plot(dados_censo_padronizado,colunas_númericas)"
   ]
  },
  {
   "cell_type": "code",
   "execution_count": null,
   "metadata": {},
   "outputs": [],
   "source": []
  },
  {
   "cell_type": "code",
   "execution_count": null,
   "metadata": {},
   "outputs": [],
   "source": []
  },
  {
   "cell_type": "code",
   "execution_count": null,
   "metadata": {},
   "outputs": [],
   "source": []
  },
  {
   "cell_type": "code",
   "execution_count": null,
   "metadata": {},
   "outputs": [],
   "source": []
  },
  {
   "cell_type": "code",
   "execution_count": null,
   "metadata": {},
   "outputs": [],
   "source": []
  },
  {
   "cell_type": "code",
   "execution_count": null,
   "metadata": {},
   "outputs": [],
   "source": []
  }
 ],
 "metadata": {
  "kernelspec": {
   "display_name": "Python 3",
   "language": "python",
   "name": "python3"
  },
  "language_info": {
   "codemirror_mode": {
    "name": "ipython",
    "version": 3
   },
   "file_extension": ".py",
   "mimetype": "text/x-python",
   "name": "python",
   "nbconvert_exporter": "python",
   "pygments_lexer": "ipython3",
   "version": "3.13.1"
  }
 },
 "nbformat": 4,
 "nbformat_minor": 2
}
