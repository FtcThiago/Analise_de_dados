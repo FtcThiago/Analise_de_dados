{
 "cells": [
  {
   "cell_type": "markdown",
   "metadata": {},
   "source": [
    "## Importações de Bibliotecas"
   ]
  },
  {
   "cell_type": "code",
   "execution_count": 56,
   "metadata": {},
   "outputs": [],
   "source": [
    "# Biblioteca para analise e importações dos arquivos \n",
    "import pandas as pd"
   ]
  },
  {
   "cell_type": "markdown",
   "metadata": {},
   "source": [
    "### Fazendo conexão com o DRIVE. "
   ]
  },
  {
   "cell_type": "code",
   "execution_count": null,
   "metadata": {},
   "outputs": [],
   "source": [
    "#teste teste\n",
    "https://github.com/FtcThiago/Analise_de_dados/blob/main/Analise_de_dados_Python/Projeto_censo_educacao_superior.ipynb\n",
    "origin  https://github.com/FtcThiago/Analise_de_dados.git (fetch)\n",
    "origin  https://github.com/FtcThiago/Analise_de_dados.git (push)"
   ]
  },
  {
   "cell_type": "markdown",
   "metadata": {},
   "source": [
    "### 1. Definição do Problema"
   ]
  },
  {
   "cell_type": "markdown",
   "metadata": {},
   "source": [
    "# Taxas de Desistência no Ensino Superior do Distrito Federal\n",
    "Análise das Taxas de Desistência no Ensino Superior do Distrito Federal: Um Estudo nas Dez Instituições Mais Bem Avaliadas pelo MEC em 2021\n",
    "\n",
    "## Objetivo da Análise\n",
    "Este estudo tem como objetivo analisar e compreender os fatores associados às taxas de desistência em cursos de graduação no Distrito Federal. A investigação será conduzida com base em dados públicos extraídos de plataformas governamentais, que abrangem informações sobre instituições de ensino superior públicas e privadas. Para fins de recorte metodológico, a amostra será composta pelas dez instituições de ensino superior do DF que obtiveram as melhores avaliações segundo o Índice Geral de Cursos (IGC) do Ministério da Educação (MEC) no ano de 2021.\n",
    "\n",
    "## Justificativa\n",
    "A escolha por focar apenas nas dez instituições de ensino superior mais bem avaliadas do Distrito Federal tem como objetivo garantir maior clareza e confiabilidade na análise. Essas instituições costumam ter estruturas mais organizadas e sistemas de gestão mais transparentes, o que facilita o acesso a dados mais completos e padronizados. Além disso, ao analisar faculdades com bom desempenho, buscamos entender se a evasão estudantil também ocorre em contextos considerados positivos — o que pode apontar para questões mais amplas e estruturais no ensino superior brasileiro. Essa delimitação também está relacionada ao fato de este ser um trabalho de início de graduação, o que exige um recorte de dados menor e mais viável, sem a necessidade de incluir todas as instituições do DF ou de outros estados do país.\n",
    "\n",
    "\n"
   ]
  },
  {
   "cell_type": "markdown",
   "metadata": {},
   "source": [
    "### 2. Coleta de Dados"
   ]
  },
  {
   "cell_type": "markdown",
   "metadata": {},
   "source": [
    "### Criando função para otimizara leitura dos arquivos."
   ]
  },
  {
   "cell_type": "code",
   "execution_count": 57,
   "metadata": {},
   "outputs": [],
   "source": [
    "def importando_dados(lista_caminho:list[str]):\n",
    "\n",
    "    # Data frame criado para poder guardar a junção de todos os DataFrames. \n",
    "    juntando_dataFrames = pd.DataFrame()\n",
    "\n",
    "    # Laço for para que ocorra a leitura de todos os arquivos csv de acordo com seus caminhos(caminho local)\n",
    "    for arquivo in lista_caminho:\n",
    "\n",
    "        # Listar todas as colunas no arquivo, afim de não baixar todo o arquivo antes de excluir as colunas rejeitadas.\n",
    "        todas_colunas = pd.read_csv(arquivo, nrows=0,encoding=\"ISO-8859-1\", sep=';').columns.tolist()\n",
    "\n",
    "        # Definir as colunas que você quer excluir\n",
    "        # Essas colunas  estão sendo tiradas por se tratar apenas de dados do distrito_Federal, sem necessidade da permanencia de informações implicitamente informadas.\n",
    "        colunas_para_excluir = ['NO_REGIAO', 'CO_REGIAO','NO_UF','CO_UF','CO_MUNICIPIO','NO_MUNICIPIO','IN_CAPITAL']\n",
    "\n",
    "        # Listar as colunas que você deseja manter\n",
    "        colunas_para_manter = [coluna for coluna in todas_colunas if coluna not in colunas_para_excluir]\n",
    "\n",
    "        # Carregar o arquivo com apenas as colunas que você quer manter\n",
    "        df = pd.read_csv(arquivo, usecols=colunas_para_manter,encoding=\"ISO-8859-1\", sep=';')\n",
    "\n",
    "        # Utilizando do groupby para que somente as informações referente ao Distrito-Federal(DF) permaneçam.\n",
    "        dados_df = df.groupby(['SG_UF'] ).get_group('DF')\n",
    "\n",
    "        # Juntando os novos DataFrames com os anteriores. \n",
    "        juntando_dataFrames = pd.concat([dados_df,juntando_dataFrames],axis=0)\n",
    "\n",
    "    return juntando_dataFrames"
   ]
  },
  {
   "cell_type": "code",
   "execution_count": 58,
   "metadata": {},
   "outputs": [],
   "source": [
    "# Criando lista de caminhos onde os arquivos estão sendo mantidos.\n",
    "caminhos_lista = [\n",
    "    \"D:\\\\analise_de_Dados\\\\arquivos_Brutos\\\\Projeto_censo_educacao_superior\\\\Microdados do Censo da Educação Superior 2023\\\\dados\\\\MICRODADOS_CADASTRO_CURSOS_2023.CSV\",\n",
    "    \"D:\\\\analise_de_Dados\\\\arquivos_Brutos\\\\Projeto_censo_educacao_superior\\\\Microdados do Censo da Educação Superior 2022\\\\dados\\\\MICRODADOS_CADASTRO_CURSOS_2022.CSV\",\n",
    "    \"D:\\\\analise_de_Dados\\\\arquivos_Brutos\\\\Projeto_censo_educacao_superior\\\\Microdados do Censo da Educação Superior 2021\\\\dados\\\\MICRODADOS_CADASTRO_CURSOS_2021.CSV\",\n",
    "    \"D:\\\\analise_de_Dados\\\\arquivos_Brutos\\\\Projeto_censo_educacao_superior\\\\Microdados do Censo da Educação Superior 2020\\\\dados\\\\MICRODADOS_CADASTRO_CURSOS_2020.CSV\",\n",
    "    \"D:\\\\analise_de_Dados\\\\arquivos_Brutos\\\\Projeto_censo_educacao_superior\\\\Microdados do Censo da Educação Superior 2019\\\\dados\\\\MICRODADOS_CADASTRO_CURSOS_2019.CSV\",\n",
    "    \"D:\\\\analise_de_Dados\\\\arquivos_Brutos\\\\Projeto_censo_educacao_superior\\\\Microdados do Censo da Educação Superior 2018\\\\dados\\\\MICRODADOS_CADASTRO_CURSOS_2018.CSV\",\n",
    "    \n",
    "]\n"
   ]
  },
  {
   "cell_type": "code",
   "execution_count": 59,
   "metadata": {},
   "outputs": [
    {
     "name": "stderr",
     "output_type": "stream",
     "text": [
      "C:\\Users\\Thiago\\AppData\\Local\\Temp\\ipykernel_14380\\288032912.py:20: DtypeWarning: Columns (4) have mixed types. Specify dtype option on import or set low_memory=False.\n",
      "  df = pd.read_csv(arquivo, usecols=colunas_para_manter,encoding=\"ISO-8859-1\", sep=';')\n",
      "C:\\Users\\Thiago\\AppData\\Local\\Temp\\ipykernel_14380\\288032912.py:23: FutureWarning: When grouping with a length-1 list-like, you will need to pass a length-1 tuple to get_group in a future version of pandas. Pass `(name,)` instead of `name` to silence this warning.\n",
      "  dados_df = df.groupby(['SG_UF'] ).get_group('DF')\n",
      "C:\\Users\\Thiago\\AppData\\Local\\Temp\\ipykernel_14380\\288032912.py:20: DtypeWarning: Columns (4) have mixed types. Specify dtype option on import or set low_memory=False.\n",
      "  df = pd.read_csv(arquivo, usecols=colunas_para_manter,encoding=\"ISO-8859-1\", sep=';')\n",
      "C:\\Users\\Thiago\\AppData\\Local\\Temp\\ipykernel_14380\\288032912.py:23: FutureWarning: When grouping with a length-1 list-like, you will need to pass a length-1 tuple to get_group in a future version of pandas. Pass `(name,)` instead of `name` to silence this warning.\n",
      "  dados_df = df.groupby(['SG_UF'] ).get_group('DF')\n",
      "C:\\Users\\Thiago\\AppData\\Local\\Temp\\ipykernel_14380\\288032912.py:20: DtypeWarning: Columns (4) have mixed types. Specify dtype option on import or set low_memory=False.\n",
      "  df = pd.read_csv(arquivo, usecols=colunas_para_manter,encoding=\"ISO-8859-1\", sep=';')\n",
      "C:\\Users\\Thiago\\AppData\\Local\\Temp\\ipykernel_14380\\288032912.py:23: FutureWarning: When grouping with a length-1 list-like, you will need to pass a length-1 tuple to get_group in a future version of pandas. Pass `(name,)` instead of `name` to silence this warning.\n",
      "  dados_df = df.groupby(['SG_UF'] ).get_group('DF')\n",
      "C:\\Users\\Thiago\\AppData\\Local\\Temp\\ipykernel_14380\\288032912.py:20: DtypeWarning: Columns (4) have mixed types. Specify dtype option on import or set low_memory=False.\n",
      "  df = pd.read_csv(arquivo, usecols=colunas_para_manter,encoding=\"ISO-8859-1\", sep=';')\n",
      "C:\\Users\\Thiago\\AppData\\Local\\Temp\\ipykernel_14380\\288032912.py:23: FutureWarning: When grouping with a length-1 list-like, you will need to pass a length-1 tuple to get_group in a future version of pandas. Pass `(name,)` instead of `name` to silence this warning.\n",
      "  dados_df = df.groupby(['SG_UF'] ).get_group('DF')\n",
      "C:\\Users\\Thiago\\AppData\\Local\\Temp\\ipykernel_14380\\288032912.py:20: DtypeWarning: Columns (4) have mixed types. Specify dtype option on import or set low_memory=False.\n",
      "  df = pd.read_csv(arquivo, usecols=colunas_para_manter,encoding=\"ISO-8859-1\", sep=';')\n",
      "C:\\Users\\Thiago\\AppData\\Local\\Temp\\ipykernel_14380\\288032912.py:23: FutureWarning: When grouping with a length-1 list-like, you will need to pass a length-1 tuple to get_group in a future version of pandas. Pass `(name,)` instead of `name` to silence this warning.\n",
      "  dados_df = df.groupby(['SG_UF'] ).get_group('DF')\n",
      "C:\\Users\\Thiago\\AppData\\Local\\Temp\\ipykernel_14380\\288032912.py:20: DtypeWarning: Columns (4) have mixed types. Specify dtype option on import or set low_memory=False.\n",
      "  df = pd.read_csv(arquivo, usecols=colunas_para_manter,encoding=\"ISO-8859-1\", sep=';')\n",
      "C:\\Users\\Thiago\\AppData\\Local\\Temp\\ipykernel_14380\\288032912.py:23: FutureWarning: When grouping with a length-1 list-like, you will need to pass a length-1 tuple to get_group in a future version of pandas. Pass `(name,)` instead of `name` to silence this warning.\n",
      "  dados_df = df.groupby(['SG_UF'] ).get_group('DF')\n"
     ]
    }
   ],
   "source": [
    "# Criando o DataFrame para receber o arquivo somente com os Dados do Distrito-Federal( DF)\n",
    "dados_censo_DF = importando_dados(caminhos_lista).reset_index(drop=True)"
   ]
  },
  {
   "cell_type": "code",
   "execution_count": null,
   "metadata": {},
   "outputs": [],
   "source": [
    "# Importando somente os dados sigla da universidade, para ter os nomes das mesma para melhor identificação\n",
    "df_cadastro_ies = pd.read_csv(\"D:\\\\analise_de_Dados\\\\arquivos_Brutos\\\\Projeto_censo_educacao_superior\\\\Microdados do Censo da Educação Superior 2023\\\\dados\\\\MICRODADOS_ED_SUP_IES_2023.CSV\",sep=';',encoding=\"ISO-8859-1\",usecols=['CO_IES','SG_IES'])"
   ]
  },
  {
   "cell_type": "code",
   "execution_count": null,
   "metadata": {},
   "outputs": [],
   "source": [
    "# Juntando Dataframe com os dados das instituições junto com suas respectivas Siglas.\n",
    "dados_censo_DF_SGIS = pd.merge(dados_censo_DF,df_cadastro_ies,on='CO_IES',how='inner')"
   ]
  },
  {
   "cell_type": "code",
   "execution_count": 74,
   "metadata": {},
   "outputs": [
    {
     "data": {
      "text/html": [
       "<div>\n",
       "<style scoped>\n",
       "    .dataframe tbody tr th:only-of-type {\n",
       "        vertical-align: middle;\n",
       "    }\n",
       "\n",
       "    .dataframe tbody tr th {\n",
       "        vertical-align: top;\n",
       "    }\n",
       "\n",
       "    .dataframe thead th {\n",
       "        text-align: right;\n",
       "    }\n",
       "</style>\n",
       "<table border=\"1\" class=\"dataframe\">\n",
       "  <thead>\n",
       "    <tr style=\"text-align: right;\">\n",
       "      <th></th>\n",
       "      <th>NU_ANO_CENSO</th>\n",
       "      <th>SG_UF</th>\n",
       "      <th>TP_DIMENSAO</th>\n",
       "      <th>TP_ORGANIZACAO_ACADEMICA</th>\n",
       "      <th>TP_CATEGORIA_ADMINISTRATIVA</th>\n",
       "      <th>TP_REDE</th>\n",
       "      <th>CO_IES</th>\n",
       "      <th>NO_CURSO</th>\n",
       "      <th>CO_CURSO</th>\n",
       "      <th>NO_CINE_ROTULO</th>\n",
       "      <th>...</th>\n",
       "      <th>QT_MAT_ATIV_EXTRACURRICULAR</th>\n",
       "      <th>QT_CONC_ATIV_EXTRACURRICULAR</th>\n",
       "      <th>QT_MOB_ACADEMICA</th>\n",
       "      <th>QT_ING_MOB_ACADEMICA</th>\n",
       "      <th>QT_MAT_MOB_ACADEMICA</th>\n",
       "      <th>QT_CONC_MOB_ACADEMICA</th>\n",
       "      <th>CO_CINE_ROTULO2</th>\n",
       "      <th>IN_COMUNITARIA</th>\n",
       "      <th>IN_CONFESSIONAL</th>\n",
       "      <th>SG_IES</th>\n",
       "    </tr>\n",
       "  </thead>\n",
       "  <tbody>\n",
       "    <tr>\n",
       "      <th>0</th>\n",
       "      <td>2018</td>\n",
       "      <td>DF</td>\n",
       "      <td>1</td>\n",
       "      <td>1</td>\n",
       "      <td>1</td>\n",
       "      <td>1</td>\n",
       "      <td>2</td>\n",
       "      <td>ABI - ARTES CÊNICAS</td>\n",
       "      <td>5001035</td>\n",
       "      <td>ABI Artes e humanidades</td>\n",
       "      <td>...</td>\n",
       "      <td>8.0</td>\n",
       "      <td>0.0</td>\n",
       "      <td>0.0</td>\n",
       "      <td>0.0</td>\n",
       "      <td>0.0</td>\n",
       "      <td>0.0</td>\n",
       "      <td>NaN</td>\n",
       "      <td>NaN</td>\n",
       "      <td>NaN</td>\n",
       "      <td>UNB</td>\n",
       "    </tr>\n",
       "    <tr>\n",
       "      <th>1</th>\n",
       "      <td>2018</td>\n",
       "      <td>DF</td>\n",
       "      <td>1</td>\n",
       "      <td>1</td>\n",
       "      <td>1</td>\n",
       "      <td>1</td>\n",
       "      <td>2</td>\n",
       "      <td>ABI - ARTES PLÁSTICAS</td>\n",
       "      <td>5001034</td>\n",
       "      <td>ABI Artes e humanidades</td>\n",
       "      <td>...</td>\n",
       "      <td>4.0</td>\n",
       "      <td>0.0</td>\n",
       "      <td>0.0</td>\n",
       "      <td>0.0</td>\n",
       "      <td>0.0</td>\n",
       "      <td>0.0</td>\n",
       "      <td>NaN</td>\n",
       "      <td>NaN</td>\n",
       "      <td>NaN</td>\n",
       "      <td>UNB</td>\n",
       "    </tr>\n",
       "    <tr>\n",
       "      <th>2</th>\n",
       "      <td>2018</td>\n",
       "      <td>DF</td>\n",
       "      <td>1</td>\n",
       "      <td>1</td>\n",
       "      <td>1</td>\n",
       "      <td>1</td>\n",
       "      <td>2</td>\n",
       "      <td>ABI - CIÊNCIAS SOCIAIS</td>\n",
       "      <td>5001037</td>\n",
       "      <td>ABI Ciências sociais, comunicação e informação</td>\n",
       "      <td>...</td>\n",
       "      <td>24.0</td>\n",
       "      <td>0.0</td>\n",
       "      <td>0.0</td>\n",
       "      <td>0.0</td>\n",
       "      <td>0.0</td>\n",
       "      <td>0.0</td>\n",
       "      <td>NaN</td>\n",
       "      <td>NaN</td>\n",
       "      <td>NaN</td>\n",
       "      <td>UNB</td>\n",
       "    </tr>\n",
       "  </tbody>\n",
       "</table>\n",
       "<p>3 rows × 197 columns</p>\n",
       "</div>"
      ],
      "text/plain": [
       "   NU_ANO_CENSO SG_UF  TP_DIMENSAO  TP_ORGANIZACAO_ACADEMICA  \\\n",
       "0          2018    DF            1                         1   \n",
       "1          2018    DF            1                         1   \n",
       "2          2018    DF            1                         1   \n",
       "\n",
       "   TP_CATEGORIA_ADMINISTRATIVA  TP_REDE  CO_IES                NO_CURSO  \\\n",
       "0                            1        1       2     ABI - ARTES CÊNICAS   \n",
       "1                            1        1       2   ABI - ARTES PLÁSTICAS   \n",
       "2                            1        1       2  ABI - CIÊNCIAS SOCIAIS   \n",
       "\n",
       "   CO_CURSO                                  NO_CINE_ROTULO  ...  \\\n",
       "0   5001035                         ABI Artes e humanidades  ...   \n",
       "1   5001034                         ABI Artes e humanidades  ...   \n",
       "2   5001037  ABI Ciências sociais, comunicação e informação  ...   \n",
       "\n",
       "  QT_MAT_ATIV_EXTRACURRICULAR  QT_CONC_ATIV_EXTRACURRICULAR QT_MOB_ACADEMICA  \\\n",
       "0                         8.0                           0.0              0.0   \n",
       "1                         4.0                           0.0              0.0   \n",
       "2                        24.0                           0.0              0.0   \n",
       "\n",
       "   QT_ING_MOB_ACADEMICA QT_MAT_MOB_ACADEMICA  QT_CONC_MOB_ACADEMICA  \\\n",
       "0                   0.0                  0.0                    0.0   \n",
       "1                   0.0                  0.0                    0.0   \n",
       "2                   0.0                  0.0                    0.0   \n",
       "\n",
       "  CO_CINE_ROTULO2  IN_COMUNITARIA  IN_CONFESSIONAL  SG_IES  \n",
       "0             NaN             NaN              NaN     UNB  \n",
       "1             NaN             NaN              NaN     UNB  \n",
       "2             NaN             NaN              NaN     UNB  \n",
       "\n",
       "[3 rows x 197 columns]"
      ]
     },
     "execution_count": 74,
     "metadata": {},
     "output_type": "execute_result"
    }
   ],
   "source": [
    "# Visualizando Dataframe completo.\n",
    "dados_censo_DF_SGIS.head(3)"
   ]
  },
  {
   "cell_type": "code",
   "execution_count": null,
   "metadata": {},
   "outputs": [
    {
     "data": {
      "text/plain": [
       "array(['UNB', 'UNIP', 'UNICEUB', 'UCB', 'UPIS', 'UDF', 'FADM', 'IESB',\n",
       "       'UNIEURO', 'Anhanguera DF', 'UNIPLAN', 'FACEF', 'UNIPROJEÇÃO',\n",
       "       'ESTÁCIO BRASÍLIA', 'FAPRO', 'FACBRAS', 'FALBE', 'UNIPROCESSUS',\n",
       "       nan, 'ISALBE', 'UNILS', 'FTBB', 'Unicesp', 'FACULDADE FABRAS',\n",
       "       'UNIMAUÁ', 'FAC CCI', 'ICESP', 'APOGEU', 'UNICEPLAC', 'IDP-BSB',\n",
       "       'FATEO', 'IFB', 'FACHORIZONTE', 'ISCP', 'FANASPS', 'FATECNA',\n",
       "       'ESAS', 'FACDF', 'FPMB', 'ATAME', 'FACTI', 'ISCON', 'FACE',\n",
       "       'MACKENZIE', 'UNAR', 'CLARETIANOBT', 'UNIUBE', 'UNESA', 'UMESP',\n",
       "       'UNICSUL', 'Unopar', 'UB', 'FMU', 'UNISA', 'UNIFACS', 'UCDB',\n",
       "       'UNICID', 'UAM', 'Univeritas UNG', 'UNISUL', 'UNICNEC', 'UNIDERP',\n",
       "       'UNIGRAN', 'UNICEUMA', 'UP', 'UNICESUMAR', 'UNIFAEL',\n",
       "       'ESTÁCIO RIBEIRÃO PRE', 'UNIFACCAMP', 'UNASP', 'UNIASSELVI',\n",
       "       'UNIDOM - BOSCO', 'UNINTER', 'UNIGRANDE', 'AIEC / FAAB', 'EBAPE',\n",
       "       'UNINASSAU', 'UNIS-MG', 'UNIFACVEST', 'SENACSP', 'UNISIGNORELLI',\n",
       "       'FACAP', 'Nassau Brasília', 'FBr', 'UNOESTE', 'UNIFIL', 'UNIPAR',\n",
       "       'ULBRA', \"UNISANT'ANNA\", 'FCE', 'CAM', 'São Lucas PVH',\n",
       "       'UniFavip Wyden', 'UNILINS', 'ENIAC', 'FAESF/UNEF', 'FATIN',\n",
       "       'FIPECAFI', 'FU', 'FGV EPPG', 'FPC', 'UNINOVE', 'UNIVERSO',\n",
       "       'UNISANTA', 'UNIFAVENI', 'UniCV', 'UNINTA', 'EDUCA+', 'FACNOPAR',\n",
       "       'FGV/IDT', 'FAC UNIABA', 'UNAMA', 'UNIFRAN', 'UNILASALLE',\n",
       "       'UNIVATES', 'UNIAN-RJ', 'UNIFAMMA', 'UNIDOMPEDRO', 'UNIFATECIE',\n",
       "       'UNINORTE', 'UNIARAXÁ', 'UNI SANTA CRUZ', 'FSFA',\n",
       "       'FACULDADE FITEC', 'FAMEESP', 'FASUL EDUCACIONAL', 'FACETEN',\n",
       "       'ESNS', 'UnDF', 'Ibmec Brasília', 'UniEVANGÉLICA', 'UNIAMÉRICA',\n",
       "       'UniBRASÍLIA', 'UNIFATEC', 'UCL', 'UNICARIOCA', 'MULTIVIX SERRA',\n",
       "       'EFICAZ', 'FSF', 'FUNIP', 'FACSU', 'FASOUZA', 'FD', 'INSIDE',\n",
       "       'FAG', 'FCN', 'UCSAL', 'PUCRS', 'GRAN', 'UFBRA', 'GRAU', 'FAVI'],\n",
       "      dtype=object)"
      ]
     },
     "execution_count": 64,
     "metadata": {},
     "output_type": "execute_result"
    }
   ],
   "source": [
    "# Visualizando todas as instituições disponíveis.\n",
    "dados_censo_DF_SGIS['SG_IES'].unique()"
   ]
  },
  {
   "cell_type": "markdown",
   "metadata": {},
   "source": [
    "| Nome da instituição                          | Sigla       | Categoria Administrativa    | Organização Acadêmica | IGC | Ano  | Link (MEC/e-MEC)                                                                                                        |\n",
    "| -------------------------------------------- | ----------- | --------------------------- | --------------------- | --- | ---- | ----------------------------------------------------------------------------------------------------------------------- |\n",
    "| Universidade de Brasília                     | UNB         | Pública federal             | Universidade          | 5   | 2021 | [Consulta e-MEC](https://emec.mec.gov.br/emec/consulta-cadastro/detalhes-ies/d96957f455f6405d14c6542552b0f6eb/Mg==)     |\n",
    "| Instituto Federal de Brasília                | IFB         | Pública federal             | Instituto Federal     | 4   | 2021 | – (sem página e-MEC disponível)                                                                                         |\n",
    "| Universidade Católica de Brasília            | UCB         | Privada sem fins lucrativos | Universidade          | 4   | 2021 | [Consulta e-MEC](https://emec.mec.gov.br/emec/consulta-cadastro/detalhes-ies/d96957f455f6405d14c6542552b0f6eb/NDAz)     |\n",
    "| Centro Univ. de Brasília                     | UNICEUB     | Privada sem fins lucrativos | Centro Universitário  | 4   | 2021 | [Consulta e-MEC](https://emec.mec.gov.br/emec/consulta-cadastro/detalhes-ies/d96957f455f6405d14c6542552b0f6eb/NDAy)     |\n",
    "| Centro Univ. do Distrito Federal             | UDF         | Privada com fins lucrativos | Centro Universitário  | 3   | 2022 | [Consulta e-MEC](https://emec.mec.gov.br/emec/consulta-cadastro/detalhes-ies/d96957f455f6405d14c6542552b0f6eb/NTE4)     |\n",
    "| Centro Univ. IES Brasília                    | IESB        | Privada com fins lucrativos | Centro Universitário  | 3   | 2022 | [Consulta e-MEC](https://emec.mec.gov.br/emec/consulta-cadastro/detalhes-ies/d96957f455f6405d14c6542552b0f6eb/MTA2MA==) |\n",
    "| Centro Univ. Planalto Central (UNICEPLAC)    | UNICEPLAC   | Privada sem fins lucrativos | Centro Universitário  | 4   | 2021 | [Consulta e-MEC](https://emec.mec.gov.br/emec/consulta-cadastro/detalhes-ies/d96957f455f6405d14c6542552b0f6eb/NTQzOQ==) |\n",
    "| Centro Univ. LS (Centro Universitário LS)    | UNILS       | Privada com fins lucrativos | Centro Universitário  | 4   | 2021 | [Consulta e-MEC](https://emec.mec.gov.br/emec/consulta-cadastro/detalhes-ies/d96957f455f6405d14c6542552b0f6eb/MzM5Ng==) |\n",
    "| Centro Univ. Projeção (Sobradinho)           | UNIPROJEÇÃO | Privada sem fins lucrativos | Centro Universitário  | 4   | 2021 | [Consulta e-MEC](https://emec.mec.gov.br/emec/consulta-cadastro/detalhes-ies/d96957f455f6405d14c6542552b0f6eb/MTUzOA==) |\n",
    "| Instituto Brasileiro de Ensino, Desenvolvimento e Pesquisa de Brasília | IDP-BSB     | Privada    | Faculdade             | 4   | 2021 | – (sem página e-MEC disponível)                                                                                         |\n"
   ]
  },
  {
   "cell_type": "code",
   "execution_count": null,
   "metadata": {},
   "outputs": [],
   "source": [
    "# SELECIONANDO AS MELHORES FACULDADES PUBLICAS E PRIVADAS DE ACORDO COM A NOTA DO MEC NO DF\n",
    "censo_DF_faculdades = dados_censo_DF_SGIS[dados_censo_DF_SGIS['SG_IES'].isin(['UNB','IFB','UNILS','UCB','IESB','UNICEUB','UNICEPLAC','UDF','IDP-BSB','UNIPROJEÇÃO'])]"
   ]
  },
  {
   "cell_type": "markdown",
   "metadata": {},
   "source": [
    "Durante a etapa de pré-processamento dos dados, identificamos um total de 197 variáveis disponíveis para análise. Considerando o escopo do trabalho e o objetivo de manter um foco mais direcionado, optamos por realizar uma seleção manual das colunas que poderiam contribuir de forma mais direta para a compreensão das possíveis causas de desistência nos cursos de graduação.\n",
    "\n",
    "A seleção levou em conta a relevância das variáveis para a análise, priorizando aquelas relacionadas a características dos cursos, perfil dos alunos, formas de ingresso, turnos, modalidades, entre outros fatores potencialmente associados à evasão. Após esse processo, reduzimos o número de variáveis para 71, listadas a seguir:\n",
    "\n",
    "['NU_ANO_CENSO','SG_IES','CO_IES','NO_CURSO','TP_ORGANIZACAO_ACADEMICA','TP_REDE','NO_CINE_ROTULO','NO_CINE_AREA_GERAL','NO_CINE_AREA_ESPECIFICA','NO_CINE_AREA_DETALHADA','TP_GRAU_ACADEMICO','IN_GRATUITO','TP_MODALIDADE_ENSINO','TP_NIVEL_ACADEMICO','QT_VG_TOTAL',\n",
    "\"QT_ING_ENEM\",\"QT_ING_VESTIBULAR\",'QT_INSCRITO_TOTAL_EAD','QT_VG_TOTAL_EAD','QT_VG_TOTAL_DIURNO','QT_VG_TOTAL_NOTURNO','QT_MAT', 'QT_MAT_FEM', 'QT_MAT_MASC', 'QT_MAT_DIURNO', 'QT_MAT_NOTURNO', 'QT_MAT_0_17', 'QT_MAT_18_24', 'QT_MAT_25_29', 'QT_MAT_30_34', 'QT_MAT_35_39', 'QT_MAT_40_49', 'QT_MAT_50_59', 'QT_MAT_60_MAIS', 'QT_MAT_BRANCA', 'QT_MAT_PRETA', 'QT_MAT_PARDA', 'QT_MAT_AMARELA', 'QT_MAT_INDIGENA', 'QT_MAT_CORND', 'QT_CONC', 'QT_CONC_FEM', 'QT_CONC_MASC', 'QT_CONC_DIURNO', 'QT_CONC_NOTURNO', 'QT_CONC_0_17', 'QT_CONC_18_24', 'QT_CONC_25_29', 'QT_CONC_30_34', 'QT_CONC_35_39', 'QT_CONC_40_49', 'QT_CONC_50_59', 'QT_CONC_60_MAIS', 'QT_CONC_BRANCA', 'QT_CONC_PRETA', 'QT_CONC_PARDA', 'QT_CONC_AMARELA', 'QT_CONC_INDIGENA','QT_CONC_CORND','QT_MAT_NACESTRANG','QT_CONC_NACESTRANG','QT_MAT_DEFICIENTE', 'QT_CONC_DEFICIENTE','QT_MAT_FINANC','QT_CONC_FINANC','QT_MAT_PROCESCPUBLICA', 'QT_MAT_PROCESCPRIVADA', 'QT_MAT_PROCNAOINFORMADA','QT_CONC_PROCESCPUBLICA', 'QT_CONC_PROCESCPRIVADA', 'QT_CONC_PROCNAOINFORMADA']\n",
    "\n",
    "Essa seleção visa manter o equilíbrio entre profundidade analítica e viabilidade de tratamento dos dados, considerando as limitações de tempo e escopo de um trabalho de graduação.\n",
    "\n",
    "        Observação: durante o tratamento e análise dos dados, é provável que esse conjunto de variáveis ainda passe por otimizações adicionais, com a exclusão de colunas redundantes ou com baixa relevância para os objetivos da pesquisa"
   ]
  },
  {
   "cell_type": "code",
   "execution_count": 70,
   "metadata": {},
   "outputs": [],
   "source": [
    "# SELECIONADO COLUNAS PARA ANÁLISE.\n",
    "Colunas_para_censo= ['NU_ANO_CENSO','SG_IES','CO_IES','NO_CURSO','TP_ORGANIZACAO_ACADEMICA','TP_REDE','NO_CINE_ROTULO','NO_CINE_AREA_GERAL','NO_CINE_AREA_ESPECIFICA','NO_CINE_AREA_DETALHADA','TP_GRAU_ACADEMICO','IN_GRATUITO','TP_MODALIDADE_ENSINO','TP_NIVEL_ACADEMICO','QT_VG_TOTAL',\n",
    "\"QT_ING_ENEM\",\"QT_ING_VESTIBULAR\",'QT_INSCRITO_TOTAL_EAD','QT_VG_TOTAL_EAD','QT_VG_TOTAL_DIURNO','QT_VG_TOTAL_NOTURNO','QT_MAT', 'QT_MAT_FEM', 'QT_MAT_MASC', 'QT_MAT_DIURNO', 'QT_MAT_NOTURNO', 'QT_MAT_0_17', 'QT_MAT_18_24', 'QT_MAT_25_29', 'QT_MAT_30_34', 'QT_MAT_35_39', 'QT_MAT_40_49', 'QT_MAT_50_59', 'QT_MAT_60_MAIS', 'QT_MAT_BRANCA', 'QT_MAT_PRETA', 'QT_MAT_PARDA', 'QT_MAT_AMARELA', 'QT_MAT_INDIGENA', 'QT_MAT_CORND', 'QT_CONC', 'QT_CONC_FEM', 'QT_CONC_MASC', 'QT_CONC_DIURNO', 'QT_CONC_NOTURNO', 'QT_CONC_0_17', 'QT_CONC_18_24', 'QT_CONC_25_29', 'QT_CONC_30_34', 'QT_CONC_35_39', 'QT_CONC_40_49', 'QT_CONC_50_59', 'QT_CONC_60_MAIS', 'QT_CONC_BRANCA', 'QT_CONC_PRETA', 'QT_CONC_PARDA', 'QT_CONC_AMARELA', 'QT_CONC_INDIGENA','QT_CONC_CORND','QT_MAT_NACESTRANG','QT_CONC_NACESTRANG','QT_MAT_DEFICIENTE', 'QT_CONC_DEFICIENTE','QT_MAT_FINANC','QT_CONC_FINANC','QT_MAT_PROCESCPUBLICA', 'QT_MAT_PROCESCPRIVADA', 'QT_MAT_PROCNAOINFORMADA','QT_CONC_PROCESCPUBLICA', 'QT_CONC_PROCESCPRIVADA', 'QT_CONC_PROCNAOINFORMADA']"
   ]
  },
  {
   "cell_type": "code",
   "execution_count": 71,
   "metadata": {},
   "outputs": [
    {
     "data": {
      "text/plain": [
       "71"
      ]
     },
     "execution_count": 71,
     "metadata": {},
     "output_type": "execute_result"
    }
   ],
   "source": [
    "# Quantidade de colunas escolhidas. \n",
    "len(Colunas_para_censo)"
   ]
  },
  {
   "cell_type": "code",
   "execution_count": 72,
   "metadata": {},
   "outputs": [],
   "source": [
    "# Pegando os registros com apenas as colunas de interesse\n",
    "dados_censo_DF = censo_DF_faculdades[Colunas_para_censo].reset_index(drop=True)"
   ]
  },
  {
   "cell_type": "markdown",
   "metadata": {},
   "source": [
    "A amostra foi composta apenas pelas 10 faculdades do Distrito Federal consideradas as melhores pelo MEC, não representando todas as instituições da região. As faculdades selecionadas são: UNB, IFB, UNILS, UCB, IESB, UNICEUB, UNICEPLAC, UDF, IDP-BSB e UNIPROJEÇÃO.\n",
    "\n"
   ]
  },
  {
   "cell_type": "code",
   "execution_count": null,
   "metadata": {},
   "outputs": [
    {
     "data": {
      "text/plain": [
       "array(['UNB', 'UNICEUB', 'UCB', 'UDF', 'IESB', 'UNIPROJEÇÃO', 'UNILS',\n",
       "       'UNICEPLAC', 'IDP-BSB', 'IFB'], dtype=object)"
      ]
     },
     "execution_count": 73,
     "metadata": {},
     "output_type": "execute_result"
    }
   ],
   "source": [
    "# Visualizando se as faculdades desejadas estão no DataFrame - Estão sim.\n",
    "dados_censo_DF['SG_IES'].unique()"
   ]
  },
  {
   "cell_type": "code",
   "execution_count": null,
   "metadata": {},
   "outputs": [
    {
     "data": {
      "text/html": [
       "<div>\n",
       "<style scoped>\n",
       "    .dataframe tbody tr th:only-of-type {\n",
       "        vertical-align: middle;\n",
       "    }\n",
       "\n",
       "    .dataframe tbody tr th {\n",
       "        vertical-align: top;\n",
       "    }\n",
       "\n",
       "    .dataframe thead th {\n",
       "        text-align: right;\n",
       "    }\n",
       "</style>\n",
       "<table border=\"1\" class=\"dataframe\">\n",
       "  <thead>\n",
       "    <tr style=\"text-align: right;\">\n",
       "      <th></th>\n",
       "      <th>NU_ANO_CENSO</th>\n",
       "      <th>SG_IES</th>\n",
       "      <th>CO_IES</th>\n",
       "      <th>NO_CURSO</th>\n",
       "      <th>TP_ORGANIZACAO_ACADEMICA</th>\n",
       "      <th>TP_REDE</th>\n",
       "      <th>NO_CINE_ROTULO</th>\n",
       "      <th>NO_CINE_AREA_GERAL</th>\n",
       "      <th>NO_CINE_AREA_ESPECIFICA</th>\n",
       "      <th>NO_CINE_AREA_DETALHADA</th>\n",
       "      <th>...</th>\n",
       "      <th>QT_MAT_DEFICIENTE</th>\n",
       "      <th>QT_CONC_DEFICIENTE</th>\n",
       "      <th>QT_MAT_FINANC</th>\n",
       "      <th>QT_CONC_FINANC</th>\n",
       "      <th>QT_MAT_PROCESCPUBLICA</th>\n",
       "      <th>QT_MAT_PROCESCPRIVADA</th>\n",
       "      <th>QT_MAT_PROCNAOINFORMADA</th>\n",
       "      <th>QT_CONC_PROCESCPUBLICA</th>\n",
       "      <th>QT_CONC_PROCESCPRIVADA</th>\n",
       "      <th>QT_CONC_PROCNAOINFORMADA</th>\n",
       "    </tr>\n",
       "  </thead>\n",
       "  <tbody>\n",
       "    <tr>\n",
       "      <th>0</th>\n",
       "      <td>2018</td>\n",
       "      <td>UNB</td>\n",
       "      <td>2</td>\n",
       "      <td>ABI - ARTES CÊNICAS</td>\n",
       "      <td>1</td>\n",
       "      <td>1</td>\n",
       "      <td>ABI Artes e humanidades</td>\n",
       "      <td>Programas básicos</td>\n",
       "      <td>Programas básicos</td>\n",
       "      <td>Programas básicos</td>\n",
       "      <td>...</td>\n",
       "      <td>0.0</td>\n",
       "      <td>0.0</td>\n",
       "      <td>0.0</td>\n",
       "      <td>0.0</td>\n",
       "      <td>20.0</td>\n",
       "      <td>25.0</td>\n",
       "      <td>0.0</td>\n",
       "      <td>0.0</td>\n",
       "      <td>0.0</td>\n",
       "      <td>0.0</td>\n",
       "    </tr>\n",
       "    <tr>\n",
       "      <th>1</th>\n",
       "      <td>2018</td>\n",
       "      <td>UNB</td>\n",
       "      <td>2</td>\n",
       "      <td>ABI - ARTES PLÁSTICAS</td>\n",
       "      <td>1</td>\n",
       "      <td>1</td>\n",
       "      <td>ABI Artes e humanidades</td>\n",
       "      <td>Programas básicos</td>\n",
       "      <td>Programas básicos</td>\n",
       "      <td>Programas básicos</td>\n",
       "      <td>...</td>\n",
       "      <td>0.0</td>\n",
       "      <td>0.0</td>\n",
       "      <td>0.0</td>\n",
       "      <td>0.0</td>\n",
       "      <td>20.0</td>\n",
       "      <td>37.0</td>\n",
       "      <td>0.0</td>\n",
       "      <td>0.0</td>\n",
       "      <td>0.0</td>\n",
       "      <td>0.0</td>\n",
       "    </tr>\n",
       "    <tr>\n",
       "      <th>2</th>\n",
       "      <td>2018</td>\n",
       "      <td>UNB</td>\n",
       "      <td>2</td>\n",
       "      <td>ABI - CIÊNCIAS SOCIAIS</td>\n",
       "      <td>1</td>\n",
       "      <td>1</td>\n",
       "      <td>ABI Ciências sociais, comunicação e informação</td>\n",
       "      <td>Programas básicos</td>\n",
       "      <td>Programas básicos</td>\n",
       "      <td>Programas básicos</td>\n",
       "      <td>...</td>\n",
       "      <td>0.0</td>\n",
       "      <td>0.0</td>\n",
       "      <td>0.0</td>\n",
       "      <td>0.0</td>\n",
       "      <td>91.0</td>\n",
       "      <td>74.0</td>\n",
       "      <td>0.0</td>\n",
       "      <td>0.0</td>\n",
       "      <td>0.0</td>\n",
       "      <td>0.0</td>\n",
       "    </tr>\n",
       "    <tr>\n",
       "      <th>3</th>\n",
       "      <td>2018</td>\n",
       "      <td>UNB</td>\n",
       "      <td>2</td>\n",
       "      <td>ABI - COMUNICAÇÃO SOCIAL</td>\n",
       "      <td>1</td>\n",
       "      <td>1</td>\n",
       "      <td>ABI Ciências sociais, comunicação e informação</td>\n",
       "      <td>Programas básicos</td>\n",
       "      <td>Programas básicos</td>\n",
       "      <td>Programas básicos</td>\n",
       "      <td>...</td>\n",
       "      <td>0.0</td>\n",
       "      <td>0.0</td>\n",
       "      <td>0.0</td>\n",
       "      <td>0.0</td>\n",
       "      <td>41.0</td>\n",
       "      <td>38.0</td>\n",
       "      <td>0.0</td>\n",
       "      <td>0.0</td>\n",
       "      <td>0.0</td>\n",
       "      <td>0.0</td>\n",
       "    </tr>\n",
       "    <tr>\n",
       "      <th>4</th>\n",
       "      <td>2018</td>\n",
       "      <td>UNB</td>\n",
       "      <td>2</td>\n",
       "      <td>ABI - DESIGN</td>\n",
       "      <td>1</td>\n",
       "      <td>1</td>\n",
       "      <td>ABI Artes e humanidades</td>\n",
       "      <td>Programas básicos</td>\n",
       "      <td>Programas básicos</td>\n",
       "      <td>Programas básicos</td>\n",
       "      <td>...</td>\n",
       "      <td>0.0</td>\n",
       "      <td>0.0</td>\n",
       "      <td>0.0</td>\n",
       "      <td>0.0</td>\n",
       "      <td>14.0</td>\n",
       "      <td>25.0</td>\n",
       "      <td>0.0</td>\n",
       "      <td>0.0</td>\n",
       "      <td>0.0</td>\n",
       "      <td>0.0</td>\n",
       "    </tr>\n",
       "  </tbody>\n",
       "</table>\n",
       "<p>5 rows × 71 columns</p>\n",
       "</div>"
      ],
      "text/plain": [
       "   NU_ANO_CENSO SG_IES  CO_IES                  NO_CURSO  \\\n",
       "0          2018    UNB       2       ABI - ARTES CÊNICAS   \n",
       "1          2018    UNB       2     ABI - ARTES PLÁSTICAS   \n",
       "2          2018    UNB       2    ABI - CIÊNCIAS SOCIAIS   \n",
       "3          2018    UNB       2  ABI - COMUNICAÇÃO SOCIAL   \n",
       "4          2018    UNB       2              ABI - DESIGN   \n",
       "\n",
       "   TP_ORGANIZACAO_ACADEMICA  TP_REDE  \\\n",
       "0                         1        1   \n",
       "1                         1        1   \n",
       "2                         1        1   \n",
       "3                         1        1   \n",
       "4                         1        1   \n",
       "\n",
       "                                   NO_CINE_ROTULO NO_CINE_AREA_GERAL  \\\n",
       "0                         ABI Artes e humanidades  Programas básicos   \n",
       "1                         ABI Artes e humanidades  Programas básicos   \n",
       "2  ABI Ciências sociais, comunicação e informação  Programas básicos   \n",
       "3  ABI Ciências sociais, comunicação e informação  Programas básicos   \n",
       "4                         ABI Artes e humanidades  Programas básicos   \n",
       "\n",
       "  NO_CINE_AREA_ESPECIFICA NO_CINE_AREA_DETALHADA  ...  QT_MAT_DEFICIENTE  \\\n",
       "0       Programas básicos      Programas básicos  ...                0.0   \n",
       "1       Programas básicos      Programas básicos  ...                0.0   \n",
       "2       Programas básicos      Programas básicos  ...                0.0   \n",
       "3       Programas básicos      Programas básicos  ...                0.0   \n",
       "4       Programas básicos      Programas básicos  ...                0.0   \n",
       "\n",
       "   QT_CONC_DEFICIENTE  QT_MAT_FINANC  QT_CONC_FINANC  QT_MAT_PROCESCPUBLICA  \\\n",
       "0                 0.0            0.0             0.0                   20.0   \n",
       "1                 0.0            0.0             0.0                   20.0   \n",
       "2                 0.0            0.0             0.0                   91.0   \n",
       "3                 0.0            0.0             0.0                   41.0   \n",
       "4                 0.0            0.0             0.0                   14.0   \n",
       "\n",
       "   QT_MAT_PROCESCPRIVADA  QT_MAT_PROCNAOINFORMADA  QT_CONC_PROCESCPUBLICA  \\\n",
       "0                   25.0                      0.0                     0.0   \n",
       "1                   37.0                      0.0                     0.0   \n",
       "2                   74.0                      0.0                     0.0   \n",
       "3                   38.0                      0.0                     0.0   \n",
       "4                   25.0                      0.0                     0.0   \n",
       "\n",
       "   QT_CONC_PROCESCPRIVADA  QT_CONC_PROCNAOINFORMADA  \n",
       "0                     0.0                       0.0  \n",
       "1                     0.0                       0.0  \n",
       "2                     0.0                       0.0  \n",
       "3                     0.0                       0.0  \n",
       "4                     0.0                       0.0  \n",
       "\n",
       "[5 rows x 71 columns]"
      ]
     },
     "execution_count": 31,
     "metadata": {},
     "output_type": "execute_result"
    }
   ],
   "source": [
    "dados_censo_DF.head(5)"
   ]
  },
  {
   "cell_type": "code",
   "execution_count": null,
   "metadata": {},
   "outputs": [],
   "source": [
    "# Salvando dados somente do DF.\n",
    "dados_censo_DF.to_csv(\"Censo_ed_sup_df.csv\",sep=';',index=False)"
   ]
  },
  {
   "cell_type": "markdown",
   "metadata": {},
   "source": [
    "### LIMPEZA DE DADOS"
   ]
  },
  {
   "cell_type": "code",
   "execution_count": 75,
   "metadata": {},
   "outputs": [
    {
     "name": "stdout",
     "output_type": "stream",
     "text": [
      "<class 'pandas.core.frame.DataFrame'>\n",
      "RangeIndex: 3173 entries, 0 to 3172\n",
      "Data columns (total 71 columns):\n",
      " #   Column                    Non-Null Count  Dtype  \n",
      "---  ------                    --------------  -----  \n",
      " 0   NU_ANO_CENSO              3173 non-null   int64  \n",
      " 1   SG_IES                    3173 non-null   object \n",
      " 2   CO_IES                    3173 non-null   int64  \n",
      " 3   NO_CURSO                  3173 non-null   object \n",
      " 4   TP_ORGANIZACAO_ACADEMICA  3173 non-null   int64  \n",
      " 5   TP_REDE                   3173 non-null   int64  \n",
      " 6   NO_CINE_ROTULO            3173 non-null   object \n",
      " 7   NO_CINE_AREA_GERAL        3173 non-null   object \n",
      " 8   NO_CINE_AREA_ESPECIFICA   3173 non-null   object \n",
      " 9   NO_CINE_AREA_DETALHADA    3173 non-null   object \n",
      " 10  TP_GRAU_ACADEMICO         3094 non-null   float64\n",
      " 11  IN_GRATUITO               3173 non-null   int64  \n",
      " 12  TP_MODALIDADE_ENSINO      3173 non-null   int64  \n",
      " 13  TP_NIVEL_ACADEMICO        3173 non-null   int64  \n",
      " 14  QT_VG_TOTAL               3033 non-null   float64\n",
      " 15  QT_ING_ENEM               3173 non-null   float64\n",
      " 16  QT_ING_VESTIBULAR         3173 non-null   float64\n",
      " 17  QT_INSCRITO_TOTAL_EAD     3033 non-null   float64\n",
      " 18  QT_VG_TOTAL_EAD           3033 non-null   float64\n",
      " 19  QT_VG_TOTAL_DIURNO        3033 non-null   float64\n",
      " 20  QT_VG_TOTAL_NOTURNO       3033 non-null   float64\n",
      " 21  QT_MAT                    3173 non-null   float64\n",
      " 22  QT_MAT_FEM                3173 non-null   float64\n",
      " 23  QT_MAT_MASC               3173 non-null   float64\n",
      " 24  QT_MAT_DIURNO             3173 non-null   float64\n",
      " 25  QT_MAT_NOTURNO            3173 non-null   float64\n",
      " 26  QT_MAT_0_17               3173 non-null   float64\n",
      " 27  QT_MAT_18_24              3173 non-null   float64\n",
      " 28  QT_MAT_25_29              3173 non-null   float64\n",
      " 29  QT_MAT_30_34              3173 non-null   float64\n",
      " 30  QT_MAT_35_39              3173 non-null   float64\n",
      " 31  QT_MAT_40_49              3173 non-null   float64\n",
      " 32  QT_MAT_50_59              3173 non-null   float64\n",
      " 33  QT_MAT_60_MAIS            3173 non-null   float64\n",
      " 34  QT_MAT_BRANCA             3173 non-null   float64\n",
      " 35  QT_MAT_PRETA              3173 non-null   float64\n",
      " 36  QT_MAT_PARDA              3173 non-null   float64\n",
      " 37  QT_MAT_AMARELA            3173 non-null   float64\n",
      " 38  QT_MAT_INDIGENA           3173 non-null   float64\n",
      " 39  QT_MAT_CORND              3173 non-null   float64\n",
      " 40  QT_CONC                   3173 non-null   float64\n",
      " 41  QT_CONC_FEM               3173 non-null   float64\n",
      " 42  QT_CONC_MASC              3173 non-null   float64\n",
      " 43  QT_CONC_DIURNO            3173 non-null   float64\n",
      " 44  QT_CONC_NOTURNO           3173 non-null   float64\n",
      " 45  QT_CONC_0_17              3173 non-null   float64\n",
      " 46  QT_CONC_18_24             3173 non-null   float64\n",
      " 47  QT_CONC_25_29             3173 non-null   float64\n",
      " 48  QT_CONC_30_34             3173 non-null   float64\n",
      " 49  QT_CONC_35_39             3173 non-null   float64\n",
      " 50  QT_CONC_40_49             3173 non-null   float64\n",
      " 51  QT_CONC_50_59             3173 non-null   float64\n",
      " 52  QT_CONC_60_MAIS           3173 non-null   float64\n",
      " 53  QT_CONC_BRANCA            3173 non-null   float64\n",
      " 54  QT_CONC_PRETA             3173 non-null   float64\n",
      " 55  QT_CONC_PARDA             3173 non-null   float64\n",
      " 56  QT_CONC_AMARELA           3173 non-null   float64\n",
      " 57  QT_CONC_INDIGENA          3173 non-null   float64\n",
      " 58  QT_CONC_CORND             3173 non-null   float64\n",
      " 59  QT_MAT_NACESTRANG         3173 non-null   float64\n",
      " 60  QT_CONC_NACESTRANG        3173 non-null   float64\n",
      " 61  QT_MAT_DEFICIENTE         3173 non-null   float64\n",
      " 62  QT_CONC_DEFICIENTE        3173 non-null   float64\n",
      " 63  QT_MAT_FINANC             3173 non-null   float64\n",
      " 64  QT_CONC_FINANC            3173 non-null   float64\n",
      " 65  QT_MAT_PROCESCPUBLICA     3173 non-null   float64\n",
      " 66  QT_MAT_PROCESCPRIVADA     3173 non-null   float64\n",
      " 67  QT_MAT_PROCNAOINFORMADA   3173 non-null   float64\n",
      " 68  QT_CONC_PROCESCPUBLICA    3173 non-null   float64\n",
      " 69  QT_CONC_PROCESCPRIVADA    3173 non-null   float64\n",
      " 70  QT_CONC_PROCNAOINFORMADA  3173 non-null   float64\n",
      "dtypes: float64(58), int64(7), object(6)\n",
      "memory usage: 1.7+ MB\n"
     ]
    }
   ],
   "source": [
    "# Visualizando dados gerais.\n",
    "dados_censo_DF.info()"
   ]
  },
  {
   "cell_type": "code",
   "execution_count": null,
   "metadata": {},
   "outputs": [],
   "source": []
  },
  {
   "cell_type": "code",
   "execution_count": null,
   "metadata": {},
   "outputs": [],
   "source": []
  },
  {
   "cell_type": "code",
   "execution_count": null,
   "metadata": {},
   "outputs": [],
   "source": []
  },
  {
   "cell_type": "code",
   "execution_count": null,
   "metadata": {},
   "outputs": [],
   "source": []
  }
 ],
 "metadata": {
  "kernelspec": {
   "display_name": "Python 3",
   "language": "python",
   "name": "python3"
  },
  "language_info": {
   "codemirror_mode": {
    "name": "ipython",
    "version": 3
   },
   "file_extension": ".py",
   "mimetype": "text/x-python",
   "name": "python",
   "nbconvert_exporter": "python",
   "pygments_lexer": "ipython3",
   "version": "3.13.1"
  }
 },
 "nbformat": 4,
 "nbformat_minor": 2
}
