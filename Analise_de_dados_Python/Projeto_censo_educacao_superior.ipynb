{
 "cells": [
  {
   "cell_type": "markdown",
   "metadata": {},
   "source": [
    "## Importações de Bibliotecas"
   ]
  },
  {
   "cell_type": "code",
   "execution_count": 60,
   "metadata": {},
   "outputs": [],
   "source": [
    "# Biblioteca para analise e importações dos arquivos \n",
    "import pandas as pd\n",
    "import matplotlib.pyplot as plt\n",
    "import seaborn as sns\n",
    "import plotly.graph_objects as go"
   ]
  },
  {
   "cell_type": "markdown",
   "metadata": {},
   "source": [
    "### Fazendo conexão com o DRIVE. "
   ]
  },
  {
   "cell_type": "markdown",
   "metadata": {},
   "source": [
    "### 1. Definição do Problema"
   ]
  },
  {
   "cell_type": "markdown",
   "metadata": {},
   "source": [
    "# Taxas de Desistência no Ensino Superior do Distrito Federal\n",
    "Análise das Taxas de Desistência no Ensino Superior do Distrito Federal: Um Estudo nas Dez Instituições Mais Bem Avaliadas pelo MEC em 2021\n",
    "\n",
    "## Objetivo da Análise\n",
    "Este estudo tem como objetivo analisar e compreender os fatores associados às taxas de desistência em cursos de graduação no Distrito Federal. A investigação será conduzida com base em dados públicos extraídos de plataformas governamentais, que abrangem informações sobre instituições de ensino superior públicas e privadas. Para fins de recorte metodológico, a amostra será composta pelas dez instituições de ensino superior do DF que obtiveram as melhores avaliações segundo o Índice Geral de Cursos (IGC) do Ministério da Educação (MEC) no ano de 2021.\n",
    "\n",
    "## Justificativa\n",
    "A escolha por focar apenas nas dez instituições de ensino superior mais bem avaliadas do Distrito Federal tem como objetivo garantir maior clareza e confiabilidade na análise. Essas instituições costumam ter estruturas mais organizadas e sistemas de gestão mais transparentes, o que facilita o acesso a dados mais completos e padronizados. Além disso, ao analisar faculdades com bom desempenho, buscamos entender se a evasão estudantil também ocorre em contextos considerados positivos — o que pode apontar para questões mais amplas e estruturais no ensino superior brasileiro. Essa delimitação também está relacionada ao fato de este ser um trabalho de início de graduação, o que exige um recorte de dados menor e mais viável, sem a necessidade de incluir todas as instituições do DF ou de outros estados do país.\n",
    "\n",
    "\n"
   ]
  },
  {
   "cell_type": "markdown",
   "metadata": {},
   "source": [
    "### 2. Coleta de Dados"
   ]
  },
  {
   "cell_type": "markdown",
   "metadata": {},
   "source": [
    "### Criando função para otimizara leitura dos arquivos."
   ]
  },
  {
   "cell_type": "code",
   "execution_count": 2,
   "metadata": {},
   "outputs": [],
   "source": [
    "def importando_dados(lista_caminho:list[str]):\n",
    "\n",
    "    # Data frame criado para poder guardar a junção de todos os DataFrames. \n",
    "    juntando_dataFrames = pd.DataFrame()\n",
    "\n",
    "    # Laço for para que ocorra a leitura de todos os arquivos csv de acordo com seus caminhos(caminho local)\n",
    "    for arquivo in lista_caminho:\n",
    "\n",
    "        # Listar todas as colunas no arquivo, afim de não baixar todo o arquivo antes de excluir as colunas rejeitadas.\n",
    "        todas_colunas = pd.read_csv(arquivo, nrows=0,encoding=\"ISO-8859-1\", sep=';').columns.tolist()\n",
    "\n",
    "        # Definir as colunas que você quer excluir\n",
    "        # Essas colunas  estão sendo tiradas por se tratar apenas de dados do distrito_Federal, sem necessidade da permanencia de informações implicitamente informadas.\n",
    "        colunas_para_excluir = ['NO_REGIAO', 'CO_REGIAO','NO_UF','CO_UF','CO_MUNICIPIO','NO_MUNICIPIO','IN_CAPITAL']\n",
    "\n",
    "        # Listar as colunas que você deseja manter\n",
    "        colunas_para_manter = [coluna for coluna in todas_colunas if coluna not in colunas_para_excluir]\n",
    "\n",
    "        # Carregar o arquivo com apenas as colunas que você quer manter\n",
    "        df = pd.read_csv(arquivo, usecols=colunas_para_manter,encoding=\"ISO-8859-1\", sep=';')\n",
    "\n",
    "        # Utilizando do groupby para que somente as informações referente ao Distrito-Federal(DF) permaneçam.\n",
    "        dados_df = df.groupby(['SG_UF'] ).get_group('DF')\n",
    "\n",
    "        # Juntando os novos DataFrames com os anteriores. \n",
    "        juntando_dataFrames = pd.concat([dados_df,juntando_dataFrames],axis=0)\n",
    "\n",
    "    return juntando_dataFrames"
   ]
  },
  {
   "cell_type": "code",
   "execution_count": 3,
   "metadata": {},
   "outputs": [],
   "source": [
    "# Criando lista de caminhos onde os arquivos estão sendo mantidos.\n",
    "caminhos_lista = [\n",
    "    \"D:\\\\analise_de_Dados\\\\arquivos_Brutos\\\\Projeto_censo_educacao_superior\\\\Microdados do Censo da Educação Superior 2023\\\\dados\\\\MICRODADOS_CADASTRO_CURSOS_2023.CSV\",\n",
    "    \"D:\\\\analise_de_Dados\\\\arquivos_Brutos\\\\Projeto_censo_educacao_superior\\\\Microdados do Censo da Educação Superior 2022\\\\dados\\\\MICRODADOS_CADASTRO_CURSOS_2022.CSV\",\n",
    "    \"D:\\\\analise_de_Dados\\\\arquivos_Brutos\\\\Projeto_censo_educacao_superior\\\\Microdados do Censo da Educação Superior 2021\\\\dados\\\\MICRODADOS_CADASTRO_CURSOS_2021.CSV\",\n",
    "    \"D:\\\\analise_de_Dados\\\\arquivos_Brutos\\\\Projeto_censo_educacao_superior\\\\Microdados do Censo da Educação Superior 2020\\\\dados\\\\MICRODADOS_CADASTRO_CURSOS_2020.CSV\",\n",
    "    \"D:\\\\analise_de_Dados\\\\arquivos_Brutos\\\\Projeto_censo_educacao_superior\\\\Microdados do Censo da Educação Superior 2019\\\\dados\\\\MICRODADOS_CADASTRO_CURSOS_2019.CSV\",\n",
    "    \"D:\\\\analise_de_Dados\\\\arquivos_Brutos\\\\Projeto_censo_educacao_superior\\\\Microdados do Censo da Educação Superior 2018\\\\dados\\\\MICRODADOS_CADASTRO_CURSOS_2018.CSV\",\n",
    "    \n",
    "]\n"
   ]
  },
  {
   "cell_type": "code",
   "execution_count": 4,
   "metadata": {},
   "outputs": [
    {
     "name": "stderr",
     "output_type": "stream",
     "text": [
      "C:\\Users\\Thiago\\AppData\\Local\\Temp\\ipykernel_10256\\288032912.py:20: DtypeWarning: Columns (4) have mixed types. Specify dtype option on import or set low_memory=False.\n",
      "  df = pd.read_csv(arquivo, usecols=colunas_para_manter,encoding=\"ISO-8859-1\", sep=';')\n",
      "C:\\Users\\Thiago\\AppData\\Local\\Temp\\ipykernel_10256\\288032912.py:23: FutureWarning: When grouping with a length-1 list-like, you will need to pass a length-1 tuple to get_group in a future version of pandas. Pass `(name,)` instead of `name` to silence this warning.\n",
      "  dados_df = df.groupby(['SG_UF'] ).get_group('DF')\n",
      "C:\\Users\\Thiago\\AppData\\Local\\Temp\\ipykernel_10256\\288032912.py:20: DtypeWarning: Columns (4) have mixed types. Specify dtype option on import or set low_memory=False.\n",
      "  df = pd.read_csv(arquivo, usecols=colunas_para_manter,encoding=\"ISO-8859-1\", sep=';')\n",
      "C:\\Users\\Thiago\\AppData\\Local\\Temp\\ipykernel_10256\\288032912.py:23: FutureWarning: When grouping with a length-1 list-like, you will need to pass a length-1 tuple to get_group in a future version of pandas. Pass `(name,)` instead of `name` to silence this warning.\n",
      "  dados_df = df.groupby(['SG_UF'] ).get_group('DF')\n",
      "C:\\Users\\Thiago\\AppData\\Local\\Temp\\ipykernel_10256\\288032912.py:20: DtypeWarning: Columns (4) have mixed types. Specify dtype option on import or set low_memory=False.\n",
      "  df = pd.read_csv(arquivo, usecols=colunas_para_manter,encoding=\"ISO-8859-1\", sep=';')\n",
      "C:\\Users\\Thiago\\AppData\\Local\\Temp\\ipykernel_10256\\288032912.py:23: FutureWarning: When grouping with a length-1 list-like, you will need to pass a length-1 tuple to get_group in a future version of pandas. Pass `(name,)` instead of `name` to silence this warning.\n",
      "  dados_df = df.groupby(['SG_UF'] ).get_group('DF')\n",
      "C:\\Users\\Thiago\\AppData\\Local\\Temp\\ipykernel_10256\\288032912.py:20: DtypeWarning: Columns (4) have mixed types. Specify dtype option on import or set low_memory=False.\n",
      "  df = pd.read_csv(arquivo, usecols=colunas_para_manter,encoding=\"ISO-8859-1\", sep=';')\n",
      "C:\\Users\\Thiago\\AppData\\Local\\Temp\\ipykernel_10256\\288032912.py:23: FutureWarning: When grouping with a length-1 list-like, you will need to pass a length-1 tuple to get_group in a future version of pandas. Pass `(name,)` instead of `name` to silence this warning.\n",
      "  dados_df = df.groupby(['SG_UF'] ).get_group('DF')\n",
      "C:\\Users\\Thiago\\AppData\\Local\\Temp\\ipykernel_10256\\288032912.py:20: DtypeWarning: Columns (4) have mixed types. Specify dtype option on import or set low_memory=False.\n",
      "  df = pd.read_csv(arquivo, usecols=colunas_para_manter,encoding=\"ISO-8859-1\", sep=';')\n",
      "C:\\Users\\Thiago\\AppData\\Local\\Temp\\ipykernel_10256\\288032912.py:23: FutureWarning: When grouping with a length-1 list-like, you will need to pass a length-1 tuple to get_group in a future version of pandas. Pass `(name,)` instead of `name` to silence this warning.\n",
      "  dados_df = df.groupby(['SG_UF'] ).get_group('DF')\n",
      "C:\\Users\\Thiago\\AppData\\Local\\Temp\\ipykernel_10256\\288032912.py:20: DtypeWarning: Columns (4) have mixed types. Specify dtype option on import or set low_memory=False.\n",
      "  df = pd.read_csv(arquivo, usecols=colunas_para_manter,encoding=\"ISO-8859-1\", sep=';')\n",
      "C:\\Users\\Thiago\\AppData\\Local\\Temp\\ipykernel_10256\\288032912.py:23: FutureWarning: When grouping with a length-1 list-like, you will need to pass a length-1 tuple to get_group in a future version of pandas. Pass `(name,)` instead of `name` to silence this warning.\n",
      "  dados_df = df.groupby(['SG_UF'] ).get_group('DF')\n"
     ]
    }
   ],
   "source": [
    "# Criando o DataFrame para receber o arquivo somente com os Dados do Distrito-Federal( DF)\n",
    "dados_censo_DF = importando_dados(caminhos_lista).reset_index(drop=True)"
   ]
  },
  {
   "cell_type": "code",
   "execution_count": 5,
   "metadata": {},
   "outputs": [],
   "source": [
    "# Importando somente os dados sigla da universidade, para ter os nomes das mesma para melhor identificação\n",
    "df_cadastro_ies = pd.read_csv(\"D:\\\\analise_de_Dados\\\\arquivos_Brutos\\\\Projeto_censo_educacao_superior\\\\Microdados do Censo da Educação Superior 2023\\\\dados\\\\MICRODADOS_ED_SUP_IES_2023.csv\",sep=';',encoding=\"ISO-8859-1\",usecols=['CO_IES','SG_IES'])"
   ]
  },
  {
   "cell_type": "code",
   "execution_count": 6,
   "metadata": {},
   "outputs": [],
   "source": [
    "# Juntando Dataframe com os dados das instituições junto com suas respectivas Siglas.\n",
    "dados_censo_DF_SGIS = pd.merge(dados_censo_DF,df_cadastro_ies,on='CO_IES',how='inner')"
   ]
  },
  {
   "cell_type": "code",
   "execution_count": 7,
   "metadata": {},
   "outputs": [
    {
     "data": {
      "application/vnd.microsoft.datawrangler.viewer.v0+json": {
       "columns": [
        {
         "name": "index",
         "rawType": "int64",
         "type": "integer"
        },
        {
         "name": "NU_ANO_CENSO",
         "rawType": "int64",
         "type": "integer"
        },
        {
         "name": "SG_UF",
         "rawType": "object",
         "type": "string"
        },
        {
         "name": "TP_DIMENSAO",
         "rawType": "int64",
         "type": "integer"
        },
        {
         "name": "TP_ORGANIZACAO_ACADEMICA",
         "rawType": "int64",
         "type": "integer"
        },
        {
         "name": "TP_CATEGORIA_ADMINISTRATIVA",
         "rawType": "int64",
         "type": "integer"
        },
        {
         "name": "TP_REDE",
         "rawType": "int64",
         "type": "integer"
        },
        {
         "name": "CO_IES",
         "rawType": "int64",
         "type": "integer"
        },
        {
         "name": "NO_CURSO",
         "rawType": "object",
         "type": "string"
        },
        {
         "name": "CO_CURSO",
         "rawType": "int64",
         "type": "integer"
        },
        {
         "name": "NO_CINE_ROTULO",
         "rawType": "object",
         "type": "string"
        },
        {
         "name": "CO_CINE_ROTULO",
         "rawType": "object",
         "type": "string"
        },
        {
         "name": "CO_CINE_AREA_GERAL",
         "rawType": "int64",
         "type": "integer"
        },
        {
         "name": "NO_CINE_AREA_GERAL",
         "rawType": "object",
         "type": "string"
        },
        {
         "name": "CO_CINE_AREA_ESPECIFICA",
         "rawType": "int64",
         "type": "integer"
        },
        {
         "name": "NO_CINE_AREA_ESPECIFICA",
         "rawType": "object",
         "type": "string"
        },
        {
         "name": "CO_CINE_AREA_DETALHADA",
         "rawType": "int64",
         "type": "integer"
        },
        {
         "name": "NO_CINE_AREA_DETALHADA",
         "rawType": "object",
         "type": "string"
        },
        {
         "name": "TP_GRAU_ACADEMICO",
         "rawType": "float64",
         "type": "float"
        },
        {
         "name": "IN_GRATUITO",
         "rawType": "int64",
         "type": "integer"
        },
        {
         "name": "TP_MODALIDADE_ENSINO",
         "rawType": "int64",
         "type": "integer"
        },
        {
         "name": "TP_NIVEL_ACADEMICO",
         "rawType": "int64",
         "type": "integer"
        },
        {
         "name": "QT_CURSO",
         "rawType": "float64",
         "type": "float"
        },
        {
         "name": "QT_VG_TOTAL",
         "rawType": "float64",
         "type": "float"
        },
        {
         "name": "QT_VG_TOTAL_DIURNO",
         "rawType": "float64",
         "type": "float"
        },
        {
         "name": "QT_VG_TOTAL_NOTURNO",
         "rawType": "float64",
         "type": "float"
        },
        {
         "name": "QT_VG_TOTAL_EAD",
         "rawType": "float64",
         "type": "float"
        },
        {
         "name": "QT_VG_NOVA",
         "rawType": "float64",
         "type": "float"
        },
        {
         "name": "QT_VG_PROC_SELETIVO",
         "rawType": "float64",
         "type": "float"
        },
        {
         "name": "QT_VG_REMANESC",
         "rawType": "float64",
         "type": "float"
        },
        {
         "name": "QT_VG_PROG_ESPECIAL",
         "rawType": "float64",
         "type": "float"
        },
        {
         "name": "QT_INSCRITO_TOTAL",
         "rawType": "float64",
         "type": "float"
        },
        {
         "name": "QT_INSCRITO_TOTAL_DIURNO",
         "rawType": "float64",
         "type": "float"
        },
        {
         "name": "QT_INSCRITO_TOTAL_NOTURNO",
         "rawType": "float64",
         "type": "float"
        },
        {
         "name": "QT_INSCRITO_TOTAL_EAD",
         "rawType": "float64",
         "type": "float"
        },
        {
         "name": "QT_INSC_VG_NOVA",
         "rawType": "float64",
         "type": "float"
        },
        {
         "name": "QT_INSC_PROC_SELETIVO",
         "rawType": "float64",
         "type": "float"
        },
        {
         "name": "QT_INSC_VG_REMANESC",
         "rawType": "float64",
         "type": "float"
        },
        {
         "name": "QT_INSC_VG_PROG_ESPECIAL",
         "rawType": "float64",
         "type": "float"
        },
        {
         "name": "QT_ING",
         "rawType": "float64",
         "type": "float"
        },
        {
         "name": "QT_ING_FEM",
         "rawType": "float64",
         "type": "float"
        },
        {
         "name": "QT_ING_MASC",
         "rawType": "float64",
         "type": "float"
        },
        {
         "name": "QT_ING_DIURNO",
         "rawType": "float64",
         "type": "float"
        },
        {
         "name": "QT_ING_NOTURNO",
         "rawType": "float64",
         "type": "float"
        },
        {
         "name": "QT_ING_VG_NOVA",
         "rawType": "float64",
         "type": "float"
        },
        {
         "name": "QT_ING_VESTIBULAR",
         "rawType": "float64",
         "type": "float"
        },
        {
         "name": "QT_ING_ENEM",
         "rawType": "float64",
         "type": "float"
        },
        {
         "name": "QT_ING_AVALIACAO_SERIADA",
         "rawType": "float64",
         "type": "float"
        },
        {
         "name": "QT_ING_SELECAO_SIMPLIFICA",
         "rawType": "float64",
         "type": "float"
        },
        {
         "name": "QT_ING_EGR",
         "rawType": "float64",
         "type": "float"
        },
        {
         "name": "QT_ING_OUTRO_TIPO_SELECAO",
         "rawType": "float64",
         "type": "float"
        },
        {
         "name": "QT_ING_PROC_SELETIVO",
         "rawType": "float64",
         "type": "float"
        },
        {
         "name": "QT_ING_VG_REMANESC",
         "rawType": "float64",
         "type": "float"
        },
        {
         "name": "QT_ING_VG_PROG_ESPECIAL",
         "rawType": "float64",
         "type": "float"
        },
        {
         "name": "QT_ING_OUTRA_FORMA",
         "rawType": "float64",
         "type": "float"
        },
        {
         "name": "QT_ING_0_17",
         "rawType": "float64",
         "type": "float"
        },
        {
         "name": "QT_ING_18_24",
         "rawType": "float64",
         "type": "float"
        },
        {
         "name": "QT_ING_25_29",
         "rawType": "float64",
         "type": "float"
        },
        {
         "name": "QT_ING_30_34",
         "rawType": "float64",
         "type": "float"
        },
        {
         "name": "QT_ING_35_39",
         "rawType": "float64",
         "type": "float"
        },
        {
         "name": "QT_ING_40_49",
         "rawType": "float64",
         "type": "float"
        },
        {
         "name": "QT_ING_50_59",
         "rawType": "float64",
         "type": "float"
        },
        {
         "name": "QT_ING_60_MAIS",
         "rawType": "float64",
         "type": "float"
        },
        {
         "name": "QT_ING_BRANCA",
         "rawType": "float64",
         "type": "float"
        },
        {
         "name": "QT_ING_PRETA",
         "rawType": "float64",
         "type": "float"
        },
        {
         "name": "QT_ING_PARDA",
         "rawType": "float64",
         "type": "float"
        },
        {
         "name": "QT_ING_AMARELA",
         "rawType": "float64",
         "type": "float"
        },
        {
         "name": "QT_ING_INDIGENA",
         "rawType": "float64",
         "type": "float"
        },
        {
         "name": "QT_ING_CORND",
         "rawType": "float64",
         "type": "float"
        },
        {
         "name": "QT_MAT",
         "rawType": "float64",
         "type": "float"
        },
        {
         "name": "QT_MAT_FEM",
         "rawType": "float64",
         "type": "float"
        },
        {
         "name": "QT_MAT_MASC",
         "rawType": "float64",
         "type": "float"
        },
        {
         "name": "QT_MAT_DIURNO",
         "rawType": "float64",
         "type": "float"
        },
        {
         "name": "QT_MAT_NOTURNO",
         "rawType": "float64",
         "type": "float"
        },
        {
         "name": "QT_MAT_0_17",
         "rawType": "float64",
         "type": "float"
        },
        {
         "name": "QT_MAT_18_24",
         "rawType": "float64",
         "type": "float"
        },
        {
         "name": "QT_MAT_25_29",
         "rawType": "float64",
         "type": "float"
        },
        {
         "name": "QT_MAT_30_34",
         "rawType": "float64",
         "type": "float"
        },
        {
         "name": "QT_MAT_35_39",
         "rawType": "float64",
         "type": "float"
        },
        {
         "name": "QT_MAT_40_49",
         "rawType": "float64",
         "type": "float"
        },
        {
         "name": "QT_MAT_50_59",
         "rawType": "float64",
         "type": "float"
        },
        {
         "name": "QT_MAT_60_MAIS",
         "rawType": "float64",
         "type": "float"
        },
        {
         "name": "QT_MAT_BRANCA",
         "rawType": "float64",
         "type": "float"
        },
        {
         "name": "QT_MAT_PRETA",
         "rawType": "float64",
         "type": "float"
        },
        {
         "name": "QT_MAT_PARDA",
         "rawType": "float64",
         "type": "float"
        },
        {
         "name": "QT_MAT_AMARELA",
         "rawType": "float64",
         "type": "float"
        },
        {
         "name": "QT_MAT_INDIGENA",
         "rawType": "float64",
         "type": "float"
        },
        {
         "name": "QT_MAT_CORND",
         "rawType": "float64",
         "type": "float"
        },
        {
         "name": "QT_CONC",
         "rawType": "float64",
         "type": "float"
        },
        {
         "name": "QT_CONC_FEM",
         "rawType": "float64",
         "type": "float"
        },
        {
         "name": "QT_CONC_MASC",
         "rawType": "float64",
         "type": "float"
        },
        {
         "name": "QT_CONC_DIURNO",
         "rawType": "float64",
         "type": "float"
        },
        {
         "name": "QT_CONC_NOTURNO",
         "rawType": "float64",
         "type": "float"
        },
        {
         "name": "QT_CONC_0_17",
         "rawType": "float64",
         "type": "float"
        },
        {
         "name": "QT_CONC_18_24",
         "rawType": "float64",
         "type": "float"
        },
        {
         "name": "QT_CONC_25_29",
         "rawType": "float64",
         "type": "float"
        },
        {
         "name": "QT_CONC_30_34",
         "rawType": "float64",
         "type": "float"
        },
        {
         "name": "QT_CONC_35_39",
         "rawType": "float64",
         "type": "float"
        },
        {
         "name": "QT_CONC_40_49",
         "rawType": "float64",
         "type": "float"
        },
        {
         "name": "QT_CONC_50_59",
         "rawType": "float64",
         "type": "float"
        },
        {
         "name": "QT_CONC_60_MAIS",
         "rawType": "float64",
         "type": "float"
        },
        {
         "name": "QT_CONC_BRANCA",
         "rawType": "float64",
         "type": "float"
        },
        {
         "name": "QT_CONC_PRETA",
         "rawType": "float64",
         "type": "float"
        },
        {
         "name": "QT_CONC_PARDA",
         "rawType": "float64",
         "type": "float"
        },
        {
         "name": "QT_CONC_AMARELA",
         "rawType": "float64",
         "type": "float"
        },
        {
         "name": "QT_CONC_INDIGENA",
         "rawType": "float64",
         "type": "float"
        },
        {
         "name": "QT_CONC_CORND",
         "rawType": "float64",
         "type": "float"
        },
        {
         "name": "QT_ING_NACBRAS",
         "rawType": "float64",
         "type": "float"
        },
        {
         "name": "QT_ING_NACESTRANG",
         "rawType": "float64",
         "type": "float"
        },
        {
         "name": "QT_MAT_NACBRAS",
         "rawType": "float64",
         "type": "float"
        },
        {
         "name": "QT_MAT_NACESTRANG",
         "rawType": "float64",
         "type": "float"
        },
        {
         "name": "QT_CONC_NACBRAS",
         "rawType": "float64",
         "type": "float"
        },
        {
         "name": "QT_CONC_NACESTRANG",
         "rawType": "float64",
         "type": "float"
        },
        {
         "name": "QT_ALUNO_DEFICIENTE",
         "rawType": "float64",
         "type": "float"
        },
        {
         "name": "QT_ING_DEFICIENTE",
         "rawType": "float64",
         "type": "float"
        },
        {
         "name": "QT_MAT_DEFICIENTE",
         "rawType": "float64",
         "type": "float"
        },
        {
         "name": "QT_CONC_DEFICIENTE",
         "rawType": "float64",
         "type": "float"
        },
        {
         "name": "QT_ING_FINANC",
         "rawType": "float64",
         "type": "float"
        },
        {
         "name": "QT_ING_FINANC_REEMB",
         "rawType": "float64",
         "type": "float"
        },
        {
         "name": "QT_ING_FIES",
         "rawType": "float64",
         "type": "float"
        },
        {
         "name": "QT_ING_RPFIES",
         "rawType": "float64",
         "type": "float"
        },
        {
         "name": "QT_ING_FINANC_REEMB_OUTROS",
         "rawType": "float64",
         "type": "float"
        },
        {
         "name": "QT_ING_FINANC_NREEMB",
         "rawType": "float64",
         "type": "float"
        },
        {
         "name": "QT_ING_PROUNII",
         "rawType": "float64",
         "type": "float"
        },
        {
         "name": "QT_ING_PROUNIP",
         "rawType": "float64",
         "type": "float"
        },
        {
         "name": "QT_ING_NRPFIES",
         "rawType": "float64",
         "type": "float"
        },
        {
         "name": "QT_ING_FINANC_NREEMB_OUTROS",
         "rawType": "float64",
         "type": "float"
        },
        {
         "name": "QT_MAT_FINANC",
         "rawType": "float64",
         "type": "float"
        },
        {
         "name": "QT_MAT_FINANC_REEMB",
         "rawType": "float64",
         "type": "float"
        },
        {
         "name": "QT_MAT_FIES",
         "rawType": "float64",
         "type": "float"
        },
        {
         "name": "QT_MAT_RPFIES",
         "rawType": "float64",
         "type": "float"
        },
        {
         "name": "QT_MAT_FINANC_REEMB_OUTROS",
         "rawType": "float64",
         "type": "float"
        },
        {
         "name": "QT_MAT_FINANC_NREEMB",
         "rawType": "float64",
         "type": "float"
        },
        {
         "name": "QT_MAT_PROUNII",
         "rawType": "float64",
         "type": "float"
        },
        {
         "name": "QT_MAT_PROUNIP",
         "rawType": "float64",
         "type": "float"
        },
        {
         "name": "QT_MAT_NRPFIES",
         "rawType": "float64",
         "type": "float"
        },
        {
         "name": "QT_MAT_FINANC_NREEMB_OUTROS",
         "rawType": "float64",
         "type": "float"
        },
        {
         "name": "QT_CONC_FINANC",
         "rawType": "float64",
         "type": "float"
        },
        {
         "name": "QT_CONC_FINANC_REEMB",
         "rawType": "float64",
         "type": "float"
        },
        {
         "name": "QT_CONC_FIES",
         "rawType": "float64",
         "type": "float"
        },
        {
         "name": "QT_CONC_RPFIES",
         "rawType": "float64",
         "type": "float"
        },
        {
         "name": "QT_CONC_FINANC_REEMB_OUTROS",
         "rawType": "float64",
         "type": "float"
        },
        {
         "name": "QT_CONC_FINANC_NREEMB",
         "rawType": "float64",
         "type": "float"
        },
        {
         "name": "QT_CONC_PROUNII",
         "rawType": "float64",
         "type": "float"
        },
        {
         "name": "QT_CONC_PROUNIP",
         "rawType": "float64",
         "type": "float"
        },
        {
         "name": "QT_CONC_NRPFIES",
         "rawType": "float64",
         "type": "float"
        },
        {
         "name": "QT_CONC_FINANC_NREEMB_OUTROS",
         "rawType": "float64",
         "type": "float"
        },
        {
         "name": "QT_ING_RESERVA_VAGA",
         "rawType": "float64",
         "type": "float"
        },
        {
         "name": "QT_ING_RVREDEPUBLICA",
         "rawType": "float64",
         "type": "float"
        },
        {
         "name": "QT_ING_RVETNICO",
         "rawType": "float64",
         "type": "float"
        },
        {
         "name": "QT_ING_RVPDEF",
         "rawType": "float64",
         "type": "float"
        },
        {
         "name": "QT_ING_RVSOCIAL_RF",
         "rawType": "float64",
         "type": "float"
        },
        {
         "name": "QT_ING_RVOUTROS",
         "rawType": "float64",
         "type": "float"
        },
        {
         "name": "QT_MAT_RESERVA_VAGA",
         "rawType": "float64",
         "type": "float"
        },
        {
         "name": "QT_MAT_RVREDEPUBLICA",
         "rawType": "float64",
         "type": "float"
        },
        {
         "name": "QT_MAT_RVETNICO",
         "rawType": "float64",
         "type": "float"
        },
        {
         "name": "QT_MAT_RVPDEF",
         "rawType": "float64",
         "type": "float"
        },
        {
         "name": "QT_MAT_RVSOCIAL_RF",
         "rawType": "float64",
         "type": "float"
        },
        {
         "name": "QT_MAT_RVOUTROS",
         "rawType": "float64",
         "type": "float"
        },
        {
         "name": "QT_CONC_RESERVA_VAGA",
         "rawType": "float64",
         "type": "float"
        },
        {
         "name": "QT_CONC_RVREDEPUBLICA",
         "rawType": "float64",
         "type": "float"
        },
        {
         "name": "QT_CONC_RVETNICO",
         "rawType": "float64",
         "type": "float"
        },
        {
         "name": "QT_CONC_RVPDEF",
         "rawType": "float64",
         "type": "float"
        },
        {
         "name": "QT_CONC_RVSOCIAL_RF",
         "rawType": "float64",
         "type": "float"
        },
        {
         "name": "QT_CONC_RVOUTROS",
         "rawType": "float64",
         "type": "float"
        },
        {
         "name": "QT_SIT_TRANCADA",
         "rawType": "float64",
         "type": "float"
        },
        {
         "name": "QT_SIT_DESVINCULADO",
         "rawType": "float64",
         "type": "float"
        },
        {
         "name": "QT_SIT_TRANSFERIDO",
         "rawType": "float64",
         "type": "float"
        },
        {
         "name": "QT_SIT_FALECIDO",
         "rawType": "float64",
         "type": "float"
        },
        {
         "name": "QT_ING_PROCESCPUBLICA",
         "rawType": "float64",
         "type": "float"
        },
        {
         "name": "QT_ING_PROCESCPRIVADA",
         "rawType": "float64",
         "type": "float"
        },
        {
         "name": "QT_ING_PROCNAOINFORMADA",
         "rawType": "float64",
         "type": "float"
        },
        {
         "name": "QT_MAT_PROCESCPUBLICA",
         "rawType": "float64",
         "type": "float"
        },
        {
         "name": "QT_MAT_PROCESCPRIVADA",
         "rawType": "float64",
         "type": "float"
        },
        {
         "name": "QT_MAT_PROCNAOINFORMADA",
         "rawType": "float64",
         "type": "float"
        },
        {
         "name": "QT_CONC_PROCESCPUBLICA",
         "rawType": "float64",
         "type": "float"
        },
        {
         "name": "QT_CONC_PROCESCPRIVADA",
         "rawType": "float64",
         "type": "float"
        },
        {
         "name": "QT_CONC_PROCNAOINFORMADA",
         "rawType": "float64",
         "type": "float"
        },
        {
         "name": "QT_PARFOR",
         "rawType": "float64",
         "type": "float"
        },
        {
         "name": "QT_ING_PARFOR",
         "rawType": "float64",
         "type": "float"
        },
        {
         "name": "QT_MAT_PARFOR",
         "rawType": "float64",
         "type": "float"
        },
        {
         "name": "QT_CONC_PARFOR",
         "rawType": "float64",
         "type": "float"
        },
        {
         "name": "QT_APOIO_SOCIAL",
         "rawType": "float64",
         "type": "float"
        },
        {
         "name": "QT_ING_APOIO_SOCIAL",
         "rawType": "float64",
         "type": "float"
        },
        {
         "name": "QT_MAT_APOIO_SOCIAL",
         "rawType": "float64",
         "type": "float"
        },
        {
         "name": "QT_CONC_APOIO_SOCIAL",
         "rawType": "float64",
         "type": "float"
        },
        {
         "name": "QT_ATIV_EXTRACURRICULAR",
         "rawType": "float64",
         "type": "float"
        },
        {
         "name": "QT_ING_ATIV_EXTRACURRICULAR",
         "rawType": "float64",
         "type": "float"
        },
        {
         "name": "QT_MAT_ATIV_EXTRACURRICULAR",
         "rawType": "float64",
         "type": "float"
        },
        {
         "name": "QT_CONC_ATIV_EXTRACURRICULAR",
         "rawType": "float64",
         "type": "float"
        },
        {
         "name": "QT_MOB_ACADEMICA",
         "rawType": "float64",
         "type": "float"
        },
        {
         "name": "QT_ING_MOB_ACADEMICA",
         "rawType": "float64",
         "type": "float"
        },
        {
         "name": "QT_MAT_MOB_ACADEMICA",
         "rawType": "float64",
         "type": "float"
        },
        {
         "name": "QT_CONC_MOB_ACADEMICA",
         "rawType": "float64",
         "type": "float"
        },
        {
         "name": "CO_CINE_ROTULO2",
         "rawType": "object",
         "type": "unknown"
        },
        {
         "name": "IN_COMUNITARIA",
         "rawType": "float64",
         "type": "float"
        },
        {
         "name": "IN_CONFESSIONAL",
         "rawType": "float64",
         "type": "float"
        },
        {
         "name": "SG_IES",
         "rawType": "object",
         "type": "string"
        }
       ],
       "ref": "7dd1fc9d-7096-4539-b9f3-6bc11800d8f4",
       "rows": [
        [
         "0",
         "2018",
         "DF",
         "1",
         "1",
         "1",
         "1",
         "2",
         "ABI - ARTES CÊNICAS",
         "5001035",
         "ABI Artes e humanidades",
         "\"0011A02\"",
         "0",
         "Programas básicos",
         "1",
         "Programas básicos",
         "11",
         "Programas básicos",
         null,
         "1",
         "1",
         "1",
         "0.0",
         "52.0",
         "52.0",
         "0.0",
         "0.0",
         "52.0",
         "0.0",
         "0.0",
         "0.0",
         "96.0",
         "96.0",
         "0.0",
         "0.0",
         "96.0",
         "0.0",
         "0.0",
         "0.0",
         "51.0",
         "32.0",
         "19.0",
         "51.0",
         "0.0",
         "51.0",
         "26.0",
         "13.0",
         "12.0",
         "0.0",
         "0.0",
         "0.0",
         "0.0",
         "0.0",
         "0.0",
         "0.0",
         "2.0",
         "40.0",
         "5.0",
         "2.0",
         "2.0",
         "0.0",
         "0.0",
         "0.0",
         "17.0",
         "10.0",
         "10.0",
         "1.0",
         "0.0",
         "13.0",
         "45.0",
         "29.0",
         "16.0",
         "45.0",
         "0.0",
         "2.0",
         "35.0",
         "5.0",
         "1.0",
         "2.0",
         "0.0",
         "0.0",
         "0.0",
         "13.0",
         "9.0",
         "10.0",
         "1.0",
         "0.0",
         "12.0",
         "0.0",
         "0.0",
         "0.0",
         "0.0",
         "0.0",
         "0.0",
         "0.0",
         "0.0",
         "0.0",
         "0.0",
         "0.0",
         "0.0",
         "0.0",
         "0.0",
         "0.0",
         "0.0",
         "0.0",
         "0.0",
         "0.0",
         "51.0",
         "0.0",
         "45.0",
         "0.0",
         "0.0",
         "0.0",
         "0.0",
         "0.0",
         "0.0",
         "0.0",
         "0.0",
         "0.0",
         "0.0",
         "0.0",
         "0.0",
         "0.0",
         "0.0",
         "0.0",
         "0.0",
         "0.0",
         "0.0",
         "0.0",
         "0.0",
         "0.0",
         "0.0",
         "0.0",
         "0.0",
         "0.0",
         "0.0",
         "0.0",
         "0.0",
         "0.0",
         "0.0",
         "0.0",
         "0.0",
         "0.0",
         "0.0",
         "0.0",
         "0.0",
         "0.0",
         "20.0",
         "15.0",
         "13.0",
         "0.0",
         "7.0",
         "0.0",
         "20.0",
         "15.0",
         "13.0",
         "0.0",
         "7.0",
         "0.0",
         "0.0",
         "0.0",
         "0.0",
         "0.0",
         "0.0",
         "0.0",
         "4.0",
         "3.0",
         "50.0",
         "0.0",
         "20.0",
         "31.0",
         "0.0",
         "20.0",
         "25.0",
         "0.0",
         "0.0",
         "0.0",
         "0.0",
         "0.0",
         "0.0",
         "0.0",
         "0.0",
         "9.0",
         "4.0",
         "4.0",
         "0.0",
         "19.0",
         "8.0",
         "8.0",
         "0.0",
         "0.0",
         "0.0",
         "0.0",
         "0.0",
         null,
         null,
         null,
         "UNB"
        ],
        [
         "1",
         "2018",
         "DF",
         "1",
         "1",
         "1",
         "1",
         "2",
         "ABI - ARTES PLÁSTICAS",
         "5001034",
         "ABI Artes e humanidades",
         "\"0011A02\"",
         "0",
         "Programas básicos",
         "1",
         "Programas básicos",
         "11",
         "Programas básicos",
         null,
         "1",
         "1",
         "1",
         "0.0",
         "60.0",
         "60.0",
         "0.0",
         "0.0",
         "60.0",
         "0.0",
         "0.0",
         "0.0",
         "94.0",
         "94.0",
         "0.0",
         "0.0",
         "94.0",
         "0.0",
         "0.0",
         "0.0",
         "60.0",
         "38.0",
         "22.0",
         "60.0",
         "0.0",
         "60.0",
         "23.0",
         "15.0",
         "22.0",
         "0.0",
         "0.0",
         "0.0",
         "0.0",
         "0.0",
         "0.0",
         "0.0",
         "0.0",
         "51.0",
         "3.0",
         "4.0",
         "1.0",
         "0.0",
         "1.0",
         "0.0",
         "22.0",
         "3.0",
         "18.0",
         "0.0",
         "0.0",
         "17.0",
         "57.0",
         "36.0",
         "21.0",
         "57.0",
         "0.0",
         "0.0",
         "48.0",
         "3.0",
         "4.0",
         "1.0",
         "0.0",
         "1.0",
         "0.0",
         "20.0",
         "3.0",
         "18.0",
         "0.0",
         "0.0",
         "16.0",
         "0.0",
         "0.0",
         "0.0",
         "0.0",
         "0.0",
         "0.0",
         "0.0",
         "0.0",
         "0.0",
         "0.0",
         "0.0",
         "0.0",
         "0.0",
         "0.0",
         "0.0",
         "0.0",
         "0.0",
         "0.0",
         "0.0",
         "60.0",
         "0.0",
         "57.0",
         "0.0",
         "0.0",
         "0.0",
         "1.0",
         "0.0",
         "0.0",
         "0.0",
         "0.0",
         "0.0",
         "0.0",
         "0.0",
         "0.0",
         "0.0",
         "0.0",
         "0.0",
         "0.0",
         "0.0",
         "0.0",
         "0.0",
         "0.0",
         "0.0",
         "0.0",
         "0.0",
         "0.0",
         "0.0",
         "0.0",
         "0.0",
         "0.0",
         "0.0",
         "0.0",
         "0.0",
         "0.0",
         "0.0",
         "0.0",
         "0.0",
         "0.0",
         "0.0",
         "19.0",
         "17.0",
         "13.0",
         "0.0",
         "7.0",
         "0.0",
         "18.0",
         "16.0",
         "13.0",
         "0.0",
         "7.0",
         "0.0",
         "0.0",
         "0.0",
         "0.0",
         "0.0",
         "0.0",
         "0.0",
         "2.0",
         "1.0",
         "60.0",
         "0.0",
         "21.0",
         "39.0",
         "0.0",
         "20.0",
         "37.0",
         "0.0",
         "0.0",
         "0.0",
         "0.0",
         "0.0",
         "0.0",
         "0.0",
         "0.0",
         "9.0",
         "5.0",
         "5.0",
         "0.0",
         "14.0",
         "4.0",
         "4.0",
         "0.0",
         "0.0",
         "0.0",
         "0.0",
         "0.0",
         null,
         null,
         null,
         "UNB"
        ],
        [
         "2",
         "2018",
         "DF",
         "1",
         "1",
         "1",
         "1",
         "2",
         "ABI - CIÊNCIAS SOCIAIS",
         "5001037",
         "ABI Ciências sociais, comunicação e informação",
         "\"0011A03\"",
         "0",
         "Programas básicos",
         "1",
         "Programas básicos",
         "11",
         "Programas básicos",
         null,
         "1",
         "1",
         "1",
         "0.0",
         "180.0",
         "180.0",
         "0.0",
         "0.0",
         "180.0",
         "0.0",
         "0.0",
         "0.0",
         "713.0",
         "713.0",
         "0.0",
         "0.0",
         "713.0",
         "0.0",
         "0.0",
         "0.0",
         "179.0",
         "118.0",
         "61.0",
         "179.0",
         "0.0",
         "179.0",
         "47.0",
         "44.0",
         "88.0",
         "0.0",
         "0.0",
         "0.0",
         "0.0",
         "0.0",
         "0.0",
         "0.0",
         "4.0",
         "150.0",
         "12.0",
         "4.0",
         "5.0",
         "3.0",
         "1.0",
         "0.0",
         "59.0",
         "21.0",
         "68.0",
         "1.0",
         "1.0",
         "29.0",
         "165.0",
         "112.0",
         "53.0",
         "165.0",
         "0.0",
         "4.0",
         "142.0",
         "12.0",
         "0.0",
         "3.0",
         "3.0",
         "1.0",
         "0.0",
         "56.0",
         "20.0",
         "59.0",
         "1.0",
         "1.0",
         "28.0",
         "0.0",
         "0.0",
         "0.0",
         "0.0",
         "0.0",
         "0.0",
         "0.0",
         "0.0",
         "0.0",
         "0.0",
         "0.0",
         "0.0",
         "0.0",
         "0.0",
         "0.0",
         "0.0",
         "0.0",
         "0.0",
         "0.0",
         "179.0",
         "0.0",
         "165.0",
         "0.0",
         "0.0",
         "0.0",
         "0.0",
         "0.0",
         "0.0",
         "0.0",
         "0.0",
         "0.0",
         "0.0",
         "0.0",
         "0.0",
         "0.0",
         "0.0",
         "0.0",
         "0.0",
         "0.0",
         "0.0",
         "0.0",
         "0.0",
         "0.0",
         "0.0",
         "0.0",
         "0.0",
         "0.0",
         "0.0",
         "0.0",
         "0.0",
         "0.0",
         "0.0",
         "0.0",
         "0.0",
         "0.0",
         "0.0",
         "0.0",
         "0.0",
         "0.0",
         "97.0",
         "88.0",
         "58.0",
         "0.0",
         "34.0",
         "0.0",
         "88.0",
         "79.0",
         "52.0",
         "0.0",
         "29.0",
         "0.0",
         "0.0",
         "0.0",
         "0.0",
         "0.0",
         "0.0",
         "0.0",
         "13.0",
         "8.0",
         "154.0",
         "0.0",
         "100.0",
         "79.0",
         "0.0",
         "91.0",
         "74.0",
         "0.0",
         "0.0",
         "0.0",
         "0.0",
         "0.0",
         "0.0",
         "0.0",
         "0.0",
         "39.0",
         "12.0",
         "11.0",
         "0.0",
         "74.0",
         "24.0",
         "24.0",
         "0.0",
         "0.0",
         "0.0",
         "0.0",
         "0.0",
         null,
         null,
         null,
         "UNB"
        ]
       ],
       "shape": {
        "columns": 197,
        "rows": 3
       }
      },
      "text/html": [
       "<div>\n",
       "<style scoped>\n",
       "    .dataframe tbody tr th:only-of-type {\n",
       "        vertical-align: middle;\n",
       "    }\n",
       "\n",
       "    .dataframe tbody tr th {\n",
       "        vertical-align: top;\n",
       "    }\n",
       "\n",
       "    .dataframe thead th {\n",
       "        text-align: right;\n",
       "    }\n",
       "</style>\n",
       "<table border=\"1\" class=\"dataframe\">\n",
       "  <thead>\n",
       "    <tr style=\"text-align: right;\">\n",
       "      <th></th>\n",
       "      <th>NU_ANO_CENSO</th>\n",
       "      <th>SG_UF</th>\n",
       "      <th>TP_DIMENSAO</th>\n",
       "      <th>TP_ORGANIZACAO_ACADEMICA</th>\n",
       "      <th>TP_CATEGORIA_ADMINISTRATIVA</th>\n",
       "      <th>TP_REDE</th>\n",
       "      <th>CO_IES</th>\n",
       "      <th>NO_CURSO</th>\n",
       "      <th>CO_CURSO</th>\n",
       "      <th>NO_CINE_ROTULO</th>\n",
       "      <th>...</th>\n",
       "      <th>QT_MAT_ATIV_EXTRACURRICULAR</th>\n",
       "      <th>QT_CONC_ATIV_EXTRACURRICULAR</th>\n",
       "      <th>QT_MOB_ACADEMICA</th>\n",
       "      <th>QT_ING_MOB_ACADEMICA</th>\n",
       "      <th>QT_MAT_MOB_ACADEMICA</th>\n",
       "      <th>QT_CONC_MOB_ACADEMICA</th>\n",
       "      <th>CO_CINE_ROTULO2</th>\n",
       "      <th>IN_COMUNITARIA</th>\n",
       "      <th>IN_CONFESSIONAL</th>\n",
       "      <th>SG_IES</th>\n",
       "    </tr>\n",
       "  </thead>\n",
       "  <tbody>\n",
       "    <tr>\n",
       "      <th>0</th>\n",
       "      <td>2018</td>\n",
       "      <td>DF</td>\n",
       "      <td>1</td>\n",
       "      <td>1</td>\n",
       "      <td>1</td>\n",
       "      <td>1</td>\n",
       "      <td>2</td>\n",
       "      <td>ABI - ARTES CÊNICAS</td>\n",
       "      <td>5001035</td>\n",
       "      <td>ABI Artes e humanidades</td>\n",
       "      <td>...</td>\n",
       "      <td>8.0</td>\n",
       "      <td>0.0</td>\n",
       "      <td>0.0</td>\n",
       "      <td>0.0</td>\n",
       "      <td>0.0</td>\n",
       "      <td>0.0</td>\n",
       "      <td>NaN</td>\n",
       "      <td>NaN</td>\n",
       "      <td>NaN</td>\n",
       "      <td>UNB</td>\n",
       "    </tr>\n",
       "    <tr>\n",
       "      <th>1</th>\n",
       "      <td>2018</td>\n",
       "      <td>DF</td>\n",
       "      <td>1</td>\n",
       "      <td>1</td>\n",
       "      <td>1</td>\n",
       "      <td>1</td>\n",
       "      <td>2</td>\n",
       "      <td>ABI - ARTES PLÁSTICAS</td>\n",
       "      <td>5001034</td>\n",
       "      <td>ABI Artes e humanidades</td>\n",
       "      <td>...</td>\n",
       "      <td>4.0</td>\n",
       "      <td>0.0</td>\n",
       "      <td>0.0</td>\n",
       "      <td>0.0</td>\n",
       "      <td>0.0</td>\n",
       "      <td>0.0</td>\n",
       "      <td>NaN</td>\n",
       "      <td>NaN</td>\n",
       "      <td>NaN</td>\n",
       "      <td>UNB</td>\n",
       "    </tr>\n",
       "    <tr>\n",
       "      <th>2</th>\n",
       "      <td>2018</td>\n",
       "      <td>DF</td>\n",
       "      <td>1</td>\n",
       "      <td>1</td>\n",
       "      <td>1</td>\n",
       "      <td>1</td>\n",
       "      <td>2</td>\n",
       "      <td>ABI - CIÊNCIAS SOCIAIS</td>\n",
       "      <td>5001037</td>\n",
       "      <td>ABI Ciências sociais, comunicação e informação</td>\n",
       "      <td>...</td>\n",
       "      <td>24.0</td>\n",
       "      <td>0.0</td>\n",
       "      <td>0.0</td>\n",
       "      <td>0.0</td>\n",
       "      <td>0.0</td>\n",
       "      <td>0.0</td>\n",
       "      <td>NaN</td>\n",
       "      <td>NaN</td>\n",
       "      <td>NaN</td>\n",
       "      <td>UNB</td>\n",
       "    </tr>\n",
       "  </tbody>\n",
       "</table>\n",
       "<p>3 rows × 197 columns</p>\n",
       "</div>"
      ],
      "text/plain": [
       "   NU_ANO_CENSO SG_UF  TP_DIMENSAO  TP_ORGANIZACAO_ACADEMICA  \\\n",
       "0          2018    DF            1                         1   \n",
       "1          2018    DF            1                         1   \n",
       "2          2018    DF            1                         1   \n",
       "\n",
       "   TP_CATEGORIA_ADMINISTRATIVA  TP_REDE  CO_IES                NO_CURSO  \\\n",
       "0                            1        1       2     ABI - ARTES CÊNICAS   \n",
       "1                            1        1       2   ABI - ARTES PLÁSTICAS   \n",
       "2                            1        1       2  ABI - CIÊNCIAS SOCIAIS   \n",
       "\n",
       "   CO_CURSO                                  NO_CINE_ROTULO  ...  \\\n",
       "0   5001035                         ABI Artes e humanidades  ...   \n",
       "1   5001034                         ABI Artes e humanidades  ...   \n",
       "2   5001037  ABI Ciências sociais, comunicação e informação  ...   \n",
       "\n",
       "  QT_MAT_ATIV_EXTRACURRICULAR  QT_CONC_ATIV_EXTRACURRICULAR QT_MOB_ACADEMICA  \\\n",
       "0                         8.0                           0.0              0.0   \n",
       "1                         4.0                           0.0              0.0   \n",
       "2                        24.0                           0.0              0.0   \n",
       "\n",
       "   QT_ING_MOB_ACADEMICA QT_MAT_MOB_ACADEMICA  QT_CONC_MOB_ACADEMICA  \\\n",
       "0                   0.0                  0.0                    0.0   \n",
       "1                   0.0                  0.0                    0.0   \n",
       "2                   0.0                  0.0                    0.0   \n",
       "\n",
       "  CO_CINE_ROTULO2  IN_COMUNITARIA  IN_CONFESSIONAL  SG_IES  \n",
       "0             NaN             NaN              NaN     UNB  \n",
       "1             NaN             NaN              NaN     UNB  \n",
       "2             NaN             NaN              NaN     UNB  \n",
       "\n",
       "[3 rows x 197 columns]"
      ]
     },
     "execution_count": 7,
     "metadata": {},
     "output_type": "execute_result"
    }
   ],
   "source": [
    "# Visualizando Dataframe completo.\n",
    "dados_censo_DF_SGIS.head(3)"
   ]
  },
  {
   "cell_type": "code",
   "execution_count": 8,
   "metadata": {},
   "outputs": [
    {
     "data": {
      "text/plain": [
       "array(['UNB', 'UNIP', 'UNICEUB', 'UCB', 'UPIS', 'UDF', 'FADM', 'IESB',\n",
       "       'UNIEURO', 'Anhanguera DF', 'UNIPLAN', 'FACEF', 'UNIPROJEÇÃO',\n",
       "       'ESTÁCIO BRASÍLIA', 'FAPRO', 'FACBRAS', 'FALBE', 'UNIPROCESSUS',\n",
       "       nan, 'ISALBE', 'UNILS', 'FTBB', 'Unicesp', 'FACULDADE FABRAS',\n",
       "       'UNIMAUÁ', 'FAC CCI', 'ICESP', 'APOGEU', 'UNICEPLAC', 'IDP-BSB',\n",
       "       'FATEO', 'IFB', 'FACHORIZONTE', 'ISCP', 'FANASPS', 'FATECNA',\n",
       "       'ESAS', 'FACDF', 'FPMB', 'ATAME', 'FACTI', 'ISCON', 'FACE',\n",
       "       'MACKENZIE', 'UNAR', 'CLARETIANOBT', 'UNIUBE', 'UNESA', 'UMESP',\n",
       "       'UNICSUL', 'Unopar', 'UB', 'FMU', 'UNISA', 'UNIFACS', 'UCDB',\n",
       "       'UNICID', 'UAM', 'Univeritas UNG', 'UNISUL', 'UNICNEC', 'UNIDERP',\n",
       "       'UNIGRAN', 'UNICEUMA', 'UP', 'UNICESUMAR', 'UNIFAEL',\n",
       "       'ESTÁCIO RIBEIRÃO PRE', 'UNIFACCAMP', 'UNASP', 'UNIASSELVI',\n",
       "       'UNIDOM - BOSCO', 'UNINTER', 'UNIGRANDE', 'AIEC / FAAB', 'EBAPE',\n",
       "       'UNINASSAU', 'UNIS-MG', 'UNIFACVEST', 'SENACSP', 'UNISIGNORELLI',\n",
       "       'FACAP', 'Nassau Brasília', 'FBr', 'UNOESTE', 'UNIFIL', 'UNIPAR',\n",
       "       'ULBRA', \"UNISANT'ANNA\", 'FCE', 'CAM', 'São Lucas PVH',\n",
       "       'UniFavip Wyden', 'UNILINS', 'ENIAC', 'FAESF/UNEF', 'FATIN',\n",
       "       'FIPECAFI', 'FU', 'FGV EPPG', 'FPC', 'UNINOVE', 'UNIVERSO',\n",
       "       'UNISANTA', 'UNIFAVENI', 'UniCV', 'UNINTA', 'EDUCA+', 'FACNOPAR',\n",
       "       'FGV/IDT', 'FAC UNIABA', 'UNAMA', 'UNIFRAN', 'UNILASALLE',\n",
       "       'UNIVATES', 'UNIAN-RJ', 'UNIFAMMA', 'UNIDOMPEDRO', 'UNIFATECIE',\n",
       "       'UNINORTE', 'UNIARAXÁ', 'UNI SANTA CRUZ', 'FSFA',\n",
       "       'FACULDADE FITEC', 'FAMEESP', 'FASUL EDUCACIONAL', 'FACETEN',\n",
       "       'ESNS', 'UnDF', 'Ibmec Brasília', 'UniEVANGÉLICA', 'UNIAMÉRICA',\n",
       "       'UniBRASÍLIA', 'UNIFATEC', 'UCL', 'UNICARIOCA', 'MULTIVIX SERRA',\n",
       "       'EFICAZ', 'FSF', 'FUNIP', 'FACSU', 'FASOUZA', 'FD', 'INSIDE',\n",
       "       'FAG', 'FCN', 'UCSAL', 'PUCRS', 'GRAN', 'UFBRA', 'GRAU', 'FAVI'],\n",
       "      dtype=object)"
      ]
     },
     "execution_count": 8,
     "metadata": {},
     "output_type": "execute_result"
    }
   ],
   "source": [
    "# Visualizando todas as instituições disponíveis.\n",
    "dados_censo_DF_SGIS['SG_IES'].unique()"
   ]
  },
  {
   "cell_type": "markdown",
   "metadata": {},
   "source": [
    "| Nome da instituição                          | Sigla       | Categoria Administrativa    | Organização Acadêmica | IGC | Ano  | Link (MEC/e-MEC)                                                                                                        |\n",
    "| -------------------------------------------- | ----------- | --------------------------- | --------------------- | --- | ---- | ----------------------------------------------------------------------------------------------------------------------- |\n",
    "| Universidade de Brasília                     | UNB         | Pública federal             | Universidade          | 5   | 2021 | [Consulta e-MEC](https://emec.mec.gov.br/emec/consulta-cadastro/detalhes-ies/d96957f455f6405d14c6542552b0f6eb/Mg==)     |\n",
    "| Instituto Federal de Brasília                | IFB         | Pública federal             | Instituto Federal     | 4   | 2021 | – (sem página e-MEC disponível)                                                                                         |\n",
    "| Universidade Católica de Brasília            | UCB         | Privada sem fins lucrativos | Universidade          | 4   | 2021 | [Consulta e-MEC](https://emec.mec.gov.br/emec/consulta-cadastro/detalhes-ies/d96957f455f6405d14c6542552b0f6eb/NDAz)     |\n",
    "| Centro Univ. de Brasília                     | UNICEUB     | Privada sem fins lucrativos | Centro Universitário  | 4   | 2021 | [Consulta e-MEC](https://emec.mec.gov.br/emec/consulta-cadastro/detalhes-ies/d96957f455f6405d14c6542552b0f6eb/NDAy)     |\n",
    "| Centro Univ. do Distrito Federal             | UDF         | Privada com fins lucrativos | Centro Universitário  | 3   | 2022 | [Consulta e-MEC](https://emec.mec.gov.br/emec/consulta-cadastro/detalhes-ies/d96957f455f6405d14c6542552b0f6eb/NTE4)     |\n",
    "| Centro Univ. IES Brasília                    | IESB        | Privada com fins lucrativos | Centro Universitário  | 3   | 2022 | [Consulta e-MEC](https://emec.mec.gov.br/emec/consulta-cadastro/detalhes-ies/d96957f455f6405d14c6542552b0f6eb/MTA2MA==) |\n",
    "| Centro Univ. Planalto Central (UNICEPLAC)    | UNICEPLAC   | Privada sem fins lucrativos | Centro Universitário  | 4   | 2021 | [Consulta e-MEC](https://emec.mec.gov.br/emec/consulta-cadastro/detalhes-ies/d96957f455f6405d14c6542552b0f6eb/NTQzOQ==) |\n",
    "| Centro Univ. LS (Centro Universitário LS)    | UNILS       | Privada com fins lucrativos | Centro Universitário  | 4   | 2021 | [Consulta e-MEC](https://emec.mec.gov.br/emec/consulta-cadastro/detalhes-ies/d96957f455f6405d14c6542552b0f6eb/MzM5Ng==) |\n",
    "| Centro Univ. Projeção (Sobradinho)           | UNIPROJEÇÃO | Privada sem fins lucrativos | Centro Universitário  | 4   | 2021 | [Consulta e-MEC](https://emec.mec.gov.br/emec/consulta-cadastro/detalhes-ies/d96957f455f6405d14c6542552b0f6eb/MTUzOA==) |\n",
    "| Instituto Brasileiro de Ensino, Desenvolvimento e Pesquisa de Brasília | IDP-BSB     | Privada    | Faculdade             | 4   | 2021 | – (sem página e-MEC disponível)                                                                                         |\n"
   ]
  },
  {
   "cell_type": "code",
   "execution_count": 9,
   "metadata": {},
   "outputs": [],
   "source": [
    "# SELECIONANDO AS MELHORES FACULDADES PUBLICAS E PRIVADAS DE ACORDO COM A NOTA DO MEC NO DF\n",
    "censo_DF_faculdades = dados_censo_DF_SGIS[dados_censo_DF_SGIS['SG_IES'].isin(['UNB','IFB','UNILS','UCB','IESB','UNICEUB','UNICEPLAC','UDF','IDP-BSB','UNIPROJEÇÃO'])]"
   ]
  },
  {
   "cell_type": "markdown",
   "metadata": {},
   "source": [
    "🔍 Etapa de Pré-processamento dos Dados\n",
    "Durante a etapa de pré-processamento dos dados, identificamos um total de 197 variáveis disponíveis para análise. Considerando o escopo do trabalho e o objetivo de manter um foco mais direcionado, optamos por realizar uma seleção manual das colunas que poderiam contribuir de forma mais direta para a compreensão das possíveis causas de desistência nos cursos de graduação.\n",
    "\n",
    "A seleção levou em conta a relevância das variáveis para a análise, priorizando aquelas relacionadas a:\n",
    "\n",
    "Características dos cursos\n",
    "\n",
    "Perfil dos alunos\n",
    "\n",
    "Formas de ingresso\n",
    "\n",
    "Turnos\n",
    "\n",
    "Modalidades\n",
    "\n",
    "Outros fatores potencialmente associados à evasão\n",
    "\n",
    "Após esse processo, reduzimos o número de variáveis para 71, listadas a seguir:\n",
    "\n",
    "<details> <summary><strong>📋 Lista de variáveis selecionadas (clique para expandir)</strong></summary>\n",
    "[\n",
    "  'NU_ANO_CENSO','SG_IES','CO_IES','NO_CURSO','TP_ORGANIZACAO_ACADEMICA','TP_REDE',\n",
    "  'NO_CINE_ROTULO','NO_CINE_AREA_GERAL','NO_CINE_AREA_ESPECIFICA','NO_CINE_AREA_DETALHADA',\n",
    "  'TP_GRAU_ACADEMICO','IN_GRATUITO','TP_MODALIDADE_ENSINO','TP_NIVEL_ACADEMICO','QT_VG_TOTAL',\n",
    "  \"QT_ING_ENEM\",\"QT_ING_VESTIBULAR\",'QT_INSCRITO_TOTAL_EAD','QT_VG_TOTAL_EAD','QT_VG_TOTAL_DIURNO',\n",
    "  'QT_VG_TOTAL_NOTURNO','QT_MAT', 'QT_MAT_FEM', 'QT_MAT_MASC', 'QT_MAT_DIURNO', 'QT_MAT_NOTURNO',\n",
    "  'QT_MAT_0_17', 'QT_MAT_18_24', 'QT_MAT_25_29', 'QT_MAT_30_34', 'QT_MAT_35_39', 'QT_MAT_40_49',\n",
    "  'QT_MAT_50_59', 'QT_MAT_60_MAIS', 'QT_MAT_BRANCA', 'QT_MAT_PRETA', 'QT_MAT_PARDA',\n",
    "  'QT_MAT_AMARELA', 'QT_MAT_INDIGENA', 'QT_MAT_CORND', 'QT_CONC', 'QT_CONC_FEM', 'QT_CONC_MASC',\n",
    "  'QT_CONC_DIURNO', 'QT_CONC_NOTURNO', 'QT_CONC_0_17', 'QT_CONC_18_24', 'QT_CONC_25_29',\n",
    "  'QT_CONC_30_34', 'QT_CONC_35_39', 'QT_CONC_40_49', 'QT_CONC_50_59', 'QT_CONC_60_MAIS',\n",
    "  'QT_CONC_BRANCA', 'QT_CONC_PRETA', 'QT_CONC_PARDA', 'QT_CONC_AMARELA', 'QT_CONC_INDIGENA',\n",
    "  'QT_CONC_CORND','QT_MAT_NACESTRANG','QT_CONC_NACESTRANG','QT_MAT_DEFICIENTE',\n",
    "  'QT_CONC_DEFICIENTE','QT_MAT_FINANC','QT_CONC_FINANC','QT_MAT_PROCESCPUBLICA',\n",
    "  'QT_MAT_PROCESCPRIVADA', 'QT_MAT_PROCNAOINFORMADA','QT_CONC_PROCESCPUBLICA',\n",
    "  'QT_CONC_PROCESCPRIVADA', 'QT_CONC_PROCNAOINFORMADA'\n",
    "]\n",
    "</details>"
   ]
  },
  {
   "cell_type": "code",
   "execution_count": 10,
   "metadata": {},
   "outputs": [],
   "source": [
    "# SELECIONADO COLUNAS PARA ANÁLISE.\n",
    "Colunas_para_censo= ['NU_ANO_CENSO','SG_IES','CO_IES','NO_CURSO','TP_ORGANIZACAO_ACADEMICA','TP_REDE','NO_CINE_ROTULO','NO_CINE_AREA_GERAL','NO_CINE_AREA_ESPECIFICA','NO_CINE_AREA_DETALHADA','TP_GRAU_ACADEMICO','IN_GRATUITO','TP_MODALIDADE_ENSINO','TP_NIVEL_ACADEMICO','QT_VG_TOTAL',\n",
    "\"QT_ING_ENEM\",\"QT_ING_VESTIBULAR\",'QT_INSCRITO_TOTAL_EAD','QT_VG_TOTAL_EAD','QT_VG_TOTAL_DIURNO','QT_VG_TOTAL_NOTURNO','QT_MAT', 'QT_MAT_FEM', 'QT_MAT_MASC', 'QT_MAT_DIURNO', 'QT_MAT_NOTURNO', 'QT_MAT_0_17', 'QT_MAT_18_24', 'QT_MAT_25_29', 'QT_MAT_30_34', 'QT_MAT_35_39', 'QT_MAT_40_49', 'QT_MAT_50_59', 'QT_MAT_60_MAIS', 'QT_MAT_BRANCA', 'QT_MAT_PRETA', 'QT_MAT_PARDA', 'QT_MAT_AMARELA', 'QT_MAT_INDIGENA', 'QT_MAT_CORND', 'QT_CONC', 'QT_CONC_FEM', 'QT_CONC_MASC', 'QT_CONC_DIURNO', 'QT_CONC_NOTURNO', 'QT_CONC_0_17', 'QT_CONC_18_24', 'QT_CONC_25_29', 'QT_CONC_30_34', 'QT_CONC_35_39', 'QT_CONC_40_49', 'QT_CONC_50_59', 'QT_CONC_60_MAIS', 'QT_CONC_BRANCA', 'QT_CONC_PRETA', 'QT_CONC_PARDA', 'QT_CONC_AMARELA', 'QT_CONC_INDIGENA','QT_CONC_CORND','QT_MAT_NACESTRANG','QT_CONC_NACESTRANG','QT_MAT_DEFICIENTE', 'QT_CONC_DEFICIENTE','QT_MAT_FINANC','QT_CONC_FINANC','QT_MAT_PROCESCPUBLICA', 'QT_MAT_PROCESCPRIVADA', 'QT_MAT_PROCNAOINFORMADA','QT_CONC_PROCESCPUBLICA', 'QT_CONC_PROCESCPRIVADA', 'QT_CONC_PROCNAOINFORMADA']"
   ]
  },
  {
   "cell_type": "code",
   "execution_count": 11,
   "metadata": {},
   "outputs": [
    {
     "data": {
      "text/plain": [
       "71"
      ]
     },
     "execution_count": 11,
     "metadata": {},
     "output_type": "execute_result"
    }
   ],
   "source": [
    "# Quantidade de colunas escolhidas. \n",
    "len(Colunas_para_censo)"
   ]
  },
  {
   "cell_type": "code",
   "execution_count": 12,
   "metadata": {},
   "outputs": [],
   "source": [
    "# Pegando os registros com apenas as colunas de interesse\n",
    "dados_censo_DF = censo_DF_faculdades[Colunas_para_censo].reset_index(drop=True)"
   ]
  },
  {
   "cell_type": "markdown",
   "metadata": {},
   "source": [
    "🏛️ Composição da Amostra\n",
    "A amostra foi composta apenas pelas 10 faculdades do Distrito Federal consideradas as melhores pelo MEC, não representando todas as instituições da região.\n",
    "\n",
    "As faculdades selecionadas são:\n",
    "\n",
    "UNB\n",
    "\n",
    "IFB\n",
    "\n",
    "UNILS\n",
    "\n",
    "UCB\n",
    "\n",
    "IESB\n",
    "\n",
    "UNICEUB\n",
    "\n",
    "UNICEPLAC\n",
    "\n",
    "UDF\n",
    "\n",
    "IDP-BSB\n",
    "\n",
    "UNIPROJEÇÃO\n",
    "\n"
   ]
  },
  {
   "cell_type": "code",
   "execution_count": 13,
   "metadata": {},
   "outputs": [
    {
     "data": {
      "text/plain": [
       "array(['UNB', 'UNICEUB', 'UCB', 'UDF', 'IESB', 'UNIPROJEÇÃO', 'UNILS',\n",
       "       'UNICEPLAC', 'IDP-BSB', 'IFB'], dtype=object)"
      ]
     },
     "execution_count": 13,
     "metadata": {},
     "output_type": "execute_result"
    }
   ],
   "source": [
    "# Visualizando se as faculdades desejadas estão no DataFrame - Estão sim.\n",
    "dados_censo_DF['SG_IES'].unique()"
   ]
  },
  {
   "cell_type": "code",
   "execution_count": 14,
   "metadata": {},
   "outputs": [
    {
     "data": {
      "application/vnd.microsoft.datawrangler.viewer.v0+json": {
       "columns": [
        {
         "name": "index",
         "rawType": "int64",
         "type": "integer"
        },
        {
         "name": "NU_ANO_CENSO",
         "rawType": "int64",
         "type": "integer"
        },
        {
         "name": "SG_IES",
         "rawType": "object",
         "type": "string"
        },
        {
         "name": "CO_IES",
         "rawType": "int64",
         "type": "integer"
        },
        {
         "name": "NO_CURSO",
         "rawType": "object",
         "type": "string"
        },
        {
         "name": "TP_ORGANIZACAO_ACADEMICA",
         "rawType": "int64",
         "type": "integer"
        },
        {
         "name": "TP_REDE",
         "rawType": "int64",
         "type": "integer"
        },
        {
         "name": "NO_CINE_ROTULO",
         "rawType": "object",
         "type": "string"
        },
        {
         "name": "NO_CINE_AREA_GERAL",
         "rawType": "object",
         "type": "string"
        },
        {
         "name": "NO_CINE_AREA_ESPECIFICA",
         "rawType": "object",
         "type": "string"
        },
        {
         "name": "NO_CINE_AREA_DETALHADA",
         "rawType": "object",
         "type": "string"
        },
        {
         "name": "TP_GRAU_ACADEMICO",
         "rawType": "float64",
         "type": "float"
        },
        {
         "name": "IN_GRATUITO",
         "rawType": "int64",
         "type": "integer"
        },
        {
         "name": "TP_MODALIDADE_ENSINO",
         "rawType": "int64",
         "type": "integer"
        },
        {
         "name": "TP_NIVEL_ACADEMICO",
         "rawType": "int64",
         "type": "integer"
        },
        {
         "name": "QT_VG_TOTAL",
         "rawType": "float64",
         "type": "float"
        },
        {
         "name": "QT_ING_ENEM",
         "rawType": "float64",
         "type": "float"
        },
        {
         "name": "QT_ING_VESTIBULAR",
         "rawType": "float64",
         "type": "float"
        },
        {
         "name": "QT_INSCRITO_TOTAL_EAD",
         "rawType": "float64",
         "type": "float"
        },
        {
         "name": "QT_VG_TOTAL_EAD",
         "rawType": "float64",
         "type": "float"
        },
        {
         "name": "QT_VG_TOTAL_DIURNO",
         "rawType": "float64",
         "type": "float"
        },
        {
         "name": "QT_VG_TOTAL_NOTURNO",
         "rawType": "float64",
         "type": "float"
        },
        {
         "name": "QT_MAT",
         "rawType": "float64",
         "type": "float"
        },
        {
         "name": "QT_MAT_FEM",
         "rawType": "float64",
         "type": "float"
        },
        {
         "name": "QT_MAT_MASC",
         "rawType": "float64",
         "type": "float"
        },
        {
         "name": "QT_MAT_DIURNO",
         "rawType": "float64",
         "type": "float"
        },
        {
         "name": "QT_MAT_NOTURNO",
         "rawType": "float64",
         "type": "float"
        },
        {
         "name": "QT_MAT_0_17",
         "rawType": "float64",
         "type": "float"
        },
        {
         "name": "QT_MAT_18_24",
         "rawType": "float64",
         "type": "float"
        },
        {
         "name": "QT_MAT_25_29",
         "rawType": "float64",
         "type": "float"
        },
        {
         "name": "QT_MAT_30_34",
         "rawType": "float64",
         "type": "float"
        },
        {
         "name": "QT_MAT_35_39",
         "rawType": "float64",
         "type": "float"
        },
        {
         "name": "QT_MAT_40_49",
         "rawType": "float64",
         "type": "float"
        },
        {
         "name": "QT_MAT_50_59",
         "rawType": "float64",
         "type": "float"
        },
        {
         "name": "QT_MAT_60_MAIS",
         "rawType": "float64",
         "type": "float"
        },
        {
         "name": "QT_MAT_BRANCA",
         "rawType": "float64",
         "type": "float"
        },
        {
         "name": "QT_MAT_PRETA",
         "rawType": "float64",
         "type": "float"
        },
        {
         "name": "QT_MAT_PARDA",
         "rawType": "float64",
         "type": "float"
        },
        {
         "name": "QT_MAT_AMARELA",
         "rawType": "float64",
         "type": "float"
        },
        {
         "name": "QT_MAT_INDIGENA",
         "rawType": "float64",
         "type": "float"
        },
        {
         "name": "QT_MAT_CORND",
         "rawType": "float64",
         "type": "float"
        },
        {
         "name": "QT_CONC",
         "rawType": "float64",
         "type": "float"
        },
        {
         "name": "QT_CONC_FEM",
         "rawType": "float64",
         "type": "float"
        },
        {
         "name": "QT_CONC_MASC",
         "rawType": "float64",
         "type": "float"
        },
        {
         "name": "QT_CONC_DIURNO",
         "rawType": "float64",
         "type": "float"
        },
        {
         "name": "QT_CONC_NOTURNO",
         "rawType": "float64",
         "type": "float"
        },
        {
         "name": "QT_CONC_0_17",
         "rawType": "float64",
         "type": "float"
        },
        {
         "name": "QT_CONC_18_24",
         "rawType": "float64",
         "type": "float"
        },
        {
         "name": "QT_CONC_25_29",
         "rawType": "float64",
         "type": "float"
        },
        {
         "name": "QT_CONC_30_34",
         "rawType": "float64",
         "type": "float"
        },
        {
         "name": "QT_CONC_35_39",
         "rawType": "float64",
         "type": "float"
        },
        {
         "name": "QT_CONC_40_49",
         "rawType": "float64",
         "type": "float"
        },
        {
         "name": "QT_CONC_50_59",
         "rawType": "float64",
         "type": "float"
        },
        {
         "name": "QT_CONC_60_MAIS",
         "rawType": "float64",
         "type": "float"
        },
        {
         "name": "QT_CONC_BRANCA",
         "rawType": "float64",
         "type": "float"
        },
        {
         "name": "QT_CONC_PRETA",
         "rawType": "float64",
         "type": "float"
        },
        {
         "name": "QT_CONC_PARDA",
         "rawType": "float64",
         "type": "float"
        },
        {
         "name": "QT_CONC_AMARELA",
         "rawType": "float64",
         "type": "float"
        },
        {
         "name": "QT_CONC_INDIGENA",
         "rawType": "float64",
         "type": "float"
        },
        {
         "name": "QT_CONC_CORND",
         "rawType": "float64",
         "type": "float"
        },
        {
         "name": "QT_MAT_NACESTRANG",
         "rawType": "float64",
         "type": "float"
        },
        {
         "name": "QT_CONC_NACESTRANG",
         "rawType": "float64",
         "type": "float"
        },
        {
         "name": "QT_MAT_DEFICIENTE",
         "rawType": "float64",
         "type": "float"
        },
        {
         "name": "QT_CONC_DEFICIENTE",
         "rawType": "float64",
         "type": "float"
        },
        {
         "name": "QT_MAT_FINANC",
         "rawType": "float64",
         "type": "float"
        },
        {
         "name": "QT_CONC_FINANC",
         "rawType": "float64",
         "type": "float"
        },
        {
         "name": "QT_MAT_PROCESCPUBLICA",
         "rawType": "float64",
         "type": "float"
        },
        {
         "name": "QT_MAT_PROCESCPRIVADA",
         "rawType": "float64",
         "type": "float"
        },
        {
         "name": "QT_MAT_PROCNAOINFORMADA",
         "rawType": "float64",
         "type": "float"
        },
        {
         "name": "QT_CONC_PROCESCPUBLICA",
         "rawType": "float64",
         "type": "float"
        },
        {
         "name": "QT_CONC_PROCESCPRIVADA",
         "rawType": "float64",
         "type": "float"
        },
        {
         "name": "QT_CONC_PROCNAOINFORMADA",
         "rawType": "float64",
         "type": "float"
        }
       ],
       "ref": "c085972c-c189-417b-8a1b-62ed581849bb",
       "rows": [
        [
         "0",
         "2018",
         "UNB",
         "2",
         "ABI - ARTES CÊNICAS",
         "1",
         "1",
         "ABI Artes e humanidades",
         "Programas básicos",
         "Programas básicos",
         "Programas básicos",
         null,
         "1",
         "1",
         "1",
         "52.0",
         "13.0",
         "26.0",
         "0.0",
         "0.0",
         "52.0",
         "0.0",
         "45.0",
         "29.0",
         "16.0",
         "45.0",
         "0.0",
         "2.0",
         "35.0",
         "5.0",
         "1.0",
         "2.0",
         "0.0",
         "0.0",
         "0.0",
         "13.0",
         "9.0",
         "10.0",
         "1.0",
         "0.0",
         "12.0",
         "0.0",
         "0.0",
         "0.0",
         "0.0",
         "0.0",
         "0.0",
         "0.0",
         "0.0",
         "0.0",
         "0.0",
         "0.0",
         "0.0",
         "0.0",
         "0.0",
         "0.0",
         "0.0",
         "0.0",
         "0.0",
         "0.0",
         "0.0",
         "0.0",
         "0.0",
         "0.0",
         "0.0",
         "0.0",
         "20.0",
         "25.0",
         "0.0",
         "0.0",
         "0.0",
         "0.0"
        ],
        [
         "1",
         "2018",
         "UNB",
         "2",
         "ABI - ARTES PLÁSTICAS",
         "1",
         "1",
         "ABI Artes e humanidades",
         "Programas básicos",
         "Programas básicos",
         "Programas básicos",
         null,
         "1",
         "1",
         "1",
         "60.0",
         "15.0",
         "23.0",
         "0.0",
         "0.0",
         "60.0",
         "0.0",
         "57.0",
         "36.0",
         "21.0",
         "57.0",
         "0.0",
         "0.0",
         "48.0",
         "3.0",
         "4.0",
         "1.0",
         "0.0",
         "1.0",
         "0.0",
         "20.0",
         "3.0",
         "18.0",
         "0.0",
         "0.0",
         "16.0",
         "0.0",
         "0.0",
         "0.0",
         "0.0",
         "0.0",
         "0.0",
         "0.0",
         "0.0",
         "0.0",
         "0.0",
         "0.0",
         "0.0",
         "0.0",
         "0.0",
         "0.0",
         "0.0",
         "0.0",
         "0.0",
         "0.0",
         "0.0",
         "0.0",
         "0.0",
         "0.0",
         "0.0",
         "0.0",
         "20.0",
         "37.0",
         "0.0",
         "0.0",
         "0.0",
         "0.0"
        ],
        [
         "2",
         "2018",
         "UNB",
         "2",
         "ABI - CIÊNCIAS SOCIAIS",
         "1",
         "1",
         "ABI Ciências sociais, comunicação e informação",
         "Programas básicos",
         "Programas básicos",
         "Programas básicos",
         null,
         "1",
         "1",
         "1",
         "180.0",
         "44.0",
         "47.0",
         "0.0",
         "0.0",
         "180.0",
         "0.0",
         "165.0",
         "112.0",
         "53.0",
         "165.0",
         "0.0",
         "4.0",
         "142.0",
         "12.0",
         "0.0",
         "3.0",
         "3.0",
         "1.0",
         "0.0",
         "56.0",
         "20.0",
         "59.0",
         "1.0",
         "1.0",
         "28.0",
         "0.0",
         "0.0",
         "0.0",
         "0.0",
         "0.0",
         "0.0",
         "0.0",
         "0.0",
         "0.0",
         "0.0",
         "0.0",
         "0.0",
         "0.0",
         "0.0",
         "0.0",
         "0.0",
         "0.0",
         "0.0",
         "0.0",
         "0.0",
         "0.0",
         "0.0",
         "0.0",
         "0.0",
         "0.0",
         "91.0",
         "74.0",
         "0.0",
         "0.0",
         "0.0",
         "0.0"
        ],
        [
         "3",
         "2018",
         "UNB",
         "2",
         "ABI - COMUNICAÇÃO SOCIAL",
         "1",
         "1",
         "ABI Ciências sociais, comunicação e informação",
         "Programas básicos",
         "Programas básicos",
         "Programas básicos",
         null,
         "1",
         "1",
         "1",
         "88.0",
         "24.0",
         "22.0",
         "0.0",
         "0.0",
         "88.0",
         "0.0",
         "79.0",
         "47.0",
         "32.0",
         "79.0",
         "0.0",
         "3.0",
         "71.0",
         "2.0",
         "1.0",
         "0.0",
         "1.0",
         "0.0",
         "1.0",
         "24.0",
         "7.0",
         "36.0",
         "0.0",
         "0.0",
         "12.0",
         "0.0",
         "0.0",
         "0.0",
         "0.0",
         "0.0",
         "0.0",
         "0.0",
         "0.0",
         "0.0",
         "0.0",
         "0.0",
         "0.0",
         "0.0",
         "0.0",
         "0.0",
         "0.0",
         "0.0",
         "0.0",
         "0.0",
         "0.0",
         "0.0",
         "0.0",
         "0.0",
         "0.0",
         "0.0",
         "41.0",
         "38.0",
         "0.0",
         "0.0",
         "0.0",
         "0.0"
        ],
        [
         "4",
         "2018",
         "UNB",
         "2",
         "ABI - DESIGN",
         "1",
         "1",
         "ABI Artes e humanidades",
         "Programas básicos",
         "Programas básicos",
         "Programas básicos",
         null,
         "1",
         "1",
         "1",
         "40.0",
         "10.0",
         "10.0",
         "0.0",
         "0.0",
         "40.0",
         "0.0",
         "39.0",
         "20.0",
         "19.0",
         "39.0",
         "0.0",
         "0.0",
         "38.0",
         "1.0",
         "0.0",
         "0.0",
         "0.0",
         "0.0",
         "0.0",
         "10.0",
         "1.0",
         "10.0",
         "1.0",
         "0.0",
         "17.0",
         "0.0",
         "0.0",
         "0.0",
         "0.0",
         "0.0",
         "0.0",
         "0.0",
         "0.0",
         "0.0",
         "0.0",
         "0.0",
         "0.0",
         "0.0",
         "0.0",
         "0.0",
         "0.0",
         "0.0",
         "0.0",
         "0.0",
         "0.0",
         "0.0",
         "0.0",
         "0.0",
         "0.0",
         "0.0",
         "14.0",
         "25.0",
         "0.0",
         "0.0",
         "0.0",
         "0.0"
        ]
       ],
       "shape": {
        "columns": 71,
        "rows": 5
       }
      },
      "text/html": [
       "<div>\n",
       "<style scoped>\n",
       "    .dataframe tbody tr th:only-of-type {\n",
       "        vertical-align: middle;\n",
       "    }\n",
       "\n",
       "    .dataframe tbody tr th {\n",
       "        vertical-align: top;\n",
       "    }\n",
       "\n",
       "    .dataframe thead th {\n",
       "        text-align: right;\n",
       "    }\n",
       "</style>\n",
       "<table border=\"1\" class=\"dataframe\">\n",
       "  <thead>\n",
       "    <tr style=\"text-align: right;\">\n",
       "      <th></th>\n",
       "      <th>NU_ANO_CENSO</th>\n",
       "      <th>SG_IES</th>\n",
       "      <th>CO_IES</th>\n",
       "      <th>NO_CURSO</th>\n",
       "      <th>TP_ORGANIZACAO_ACADEMICA</th>\n",
       "      <th>TP_REDE</th>\n",
       "      <th>NO_CINE_ROTULO</th>\n",
       "      <th>NO_CINE_AREA_GERAL</th>\n",
       "      <th>NO_CINE_AREA_ESPECIFICA</th>\n",
       "      <th>NO_CINE_AREA_DETALHADA</th>\n",
       "      <th>...</th>\n",
       "      <th>QT_MAT_DEFICIENTE</th>\n",
       "      <th>QT_CONC_DEFICIENTE</th>\n",
       "      <th>QT_MAT_FINANC</th>\n",
       "      <th>QT_CONC_FINANC</th>\n",
       "      <th>QT_MAT_PROCESCPUBLICA</th>\n",
       "      <th>QT_MAT_PROCESCPRIVADA</th>\n",
       "      <th>QT_MAT_PROCNAOINFORMADA</th>\n",
       "      <th>QT_CONC_PROCESCPUBLICA</th>\n",
       "      <th>QT_CONC_PROCESCPRIVADA</th>\n",
       "      <th>QT_CONC_PROCNAOINFORMADA</th>\n",
       "    </tr>\n",
       "  </thead>\n",
       "  <tbody>\n",
       "    <tr>\n",
       "      <th>0</th>\n",
       "      <td>2018</td>\n",
       "      <td>UNB</td>\n",
       "      <td>2</td>\n",
       "      <td>ABI - ARTES CÊNICAS</td>\n",
       "      <td>1</td>\n",
       "      <td>1</td>\n",
       "      <td>ABI Artes e humanidades</td>\n",
       "      <td>Programas básicos</td>\n",
       "      <td>Programas básicos</td>\n",
       "      <td>Programas básicos</td>\n",
       "      <td>...</td>\n",
       "      <td>0.0</td>\n",
       "      <td>0.0</td>\n",
       "      <td>0.0</td>\n",
       "      <td>0.0</td>\n",
       "      <td>20.0</td>\n",
       "      <td>25.0</td>\n",
       "      <td>0.0</td>\n",
       "      <td>0.0</td>\n",
       "      <td>0.0</td>\n",
       "      <td>0.0</td>\n",
       "    </tr>\n",
       "    <tr>\n",
       "      <th>1</th>\n",
       "      <td>2018</td>\n",
       "      <td>UNB</td>\n",
       "      <td>2</td>\n",
       "      <td>ABI - ARTES PLÁSTICAS</td>\n",
       "      <td>1</td>\n",
       "      <td>1</td>\n",
       "      <td>ABI Artes e humanidades</td>\n",
       "      <td>Programas básicos</td>\n",
       "      <td>Programas básicos</td>\n",
       "      <td>Programas básicos</td>\n",
       "      <td>...</td>\n",
       "      <td>0.0</td>\n",
       "      <td>0.0</td>\n",
       "      <td>0.0</td>\n",
       "      <td>0.0</td>\n",
       "      <td>20.0</td>\n",
       "      <td>37.0</td>\n",
       "      <td>0.0</td>\n",
       "      <td>0.0</td>\n",
       "      <td>0.0</td>\n",
       "      <td>0.0</td>\n",
       "    </tr>\n",
       "    <tr>\n",
       "      <th>2</th>\n",
       "      <td>2018</td>\n",
       "      <td>UNB</td>\n",
       "      <td>2</td>\n",
       "      <td>ABI - CIÊNCIAS SOCIAIS</td>\n",
       "      <td>1</td>\n",
       "      <td>1</td>\n",
       "      <td>ABI Ciências sociais, comunicação e informação</td>\n",
       "      <td>Programas básicos</td>\n",
       "      <td>Programas básicos</td>\n",
       "      <td>Programas básicos</td>\n",
       "      <td>...</td>\n",
       "      <td>0.0</td>\n",
       "      <td>0.0</td>\n",
       "      <td>0.0</td>\n",
       "      <td>0.0</td>\n",
       "      <td>91.0</td>\n",
       "      <td>74.0</td>\n",
       "      <td>0.0</td>\n",
       "      <td>0.0</td>\n",
       "      <td>0.0</td>\n",
       "      <td>0.0</td>\n",
       "    </tr>\n",
       "    <tr>\n",
       "      <th>3</th>\n",
       "      <td>2018</td>\n",
       "      <td>UNB</td>\n",
       "      <td>2</td>\n",
       "      <td>ABI - COMUNICAÇÃO SOCIAL</td>\n",
       "      <td>1</td>\n",
       "      <td>1</td>\n",
       "      <td>ABI Ciências sociais, comunicação e informação</td>\n",
       "      <td>Programas básicos</td>\n",
       "      <td>Programas básicos</td>\n",
       "      <td>Programas básicos</td>\n",
       "      <td>...</td>\n",
       "      <td>0.0</td>\n",
       "      <td>0.0</td>\n",
       "      <td>0.0</td>\n",
       "      <td>0.0</td>\n",
       "      <td>41.0</td>\n",
       "      <td>38.0</td>\n",
       "      <td>0.0</td>\n",
       "      <td>0.0</td>\n",
       "      <td>0.0</td>\n",
       "      <td>0.0</td>\n",
       "    </tr>\n",
       "    <tr>\n",
       "      <th>4</th>\n",
       "      <td>2018</td>\n",
       "      <td>UNB</td>\n",
       "      <td>2</td>\n",
       "      <td>ABI - DESIGN</td>\n",
       "      <td>1</td>\n",
       "      <td>1</td>\n",
       "      <td>ABI Artes e humanidades</td>\n",
       "      <td>Programas básicos</td>\n",
       "      <td>Programas básicos</td>\n",
       "      <td>Programas básicos</td>\n",
       "      <td>...</td>\n",
       "      <td>0.0</td>\n",
       "      <td>0.0</td>\n",
       "      <td>0.0</td>\n",
       "      <td>0.0</td>\n",
       "      <td>14.0</td>\n",
       "      <td>25.0</td>\n",
       "      <td>0.0</td>\n",
       "      <td>0.0</td>\n",
       "      <td>0.0</td>\n",
       "      <td>0.0</td>\n",
       "    </tr>\n",
       "  </tbody>\n",
       "</table>\n",
       "<p>5 rows × 71 columns</p>\n",
       "</div>"
      ],
      "text/plain": [
       "   NU_ANO_CENSO SG_IES  CO_IES                  NO_CURSO  \\\n",
       "0          2018    UNB       2       ABI - ARTES CÊNICAS   \n",
       "1          2018    UNB       2     ABI - ARTES PLÁSTICAS   \n",
       "2          2018    UNB       2    ABI - CIÊNCIAS SOCIAIS   \n",
       "3          2018    UNB       2  ABI - COMUNICAÇÃO SOCIAL   \n",
       "4          2018    UNB       2              ABI - DESIGN   \n",
       "\n",
       "   TP_ORGANIZACAO_ACADEMICA  TP_REDE  \\\n",
       "0                         1        1   \n",
       "1                         1        1   \n",
       "2                         1        1   \n",
       "3                         1        1   \n",
       "4                         1        1   \n",
       "\n",
       "                                   NO_CINE_ROTULO NO_CINE_AREA_GERAL  \\\n",
       "0                         ABI Artes e humanidades  Programas básicos   \n",
       "1                         ABI Artes e humanidades  Programas básicos   \n",
       "2  ABI Ciências sociais, comunicação e informação  Programas básicos   \n",
       "3  ABI Ciências sociais, comunicação e informação  Programas básicos   \n",
       "4                         ABI Artes e humanidades  Programas básicos   \n",
       "\n",
       "  NO_CINE_AREA_ESPECIFICA NO_CINE_AREA_DETALHADA  ...  QT_MAT_DEFICIENTE  \\\n",
       "0       Programas básicos      Programas básicos  ...                0.0   \n",
       "1       Programas básicos      Programas básicos  ...                0.0   \n",
       "2       Programas básicos      Programas básicos  ...                0.0   \n",
       "3       Programas básicos      Programas básicos  ...                0.0   \n",
       "4       Programas básicos      Programas básicos  ...                0.0   \n",
       "\n",
       "   QT_CONC_DEFICIENTE  QT_MAT_FINANC  QT_CONC_FINANC  QT_MAT_PROCESCPUBLICA  \\\n",
       "0                 0.0            0.0             0.0                   20.0   \n",
       "1                 0.0            0.0             0.0                   20.0   \n",
       "2                 0.0            0.0             0.0                   91.0   \n",
       "3                 0.0            0.0             0.0                   41.0   \n",
       "4                 0.0            0.0             0.0                   14.0   \n",
       "\n",
       "   QT_MAT_PROCESCPRIVADA  QT_MAT_PROCNAOINFORMADA  QT_CONC_PROCESCPUBLICA  \\\n",
       "0                   25.0                      0.0                     0.0   \n",
       "1                   37.0                      0.0                     0.0   \n",
       "2                   74.0                      0.0                     0.0   \n",
       "3                   38.0                      0.0                     0.0   \n",
       "4                   25.0                      0.0                     0.0   \n",
       "\n",
       "   QT_CONC_PROCESCPRIVADA  QT_CONC_PROCNAOINFORMADA  \n",
       "0                     0.0                       0.0  \n",
       "1                     0.0                       0.0  \n",
       "2                     0.0                       0.0  \n",
       "3                     0.0                       0.0  \n",
       "4                     0.0                       0.0  \n",
       "\n",
       "[5 rows x 71 columns]"
      ]
     },
     "execution_count": 14,
     "metadata": {},
     "output_type": "execute_result"
    }
   ],
   "source": [
    "dados_censo_DF.head(5)"
   ]
  },
  {
   "cell_type": "code",
   "execution_count": 15,
   "metadata": {},
   "outputs": [],
   "source": [
    "# Salvando dados somente do DF. \n",
    "dados_censo_DF.to_csv(\"D:\\\\analise_de_Dados\\\\arquivos_Brutos\\\\Projeto_censo_educacao_superior\\\\Censo_ed_sup_df.csv\",sep=';',encoding=\"ISO-8859-1\",index=False)"
   ]
  },
  {
   "cell_type": "markdown",
   "metadata": {},
   "source": [
    "# LIMPEZA DE DADOS"
   ]
  },
  {
   "cell_type": "code",
   "execution_count": 16,
   "metadata": {},
   "outputs": [
    {
     "name": "stdout",
     "output_type": "stream",
     "text": [
      "<class 'pandas.core.frame.DataFrame'>\n",
      "RangeIndex: 3173 entries, 0 to 3172\n",
      "Data columns (total 71 columns):\n",
      " #   Column                    Non-Null Count  Dtype  \n",
      "---  ------                    --------------  -----  \n",
      " 0   NU_ANO_CENSO              3173 non-null   int64  \n",
      " 1   SG_IES                    3173 non-null   object \n",
      " 2   CO_IES                    3173 non-null   int64  \n",
      " 3   NO_CURSO                  3173 non-null   object \n",
      " 4   TP_ORGANIZACAO_ACADEMICA  3173 non-null   int64  \n",
      " 5   TP_REDE                   3173 non-null   int64  \n",
      " 6   NO_CINE_ROTULO            3173 non-null   object \n",
      " 7   NO_CINE_AREA_GERAL        3173 non-null   object \n",
      " 8   NO_CINE_AREA_ESPECIFICA   3173 non-null   object \n",
      " 9   NO_CINE_AREA_DETALHADA    3173 non-null   object \n",
      " 10  TP_GRAU_ACADEMICO         3094 non-null   float64\n",
      " 11  IN_GRATUITO               3173 non-null   int64  \n",
      " 12  TP_MODALIDADE_ENSINO      3173 non-null   int64  \n",
      " 13  TP_NIVEL_ACADEMICO        3173 non-null   int64  \n",
      " 14  QT_VG_TOTAL               3033 non-null   float64\n",
      " 15  QT_ING_ENEM               3173 non-null   float64\n",
      " 16  QT_ING_VESTIBULAR         3173 non-null   float64\n",
      " 17  QT_INSCRITO_TOTAL_EAD     3033 non-null   float64\n",
      " 18  QT_VG_TOTAL_EAD           3033 non-null   float64\n",
      " 19  QT_VG_TOTAL_DIURNO        3033 non-null   float64\n",
      " 20  QT_VG_TOTAL_NOTURNO       3033 non-null   float64\n",
      " 21  QT_MAT                    3173 non-null   float64\n",
      " 22  QT_MAT_FEM                3173 non-null   float64\n",
      " 23  QT_MAT_MASC               3173 non-null   float64\n",
      " 24  QT_MAT_DIURNO             3173 non-null   float64\n",
      " 25  QT_MAT_NOTURNO            3173 non-null   float64\n",
      " 26  QT_MAT_0_17               3173 non-null   float64\n",
      " 27  QT_MAT_18_24              3173 non-null   float64\n",
      " 28  QT_MAT_25_29              3173 non-null   float64\n",
      " 29  QT_MAT_30_34              3173 non-null   float64\n",
      " 30  QT_MAT_35_39              3173 non-null   float64\n",
      " 31  QT_MAT_40_49              3173 non-null   float64\n",
      " 32  QT_MAT_50_59              3173 non-null   float64\n",
      " 33  QT_MAT_60_MAIS            3173 non-null   float64\n",
      " 34  QT_MAT_BRANCA             3173 non-null   float64\n",
      " 35  QT_MAT_PRETA              3173 non-null   float64\n",
      " 36  QT_MAT_PARDA              3173 non-null   float64\n",
      " 37  QT_MAT_AMARELA            3173 non-null   float64\n",
      " 38  QT_MAT_INDIGENA           3173 non-null   float64\n",
      " 39  QT_MAT_CORND              3173 non-null   float64\n",
      " 40  QT_CONC                   3173 non-null   float64\n",
      " 41  QT_CONC_FEM               3173 non-null   float64\n",
      " 42  QT_CONC_MASC              3173 non-null   float64\n",
      " 43  QT_CONC_DIURNO            3173 non-null   float64\n",
      " 44  QT_CONC_NOTURNO           3173 non-null   float64\n",
      " 45  QT_CONC_0_17              3173 non-null   float64\n",
      " 46  QT_CONC_18_24             3173 non-null   float64\n",
      " 47  QT_CONC_25_29             3173 non-null   float64\n",
      " 48  QT_CONC_30_34             3173 non-null   float64\n",
      " 49  QT_CONC_35_39             3173 non-null   float64\n",
      " 50  QT_CONC_40_49             3173 non-null   float64\n",
      " 51  QT_CONC_50_59             3173 non-null   float64\n",
      " 52  QT_CONC_60_MAIS           3173 non-null   float64\n",
      " 53  QT_CONC_BRANCA            3173 non-null   float64\n",
      " 54  QT_CONC_PRETA             3173 non-null   float64\n",
      " 55  QT_CONC_PARDA             3173 non-null   float64\n",
      " 56  QT_CONC_AMARELA           3173 non-null   float64\n",
      " 57  QT_CONC_INDIGENA          3173 non-null   float64\n",
      " 58  QT_CONC_CORND             3173 non-null   float64\n",
      " 59  QT_MAT_NACESTRANG         3173 non-null   float64\n",
      " 60  QT_CONC_NACESTRANG        3173 non-null   float64\n",
      " 61  QT_MAT_DEFICIENTE         3173 non-null   float64\n",
      " 62  QT_CONC_DEFICIENTE        3173 non-null   float64\n",
      " 63  QT_MAT_FINANC             3173 non-null   float64\n",
      " 64  QT_CONC_FINANC            3173 non-null   float64\n",
      " 65  QT_MAT_PROCESCPUBLICA     3173 non-null   float64\n",
      " 66  QT_MAT_PROCESCPRIVADA     3173 non-null   float64\n",
      " 67  QT_MAT_PROCNAOINFORMADA   3173 non-null   float64\n",
      " 68  QT_CONC_PROCESCPUBLICA    3173 non-null   float64\n",
      " 69  QT_CONC_PROCESCPRIVADA    3173 non-null   float64\n",
      " 70  QT_CONC_PROCNAOINFORMADA  3173 non-null   float64\n",
      "dtypes: float64(58), int64(7), object(6)\n",
      "memory usage: 1.7+ MB\n"
     ]
    }
   ],
   "source": [
    "# Visualizando dados gerais.\n",
    "dados_censo_DF.info()"
   ]
  },
  {
   "cell_type": "markdown",
   "metadata": {},
   "source": [
    "## Visualizando se possui dados duplicados\n",
    "\n",
    "Verificar se há linhas repetidas no dataset."
   ]
  },
  {
   "cell_type": "code",
   "execution_count": 17,
   "metadata": {},
   "outputs": [
    {
     "data": {
      "text/plain": [
       "np.int64(1)"
      ]
     },
     "execution_count": 17,
     "metadata": {},
     "output_type": "execute_result"
    }
   ],
   "source": [
    "# Verificando a quantidade total de dados duplicados no nosso DataFrame\n",
    "dados_censo_DF.duplicated().sum()"
   ]
  },
  {
   "cell_type": "code",
   "execution_count": 18,
   "metadata": {},
   "outputs": [
    {
     "data": {
      "application/vnd.microsoft.datawrangler.viewer.v0+json": {
       "columns": [
        {
         "name": "index",
         "rawType": "int64",
         "type": "integer"
        },
        {
         "name": "NU_ANO_CENSO",
         "rawType": "int64",
         "type": "integer"
        },
        {
         "name": "SG_IES",
         "rawType": "object",
         "type": "string"
        },
        {
         "name": "CO_IES",
         "rawType": "int64",
         "type": "integer"
        },
        {
         "name": "NO_CURSO",
         "rawType": "object",
         "type": "string"
        },
        {
         "name": "TP_ORGANIZACAO_ACADEMICA",
         "rawType": "int64",
         "type": "integer"
        },
        {
         "name": "TP_REDE",
         "rawType": "int64",
         "type": "integer"
        },
        {
         "name": "NO_CINE_ROTULO",
         "rawType": "object",
         "type": "string"
        },
        {
         "name": "NO_CINE_AREA_GERAL",
         "rawType": "object",
         "type": "string"
        },
        {
         "name": "NO_CINE_AREA_ESPECIFICA",
         "rawType": "object",
         "type": "string"
        },
        {
         "name": "NO_CINE_AREA_DETALHADA",
         "rawType": "object",
         "type": "string"
        },
        {
         "name": "TP_GRAU_ACADEMICO",
         "rawType": "float64",
         "type": "float"
        },
        {
         "name": "IN_GRATUITO",
         "rawType": "int64",
         "type": "integer"
        },
        {
         "name": "TP_MODALIDADE_ENSINO",
         "rawType": "int64",
         "type": "integer"
        },
        {
         "name": "TP_NIVEL_ACADEMICO",
         "rawType": "int64",
         "type": "integer"
        },
        {
         "name": "QT_VG_TOTAL",
         "rawType": "float64",
         "type": "float"
        },
        {
         "name": "QT_ING_ENEM",
         "rawType": "float64",
         "type": "float"
        },
        {
         "name": "QT_ING_VESTIBULAR",
         "rawType": "float64",
         "type": "float"
        },
        {
         "name": "QT_INSCRITO_TOTAL_EAD",
         "rawType": "float64",
         "type": "float"
        },
        {
         "name": "QT_VG_TOTAL_EAD",
         "rawType": "float64",
         "type": "float"
        },
        {
         "name": "QT_VG_TOTAL_DIURNO",
         "rawType": "float64",
         "type": "float"
        },
        {
         "name": "QT_VG_TOTAL_NOTURNO",
         "rawType": "float64",
         "type": "float"
        },
        {
         "name": "QT_MAT",
         "rawType": "float64",
         "type": "float"
        },
        {
         "name": "QT_MAT_FEM",
         "rawType": "float64",
         "type": "float"
        },
        {
         "name": "QT_MAT_MASC",
         "rawType": "float64",
         "type": "float"
        },
        {
         "name": "QT_MAT_DIURNO",
         "rawType": "float64",
         "type": "float"
        },
        {
         "name": "QT_MAT_NOTURNO",
         "rawType": "float64",
         "type": "float"
        },
        {
         "name": "QT_MAT_0_17",
         "rawType": "float64",
         "type": "float"
        },
        {
         "name": "QT_MAT_18_24",
         "rawType": "float64",
         "type": "float"
        },
        {
         "name": "QT_MAT_25_29",
         "rawType": "float64",
         "type": "float"
        },
        {
         "name": "QT_MAT_30_34",
         "rawType": "float64",
         "type": "float"
        },
        {
         "name": "QT_MAT_35_39",
         "rawType": "float64",
         "type": "float"
        },
        {
         "name": "QT_MAT_40_49",
         "rawType": "float64",
         "type": "float"
        },
        {
         "name": "QT_MAT_50_59",
         "rawType": "float64",
         "type": "float"
        },
        {
         "name": "QT_MAT_60_MAIS",
         "rawType": "float64",
         "type": "float"
        },
        {
         "name": "QT_MAT_BRANCA",
         "rawType": "float64",
         "type": "float"
        },
        {
         "name": "QT_MAT_PRETA",
         "rawType": "float64",
         "type": "float"
        },
        {
         "name": "QT_MAT_PARDA",
         "rawType": "float64",
         "type": "float"
        },
        {
         "name": "QT_MAT_AMARELA",
         "rawType": "float64",
         "type": "float"
        },
        {
         "name": "QT_MAT_INDIGENA",
         "rawType": "float64",
         "type": "float"
        },
        {
         "name": "QT_MAT_CORND",
         "rawType": "float64",
         "type": "float"
        },
        {
         "name": "QT_CONC",
         "rawType": "float64",
         "type": "float"
        },
        {
         "name": "QT_CONC_FEM",
         "rawType": "float64",
         "type": "float"
        },
        {
         "name": "QT_CONC_MASC",
         "rawType": "float64",
         "type": "float"
        },
        {
         "name": "QT_CONC_DIURNO",
         "rawType": "float64",
         "type": "float"
        },
        {
         "name": "QT_CONC_NOTURNO",
         "rawType": "float64",
         "type": "float"
        },
        {
         "name": "QT_CONC_0_17",
         "rawType": "float64",
         "type": "float"
        },
        {
         "name": "QT_CONC_18_24",
         "rawType": "float64",
         "type": "float"
        },
        {
         "name": "QT_CONC_25_29",
         "rawType": "float64",
         "type": "float"
        },
        {
         "name": "QT_CONC_30_34",
         "rawType": "float64",
         "type": "float"
        },
        {
         "name": "QT_CONC_35_39",
         "rawType": "float64",
         "type": "float"
        },
        {
         "name": "QT_CONC_40_49",
         "rawType": "float64",
         "type": "float"
        },
        {
         "name": "QT_CONC_50_59",
         "rawType": "float64",
         "type": "float"
        },
        {
         "name": "QT_CONC_60_MAIS",
         "rawType": "float64",
         "type": "float"
        },
        {
         "name": "QT_CONC_BRANCA",
         "rawType": "float64",
         "type": "float"
        },
        {
         "name": "QT_CONC_PRETA",
         "rawType": "float64",
         "type": "float"
        },
        {
         "name": "QT_CONC_PARDA",
         "rawType": "float64",
         "type": "float"
        },
        {
         "name": "QT_CONC_AMARELA",
         "rawType": "float64",
         "type": "float"
        },
        {
         "name": "QT_CONC_INDIGENA",
         "rawType": "float64",
         "type": "float"
        },
        {
         "name": "QT_CONC_CORND",
         "rawType": "float64",
         "type": "float"
        },
        {
         "name": "QT_MAT_NACESTRANG",
         "rawType": "float64",
         "type": "float"
        },
        {
         "name": "QT_CONC_NACESTRANG",
         "rawType": "float64",
         "type": "float"
        },
        {
         "name": "QT_MAT_DEFICIENTE",
         "rawType": "float64",
         "type": "float"
        },
        {
         "name": "QT_CONC_DEFICIENTE",
         "rawType": "float64",
         "type": "float"
        },
        {
         "name": "QT_MAT_FINANC",
         "rawType": "float64",
         "type": "float"
        },
        {
         "name": "QT_CONC_FINANC",
         "rawType": "float64",
         "type": "float"
        },
        {
         "name": "QT_MAT_PROCESCPUBLICA",
         "rawType": "float64",
         "type": "float"
        },
        {
         "name": "QT_MAT_PROCESCPRIVADA",
         "rawType": "float64",
         "type": "float"
        },
        {
         "name": "QT_MAT_PROCNAOINFORMADA",
         "rawType": "float64",
         "type": "float"
        },
        {
         "name": "QT_CONC_PROCESCPUBLICA",
         "rawType": "float64",
         "type": "float"
        },
        {
         "name": "QT_CONC_PROCESCPRIVADA",
         "rawType": "float64",
         "type": "float"
        },
        {
         "name": "QT_CONC_PROCNAOINFORMADA",
         "rawType": "float64",
         "type": "float"
        }
       ],
       "ref": "5c867842-7371-417b-92d5-707a93ad0834",
       "rows": [
        [
         "2758",
         "2023",
         "UCB",
         "403",
         "Gestão De Recursos Humanos",
         "1",
         "2",
         "Gestão de pessoas",
         "Negócios, administração e direito",
         "Negócios e administração",
         "Gestão e administração",
         "3.0",
         "0",
         "1",
         "1",
         "160.0",
         "0.0",
         "0.0",
         "0.0",
         "0.0",
         "80.0",
         "80.0",
         "0.0",
         "0.0",
         "0.0",
         "0.0",
         "0.0",
         "0.0",
         "0.0",
         "0.0",
         "0.0",
         "0.0",
         "0.0",
         "0.0",
         "0.0",
         "0.0",
         "0.0",
         "0.0",
         "0.0",
         "0.0",
         "0.0",
         "0.0",
         "0.0",
         "0.0",
         "0.0",
         "0.0",
         "0.0",
         "0.0",
         "0.0",
         "0.0",
         "0.0",
         "0.0",
         "0.0",
         "0.0",
         "0.0",
         "0.0",
         "0.0",
         "0.0",
         "0.0",
         "0.0",
         "0.0",
         "0.0",
         "0.0",
         "0.0",
         "0.0",
         "0.0",
         "0.0",
         "0.0",
         "0.0",
         "0.0",
         "0.0",
         "0.0"
        ],
        [
         "2759",
         "2023",
         "UCB",
         "403",
         "Gestão De Recursos Humanos",
         "1",
         "2",
         "Gestão de pessoas",
         "Negócios, administração e direito",
         "Negócios e administração",
         "Gestão e administração",
         "3.0",
         "0",
         "1",
         "1",
         "160.0",
         "0.0",
         "0.0",
         "0.0",
         "0.0",
         "80.0",
         "80.0",
         "0.0",
         "0.0",
         "0.0",
         "0.0",
         "0.0",
         "0.0",
         "0.0",
         "0.0",
         "0.0",
         "0.0",
         "0.0",
         "0.0",
         "0.0",
         "0.0",
         "0.0",
         "0.0",
         "0.0",
         "0.0",
         "0.0",
         "0.0",
         "0.0",
         "0.0",
         "0.0",
         "0.0",
         "0.0",
         "0.0",
         "0.0",
         "0.0",
         "0.0",
         "0.0",
         "0.0",
         "0.0",
         "0.0",
         "0.0",
         "0.0",
         "0.0",
         "0.0",
         "0.0",
         "0.0",
         "0.0",
         "0.0",
         "0.0",
         "0.0",
         "0.0",
         "0.0",
         "0.0",
         "0.0",
         "0.0",
         "0.0",
         "0.0"
        ]
       ],
       "shape": {
        "columns": 71,
        "rows": 2
       }
      },
      "text/html": [
       "<div>\n",
       "<style scoped>\n",
       "    .dataframe tbody tr th:only-of-type {\n",
       "        vertical-align: middle;\n",
       "    }\n",
       "\n",
       "    .dataframe tbody tr th {\n",
       "        vertical-align: top;\n",
       "    }\n",
       "\n",
       "    .dataframe thead th {\n",
       "        text-align: right;\n",
       "    }\n",
       "</style>\n",
       "<table border=\"1\" class=\"dataframe\">\n",
       "  <thead>\n",
       "    <tr style=\"text-align: right;\">\n",
       "      <th></th>\n",
       "      <th>NU_ANO_CENSO</th>\n",
       "      <th>SG_IES</th>\n",
       "      <th>CO_IES</th>\n",
       "      <th>NO_CURSO</th>\n",
       "      <th>TP_ORGANIZACAO_ACADEMICA</th>\n",
       "      <th>TP_REDE</th>\n",
       "      <th>NO_CINE_ROTULO</th>\n",
       "      <th>NO_CINE_AREA_GERAL</th>\n",
       "      <th>NO_CINE_AREA_ESPECIFICA</th>\n",
       "      <th>NO_CINE_AREA_DETALHADA</th>\n",
       "      <th>...</th>\n",
       "      <th>QT_MAT_DEFICIENTE</th>\n",
       "      <th>QT_CONC_DEFICIENTE</th>\n",
       "      <th>QT_MAT_FINANC</th>\n",
       "      <th>QT_CONC_FINANC</th>\n",
       "      <th>QT_MAT_PROCESCPUBLICA</th>\n",
       "      <th>QT_MAT_PROCESCPRIVADA</th>\n",
       "      <th>QT_MAT_PROCNAOINFORMADA</th>\n",
       "      <th>QT_CONC_PROCESCPUBLICA</th>\n",
       "      <th>QT_CONC_PROCESCPRIVADA</th>\n",
       "      <th>QT_CONC_PROCNAOINFORMADA</th>\n",
       "    </tr>\n",
       "  </thead>\n",
       "  <tbody>\n",
       "    <tr>\n",
       "      <th>2758</th>\n",
       "      <td>2023</td>\n",
       "      <td>UCB</td>\n",
       "      <td>403</td>\n",
       "      <td>Gestão De Recursos Humanos</td>\n",
       "      <td>1</td>\n",
       "      <td>2</td>\n",
       "      <td>Gestão de pessoas</td>\n",
       "      <td>Negócios, administração e direito</td>\n",
       "      <td>Negócios e administração</td>\n",
       "      <td>Gestão e administração</td>\n",
       "      <td>...</td>\n",
       "      <td>0.0</td>\n",
       "      <td>0.0</td>\n",
       "      <td>0.0</td>\n",
       "      <td>0.0</td>\n",
       "      <td>0.0</td>\n",
       "      <td>0.0</td>\n",
       "      <td>0.0</td>\n",
       "      <td>0.0</td>\n",
       "      <td>0.0</td>\n",
       "      <td>0.0</td>\n",
       "    </tr>\n",
       "    <tr>\n",
       "      <th>2759</th>\n",
       "      <td>2023</td>\n",
       "      <td>UCB</td>\n",
       "      <td>403</td>\n",
       "      <td>Gestão De Recursos Humanos</td>\n",
       "      <td>1</td>\n",
       "      <td>2</td>\n",
       "      <td>Gestão de pessoas</td>\n",
       "      <td>Negócios, administração e direito</td>\n",
       "      <td>Negócios e administração</td>\n",
       "      <td>Gestão e administração</td>\n",
       "      <td>...</td>\n",
       "      <td>0.0</td>\n",
       "      <td>0.0</td>\n",
       "      <td>0.0</td>\n",
       "      <td>0.0</td>\n",
       "      <td>0.0</td>\n",
       "      <td>0.0</td>\n",
       "      <td>0.0</td>\n",
       "      <td>0.0</td>\n",
       "      <td>0.0</td>\n",
       "      <td>0.0</td>\n",
       "    </tr>\n",
       "  </tbody>\n",
       "</table>\n",
       "<p>2 rows × 71 columns</p>\n",
       "</div>"
      ],
      "text/plain": [
       "      NU_ANO_CENSO SG_IES  CO_IES                    NO_CURSO  \\\n",
       "2758          2023    UCB     403  Gestão De Recursos Humanos   \n",
       "2759          2023    UCB     403  Gestão De Recursos Humanos   \n",
       "\n",
       "      TP_ORGANIZACAO_ACADEMICA  TP_REDE     NO_CINE_ROTULO  \\\n",
       "2758                         1        2  Gestão de pessoas   \n",
       "2759                         1        2  Gestão de pessoas   \n",
       "\n",
       "                     NO_CINE_AREA_GERAL   NO_CINE_AREA_ESPECIFICA  \\\n",
       "2758  Negócios, administração e direito  Negócios e administração   \n",
       "2759  Negócios, administração e direito  Negócios e administração   \n",
       "\n",
       "      NO_CINE_AREA_DETALHADA  ...  QT_MAT_DEFICIENTE  QT_CONC_DEFICIENTE  \\\n",
       "2758  Gestão e administração  ...                0.0                 0.0   \n",
       "2759  Gestão e administração  ...                0.0                 0.0   \n",
       "\n",
       "      QT_MAT_FINANC  QT_CONC_FINANC  QT_MAT_PROCESCPUBLICA  \\\n",
       "2758            0.0             0.0                    0.0   \n",
       "2759            0.0             0.0                    0.0   \n",
       "\n",
       "      QT_MAT_PROCESCPRIVADA  QT_MAT_PROCNAOINFORMADA  QT_CONC_PROCESCPUBLICA  \\\n",
       "2758                    0.0                      0.0                     0.0   \n",
       "2759                    0.0                      0.0                     0.0   \n",
       "\n",
       "      QT_CONC_PROCESCPRIVADA  QT_CONC_PROCNAOINFORMADA  \n",
       "2758                     0.0                       0.0  \n",
       "2759                     0.0                       0.0  \n",
       "\n",
       "[2 rows x 71 columns]"
      ]
     },
     "execution_count": 18,
     "metadata": {},
     "output_type": "execute_result"
    }
   ],
   "source": [
    "# Visualizando de perto se de fato esse único dado duplicado é igual.\n",
    "dados_censo_DF[dados_censo_DF.duplicated(keep=False)]"
   ]
  },
  {
   "cell_type": "code",
   "execution_count": 19,
   "metadata": {},
   "outputs": [
    {
     "data": {
      "text/plain": [
       "np.int64(0)"
      ]
     },
     "execution_count": 19,
     "metadata": {},
     "output_type": "execute_result"
    }
   ],
   "source": [
    "# Eliminando linhas duplicadas. \n",
    "dados_censo_DF = dados_censo_DF.drop_duplicates().copy()\n",
    "# Verificando se as linhas foram retiradas. \n",
    "dados_censo_DF.duplicated().sum()"
   ]
  },
  {
   "cell_type": "markdown",
   "metadata": {},
   "source": [
    "## Verificando Dados ausentes(Dados Nullos)\n",
    "\n",
    "Identificar valores nulos ou faltantes."
   ]
  },
  {
   "cell_type": "code",
   "execution_count": 20,
   "metadata": {},
   "outputs": [
    {
     "name": "stdout",
     "output_type": "stream",
     "text": [
      "<class 'pandas.core.frame.DataFrame'>\n",
      "Index: 3172 entries, 0 to 3172\n",
      "Data columns (total 6 columns):\n",
      " #   Column                 Non-Null Count  Dtype  \n",
      "---  ------                 --------------  -----  \n",
      " 0   TP_GRAU_ACADEMICO      3093 non-null   float64\n",
      " 1   QT_VG_TOTAL            3032 non-null   float64\n",
      " 2   QT_INSCRITO_TOTAL_EAD  3032 non-null   float64\n",
      " 3   QT_VG_TOTAL_EAD        3032 non-null   float64\n",
      " 4   QT_VG_TOTAL_DIURNO     3032 non-null   float64\n",
      " 5   QT_VG_TOTAL_NOTURNO    3032 non-null   float64\n",
      "dtypes: float64(6)\n",
      "memory usage: 173.5 KB\n"
     ]
    }
   ],
   "source": [
    "# Verificando quais colunas possuem pelo menos um dado NULO( FALTANTE )\n",
    "# Utilização do metodo any com o intuito de pegar somente as colunas que possuem dados faltantes\n",
    "\n",
    "dados_censo_DF[dados_censo_DF.columns[dados_censo_DF.isnull().any()]].info()"
   ]
  },
  {
   "cell_type": "markdown",
   "metadata": {},
   "source": [
    "📊 Primeira Análise\n",
    "Temos 6 colunas que possuem dados sem informação nenhuma\n",
    "(supostamente, não significam nada)\n",
    "\n",
    "Todas essas colunas são numéricas\n",
    "\n",
    "Cinco colunas possuem a mesma quantidade de linhas e têm por nome algo como \"Quantidade de...\"\n",
    "👉 Ou seja, temos um padrão identificado\n",
    "\n",
    "Observa-se que há 140 linhas vazias nessas colunas"
   ]
  },
  {
   "cell_type": "code",
   "execution_count": 21,
   "metadata": {},
   "outputs": [
    {
     "data": {
      "application/vnd.microsoft.datawrangler.viewer.v0+json": {
       "columns": [
        {
         "name": "index",
         "rawType": "int64",
         "type": "integer"
        },
        {
         "name": "QT_VG_TOTAL",
         "rawType": "float64",
         "type": "float"
        },
        {
         "name": "QT_INSCRITO_TOTAL_EAD",
         "rawType": "float64",
         "type": "float"
        },
        {
         "name": "QT_VG_TOTAL_EAD",
         "rawType": "float64",
         "type": "float"
        },
        {
         "name": "QT_VG_TOTAL_DIURNO",
         "rawType": "float64",
         "type": "float"
        },
        {
         "name": "QT_VG_TOTAL_NOTURNO",
         "rawType": "float64",
         "type": "float"
        }
       ],
       "ref": "fb31a29f-fa22-4503-a713-1aac75c2303b",
       "rows": [
        [
         "391",
         null,
         null,
         null,
         null,
         null
        ],
        [
         "392",
         null,
         null,
         null,
         null,
         null
        ],
        [
         "393",
         null,
         null,
         null,
         null,
         null
        ],
        [
         "394",
         null,
         null,
         null,
         null,
         null
        ],
        [
         "395",
         null,
         null,
         null,
         null,
         null
        ],
        [
         "396",
         null,
         null,
         null,
         null,
         null
        ],
        [
         "397",
         null,
         null,
         null,
         null,
         null
        ],
        [
         "398",
         null,
         null,
         null,
         null,
         null
        ],
        [
         "399",
         null,
         null,
         null,
         null,
         null
        ],
        [
         "400",
         null,
         null,
         null,
         null,
         null
        ],
        [
         "401",
         null,
         null,
         null,
         null,
         null
        ],
        [
         "402",
         null,
         null,
         null,
         null,
         null
        ],
        [
         "403",
         null,
         null,
         null,
         null,
         null
        ],
        [
         "404",
         null,
         null,
         null,
         null,
         null
        ],
        [
         "405",
         null,
         null,
         null,
         null,
         null
        ],
        [
         "406",
         null,
         null,
         null,
         null,
         null
        ],
        [
         "407",
         null,
         null,
         null,
         null,
         null
        ],
        [
         "408",
         null,
         null,
         null,
         null,
         null
        ],
        [
         "409",
         null,
         null,
         null,
         null,
         null
        ],
        [
         "410",
         null,
         null,
         null,
         null,
         null
        ],
        [
         "411",
         null,
         null,
         null,
         null,
         null
        ],
        [
         "412",
         null,
         null,
         null,
         null,
         null
        ],
        [
         "413",
         null,
         null,
         null,
         null,
         null
        ],
        [
         "414",
         null,
         null,
         null,
         null,
         null
        ],
        [
         "415",
         null,
         null,
         null,
         null,
         null
        ],
        [
         "416",
         null,
         null,
         null,
         null,
         null
        ],
        [
         "417",
         null,
         null,
         null,
         null,
         null
        ],
        [
         "418",
         null,
         null,
         null,
         null,
         null
        ],
        [
         "419",
         null,
         null,
         null,
         null,
         null
        ],
        [
         "420",
         null,
         null,
         null,
         null,
         null
        ],
        [
         "421",
         null,
         null,
         null,
         null,
         null
        ],
        [
         "422",
         null,
         null,
         null,
         null,
         null
        ],
        [
         "423",
         null,
         null,
         null,
         null,
         null
        ],
        [
         "424",
         null,
         null,
         null,
         null,
         null
        ],
        [
         "425",
         null,
         null,
         null,
         null,
         null
        ],
        [
         "426",
         null,
         null,
         null,
         null,
         null
        ],
        [
         "427",
         null,
         null,
         null,
         null,
         null
        ],
        [
         "428",
         null,
         null,
         null,
         null,
         null
        ],
        [
         "429",
         null,
         null,
         null,
         null,
         null
        ],
        [
         "430",
         null,
         null,
         null,
         null,
         null
        ],
        [
         "431",
         null,
         null,
         null,
         null,
         null
        ],
        [
         "432",
         null,
         null,
         null,
         null,
         null
        ],
        [
         "433",
         null,
         null,
         null,
         null,
         null
        ],
        [
         "434",
         null,
         null,
         null,
         null,
         null
        ],
        [
         "435",
         null,
         null,
         null,
         null,
         null
        ],
        [
         "436",
         null,
         null,
         null,
         null,
         null
        ],
        [
         "437",
         null,
         null,
         null,
         null,
         null
        ],
        [
         "438",
         null,
         null,
         null,
         null,
         null
        ],
        [
         "439",
         null,
         null,
         null,
         null,
         null
        ],
        [
         "440",
         null,
         null,
         null,
         null,
         null
        ]
       ],
       "shape": {
        "columns": 5,
        "rows": 140
       }
      },
      "text/html": [
       "<div>\n",
       "<style scoped>\n",
       "    .dataframe tbody tr th:only-of-type {\n",
       "        vertical-align: middle;\n",
       "    }\n",
       "\n",
       "    .dataframe tbody tr th {\n",
       "        vertical-align: top;\n",
       "    }\n",
       "\n",
       "    .dataframe thead th {\n",
       "        text-align: right;\n",
       "    }\n",
       "</style>\n",
       "<table border=\"1\" class=\"dataframe\">\n",
       "  <thead>\n",
       "    <tr style=\"text-align: right;\">\n",
       "      <th></th>\n",
       "      <th>QT_VG_TOTAL</th>\n",
       "      <th>QT_INSCRITO_TOTAL_EAD</th>\n",
       "      <th>QT_VG_TOTAL_EAD</th>\n",
       "      <th>QT_VG_TOTAL_DIURNO</th>\n",
       "      <th>QT_VG_TOTAL_NOTURNO</th>\n",
       "    </tr>\n",
       "  </thead>\n",
       "  <tbody>\n",
       "    <tr>\n",
       "      <th>391</th>\n",
       "      <td>NaN</td>\n",
       "      <td>NaN</td>\n",
       "      <td>NaN</td>\n",
       "      <td>NaN</td>\n",
       "      <td>NaN</td>\n",
       "    </tr>\n",
       "    <tr>\n",
       "      <th>392</th>\n",
       "      <td>NaN</td>\n",
       "      <td>NaN</td>\n",
       "      <td>NaN</td>\n",
       "      <td>NaN</td>\n",
       "      <td>NaN</td>\n",
       "    </tr>\n",
       "    <tr>\n",
       "      <th>393</th>\n",
       "      <td>NaN</td>\n",
       "      <td>NaN</td>\n",
       "      <td>NaN</td>\n",
       "      <td>NaN</td>\n",
       "      <td>NaN</td>\n",
       "    </tr>\n",
       "    <tr>\n",
       "      <th>394</th>\n",
       "      <td>NaN</td>\n",
       "      <td>NaN</td>\n",
       "      <td>NaN</td>\n",
       "      <td>NaN</td>\n",
       "      <td>NaN</td>\n",
       "    </tr>\n",
       "    <tr>\n",
       "      <th>395</th>\n",
       "      <td>NaN</td>\n",
       "      <td>NaN</td>\n",
       "      <td>NaN</td>\n",
       "      <td>NaN</td>\n",
       "      <td>NaN</td>\n",
       "    </tr>\n",
       "    <tr>\n",
       "      <th>...</th>\n",
       "      <td>...</td>\n",
       "      <td>...</td>\n",
       "      <td>...</td>\n",
       "      <td>...</td>\n",
       "      <td>...</td>\n",
       "    </tr>\n",
       "    <tr>\n",
       "      <th>945</th>\n",
       "      <td>NaN</td>\n",
       "      <td>NaN</td>\n",
       "      <td>NaN</td>\n",
       "      <td>NaN</td>\n",
       "      <td>NaN</td>\n",
       "    </tr>\n",
       "    <tr>\n",
       "      <th>946</th>\n",
       "      <td>NaN</td>\n",
       "      <td>NaN</td>\n",
       "      <td>NaN</td>\n",
       "      <td>NaN</td>\n",
       "      <td>NaN</td>\n",
       "    </tr>\n",
       "    <tr>\n",
       "      <th>947</th>\n",
       "      <td>NaN</td>\n",
       "      <td>NaN</td>\n",
       "      <td>NaN</td>\n",
       "      <td>NaN</td>\n",
       "      <td>NaN</td>\n",
       "    </tr>\n",
       "    <tr>\n",
       "      <th>948</th>\n",
       "      <td>NaN</td>\n",
       "      <td>NaN</td>\n",
       "      <td>NaN</td>\n",
       "      <td>NaN</td>\n",
       "      <td>NaN</td>\n",
       "    </tr>\n",
       "    <tr>\n",
       "      <th>949</th>\n",
       "      <td>NaN</td>\n",
       "      <td>NaN</td>\n",
       "      <td>NaN</td>\n",
       "      <td>NaN</td>\n",
       "      <td>NaN</td>\n",
       "    </tr>\n",
       "  </tbody>\n",
       "</table>\n",
       "<p>140 rows × 5 columns</p>\n",
       "</div>"
      ],
      "text/plain": [
       "     QT_VG_TOTAL  QT_INSCRITO_TOTAL_EAD  QT_VG_TOTAL_EAD  QT_VG_TOTAL_DIURNO  \\\n",
       "391          NaN                    NaN              NaN                 NaN   \n",
       "392          NaN                    NaN              NaN                 NaN   \n",
       "393          NaN                    NaN              NaN                 NaN   \n",
       "394          NaN                    NaN              NaN                 NaN   \n",
       "395          NaN                    NaN              NaN                 NaN   \n",
       "..           ...                    ...              ...                 ...   \n",
       "945          NaN                    NaN              NaN                 NaN   \n",
       "946          NaN                    NaN              NaN                 NaN   \n",
       "947          NaN                    NaN              NaN                 NaN   \n",
       "948          NaN                    NaN              NaN                 NaN   \n",
       "949          NaN                    NaN              NaN                 NaN   \n",
       "\n",
       "     QT_VG_TOTAL_NOTURNO  \n",
       "391                  NaN  \n",
       "392                  NaN  \n",
       "393                  NaN  \n",
       "394                  NaN  \n",
       "395                  NaN  \n",
       "..                   ...  \n",
       "945                  NaN  \n",
       "946                  NaN  \n",
       "947                  NaN  \n",
       "948                  NaN  \n",
       "949                  NaN  \n",
       "\n",
       "[140 rows x 5 columns]"
      ]
     },
     "execution_count": 21,
     "metadata": {},
     "output_type": "execute_result"
    }
   ],
   "source": [
    "# Observando somente as colunas que possuem valores vazios, tendo como base de procura uma delas.\n",
    "# Foi verificado todas essas colunas pertencem ao mesmo registro, isto é, se uma está vazia a outra tambem está.\n",
    "dados_censo_DF[dados_censo_DF['QT_VG_TOTAL'].isnull()][['QT_VG_TOTAL','QT_INSCRITO_TOTAL_EAD','QT_VG_TOTAL_EAD','QT_VG_TOTAL_DIURNO','QT_VG_TOTAL_NOTURNO']]"
   ]
  },
  {
   "cell_type": "code",
   "execution_count": 22,
   "metadata": {},
   "outputs": [
    {
     "data": {
      "application/vnd.microsoft.datawrangler.viewer.v0+json": {
       "columns": [
        {
         "name": "SG_IES",
         "rawType": "object",
         "type": "string"
        },
        {
         "name": "count",
         "rawType": "int64",
         "type": "integer"
        }
       ],
       "ref": "214d8bb7-1a7d-4737-8e1d-371e05d3ec76",
       "rows": [
        [
         "UCB",
         "47"
        ],
        [
         "IESB",
         "47"
        ],
        [
         "UNICEUB",
         "25"
        ],
        [
         "UNIPROJEÇÃO",
         "19"
        ],
        [
         "UNB",
         "2"
        ]
       ],
       "shape": {
        "columns": 1,
        "rows": 5
       }
      },
      "text/plain": [
       "SG_IES\n",
       "UCB            47\n",
       "IESB           47\n",
       "UNICEUB        25\n",
       "UNIPROJEÇÃO    19\n",
       "UNB             2\n",
       "Name: count, dtype: int64"
      ]
     },
     "execution_count": 22,
     "metadata": {},
     "output_type": "execute_result"
    }
   ],
   "source": [
    "# É Verificado que das 10 Universidades e faculdades, apenas essas cincos possuem esses valores vazios nessas colunas.\n",
    "# É verificado que em sua maioria , pertencem ao IESB E UCB\n",
    "dados_censo_DF[dados_censo_DF['QT_VG_TOTAL'].isnull()]['SG_IES'].value_counts()"
   ]
  },
  {
   "cell_type": "markdown",
   "metadata": {},
   "source": [
    "Iremos tentar entender qual o possível motivo desses valores vazios. Quem sabe achar algum padrão"
   ]
  },
  {
   "cell_type": "code",
   "execution_count": 23,
   "metadata": {},
   "outputs": [
    {
     "data": {
      "text/plain": [
       "array(['Geografia formação de professor', 'Teatro formação de professor',\n",
       "       'Administração', 'Sistemas de informação', 'Banco de dados',\n",
       "       'Contabilidade', 'Gestão da tecnologia da informação',\n",
       "       'Gestão de pessoas', 'Gestão financeira', 'Gestão pública',\n",
       "       'Marketing', 'Gestão de negócios', 'Segurança da informação',\n",
       "       'Economia', 'Comércio exterior', 'Filosofia formação de professor',\n",
       "       'Filosofia', 'Turismo', 'Letras português formação de professor',\n",
       "       'Logística', 'Pedagogia',\n",
       "       'Formação pedagógica de professor para a educação básica',\n",
       "       'Redes de computadores', 'Segurança pública', 'Serviço social',\n",
       "       'Gestão de serviços', 'Biomedicina', 'Design de interiores',\n",
       "       'Design gráfico', 'Engenharia civil', 'Farmácia',\n",
       "       'Gestão comercial', 'Gestão hospitalar', 'Gestão da qualidade',\n",
       "       'Serviços jurídicos e cartoriais', 'Empreendedorismo',\n",
       "       'Engenharia de software', 'Engenharia elétrica', 'Eventos',\n",
       "       'Gestão do agronegócio', 'Secretariado'], dtype=object)"
      ]
     },
     "execution_count": 23,
     "metadata": {},
     "output_type": "execute_result"
    }
   ],
   "source": [
    "# Verificando se é algum curso especifico ( Existe muitos curso, o problema não é o curso)\n",
    "dados_censo_DF[dados_censo_DF['QT_VG_TOTAL'].isnull()]['NO_CINE_ROTULO'].unique()"
   ]
  },
  {
   "cell_type": "code",
   "execution_count": 24,
   "metadata": {},
   "outputs": [
    {
     "data": {
      "application/vnd.microsoft.datawrangler.viewer.v0+json": {
       "columns": [
        {
         "name": "NU_ANO_CENSO",
         "rawType": "int64",
         "type": "integer"
        },
        {
         "name": "count",
         "rawType": "int64",
         "type": "integer"
        }
       ],
       "ref": "0443c293-52e5-4d79-bb02-384f125351cd",
       "rows": [
        [
         "2019",
         "75"
        ],
        [
         "2018",
         "65"
        ]
       ],
       "shape": {
        "columns": 1,
        "rows": 2
       }
      },
      "text/plain": [
       "NU_ANO_CENSO\n",
       "2019    75\n",
       "2018    65\n",
       "Name: count, dtype: int64"
      ]
     },
     "execution_count": 24,
     "metadata": {},
     "output_type": "execute_result"
    }
   ],
   "source": [
    "# Verificando o ANO DO CURSO( foi verificado que dos 6 ANOS, apenas dois possuem dados vazios - 2018 e 2019)\n",
    "dados_censo_DF[dados_censo_DF['QT_VG_TOTAL'].isnull()]['NU_ANO_CENSO'].value_counts()"
   ]
  },
  {
   "cell_type": "code",
   "execution_count": 25,
   "metadata": {},
   "outputs": [
    {
     "data": {
      "application/vnd.microsoft.datawrangler.viewer.v0+json": {
       "columns": [
        {
         "name": "NU_ANO_CENSO",
         "rawType": "int64",
         "type": "integer"
        },
        {
         "name": "count",
         "rawType": "int64",
         "type": "integer"
        }
       ],
       "ref": "6e1841d4-727c-484f-b0c8-dca391cf4196",
       "rows": [
        [
         "2023",
         "582"
        ],
        [
         "2022",
         "561"
        ],
        [
         "2020",
         "541"
        ],
        [
         "2021",
         "538"
        ],
        [
         "2019",
         "494"
        ],
        [
         "2018",
         "456"
        ]
       ],
       "shape": {
        "columns": 1,
        "rows": 6
       }
      },
      "text/plain": [
       "NU_ANO_CENSO\n",
       "2023    582\n",
       "2022    561\n",
       "2020    541\n",
       "2021    538\n",
       "2019    494\n",
       "2018    456\n",
       "Name: count, dtype: int64"
      ]
     },
     "execution_count": 25,
     "metadata": {},
     "output_type": "execute_result"
    }
   ],
   "source": [
    "# Verificando a quantidade total de dados para cada ano\n",
    "dados_censo_DF['NU_ANO_CENSO'].value_counts()"
   ]
  },
  {
   "cell_type": "markdown",
   "metadata": {},
   "source": [
    "QUAL A DECISÃO SOBRE ESSES 140 DADOS VAZIOS?\n",
    "\n",
    "\"Serão removidos OS dados vazios dos anos de 2018 e 2019, ficando apenas com os restantes\"\n",
    "\n",
    "📊 Situação:\n",
    "\n",
    "Total de registros em 2018: 456\n",
    "\n",
    "Registros com nulos em 2018: 65\n",
    "\n",
    "→ 14,25% dos dados de 2018 estão nulos\n",
    "\n",
    "Total de registros em 2019: 494\n",
    "\n",
    "Registros com nulos em 2019: 75\n",
    "\n",
    "→ 15,18% dos dados de 2019 estão nulos\n",
    "\n",
    "Ainda sobra cerca de 80% dos Dados, que é o suficiente para termos uma realidade coerente sobre aqueles anos \n",
    "\n"
   ]
  },
  {
   "cell_type": "code",
   "execution_count": 26,
   "metadata": {},
   "outputs": [
    {
     "data": {
      "application/vnd.microsoft.datawrangler.viewer.v0+json": {
       "columns": [
        {
         "name": "NU_ANO_CENSO",
         "rawType": "int64",
         "type": "integer"
        },
        {
         "name": "count",
         "rawType": "int64",
         "type": "integer"
        }
       ],
       "ref": "b12a2a60-3059-4320-ac37-34bcf852df0b",
       "rows": [
        [
         "2023",
         "17"
        ],
        [
         "2018",
         "16"
        ],
        [
         "2019",
         "16"
        ],
        [
         "2020",
         "15"
        ],
        [
         "2021",
         "15"
        ]
       ],
       "shape": {
        "columns": 1,
        "rows": 5
       }
      },
      "text/plain": [
       "NU_ANO_CENSO\n",
       "2023    17\n",
       "2018    16\n",
       "2019    16\n",
       "2020    15\n",
       "2021    15\n",
       "Name: count, dtype: int64"
      ]
     },
     "execution_count": 26,
     "metadata": {},
     "output_type": "execute_result"
    }
   ],
   "source": [
    "dados_censo_DF[dados_censo_DF['TP_GRAU_ACADEMICO'].isnull()]['NU_ANO_CENSO'].value_counts()   "
   ]
  },
  {
   "cell_type": "code",
   "execution_count": 27,
   "metadata": {},
   "outputs": [],
   "source": [
    "# Retirando todos os dados Nulos do DataFrame. Incluindo o da coluna  TP_GRAU_ACADEMICO\n",
    "dados_censo_DF_sem_nullos = dados_censo_DF.dropna().copy()\n"
   ]
  },
  {
   "cell_type": "code",
   "execution_count": 28,
   "metadata": {},
   "outputs": [
    {
     "data": {
      "text/plain": [
       "np.int64(0)"
      ]
     },
     "execution_count": 28,
     "metadata": {},
     "output_type": "execute_result"
    }
   ],
   "source": [
    "# Verificando se a valores Nullos após a exclusão ( DEU TUDO CERTO)\n",
    "dados_censo_DF_sem_nullos.isnull().any().sum()"
   ]
  },
  {
   "cell_type": "code",
   "execution_count": 29,
   "metadata": {},
   "outputs": [
    {
     "name": "stdout",
     "output_type": "stream",
     "text": [
      "<class 'pandas.core.frame.DataFrame'>\n",
      "Index: 2953 entries, 15 to 3170\n",
      "Empty DataFrame\n"
     ]
    }
   ],
   "source": [
    "# Verificando se a valores Nullos após a exclusão ( DEU TUDO CERTO)\n",
    "dados_censo_DF_sem_nullos[dados_censo_DF_sem_nullos.columns[dados_censo_DF_sem_nullos.isnull().any()]].info()"
   ]
  },
  {
   "cell_type": "code",
   "execution_count": 30,
   "metadata": {},
   "outputs": [
    {
     "data": {
      "application/vnd.microsoft.datawrangler.viewer.v0+json": {
       "columns": [
        {
         "name": "SG_IES",
         "rawType": "object",
         "type": "string"
        },
        {
         "name": "count",
         "rawType": "int64",
         "type": "integer"
        }
       ],
       "ref": "a37aed06-cf0b-483f-8dbb-01ccc4dfb2ed",
       "rows": [
        [
         "UNB",
         "769"
        ],
        [
         "IESB",
         "478"
        ],
        [
         "UCB",
         "452"
        ],
        [
         "UNICEUB",
         "365"
        ],
        [
         "UNIPROJEÇÃO",
         "230"
        ],
        [
         "UDF",
         "215"
        ],
        [
         "IFB",
         "164"
        ],
        [
         "UNICEPLAC",
         "139"
        ],
        [
         "UNILS",
         "108"
        ],
        [
         "IDP-BSB",
         "33"
        ]
       ],
       "shape": {
        "columns": 1,
        "rows": 10
       }
      },
      "text/plain": [
       "SG_IES\n",
       "UNB            769\n",
       "IESB           478\n",
       "UCB            452\n",
       "UNICEUB        365\n",
       "UNIPROJEÇÃO    230\n",
       "UDF            215\n",
       "IFB            164\n",
       "UNICEPLAC      139\n",
       "UNILS          108\n",
       "IDP-BSB         33\n",
       "Name: count, dtype: int64"
      ]
     },
     "execution_count": 30,
     "metadata": {},
     "output_type": "execute_result"
    }
   ],
   "source": [
    "# Não está muito bem distribuido\n",
    "dados_censo_DF_sem_nullos['SG_IES'].value_counts()"
   ]
  },
  {
   "cell_type": "code",
   "execution_count": 31,
   "metadata": {},
   "outputs": [
    {
     "data": {
      "application/vnd.microsoft.datawrangler.viewer.v0+json": {
       "columns": [
        {
         "name": "NU_ANO_CENSO",
         "rawType": "int64",
         "type": "integer"
        },
        {
         "name": "count",
         "rawType": "int64",
         "type": "integer"
        }
       ],
       "ref": "b12ce375-021a-456e-884b-5ba67a28a4e4",
       "rows": [
        [
         "2023",
         "565"
        ],
        [
         "2022",
         "561"
        ],
        [
         "2020",
         "526"
        ],
        [
         "2021",
         "523"
        ],
        [
         "2019",
         "403"
        ],
        [
         "2018",
         "375"
        ]
       ],
       "shape": {
        "columns": 1,
        "rows": 6
       }
      },
      "text/plain": [
       "NU_ANO_CENSO\n",
       "2023    565\n",
       "2022    561\n",
       "2020    526\n",
       "2021    523\n",
       "2019    403\n",
       "2018    375\n",
       "Name: count, dtype: int64"
      ]
     },
     "execution_count": 31,
     "metadata": {},
     "output_type": "execute_result"
    }
   ],
   "source": [
    "# O ano está bem distribuido.\n",
    "dados_censo_DF_sem_nullos['NU_ANO_CENSO'].value_counts()"
   ]
  },
  {
   "cell_type": "markdown",
   "metadata": {},
   "source": [
    "### Remoção de dados estrategicos"
   ]
  },
  {
   "cell_type": "markdown",
   "metadata": {},
   "source": [
    "### Foi decidio que ficariamos apenas com 6 instituições. explicação abaixo."
   ]
  },
  {
   "cell_type": "markdown",
   "metadata": {},
   "source": [
    "📌 Distribuição por Instituição (SG_IES)\n",
    "Instituição\tRegistros\tPorcentagem aproximada\n",
    "\n",
    "| Instituição     | Registros | Porcentagem aproximada |\n",
    "| --------------- | --------- | ---------------------- |\n",
    "| **UNB**         | 769       | \\~25%                  |\n",
    "| **IESB**        | 478       | \\~16%                  |\n",
    "| **UCB**         | 452       | \\~15%                  |\n",
    "| **UNICEUB**     | 365       | \\~12%                  |\n",
    "| **UNIPROJEÇÃO** | 230       | \\~8%                   |\n",
    "| **UDF**         | 215       | \\~7%                   |\n",
    "| **IFB**         | 164       | \\~5%                   |\n",
    "| **UNICEPLAC**   | 139       | \\~5%                   |\n",
    "| **UNILS**       | 108       | \\~4%                   |\n",
    "| **IDP-BSB**     | 33        | \\~1%                   |\n",
    "\n",
    "\n",
    "\n",
    "🎯 Análise crítica\n",
    "✅ Pontos positivos:\n",
    "\n",
    "Temos 10 instituições diferentes, o que já dá uma boa diversidade.\n",
    "\n",
    "A UNB tem mais de 700 registros, o que permite análises bem detalhadas nela.\n",
    "\n",
    "⚠️ Pontos de atenção:\n",
    "\n",
    "A distribuição não é equilibrada: mais da metade dos dados está concentrada em apenas 3 instituições (UNB, IESB, UCB).\n",
    "\n",
    "Algumas instituições como IDP-BSB têm pouquíssimos dados — análises sobre elas serão menos confiáveis ou até inviáveis.\n",
    "\n",
    "📌 O que isso significa para sua análise de evasão?\n",
    "\n",
    "Possivel escolha:\n",
    "\n",
    "Focar nas instituições com dados suficientes, pode usar as 6 ou 7 maiores (UNB até UDF, por exemplo).\n",
    "\n",
    "Analisar evasão em todo o DF, vai precisar deixar claro que a amostra tem maior peso de certas instituições e isso pode influenciar os resultados.\n",
    "\n"
   ]
  },
  {
   "cell_type": "code",
   "execution_count": 32,
   "metadata": {},
   "outputs": [
    {
     "data": {
      "text/plain": [
       "array(['UNB', 'UNICEUB', 'UCB', 'UDF', 'IESB'], dtype=object)"
      ]
     },
     "execution_count": 32,
     "metadata": {},
     "output_type": "execute_result"
    }
   ],
   "source": [
    "# lista para selecionar apenas as instituições que possuam acima de 6% de informações.\n",
    "instituicoes = [\"UNB\",\"IESB\",\"UCB\",\"UNICEUB\",\"UNIPROJECAO\",\"UDF\"]\n",
    "novo_dados_censo_DF = dados_censo_DF_sem_nullos[dados_censo_DF_sem_nullos['SG_IES'].isin(instituicoes)].copy()\n",
    "# Verificando se foi bem sucedido a escolha das instituições.\n",
    "novo_dados_censo_DF['SG_IES'].unique()"
   ]
  },
  {
   "cell_type": "code",
   "execution_count": 33,
   "metadata": {},
   "outputs": [
    {
     "name": "stdout",
     "output_type": "stream",
     "text": [
      "Linhas: 2279\n",
      "Colunas: 71\n"
     ]
    }
   ],
   "source": [
    "# Verificando a quantidade de registros que sobraram\n",
    "\n",
    "print(\"Linhas:\",novo_dados_censo_DF.shape[0])\n",
    "print(\"Colunas:\",novo_dados_censo_DF.shape[1])"
   ]
  },
  {
   "cell_type": "markdown",
   "metadata": {},
   "source": [
    "Colunas que não precisamos :\n",
    "- CO_IES (Ja Possuimos o SG_IES, para identifição das instituições )\n",
    "- TP_NIVEL_ACADEMICO(TRAZ UMA INFORMAÇÃO DE CERTA FORMA, IGUAL A DA TP_GRAU_ACADEMICO)\n",
    "- "
   ]
  },
  {
   "cell_type": "markdown",
   "metadata": {},
   "source": [
    "## Correção de tipos de dados\n",
    "\n",
    "Garantir que cada coluna tenha o tipo certo (string, int, float, datetime etc)."
   ]
  },
  {
   "cell_type": "code",
   "execution_count": 34,
   "metadata": {},
   "outputs": [
    {
     "name": "stdout",
     "output_type": "stream",
     "text": [
      "<class 'pandas.core.frame.DataFrame'>\n",
      "Index: 2279 entries, 15 to 3150\n",
      "Data columns (total 71 columns):\n",
      " #   Column                    Dtype  \n",
      "---  ------                    -----  \n",
      " 0   NU_ANO_CENSO              int64  \n",
      " 1   SG_IES                    object \n",
      " 2   CO_IES                    int64  \n",
      " 3   NO_CURSO                  object \n",
      " 4   TP_ORGANIZACAO_ACADEMICA  int64  \n",
      " 5   TP_REDE                   int64  \n",
      " 6   NO_CINE_ROTULO            object \n",
      " 7   NO_CINE_AREA_GERAL        object \n",
      " 8   NO_CINE_AREA_ESPECIFICA   object \n",
      " 9   NO_CINE_AREA_DETALHADA    object \n",
      " 10  TP_GRAU_ACADEMICO         float64\n",
      " 11  IN_GRATUITO               int64  \n",
      " 12  TP_MODALIDADE_ENSINO      int64  \n",
      " 13  TP_NIVEL_ACADEMICO        int64  \n",
      " 14  QT_VG_TOTAL               float64\n",
      " 15  QT_ING_ENEM               float64\n",
      " 16  QT_ING_VESTIBULAR         float64\n",
      " 17  QT_INSCRITO_TOTAL_EAD     float64\n",
      " 18  QT_VG_TOTAL_EAD           float64\n",
      " 19  QT_VG_TOTAL_DIURNO        float64\n",
      " 20  QT_VG_TOTAL_NOTURNO       float64\n",
      " 21  QT_MAT                    float64\n",
      " 22  QT_MAT_FEM                float64\n",
      " 23  QT_MAT_MASC               float64\n",
      " 24  QT_MAT_DIURNO             float64\n",
      " 25  QT_MAT_NOTURNO            float64\n",
      " 26  QT_MAT_0_17               float64\n",
      " 27  QT_MAT_18_24              float64\n",
      " 28  QT_MAT_25_29              float64\n",
      " 29  QT_MAT_30_34              float64\n",
      " 30  QT_MAT_35_39              float64\n",
      " 31  QT_MAT_40_49              float64\n",
      " 32  QT_MAT_50_59              float64\n",
      " 33  QT_MAT_60_MAIS            float64\n",
      " 34  QT_MAT_BRANCA             float64\n",
      " 35  QT_MAT_PRETA              float64\n",
      " 36  QT_MAT_PARDA              float64\n",
      " 37  QT_MAT_AMARELA            float64\n",
      " 38  QT_MAT_INDIGENA           float64\n",
      " 39  QT_MAT_CORND              float64\n",
      " 40  QT_CONC                   float64\n",
      " 41  QT_CONC_FEM               float64\n",
      " 42  QT_CONC_MASC              float64\n",
      " 43  QT_CONC_DIURNO            float64\n",
      " 44  QT_CONC_NOTURNO           float64\n",
      " 45  QT_CONC_0_17              float64\n",
      " 46  QT_CONC_18_24             float64\n",
      " 47  QT_CONC_25_29             float64\n",
      " 48  QT_CONC_30_34             float64\n",
      " 49  QT_CONC_35_39             float64\n",
      " 50  QT_CONC_40_49             float64\n",
      " 51  QT_CONC_50_59             float64\n",
      " 52  QT_CONC_60_MAIS           float64\n",
      " 53  QT_CONC_BRANCA            float64\n",
      " 54  QT_CONC_PRETA             float64\n",
      " 55  QT_CONC_PARDA             float64\n",
      " 56  QT_CONC_AMARELA           float64\n",
      " 57  QT_CONC_INDIGENA          float64\n",
      " 58  QT_CONC_CORND             float64\n",
      " 59  QT_MAT_NACESTRANG         float64\n",
      " 60  QT_CONC_NACESTRANG        float64\n",
      " 61  QT_MAT_DEFICIENTE         float64\n",
      " 62  QT_CONC_DEFICIENTE        float64\n",
      " 63  QT_MAT_FINANC             float64\n",
      " 64  QT_CONC_FINANC            float64\n",
      " 65  QT_MAT_PROCESCPUBLICA     float64\n",
      " 66  QT_MAT_PROCESCPRIVADA     float64\n",
      " 67  QT_MAT_PROCNAOINFORMADA   float64\n",
      " 68  QT_CONC_PROCESCPUBLICA    float64\n",
      " 69  QT_CONC_PROCESCPRIVADA    float64\n",
      " 70  QT_CONC_PROCNAOINFORMADA  float64\n",
      "dtypes: float64(58), int64(7), object(6)"
     ]
    }
   ],
   "source": [
    "novo_dados_censo_DF.info(show_counts=False,memory_usage=False)"
   ]
  },
  {
   "cell_type": "markdown",
   "metadata": {},
   "source": [
    "🛠️ Colunas que Precisam Ter o Tipo de Dados Alterado\n",
    "NU_ANO_CENSO\n",
    "➤ Deve ser tipo data e não int ✅\n",
    "\n",
    "🗂️ Colunas com Dados Categóricos Nominais (estão como int, precisam ser transformadas):\n",
    "TP_ORGANIZACAO_ACADEMICA ✅\n",
    "\n",
    "TP_REDE ✅\n",
    "\n",
    "TP_GRAU_ACADEMICO ✅\n",
    "\n",
    "⚠️ Obs: No dicionário de dados, existe a chave 4 (Bacharelado e Licenciatura), mas essa chave não aparece nos dados\n",
    "👉 Pode indicar erro de coleta — isso precisa ser considerado na análise.\n",
    "\n",
    "IN_GRATUITO ✅\n",
    "\n",
    "TP_MODALIDADE_ENSINO ✅\n",
    "\n",
    "TP_NIVEL_ACADEMICO ✅\n",
    "\n",
    "⚠️ Obs: Essa coluna possui apenas uma informação.\n",
    "Parece ser a mesma informação da coluna TP_GRAU_ACADEMICO\n",
    "👉 Pode ser redundante. Precisa de uma análise mais cuidadosa antes de manter.\n"
   ]
  },
  {
   "cell_type": "code",
   "execution_count": 35,
   "metadata": {},
   "outputs": [],
   "source": [
    "# Corrigindo dado do ano de int para Data.\n",
    "dados_tipo_corrigido_censo_DF = novo_dados_censo_DF.copy()\n",
    "dados_tipo_corrigido_censo_DF['NU_ANO_CENSO'] = pd.to_datetime(dados_tipo_corrigido_censo_DF['NU_ANO_CENSO'])"
   ]
  },
  {
   "cell_type": "code",
   "execution_count": 36,
   "metadata": {},
   "outputs": [
    {
     "name": "stdout",
     "output_type": "stream",
     "text": [
      "<class 'pandas.core.frame.DataFrame'>\n",
      "Index: 2279 entries, 15 to 3150\n",
      "Data columns (total 71 columns):\n",
      " #   Column                    Non-Null Count  Dtype         \n",
      "---  ------                    --------------  -----         \n",
      " 0   NU_ANO_CENSO              2279 non-null   datetime64[ns]\n",
      " 1   SG_IES                    2279 non-null   object        \n",
      " 2   CO_IES                    2279 non-null   int64         \n",
      " 3   NO_CURSO                  2279 non-null   object        \n",
      " 4   TP_ORGANIZACAO_ACADEMICA  2279 non-null   int64         \n",
      " 5   TP_REDE                   2279 non-null   int64         \n",
      " 6   NO_CINE_ROTULO            2279 non-null   object        \n",
      " 7   NO_CINE_AREA_GERAL        2279 non-null   object        \n",
      " 8   NO_CINE_AREA_ESPECIFICA   2279 non-null   object        \n",
      " 9   NO_CINE_AREA_DETALHADA    2279 non-null   object        \n",
      " 10  TP_GRAU_ACADEMICO         2279 non-null   float64       \n",
      " 11  IN_GRATUITO               2279 non-null   int64         \n",
      " 12  TP_MODALIDADE_ENSINO      2279 non-null   int64         \n",
      " 13  TP_NIVEL_ACADEMICO        2279 non-null   int64         \n",
      " 14  QT_VG_TOTAL               2279 non-null   float64       \n",
      " 15  QT_ING_ENEM               2279 non-null   float64       \n",
      " 16  QT_ING_VESTIBULAR         2279 non-null   float64       \n",
      " 17  QT_INSCRITO_TOTAL_EAD     2279 non-null   float64       \n",
      " 18  QT_VG_TOTAL_EAD           2279 non-null   float64       \n",
      " 19  QT_VG_TOTAL_DIURNO        2279 non-null   float64       \n",
      " 20  QT_VG_TOTAL_NOTURNO       2279 non-null   float64       \n",
      " 21  QT_MAT                    2279 non-null   float64       \n",
      " 22  QT_MAT_FEM                2279 non-null   float64       \n",
      " 23  QT_MAT_MASC               2279 non-null   float64       \n",
      " 24  QT_MAT_DIURNO             2279 non-null   float64       \n",
      " 25  QT_MAT_NOTURNO            2279 non-null   float64       \n",
      " 26  QT_MAT_0_17               2279 non-null   float64       \n",
      " 27  QT_MAT_18_24              2279 non-null   float64       \n",
      " 28  QT_MAT_25_29              2279 non-null   float64       \n",
      " 29  QT_MAT_30_34              2279 non-null   float64       \n",
      " 30  QT_MAT_35_39              2279 non-null   float64       \n",
      " 31  QT_MAT_40_49              2279 non-null   float64       \n",
      " 32  QT_MAT_50_59              2279 non-null   float64       \n",
      " 33  QT_MAT_60_MAIS            2279 non-null   float64       \n",
      " 34  QT_MAT_BRANCA             2279 non-null   float64       \n",
      " 35  QT_MAT_PRETA              2279 non-null   float64       \n",
      " 36  QT_MAT_PARDA              2279 non-null   float64       \n",
      " 37  QT_MAT_AMARELA            2279 non-null   float64       \n",
      " 38  QT_MAT_INDIGENA           2279 non-null   float64       \n",
      " 39  QT_MAT_CORND              2279 non-null   float64       \n",
      " 40  QT_CONC                   2279 non-null   float64       \n",
      " 41  QT_CONC_FEM               2279 non-null   float64       \n",
      " 42  QT_CONC_MASC              2279 non-null   float64       \n",
      " 43  QT_CONC_DIURNO            2279 non-null   float64       \n",
      " 44  QT_CONC_NOTURNO           2279 non-null   float64       \n",
      " 45  QT_CONC_0_17              2279 non-null   float64       \n",
      " 46  QT_CONC_18_24             2279 non-null   float64       \n",
      " 47  QT_CONC_25_29             2279 non-null   float64       \n",
      " 48  QT_CONC_30_34             2279 non-null   float64       \n",
      " 49  QT_CONC_35_39             2279 non-null   float64       \n",
      " 50  QT_CONC_40_49             2279 non-null   float64       \n",
      " 51  QT_CONC_50_59             2279 non-null   float64       \n",
      " 52  QT_CONC_60_MAIS           2279 non-null   float64       \n",
      " 53  QT_CONC_BRANCA            2279 non-null   float64       \n",
      " 54  QT_CONC_PRETA             2279 non-null   float64       \n",
      " 55  QT_CONC_PARDA             2279 non-null   float64       \n",
      " 56  QT_CONC_AMARELA           2279 non-null   float64       \n",
      " 57  QT_CONC_INDIGENA          2279 non-null   float64       \n",
      " 58  QT_CONC_CORND             2279 non-null   float64       \n",
      " 59  QT_MAT_NACESTRANG         2279 non-null   float64       \n",
      " 60  QT_CONC_NACESTRANG        2279 non-null   float64       \n",
      " 61  QT_MAT_DEFICIENTE         2279 non-null   float64       \n",
      " 62  QT_CONC_DEFICIENTE        2279 non-null   float64       \n",
      " 63  QT_MAT_FINANC             2279 non-null   float64       \n",
      " 64  QT_CONC_FINANC            2279 non-null   float64       \n",
      " 65  QT_MAT_PROCESCPUBLICA     2279 non-null   float64       \n",
      " 66  QT_MAT_PROCESCPRIVADA     2279 non-null   float64       \n",
      " 67  QT_MAT_PROCNAOINFORMADA   2279 non-null   float64       \n",
      " 68  QT_CONC_PROCESCPUBLICA    2279 non-null   float64       \n",
      " 69  QT_CONC_PROCESCPRIVADA    2279 non-null   float64       \n",
      " 70  QT_CONC_PROCNAOINFORMADA  2279 non-null   float64       \n",
      "dtypes: datetime64[ns](1), float64(58), int64(6), object(6)\n",
      "memory usage: 1.3+ MB\n"
     ]
    }
   ],
   "source": [
    "# Visualizando a correção.\n",
    "dados_tipo_corrigido_censo_DF.info()"
   ]
  },
  {
   "cell_type": "markdown",
   "metadata": {},
   "source": [
    "#### Criando dicionário(com seus respectivos nomes) para as colunas categoricas, para que possam ser transformados para uma linguagem facil de analise."
   ]
  },
  {
   "cell_type": "code",
   "execution_count": 37,
   "metadata": {},
   "outputs": [
    {
     "name": "stdout",
     "output_type": "stream",
     "text": [
      "TP_ORGANIZACAO_ACADEMICA [1 2]\n",
      "TP_REDE [1 2]\n",
      "TP_GRAU_ACADEMICO [1. 2. 3. 0.]\n",
      "IN_GRATUITO [1 0]\n",
      "TP_MODALIDADE_ENSINO [1 2]\n",
      "TP_NIVEL_ACADEMICO [1]\n"
     ]
    }
   ],
   "source": [
    "# Verificando valores ÚNICOS para não esquecer de nenhum dado categorico.\n",
    "\n",
    "# Selecionando em lista as colunas que serão transformadas para categoricas.Para melhor otimização.\n",
    "lista_categoricos = ['TP_ORGANIZACAO_ACADEMICA','TP_REDE','TP_GRAU_ACADEMICO','IN_GRATUITO','TP_MODALIDADE_ENSINO','TP_NIVEL_ACADEMICO']\n",
    "\n",
    "for i in lista_categoricos:\n",
    "    print(f'{i}',dados_tipo_corrigido_censo_DF[i].unique())"
   ]
  },
  {
   "cell_type": "code",
   "execution_count": 38,
   "metadata": {},
   "outputs": [
    {
     "data": {
      "text/plain": [
       "array([1])"
      ]
     },
     "execution_count": 38,
     "metadata": {},
     "output_type": "execute_result"
    }
   ],
   "source": [
    "dic_TP_ORGANIZACAO_ACADEMICA = {1:\"Universidade\",\n",
    "2: \"Centro Universitário\"}\n",
    "\n",
    "dic_TP_REDE = {1:\"Pública\", 2:\"Privada\"}\n",
    "\n",
    "# OBS: FOI VERIFICADO QUE NO DICIONARIO TEMOS A CHAVE 4 (Bacharelado e Licenciatura), MAS NÃO FOI LOCALIZADO NOS DADOS ESSA CHAVE(ERRO DE COLETA? PRECISA LEVAR EM CONSIDERAÇÃO NA ANLISE.) - ISSO É SOBRE O GRAU ACADEMICO\n",
    "dic_TP_GRAU_ACADEMICO = {1:\"Bacharelado\",\n",
    "2:\"Licenciatura\",\n",
    "3:\"Tecnológico\",\n",
    "0:\"Não aplicável \"}\n",
    "\n",
    "dic_IN_GRATUITO = {0:\"Não\",1:\"Sim\"}\n",
    "\n",
    "dic_TP_MODALIDADE_ENSINO = {1:\"Presencial\", 2:\"Curso a distância\"}\n",
    "\n",
    "# NÃO ACHO NECESSARIO COLOCAR ESSA COLUNA, ANTES POR QUE A MESMA POSSUI APENAS UMA INFORMAÇÃO. E PARECE SER A MESMA INFORMAÇÃO DA COLUNA TP_GRAU_ACADEMICO (ANALISAR )\n",
    "dic_TP_NIVEL_ACADEMICO  = {1:\"Graduação\"}\n",
    "\n",
    "# Criando lista para utilização em tranformação das categorias\n",
    "lista_dicionario = [dic_TP_ORGANIZACAO_ACADEMICA,dic_TP_REDE,dic_TP_GRAU_ACADEMICO,dic_IN_GRATUITO,dic_TP_MODALIDADE_ENSINO,dic_TP_NIVEL_ACADEMICO]\n",
    "\n",
    "dados_tipo_corrigido_censo_DF['TP_NIVEL_ACADEMICO'].unique()\n",
    "\n"
   ]
  },
  {
   "cell_type": "code",
   "execution_count": 39,
   "metadata": {},
   "outputs": [],
   "source": [
    "# Novo DataFrame para receber os dados já categorizados\n",
    "novos_dados_corrigido_censo_DF = dados_tipo_corrigido_censo_DF.copy()\n",
    "\n",
    "# Laço for para transformar dados do type int em categoricos faceis de compreender e analisar. \n",
    "for i in zip(lista_categoricos,lista_dicionario):\n",
    "   novo_dados_censo_DF[i[0]] = novo_dados_censo_DF[i[0]].map(i[1])\n"
   ]
  },
  {
   "cell_type": "markdown",
   "metadata": {},
   "source": [
    "### Transformando colunas númericas em categoricas com linguagem fácil.  "
   ]
  },
  {
   "cell_type": "code",
   "execution_count": 40,
   "metadata": {},
   "outputs": [
    {
     "data": {
      "application/vnd.microsoft.datawrangler.viewer.v0+json": {
       "columns": [
        {
         "name": "index",
         "rawType": "int64",
         "type": "integer"
        },
        {
         "name": "NU_ANO_CENSO",
         "rawType": "int64",
         "type": "integer"
        },
        {
         "name": "SG_IES",
         "rawType": "object",
         "type": "string"
        },
        {
         "name": "CO_IES",
         "rawType": "int64",
         "type": "integer"
        },
        {
         "name": "NO_CURSO",
         "rawType": "object",
         "type": "string"
        },
        {
         "name": "TP_ORGANIZACAO_ACADEMICA",
         "rawType": "object",
         "type": "string"
        },
        {
         "name": "TP_REDE",
         "rawType": "object",
         "type": "string"
        },
        {
         "name": "NO_CINE_ROTULO",
         "rawType": "object",
         "type": "string"
        },
        {
         "name": "NO_CINE_AREA_GERAL",
         "rawType": "object",
         "type": "string"
        },
        {
         "name": "NO_CINE_AREA_ESPECIFICA",
         "rawType": "object",
         "type": "string"
        },
        {
         "name": "NO_CINE_AREA_DETALHADA",
         "rawType": "object",
         "type": "string"
        },
        {
         "name": "TP_GRAU_ACADEMICO",
         "rawType": "object",
         "type": "string"
        },
        {
         "name": "IN_GRATUITO",
         "rawType": "object",
         "type": "string"
        },
        {
         "name": "TP_MODALIDADE_ENSINO",
         "rawType": "object",
         "type": "string"
        },
        {
         "name": "TP_NIVEL_ACADEMICO",
         "rawType": "object",
         "type": "string"
        },
        {
         "name": "QT_VG_TOTAL",
         "rawType": "float64",
         "type": "float"
        },
        {
         "name": "QT_ING_ENEM",
         "rawType": "float64",
         "type": "float"
        },
        {
         "name": "QT_ING_VESTIBULAR",
         "rawType": "float64",
         "type": "float"
        },
        {
         "name": "QT_INSCRITO_TOTAL_EAD",
         "rawType": "float64",
         "type": "float"
        },
        {
         "name": "QT_VG_TOTAL_EAD",
         "rawType": "float64",
         "type": "float"
        },
        {
         "name": "QT_VG_TOTAL_DIURNO",
         "rawType": "float64",
         "type": "float"
        },
        {
         "name": "QT_VG_TOTAL_NOTURNO",
         "rawType": "float64",
         "type": "float"
        },
        {
         "name": "QT_MAT",
         "rawType": "float64",
         "type": "float"
        },
        {
         "name": "QT_MAT_FEM",
         "rawType": "float64",
         "type": "float"
        },
        {
         "name": "QT_MAT_MASC",
         "rawType": "float64",
         "type": "float"
        },
        {
         "name": "QT_MAT_DIURNO",
         "rawType": "float64",
         "type": "float"
        },
        {
         "name": "QT_MAT_NOTURNO",
         "rawType": "float64",
         "type": "float"
        },
        {
         "name": "QT_MAT_0_17",
         "rawType": "float64",
         "type": "float"
        },
        {
         "name": "QT_MAT_18_24",
         "rawType": "float64",
         "type": "float"
        },
        {
         "name": "QT_MAT_25_29",
         "rawType": "float64",
         "type": "float"
        },
        {
         "name": "QT_MAT_30_34",
         "rawType": "float64",
         "type": "float"
        },
        {
         "name": "QT_MAT_35_39",
         "rawType": "float64",
         "type": "float"
        },
        {
         "name": "QT_MAT_40_49",
         "rawType": "float64",
         "type": "float"
        },
        {
         "name": "QT_MAT_50_59",
         "rawType": "float64",
         "type": "float"
        },
        {
         "name": "QT_MAT_60_MAIS",
         "rawType": "float64",
         "type": "float"
        },
        {
         "name": "QT_MAT_BRANCA",
         "rawType": "float64",
         "type": "float"
        },
        {
         "name": "QT_MAT_PRETA",
         "rawType": "float64",
         "type": "float"
        },
        {
         "name": "QT_MAT_PARDA",
         "rawType": "float64",
         "type": "float"
        },
        {
         "name": "QT_MAT_AMARELA",
         "rawType": "float64",
         "type": "float"
        },
        {
         "name": "QT_MAT_INDIGENA",
         "rawType": "float64",
         "type": "float"
        },
        {
         "name": "QT_MAT_CORND",
         "rawType": "float64",
         "type": "float"
        },
        {
         "name": "QT_CONC",
         "rawType": "float64",
         "type": "float"
        },
        {
         "name": "QT_CONC_FEM",
         "rawType": "float64",
         "type": "float"
        },
        {
         "name": "QT_CONC_MASC",
         "rawType": "float64",
         "type": "float"
        },
        {
         "name": "QT_CONC_DIURNO",
         "rawType": "float64",
         "type": "float"
        },
        {
         "name": "QT_CONC_NOTURNO",
         "rawType": "float64",
         "type": "float"
        },
        {
         "name": "QT_CONC_0_17",
         "rawType": "float64",
         "type": "float"
        },
        {
         "name": "QT_CONC_18_24",
         "rawType": "float64",
         "type": "float"
        },
        {
         "name": "QT_CONC_25_29",
         "rawType": "float64",
         "type": "float"
        },
        {
         "name": "QT_CONC_30_34",
         "rawType": "float64",
         "type": "float"
        },
        {
         "name": "QT_CONC_35_39",
         "rawType": "float64",
         "type": "float"
        },
        {
         "name": "QT_CONC_40_49",
         "rawType": "float64",
         "type": "float"
        },
        {
         "name": "QT_CONC_50_59",
         "rawType": "float64",
         "type": "float"
        },
        {
         "name": "QT_CONC_60_MAIS",
         "rawType": "float64",
         "type": "float"
        },
        {
         "name": "QT_CONC_BRANCA",
         "rawType": "float64",
         "type": "float"
        },
        {
         "name": "QT_CONC_PRETA",
         "rawType": "float64",
         "type": "float"
        },
        {
         "name": "QT_CONC_PARDA",
         "rawType": "float64",
         "type": "float"
        },
        {
         "name": "QT_CONC_AMARELA",
         "rawType": "float64",
         "type": "float"
        },
        {
         "name": "QT_CONC_INDIGENA",
         "rawType": "float64",
         "type": "float"
        },
        {
         "name": "QT_CONC_CORND",
         "rawType": "float64",
         "type": "float"
        },
        {
         "name": "QT_MAT_NACESTRANG",
         "rawType": "float64",
         "type": "float"
        },
        {
         "name": "QT_CONC_NACESTRANG",
         "rawType": "float64",
         "type": "float"
        },
        {
         "name": "QT_MAT_DEFICIENTE",
         "rawType": "float64",
         "type": "float"
        },
        {
         "name": "QT_CONC_DEFICIENTE",
         "rawType": "float64",
         "type": "float"
        },
        {
         "name": "QT_MAT_FINANC",
         "rawType": "float64",
         "type": "float"
        },
        {
         "name": "QT_CONC_FINANC",
         "rawType": "float64",
         "type": "float"
        },
        {
         "name": "QT_MAT_PROCESCPUBLICA",
         "rawType": "float64",
         "type": "float"
        },
        {
         "name": "QT_MAT_PROCESCPRIVADA",
         "rawType": "float64",
         "type": "float"
        },
        {
         "name": "QT_MAT_PROCNAOINFORMADA",
         "rawType": "float64",
         "type": "float"
        },
        {
         "name": "QT_CONC_PROCESCPUBLICA",
         "rawType": "float64",
         "type": "float"
        },
        {
         "name": "QT_CONC_PROCESCPRIVADA",
         "rawType": "float64",
         "type": "float"
        },
        {
         "name": "QT_CONC_PROCNAOINFORMADA",
         "rawType": "float64",
         "type": "float"
        }
       ],
       "ref": "4a3039fe-e744-4f77-ac12-fff913bc55c6",
       "rows": [
        [
         "15",
         "2018",
         "UNB",
         "2",
         "ADMINISTRAÇÃO",
         "Universidade",
         "Pública",
         "Administração",
         "Negócios, administração e direito",
         "Negócios e administração",
         "Gestão e administração",
         "Bacharelado",
         "Sim",
         "Presencial",
         "Graduação",
         "285.0",
         "53.0",
         "61.0",
         "0.0",
         "0.0",
         "134.0",
         "151.0",
         "1079.0",
         "440.0",
         "639.0",
         "544.0",
         "535.0",
         "3.0",
         "831.0",
         "158.0",
         "38.0",
         "20.0",
         "18.0",
         "10.0",
         "1.0",
         "440.0",
         "86.0",
         "393.0",
         "24.0",
         "3.0",
         "133.0",
         "145.0",
         "67.0",
         "78.0",
         "72.0",
         "73.0",
         "0.0",
         "91.0",
         "38.0",
         "10.0",
         "5.0",
         "1.0",
         "0.0",
         "0.0",
         "71.0",
         "16.0",
         "50.0",
         "4.0",
         "0.0",
         "4.0",
         "13.0",
         "1.0",
         "1.0",
         "0.0",
         "0.0",
         "0.0",
         "466.0",
         "613.0",
         "0.0",
         "38.0",
         "107.0",
         "0.0"
        ],
        [
         "16",
         "2018",
         "UNB",
         "2",
         "AGRONOMIA",
         "Universidade",
         "Pública",
         "Agronomia",
         "Agricultura, silvicultura, pesca e veterinária",
         "Agricultura",
         "Produção agrícola, agropecuária e zootecnia",
         "Bacharelado",
         "Sim",
         "Presencial",
         "Graduação",
         "172.0",
         "39.0",
         "38.0",
         "0.0",
         "0.0",
         "172.0",
         "0.0",
         "704.0",
         "313.0",
         "391.0",
         "704.0",
         "0.0",
         "0.0",
         "585.0",
         "86.0",
         "23.0",
         "8.0",
         "2.0",
         "0.0",
         "0.0",
         "247.0",
         "54.0",
         "291.0",
         "11.0",
         "1.0",
         "100.0",
         "92.0",
         "43.0",
         "49.0",
         "92.0",
         "0.0",
         "0.0",
         "47.0",
         "39.0",
         "2.0",
         "4.0",
         "0.0",
         "0.0",
         "0.0",
         "39.0",
         "7.0",
         "42.0",
         "3.0",
         "0.0",
         "1.0",
         "6.0",
         "1.0",
         "0.0",
         "0.0",
         "0.0",
         "0.0",
         "345.0",
         "359.0",
         "0.0",
         "38.0",
         "54.0",
         "0.0"
        ],
        [
         "17",
         "2018",
         "UNB",
         "2",
         "ARQUITETURA E URBANISMO",
         "Universidade",
         "Pública",
         "Arquitetura e urbanismo",
         "Engenharia, produção e construção",
         "Arquitetura e construção",
         "Arquitetura e planejamento urbano",
         "Bacharelado",
         "Sim",
         "Presencial",
         "Graduação",
         "92.0",
         "19.0",
         "20.0",
         "0.0",
         "0.0",
         "92.0",
         "0.0",
         "539.0",
         "390.0",
         "149.0",
         "539.0",
         "0.0",
         "4.0",
         "436.0",
         "91.0",
         "4.0",
         "2.0",
         "0.0",
         "1.0",
         "1.0",
         "241.0",
         "38.0",
         "180.0",
         "8.0",
         "2.0",
         "70.0",
         "70.0",
         "53.0",
         "17.0",
         "70.0",
         "0.0",
         "0.0",
         "26.0",
         "42.0",
         "1.0",
         "1.0",
         "0.0",
         "0.0",
         "0.0",
         "39.0",
         "4.0",
         "23.0",
         "3.0",
         "0.0",
         "1.0",
         "8.0",
         "1.0",
         "0.0",
         "0.0",
         "0.0",
         "0.0",
         "188.0",
         "351.0",
         "0.0",
         "9.0",
         "61.0",
         "0.0"
        ],
        [
         "18",
         "2018",
         "UNB",
         "2",
         "ARQUITETURA E URBANISMO",
         "Universidade",
         "Pública",
         "Arquitetura e urbanismo",
         "Engenharia, produção e construção",
         "Arquitetura e construção",
         "Arquitetura e planejamento urbano",
         "Bacharelado",
         "Sim",
         "Presencial",
         "Graduação",
         "72.0",
         "15.0",
         "15.0",
         "0.0",
         "0.0",
         "0.0",
         "72.0",
         "386.0",
         "258.0",
         "128.0",
         "0.0",
         "386.0",
         "3.0",
         "281.0",
         "77.0",
         "11.0",
         "6.0",
         "7.0",
         "1.0",
         "0.0",
         "173.0",
         "23.0",
         "141.0",
         "4.0",
         "2.0",
         "43.0",
         "48.0",
         "37.0",
         "11.0",
         "0.0",
         "48.0",
         "0.0",
         "15.0",
         "29.0",
         "2.0",
         "1.0",
         "1.0",
         "0.0",
         "0.0",
         "31.0",
         "6.0",
         "8.0",
         "1.0",
         "0.0",
         "2.0",
         "1.0",
         "0.0",
         "1.0",
         "0.0",
         "0.0",
         "0.0",
         "141.0",
         "245.0",
         "0.0",
         "11.0",
         "37.0",
         "0.0"
        ],
        [
         "19",
         "2018",
         "UNB",
         "2",
         "ARQUIVOLOGIA",
         "Universidade",
         "Pública",
         "Arquivologia",
         "Ciências sociais, comunicação e informação",
         "Comunicação e informação",
         "Ciência da informação e museologia",
         "Bacharelado",
         "Sim",
         "Presencial",
         "Graduação",
         "92.0",
         "20.0",
         "21.0",
         "0.0",
         "0.0",
         "0.0",
         "92.0",
         "350.0",
         "186.0",
         "164.0",
         "0.0",
         "350.0",
         "0.0",
         "234.0",
         "56.0",
         "32.0",
         "12.0",
         "13.0",
         "2.0",
         "1.0",
         "113.0",
         "41.0",
         "154.0",
         "4.0",
         "0.0",
         "38.0",
         "54.0",
         "26.0",
         "28.0",
         "0.0",
         "54.0",
         "0.0",
         "23.0",
         "15.0",
         "9.0",
         "6.0",
         "0.0",
         "1.0",
         "0.0",
         "21.0",
         "4.0",
         "27.0",
         "1.0",
         "0.0",
         "1.0",
         "0.0",
         "0.0",
         "2.0",
         "0.0",
         "0.0",
         "0.0",
         "197.0",
         "153.0",
         "0.0",
         "26.0",
         "28.0",
         "0.0"
        ]
       ],
       "shape": {
        "columns": 71,
        "rows": 5
       }
      },
      "text/html": [
       "<div>\n",
       "<style scoped>\n",
       "    .dataframe tbody tr th:only-of-type {\n",
       "        vertical-align: middle;\n",
       "    }\n",
       "\n",
       "    .dataframe tbody tr th {\n",
       "        vertical-align: top;\n",
       "    }\n",
       "\n",
       "    .dataframe thead th {\n",
       "        text-align: right;\n",
       "    }\n",
       "</style>\n",
       "<table border=\"1\" class=\"dataframe\">\n",
       "  <thead>\n",
       "    <tr style=\"text-align: right;\">\n",
       "      <th></th>\n",
       "      <th>NU_ANO_CENSO</th>\n",
       "      <th>SG_IES</th>\n",
       "      <th>CO_IES</th>\n",
       "      <th>NO_CURSO</th>\n",
       "      <th>TP_ORGANIZACAO_ACADEMICA</th>\n",
       "      <th>TP_REDE</th>\n",
       "      <th>NO_CINE_ROTULO</th>\n",
       "      <th>NO_CINE_AREA_GERAL</th>\n",
       "      <th>NO_CINE_AREA_ESPECIFICA</th>\n",
       "      <th>NO_CINE_AREA_DETALHADA</th>\n",
       "      <th>...</th>\n",
       "      <th>QT_MAT_DEFICIENTE</th>\n",
       "      <th>QT_CONC_DEFICIENTE</th>\n",
       "      <th>QT_MAT_FINANC</th>\n",
       "      <th>QT_CONC_FINANC</th>\n",
       "      <th>QT_MAT_PROCESCPUBLICA</th>\n",
       "      <th>QT_MAT_PROCESCPRIVADA</th>\n",
       "      <th>QT_MAT_PROCNAOINFORMADA</th>\n",
       "      <th>QT_CONC_PROCESCPUBLICA</th>\n",
       "      <th>QT_CONC_PROCESCPRIVADA</th>\n",
       "      <th>QT_CONC_PROCNAOINFORMADA</th>\n",
       "    </tr>\n",
       "  </thead>\n",
       "  <tbody>\n",
       "    <tr>\n",
       "      <th>15</th>\n",
       "      <td>2018</td>\n",
       "      <td>UNB</td>\n",
       "      <td>2</td>\n",
       "      <td>ADMINISTRAÇÃO</td>\n",
       "      <td>Universidade</td>\n",
       "      <td>Pública</td>\n",
       "      <td>Administração</td>\n",
       "      <td>Negócios, administração e direito</td>\n",
       "      <td>Negócios e administração</td>\n",
       "      <td>Gestão e administração</td>\n",
       "      <td>...</td>\n",
       "      <td>1.0</td>\n",
       "      <td>0.0</td>\n",
       "      <td>0.0</td>\n",
       "      <td>0.0</td>\n",
       "      <td>466.0</td>\n",
       "      <td>613.0</td>\n",
       "      <td>0.0</td>\n",
       "      <td>38.0</td>\n",
       "      <td>107.0</td>\n",
       "      <td>0.0</td>\n",
       "    </tr>\n",
       "    <tr>\n",
       "      <th>16</th>\n",
       "      <td>2018</td>\n",
       "      <td>UNB</td>\n",
       "      <td>2</td>\n",
       "      <td>AGRONOMIA</td>\n",
       "      <td>Universidade</td>\n",
       "      <td>Pública</td>\n",
       "      <td>Agronomia</td>\n",
       "      <td>Agricultura, silvicultura, pesca e veterinária</td>\n",
       "      <td>Agricultura</td>\n",
       "      <td>Produção agrícola, agropecuária e zootecnia</td>\n",
       "      <td>...</td>\n",
       "      <td>0.0</td>\n",
       "      <td>0.0</td>\n",
       "      <td>0.0</td>\n",
       "      <td>0.0</td>\n",
       "      <td>345.0</td>\n",
       "      <td>359.0</td>\n",
       "      <td>0.0</td>\n",
       "      <td>38.0</td>\n",
       "      <td>54.0</td>\n",
       "      <td>0.0</td>\n",
       "    </tr>\n",
       "    <tr>\n",
       "      <th>17</th>\n",
       "      <td>2018</td>\n",
       "      <td>UNB</td>\n",
       "      <td>2</td>\n",
       "      <td>ARQUITETURA E URBANISMO</td>\n",
       "      <td>Universidade</td>\n",
       "      <td>Pública</td>\n",
       "      <td>Arquitetura e urbanismo</td>\n",
       "      <td>Engenharia, produção e construção</td>\n",
       "      <td>Arquitetura e construção</td>\n",
       "      <td>Arquitetura e planejamento urbano</td>\n",
       "      <td>...</td>\n",
       "      <td>0.0</td>\n",
       "      <td>0.0</td>\n",
       "      <td>0.0</td>\n",
       "      <td>0.0</td>\n",
       "      <td>188.0</td>\n",
       "      <td>351.0</td>\n",
       "      <td>0.0</td>\n",
       "      <td>9.0</td>\n",
       "      <td>61.0</td>\n",
       "      <td>0.0</td>\n",
       "    </tr>\n",
       "    <tr>\n",
       "      <th>18</th>\n",
       "      <td>2018</td>\n",
       "      <td>UNB</td>\n",
       "      <td>2</td>\n",
       "      <td>ARQUITETURA E URBANISMO</td>\n",
       "      <td>Universidade</td>\n",
       "      <td>Pública</td>\n",
       "      <td>Arquitetura e urbanismo</td>\n",
       "      <td>Engenharia, produção e construção</td>\n",
       "      <td>Arquitetura e construção</td>\n",
       "      <td>Arquitetura e planejamento urbano</td>\n",
       "      <td>...</td>\n",
       "      <td>1.0</td>\n",
       "      <td>0.0</td>\n",
       "      <td>0.0</td>\n",
       "      <td>0.0</td>\n",
       "      <td>141.0</td>\n",
       "      <td>245.0</td>\n",
       "      <td>0.0</td>\n",
       "      <td>11.0</td>\n",
       "      <td>37.0</td>\n",
       "      <td>0.0</td>\n",
       "    </tr>\n",
       "    <tr>\n",
       "      <th>19</th>\n",
       "      <td>2018</td>\n",
       "      <td>UNB</td>\n",
       "      <td>2</td>\n",
       "      <td>ARQUIVOLOGIA</td>\n",
       "      <td>Universidade</td>\n",
       "      <td>Pública</td>\n",
       "      <td>Arquivologia</td>\n",
       "      <td>Ciências sociais, comunicação e informação</td>\n",
       "      <td>Comunicação e informação</td>\n",
       "      <td>Ciência da informação e museologia</td>\n",
       "      <td>...</td>\n",
       "      <td>2.0</td>\n",
       "      <td>0.0</td>\n",
       "      <td>0.0</td>\n",
       "      <td>0.0</td>\n",
       "      <td>197.0</td>\n",
       "      <td>153.0</td>\n",
       "      <td>0.0</td>\n",
       "      <td>26.0</td>\n",
       "      <td>28.0</td>\n",
       "      <td>0.0</td>\n",
       "    </tr>\n",
       "  </tbody>\n",
       "</table>\n",
       "<p>5 rows × 71 columns</p>\n",
       "</div>"
      ],
      "text/plain": [
       "    NU_ANO_CENSO SG_IES  CO_IES                 NO_CURSO  \\\n",
       "15          2018    UNB       2            ADMINISTRAÇÃO   \n",
       "16          2018    UNB       2                AGRONOMIA   \n",
       "17          2018    UNB       2  ARQUITETURA E URBANISMO   \n",
       "18          2018    UNB       2  ARQUITETURA E URBANISMO   \n",
       "19          2018    UNB       2             ARQUIVOLOGIA   \n",
       "\n",
       "   TP_ORGANIZACAO_ACADEMICA  TP_REDE           NO_CINE_ROTULO  \\\n",
       "15             Universidade  Pública            Administração   \n",
       "16             Universidade  Pública                Agronomia   \n",
       "17             Universidade  Pública  Arquitetura e urbanismo   \n",
       "18             Universidade  Pública  Arquitetura e urbanismo   \n",
       "19             Universidade  Pública             Arquivologia   \n",
       "\n",
       "                                NO_CINE_AREA_GERAL   NO_CINE_AREA_ESPECIFICA  \\\n",
       "15               Negócios, administração e direito  Negócios e administração   \n",
       "16  Agricultura, silvicultura, pesca e veterinária               Agricultura   \n",
       "17               Engenharia, produção e construção  Arquitetura e construção   \n",
       "18               Engenharia, produção e construção  Arquitetura e construção   \n",
       "19      Ciências sociais, comunicação e informação  Comunicação e informação   \n",
       "\n",
       "                         NO_CINE_AREA_DETALHADA  ... QT_MAT_DEFICIENTE  \\\n",
       "15                       Gestão e administração  ...               1.0   \n",
       "16  Produção agrícola, agropecuária e zootecnia  ...               0.0   \n",
       "17            Arquitetura e planejamento urbano  ...               0.0   \n",
       "18            Arquitetura e planejamento urbano  ...               1.0   \n",
       "19           Ciência da informação e museologia  ...               2.0   \n",
       "\n",
       "   QT_CONC_DEFICIENTE QT_MAT_FINANC QT_CONC_FINANC  QT_MAT_PROCESCPUBLICA  \\\n",
       "15                0.0           0.0            0.0                  466.0   \n",
       "16                0.0           0.0            0.0                  345.0   \n",
       "17                0.0           0.0            0.0                  188.0   \n",
       "18                0.0           0.0            0.0                  141.0   \n",
       "19                0.0           0.0            0.0                  197.0   \n",
       "\n",
       "    QT_MAT_PROCESCPRIVADA  QT_MAT_PROCNAOINFORMADA  QT_CONC_PROCESCPUBLICA  \\\n",
       "15                  613.0                      0.0                    38.0   \n",
       "16                  359.0                      0.0                    38.0   \n",
       "17                  351.0                      0.0                     9.0   \n",
       "18                  245.0                      0.0                    11.0   \n",
       "19                  153.0                      0.0                    26.0   \n",
       "\n",
       "    QT_CONC_PROCESCPRIVADA  QT_CONC_PROCNAOINFORMADA  \n",
       "15                   107.0                       0.0  \n",
       "16                    54.0                       0.0  \n",
       "17                    61.0                       0.0  \n",
       "18                    37.0                       0.0  \n",
       "19                    28.0                       0.0  \n",
       "\n",
       "[5 rows x 71 columns]"
      ]
     },
     "execution_count": 40,
     "metadata": {},
     "output_type": "execute_result"
    }
   ],
   "source": [
    "novo_dados_censo_DF.head()"
   ]
  },
  {
   "cell_type": "markdown",
   "metadata": {},
   "source": [
    "### Verificando se a transformação ocorreu como esperado."
   ]
  },
  {
   "cell_type": "code",
   "execution_count": 41,
   "metadata": {},
   "outputs": [
    {
     "name": "stdout",
     "output_type": "stream",
     "text": [
      "TP_ORGANIZACAO_ACADEMICA 0\n",
      "TP_REDE 0\n",
      "TP_GRAU_ACADEMICO 0\n",
      "IN_GRATUITO 0\n",
      "TP_MODALIDADE_ENSINO 0\n",
      "TP_NIVEL_ACADEMICO 0\n"
     ]
    }
   ],
   "source": [
    "for i in lista_categoricos:\n",
    "    print(f'{i}',novo_dados_censo_DF[i].isnull().sum())\n"
   ]
  },
  {
   "cell_type": "markdown",
   "metadata": {},
   "source": [
    "## Padronização de dados"
   ]
  },
  {
   "cell_type": "code",
   "execution_count": 42,
   "metadata": {},
   "outputs": [],
   "source": [
    "# Salvando DataFrame para fazer sua analise de padronização em outro notebook.\n",
    "novo_dados_censo_DF.to_csv(\"D:\\\\analise_de_Dados\\\\arquivos_Brutos\\\\Projeto_censo_educacao_superior\\\\Dados_para_normalizar_df_ed_sup.csv\",sep=';',index=False)"
   ]
  },
  {
   "cell_type": "markdown",
   "metadata": {},
   "source": [
    "### Normalizando dados, após análise bem detalhada."
   ]
  },
  {
   "cell_type": "code",
   "execution_count": 43,
   "metadata": {},
   "outputs": [],
   "source": [
    "import unicodedata # Serve para remover acentos e caracteres do texto\n",
    "\n",
    "def normalizar(texto):\n",
    "    if not isinstance(texto, str): # Verifica se o valor recebido é uma string, se  não for, transforma em uma.\n",
    "        return str(texto)\n",
    "    \n",
    "    texto = texto.upper().strip() # Transformamos o valor recebido em maisculo, e apagamos os espaços na frente e atrás\n",
    "    texto = unicodedata.normalize('NFKD', texto).encode('ASCII', 'ignore').decode('utf-8') #\n",
    "    return texto"
   ]
  },
  {
   "cell_type": "code",
   "execution_count": 44,
   "metadata": {},
   "outputs": [],
   "source": [
    "# Listas de palavras que significam as mesmas coisas, mas por alguns detalhes aparecem diferentes.\n",
    "col_cor_NO_CURSOS = {\n",
    "    'LETRAS - PORTUGUES': 'LETRAS - LINGUA PORTUGUESA',\n",
    "    'COMUNICACAO SOCIAL - JORNALISMO': 'JORNALISMO',\n",
    "    'CIENCIA ECONOMICA': 'CIENCIAS ECONOMICAS',\n",
    "    'GESTAO DE SERVICOS JURIDICOS': 'SERVICOS JURIDICOS'\n",
    "}\n",
    "\n",
    "col_cor_NO_CINE_ROTULO = {\n",
    "    'ENGENHARIA DE COMPUTACAO': ['ENGENHARIA', 'COMPUTACAO'],\n",
    "}\n"
   ]
  },
  {
   "cell_type": "code",
   "execution_count": 45,
   "metadata": {},
   "outputs": [],
   "source": [
    "# Selecionando colunas que são strings.\n",
    "colunas_objects = novo_dados_censo_DF.select_dtypes(include='object').columns\n",
    "dados_censo_padronizado = novo_dados_censo_DF\n",
    "\n",
    "# Transformando todas as variaveis categoricas em maisculas.\n",
    "\n",
    "\n",
    "for i in colunas_objects:\n",
    "    # Aplicando a função normalizar para cada dados de cada coluna de string.\n",
    "    dados_censo_padronizado[i] = novo_dados_censo_DF[i].apply(lambda x: normalizar(x))\n",
    "\n",
    "    # Essas colunas precisam de um tratamento especial, alem de se tornarem maisculas. \n",
    "    if i == 'NO_CURSO':\n",
    "        dados_censo_padronizado[i] = dados_censo_padronizado[i].apply(lambda x: col_cor_NO_CURSOS.get(x, x))\n",
    "    if i == 'NO_CINE_ROTULO':\n",
    "        dados_censo_padronizado[i] = dados_censo_padronizado[i].apply(lambda x: col_cor_NO_CINE_ROTULO.get(x, x))"
   ]
  },
  {
   "cell_type": "markdown",
   "metadata": {},
   "source": [
    "🛠️ O que foi feito na normalização dos dados\n",
    "Pra deixar os dados mais organizados e confiáveis, precisei mandar o DataFrame pra outro notebook e analisar com calma cada coluna de texto. O objetivo era encontrar valores que pareciam diferentes, mas na verdade representavam a mesma coisa.\n",
    "\n",
    "👀 O que eu encontrei:\n",
    "Tinha curso escrito em maiúsculo e minúsculo, e por isso apareciam como se fossem diferentes (ex: letras - português e LETRAS - PORTUGUÊS).\n",
    "\n",
    "Alguns nomes estavam com ou sem acentos, o que também causava duplicações.\n",
    "\n",
    "E outros estavam com pequenas variações, como:\n",
    "\n",
    "'CIENCIA ECONOMICA' e 'CIENCIAS ECONOMICAS' (só muda um \"S\")\n",
    "\n",
    "'COMUNICACAO SOCIAL - JORNALISMO' e 'JORNALISMO', que são a mesma coisa, só que escrito de formas diferentes.\n",
    "\n",
    "✂️ O que eu fiz:\n",
    "Criei uma função chamada normalizar que:\n",
    "\n",
    "Deixa tudo em maiúsculo\n",
    "\n",
    "Tira acentos\n",
    "\n",
    "Remove espaços desnecessários\n",
    "\n",
    "Depois disso, usei dois dicionários pra corrigir alguns nomes específicos que ainda estavam diferentes, mesmo depois da limpeza:\n",
    "\n",
    "col_cor_NO_CURSO = {\n",
    "    'LETRAS - PORTUGUES': 'LETRAS - LINGUA PORTUGUESA',\n",
    "    'COMUNICACAO SOCIAL - JORNALISMO': 'JORNALISMO',\n",
    "    'CIENCIA ECONOMICA': 'CIENCIAS ECONOMICAS',\n",
    "    'GESTAO DE SERVICOS JURIDICOS': 'SERVICOS JURIDICOS'\n",
    "}\n",
    "\n",
    "col_cor_NO_CINE_ROTULO = {\n",
    "    'ENGENHARIA DE COMPUTACAO': ['ENGENHARIA', 'COMPUTACAO']\n",
    "}\n",
    "\n",
    "✅ Resultado:\n",
    "Agora os cursos estão mais padronizados, com menos duplicidade e prontos pra análises mais confiáveis, como agrupamentos, gráficos e comparações."
   ]
  },
  {
   "cell_type": "code",
   "execution_count": 46,
   "metadata": {},
   "outputs": [],
   "source": [
    "# transformando ano.CO_IES para string(pois é categorico)\n",
    "dados_censo_padronizado['NU_ANO_CENSO'] = dados_censo_padronizado['NU_ANO_CENSO'].astype(str)\n",
    "dados_censo_padronizado['CO_IES'] = dados_censo_padronizado['CO_IES'].astype(str)"
   ]
  },
  {
   "cell_type": "code",
   "execution_count": 47,
   "metadata": {},
   "outputs": [],
   "source": [
    "# Foi verificado que não há inscrições nem vagas disponiveis para EAD, ESTRANHO. \n",
    "# foi decidido que será retirado.\n",
    "dados_censo_padronizado = dados_censo_padronizado.drop(columns=['QT_INSCRITO_TOTAL_EAD','QT_VG_TOTAL_EAD'])\n"
   ]
  },
  {
   "cell_type": "code",
   "execution_count": 48,
   "metadata": {},
   "outputs": [],
   "source": [
    "dados_censo_padronizado.to_csv(\"C:\\\\Users\\\\Thiago\\\\Desktop\\\\dados_senso_padronizado.csv\",sep=';')"
   ]
  },
  {
   "cell_type": "markdown",
   "metadata": {},
   "source": [
    "# Exploração e visualização de Dados."
   ]
  },
  {
   "cell_type": "code",
   "execution_count": 49,
   "metadata": {},
   "outputs": [],
   "source": [
    "# Visualizando as colunas númericas\n",
    "colunas_númericas = dados_censo_padronizado.select_dtypes(include=\"number\").columns\n",
    "# Visualizando as colunas Não númericas\n",
    "colunas_N_númericas = dados_censo_padronizado.select_dtypes(exclude=\"number\").columns\n"
   ]
  },
  {
   "cell_type": "code",
   "execution_count": 50,
   "metadata": {},
   "outputs": [
    {
     "data": {
      "application/vnd.microsoft.datawrangler.viewer.v0+json": {
       "columns": [
        {
         "name": "index",
         "rawType": "object",
         "type": "string"
        },
        {
         "name": "QT_VG_TOTAL",
         "rawType": "float64",
         "type": "float"
        },
        {
         "name": "QT_ING_ENEM",
         "rawType": "float64",
         "type": "float"
        },
        {
         "name": "QT_ING_VESTIBULAR",
         "rawType": "float64",
         "type": "float"
        },
        {
         "name": "QT_VG_TOTAL_DIURNO",
         "rawType": "float64",
         "type": "float"
        },
        {
         "name": "QT_VG_TOTAL_NOTURNO",
         "rawType": "float64",
         "type": "float"
        },
        {
         "name": "QT_MAT",
         "rawType": "float64",
         "type": "float"
        },
        {
         "name": "QT_MAT_FEM",
         "rawType": "float64",
         "type": "float"
        },
        {
         "name": "QT_MAT_MASC",
         "rawType": "float64",
         "type": "float"
        },
        {
         "name": "QT_MAT_DIURNO",
         "rawType": "float64",
         "type": "float"
        },
        {
         "name": "QT_MAT_NOTURNO",
         "rawType": "float64",
         "type": "float"
        },
        {
         "name": "QT_MAT_0_17",
         "rawType": "float64",
         "type": "float"
        },
        {
         "name": "QT_MAT_18_24",
         "rawType": "float64",
         "type": "float"
        },
        {
         "name": "QT_MAT_25_29",
         "rawType": "float64",
         "type": "float"
        },
        {
         "name": "QT_MAT_30_34",
         "rawType": "float64",
         "type": "float"
        },
        {
         "name": "QT_MAT_35_39",
         "rawType": "float64",
         "type": "float"
        },
        {
         "name": "QT_MAT_40_49",
         "rawType": "float64",
         "type": "float"
        },
        {
         "name": "QT_MAT_50_59",
         "rawType": "float64",
         "type": "float"
        },
        {
         "name": "QT_MAT_60_MAIS",
         "rawType": "float64",
         "type": "float"
        },
        {
         "name": "QT_MAT_BRANCA",
         "rawType": "float64",
         "type": "float"
        },
        {
         "name": "QT_MAT_PRETA",
         "rawType": "float64",
         "type": "float"
        },
        {
         "name": "QT_MAT_PARDA",
         "rawType": "float64",
         "type": "float"
        },
        {
         "name": "QT_MAT_AMARELA",
         "rawType": "float64",
         "type": "float"
        },
        {
         "name": "QT_MAT_INDIGENA",
         "rawType": "float64",
         "type": "float"
        },
        {
         "name": "QT_MAT_CORND",
         "rawType": "float64",
         "type": "float"
        },
        {
         "name": "QT_CONC",
         "rawType": "float64",
         "type": "float"
        },
        {
         "name": "QT_CONC_FEM",
         "rawType": "float64",
         "type": "float"
        },
        {
         "name": "QT_CONC_MASC",
         "rawType": "float64",
         "type": "float"
        },
        {
         "name": "QT_CONC_DIURNO",
         "rawType": "float64",
         "type": "float"
        },
        {
         "name": "QT_CONC_NOTURNO",
         "rawType": "float64",
         "type": "float"
        },
        {
         "name": "QT_CONC_0_17",
         "rawType": "float64",
         "type": "float"
        },
        {
         "name": "QT_CONC_18_24",
         "rawType": "float64",
         "type": "float"
        },
        {
         "name": "QT_CONC_25_29",
         "rawType": "float64",
         "type": "float"
        },
        {
         "name": "QT_CONC_30_34",
         "rawType": "float64",
         "type": "float"
        },
        {
         "name": "QT_CONC_35_39",
         "rawType": "float64",
         "type": "float"
        },
        {
         "name": "QT_CONC_40_49",
         "rawType": "float64",
         "type": "float"
        },
        {
         "name": "QT_CONC_50_59",
         "rawType": "float64",
         "type": "float"
        },
        {
         "name": "QT_CONC_60_MAIS",
         "rawType": "float64",
         "type": "float"
        },
        {
         "name": "QT_CONC_BRANCA",
         "rawType": "float64",
         "type": "float"
        },
        {
         "name": "QT_CONC_PRETA",
         "rawType": "float64",
         "type": "float"
        },
        {
         "name": "QT_CONC_PARDA",
         "rawType": "float64",
         "type": "float"
        },
        {
         "name": "QT_CONC_AMARELA",
         "rawType": "float64",
         "type": "float"
        },
        {
         "name": "QT_CONC_INDIGENA",
         "rawType": "float64",
         "type": "float"
        },
        {
         "name": "QT_CONC_CORND",
         "rawType": "float64",
         "type": "float"
        },
        {
         "name": "QT_MAT_NACESTRANG",
         "rawType": "float64",
         "type": "float"
        },
        {
         "name": "QT_CONC_NACESTRANG",
         "rawType": "float64",
         "type": "float"
        },
        {
         "name": "QT_MAT_DEFICIENTE",
         "rawType": "float64",
         "type": "float"
        },
        {
         "name": "QT_CONC_DEFICIENTE",
         "rawType": "float64",
         "type": "float"
        },
        {
         "name": "QT_MAT_FINANC",
         "rawType": "float64",
         "type": "float"
        },
        {
         "name": "QT_CONC_FINANC",
         "rawType": "float64",
         "type": "float"
        },
        {
         "name": "QT_MAT_PROCESCPUBLICA",
         "rawType": "float64",
         "type": "float"
        },
        {
         "name": "QT_MAT_PROCESCPRIVADA",
         "rawType": "float64",
         "type": "float"
        },
        {
         "name": "QT_MAT_PROCNAOINFORMADA",
         "rawType": "float64",
         "type": "float"
        },
        {
         "name": "QT_CONC_PROCESCPUBLICA",
         "rawType": "float64",
         "type": "float"
        },
        {
         "name": "QT_CONC_PROCESCPRIVADA",
         "rawType": "float64",
         "type": "float"
        },
        {
         "name": "QT_CONC_PROCNAOINFORMADA",
         "rawType": "float64",
         "type": "float"
        }
       ],
       "ref": "0f0c2266-f3e0-48e6-8e9a-2297e9ae825a",
       "rows": [
        [
         "count",
         "2279.0",
         "2279.0",
         "2279.0",
         "2279.0",
         "2279.0",
         "2279.0",
         "2279.0",
         "2279.0",
         "2279.0",
         "2279.0",
         "2279.0",
         "2279.0",
         "2279.0",
         "2279.0",
         "2279.0",
         "2279.0",
         "2279.0",
         "2279.0",
         "2279.0",
         "2279.0",
         "2279.0",
         "2279.0",
         "2279.0",
         "2279.0",
         "2279.0",
         "2279.0",
         "2279.0",
         "2279.0",
         "2279.0",
         "2279.0",
         "2279.0",
         "2279.0",
         "2279.0",
         "2279.0",
         "2279.0",
         "2279.0",
         "2279.0",
         "2279.0",
         "2279.0",
         "2279.0",
         "2279.0",
         "2279.0",
         "2279.0",
         "2279.0",
         "2279.0",
         "2279.0",
         "2279.0",
         "2279.0",
         "2279.0",
         "2279.0",
         "2279.0",
         "2279.0",
         "2279.0",
         "2279.0",
         "2279.0"
        ],
        [
         "mean",
         "143.80561649846425",
         "22.897323387450637",
         "31.741992101799035",
         "79.70250109697236",
         "64.10311540149188",
         "235.8872312417727",
         "131.12198332602017",
         "104.76524791575252",
         "144.52391399736726",
         "72.46511627906976",
         "0.5708644142167617",
         "160.10399297937693",
         "37.262395787626154",
         "14.078104431768319",
         "9.312856516015797",
         "10.342694164107064",
         "3.448442299254059",
         "0.7678806494076349",
         "87.80166739798157",
         "18.353225098727513",
         "106.46687143483985",
         "3.907854322071084",
         "0.7134708205353225",
         "18.644142167617375",
         "37.07152259763054",
         "21.721369021500657",
         "15.350153576129882",
         "21.667836770513382",
         "12.328652917946467",
         "0.0",
         "19.07810443176832",
         "10.303641948222905",
         "2.9881526985519966",
         "1.8731899956121105",
         "2.0092145677928914",
         "0.6709082931110136",
         "0.1483106625713032",
         "14.30144800351031",
         "2.95129442738043",
         "17.748573935936815",
         "0.7547169811320755",
         "0.08556384379113646",
         "1.2299254058797717",
         "0.782799473453269",
         "0.11715664765247916",
         "1.650285212812637",
         "0.22290478279947346",
         "64.28565160157964",
         "12.795085563843791",
         "130.52566915313733",
         "105.35234752084247",
         "0.009214567792891619",
         "18.857832382623958",
         "18.21149627029399",
         "0.002193944712593243"
        ],
        [
         "std",
         "210.00827661279794",
         "33.879790423701486",
         "68.83209932781007",
         "124.38426097849992",
         "102.00789440752958",
         "351.3312372779886",
         "226.328783438488",
         "158.47738724656102",
         "258.9354976499631",
         "159.03083198222544",
         "2.0893460038792635",
         "239.28916934199663",
         "52.60989621433874",
         "26.195809044696627",
         "19.87595347328977",
         "24.59795558021036",
         "8.985592115077537",
         "2.500413386677132",
         "153.5114514917288",
         "28.230758120119013",
         "148.0146328586994",
         "7.362692462805916",
         "1.6645738691483276",
         "41.30380811862341",
         "64.24619071190602",
         "42.96622634555903",
         "26.251055227306196",
         "42.258836774443935",
         "30.31832026815724",
         "0.0",
         "33.53443643942068",
         "16.882669522014737",
         "6.621084000848757",
         "5.253384372948906",
         "5.602379656116804",
         "2.0465587317728784",
         "0.6179460569163914",
         "24.354258291654173",
         "5.427775997087232",
         "33.48595903555484",
         "1.7614403168041848",
         "0.3618767843484349",
         "3.4499760841582408",
         "1.9873928526851516",
         "0.4423375408369818",
         "4.286403628259921",
         "0.8197422372491439",
         "153.44535571620415",
         "37.811412871685704",
         "188.84831890739818",
         "211.33093445216915",
         "0.09557022175076996",
         "35.455718327406174",
         "37.24380474079618",
         "0.04679842206184888"
        ],
        [
         "min",
         "0.0",
         "0.0",
         "0.0",
         "0.0",
         "0.0",
         "0.0",
         "0.0",
         "0.0",
         "0.0",
         "0.0",
         "0.0",
         "0.0",
         "0.0",
         "0.0",
         "0.0",
         "0.0",
         "0.0",
         "0.0",
         "0.0",
         "0.0",
         "0.0",
         "0.0",
         "0.0",
         "0.0",
         "0.0",
         "0.0",
         "0.0",
         "0.0",
         "0.0",
         "0.0",
         "0.0",
         "0.0",
         "0.0",
         "0.0",
         "0.0",
         "0.0",
         "0.0",
         "0.0",
         "0.0",
         "0.0",
         "0.0",
         "0.0",
         "0.0",
         "0.0",
         "0.0",
         "0.0",
         "0.0",
         "0.0",
         "0.0",
         "0.0",
         "0.0",
         "0.0",
         "0.0",
         "0.0",
         "0.0"
        ],
        [
         "25%",
         "14.0",
         "1.0",
         "1.0",
         "0.0",
         "0.0",
         "51.0",
         "19.0",
         "19.0",
         "0.0",
         "0.0",
         "0.0",
         "22.0",
         "8.0",
         "3.0",
         "1.0",
         "1.0",
         "0.0",
         "0.0",
         "16.0",
         "3.0",
         "22.0",
         "0.0",
         "0.0",
         "0.0",
         "4.0",
         "1.0",
         "1.0",
         "0.0",
         "0.0",
         "0.0",
         "1.0",
         "1.0",
         "0.0",
         "0.0",
         "0.0",
         "0.0",
         "0.0",
         "1.0",
         "0.0",
         "2.0",
         "0.0",
         "0.0",
         "0.0",
         "0.0",
         "0.0",
         "0.0",
         "0.0",
         "0.0",
         "0.0",
         "26.0",
         "19.0",
         "0.0",
         "2.0",
         "1.0",
         "0.0"
        ],
        [
         "50%",
         "100.0",
         "16.0",
         "13.0",
         "60.0",
         "0.0",
         "153.0",
         "66.0",
         "61.0",
         "44.0",
         "0.0",
         "0.0",
         "100.0",
         "23.0",
         "7.0",
         "4.0",
         "4.0",
         "1.0",
         "0.0",
         "53.0",
         "11.0",
         "64.0",
         "2.0",
         "0.0",
         "7.0",
         "22.0",
         "10.0",
         "8.0",
         "2.0",
         "0.0",
         "0.0",
         "10.0",
         "6.0",
         "1.0",
         "0.0",
         "0.0",
         "0.0",
         "0.0",
         "8.0",
         "1.0",
         "10.0",
         "0.0",
         "0.0",
         "0.0",
         "0.0",
         "0.0",
         "0.0",
         "0.0",
         "4.0",
         "0.0",
         "73.0",
         "60.0",
         "0.0",
         "10.0",
         "9.0",
         "0.0"
        ],
        [
         "75%",
         "180.0",
         "31.0",
         "30.0",
         "120.0",
         "111.5",
         "319.0",
         "165.0",
         "132.0",
         "207.0",
         "72.0",
         "0.0",
         "226.0",
         "48.0",
         "15.0",
         "9.0",
         "10.0",
         "3.0",
         "1.0",
         "110.0",
         "24.0",
         "140.0",
         "5.0",
         "1.0",
         "24.0",
         "46.0",
         "26.0",
         "19.0",
         "30.0",
         "13.5",
         "0.0",
         "26.0",
         "13.0",
         "3.0",
         "2.0",
         "2.0",
         "1.0",
         "0.0",
         "18.0",
         "4.0",
         "21.0",
         "1.0",
         "0.0",
         "1.0",
         "1.0",
         "0.0",
         "2.0",
         "0.0",
         "64.0",
         "10.0",
         "170.5",
         "132.0",
         "0.0",
         "21.0",
         "23.0",
         "0.0"
        ],
        [
         "max",
         "2721.0",
         "707.0",
         "982.0",
         "1720.0",
         "1431.0",
         "5666.0",
         "3156.0",
         "2510.0",
         "3715.0",
         "1951.0",
         "51.0",
         "3921.0",
         "759.0",
         "343.0",
         "261.0",
         "273.0",
         "116.0",
         "30.0",
         "2913.0",
         "293.0",
         "1862.0",
         "103.0",
         "18.0",
         "741.0",
         "958.0",
         "579.0",
         "379.0",
         "594.0",
         "457.0",
         "0.0",
         "523.0",
         "256.0",
         "101.0",
         "100.0",
         "88.0",
         "26.0",
         "9.0",
         "393.0",
         "84.0",
         "506.0",
         "29.0",
         "6.0",
         "88.0",
         "28.0",
         "6.0",
         "74.0",
         "16.0",
         "2975.0",
         "800.0",
         "2078.0",
         "4235.0",
         "1.0",
         "625.0",
         "711.0",
         "1.0"
        ]
       ],
       "shape": {
        "columns": 55,
        "rows": 8
       }
      },
      "text/html": [
       "<div>\n",
       "<style scoped>\n",
       "    .dataframe tbody tr th:only-of-type {\n",
       "        vertical-align: middle;\n",
       "    }\n",
       "\n",
       "    .dataframe tbody tr th {\n",
       "        vertical-align: top;\n",
       "    }\n",
       "\n",
       "    .dataframe thead th {\n",
       "        text-align: right;\n",
       "    }\n",
       "</style>\n",
       "<table border=\"1\" class=\"dataframe\">\n",
       "  <thead>\n",
       "    <tr style=\"text-align: right;\">\n",
       "      <th></th>\n",
       "      <th>QT_VG_TOTAL</th>\n",
       "      <th>QT_ING_ENEM</th>\n",
       "      <th>QT_ING_VESTIBULAR</th>\n",
       "      <th>QT_VG_TOTAL_DIURNO</th>\n",
       "      <th>QT_VG_TOTAL_NOTURNO</th>\n",
       "      <th>QT_MAT</th>\n",
       "      <th>QT_MAT_FEM</th>\n",
       "      <th>QT_MAT_MASC</th>\n",
       "      <th>QT_MAT_DIURNO</th>\n",
       "      <th>QT_MAT_NOTURNO</th>\n",
       "      <th>...</th>\n",
       "      <th>QT_MAT_DEFICIENTE</th>\n",
       "      <th>QT_CONC_DEFICIENTE</th>\n",
       "      <th>QT_MAT_FINANC</th>\n",
       "      <th>QT_CONC_FINANC</th>\n",
       "      <th>QT_MAT_PROCESCPUBLICA</th>\n",
       "      <th>QT_MAT_PROCESCPRIVADA</th>\n",
       "      <th>QT_MAT_PROCNAOINFORMADA</th>\n",
       "      <th>QT_CONC_PROCESCPUBLICA</th>\n",
       "      <th>QT_CONC_PROCESCPRIVADA</th>\n",
       "      <th>QT_CONC_PROCNAOINFORMADA</th>\n",
       "    </tr>\n",
       "  </thead>\n",
       "  <tbody>\n",
       "    <tr>\n",
       "      <th>count</th>\n",
       "      <td>2279.000000</td>\n",
       "      <td>2279.000000</td>\n",
       "      <td>2279.000000</td>\n",
       "      <td>2279.000000</td>\n",
       "      <td>2279.000000</td>\n",
       "      <td>2279.000000</td>\n",
       "      <td>2279.000000</td>\n",
       "      <td>2279.000000</td>\n",
       "      <td>2279.000000</td>\n",
       "      <td>2279.000000</td>\n",
       "      <td>...</td>\n",
       "      <td>2279.000000</td>\n",
       "      <td>2279.000000</td>\n",
       "      <td>2279.000000</td>\n",
       "      <td>2279.000000</td>\n",
       "      <td>2279.000000</td>\n",
       "      <td>2279.000000</td>\n",
       "      <td>2279.000000</td>\n",
       "      <td>2279.000000</td>\n",
       "      <td>2279.000000</td>\n",
       "      <td>2279.000000</td>\n",
       "    </tr>\n",
       "    <tr>\n",
       "      <th>mean</th>\n",
       "      <td>143.805616</td>\n",
       "      <td>22.897323</td>\n",
       "      <td>31.741992</td>\n",
       "      <td>79.702501</td>\n",
       "      <td>64.103115</td>\n",
       "      <td>235.887231</td>\n",
       "      <td>131.121983</td>\n",
       "      <td>104.765248</td>\n",
       "      <td>144.523914</td>\n",
       "      <td>72.465116</td>\n",
       "      <td>...</td>\n",
       "      <td>1.650285</td>\n",
       "      <td>0.222905</td>\n",
       "      <td>64.285652</td>\n",
       "      <td>12.795086</td>\n",
       "      <td>130.525669</td>\n",
       "      <td>105.352348</td>\n",
       "      <td>0.009215</td>\n",
       "      <td>18.857832</td>\n",
       "      <td>18.211496</td>\n",
       "      <td>0.002194</td>\n",
       "    </tr>\n",
       "    <tr>\n",
       "      <th>std</th>\n",
       "      <td>210.008277</td>\n",
       "      <td>33.879790</td>\n",
       "      <td>68.832099</td>\n",
       "      <td>124.384261</td>\n",
       "      <td>102.007894</td>\n",
       "      <td>351.331237</td>\n",
       "      <td>226.328783</td>\n",
       "      <td>158.477387</td>\n",
       "      <td>258.935498</td>\n",
       "      <td>159.030832</td>\n",
       "      <td>...</td>\n",
       "      <td>4.286404</td>\n",
       "      <td>0.819742</td>\n",
       "      <td>153.445356</td>\n",
       "      <td>37.811413</td>\n",
       "      <td>188.848319</td>\n",
       "      <td>211.330934</td>\n",
       "      <td>0.095570</td>\n",
       "      <td>35.455718</td>\n",
       "      <td>37.243805</td>\n",
       "      <td>0.046798</td>\n",
       "    </tr>\n",
       "    <tr>\n",
       "      <th>min</th>\n",
       "      <td>0.000000</td>\n",
       "      <td>0.000000</td>\n",
       "      <td>0.000000</td>\n",
       "      <td>0.000000</td>\n",
       "      <td>0.000000</td>\n",
       "      <td>0.000000</td>\n",
       "      <td>0.000000</td>\n",
       "      <td>0.000000</td>\n",
       "      <td>0.000000</td>\n",
       "      <td>0.000000</td>\n",
       "      <td>...</td>\n",
       "      <td>0.000000</td>\n",
       "      <td>0.000000</td>\n",
       "      <td>0.000000</td>\n",
       "      <td>0.000000</td>\n",
       "      <td>0.000000</td>\n",
       "      <td>0.000000</td>\n",
       "      <td>0.000000</td>\n",
       "      <td>0.000000</td>\n",
       "      <td>0.000000</td>\n",
       "      <td>0.000000</td>\n",
       "    </tr>\n",
       "    <tr>\n",
       "      <th>25%</th>\n",
       "      <td>14.000000</td>\n",
       "      <td>1.000000</td>\n",
       "      <td>1.000000</td>\n",
       "      <td>0.000000</td>\n",
       "      <td>0.000000</td>\n",
       "      <td>51.000000</td>\n",
       "      <td>19.000000</td>\n",
       "      <td>19.000000</td>\n",
       "      <td>0.000000</td>\n",
       "      <td>0.000000</td>\n",
       "      <td>...</td>\n",
       "      <td>0.000000</td>\n",
       "      <td>0.000000</td>\n",
       "      <td>0.000000</td>\n",
       "      <td>0.000000</td>\n",
       "      <td>26.000000</td>\n",
       "      <td>19.000000</td>\n",
       "      <td>0.000000</td>\n",
       "      <td>2.000000</td>\n",
       "      <td>1.000000</td>\n",
       "      <td>0.000000</td>\n",
       "    </tr>\n",
       "    <tr>\n",
       "      <th>50%</th>\n",
       "      <td>100.000000</td>\n",
       "      <td>16.000000</td>\n",
       "      <td>13.000000</td>\n",
       "      <td>60.000000</td>\n",
       "      <td>0.000000</td>\n",
       "      <td>153.000000</td>\n",
       "      <td>66.000000</td>\n",
       "      <td>61.000000</td>\n",
       "      <td>44.000000</td>\n",
       "      <td>0.000000</td>\n",
       "      <td>...</td>\n",
       "      <td>0.000000</td>\n",
       "      <td>0.000000</td>\n",
       "      <td>4.000000</td>\n",
       "      <td>0.000000</td>\n",
       "      <td>73.000000</td>\n",
       "      <td>60.000000</td>\n",
       "      <td>0.000000</td>\n",
       "      <td>10.000000</td>\n",
       "      <td>9.000000</td>\n",
       "      <td>0.000000</td>\n",
       "    </tr>\n",
       "    <tr>\n",
       "      <th>75%</th>\n",
       "      <td>180.000000</td>\n",
       "      <td>31.000000</td>\n",
       "      <td>30.000000</td>\n",
       "      <td>120.000000</td>\n",
       "      <td>111.500000</td>\n",
       "      <td>319.000000</td>\n",
       "      <td>165.000000</td>\n",
       "      <td>132.000000</td>\n",
       "      <td>207.000000</td>\n",
       "      <td>72.000000</td>\n",
       "      <td>...</td>\n",
       "      <td>2.000000</td>\n",
       "      <td>0.000000</td>\n",
       "      <td>64.000000</td>\n",
       "      <td>10.000000</td>\n",
       "      <td>170.500000</td>\n",
       "      <td>132.000000</td>\n",
       "      <td>0.000000</td>\n",
       "      <td>21.000000</td>\n",
       "      <td>23.000000</td>\n",
       "      <td>0.000000</td>\n",
       "    </tr>\n",
       "    <tr>\n",
       "      <th>max</th>\n",
       "      <td>2721.000000</td>\n",
       "      <td>707.000000</td>\n",
       "      <td>982.000000</td>\n",
       "      <td>1720.000000</td>\n",
       "      <td>1431.000000</td>\n",
       "      <td>5666.000000</td>\n",
       "      <td>3156.000000</td>\n",
       "      <td>2510.000000</td>\n",
       "      <td>3715.000000</td>\n",
       "      <td>1951.000000</td>\n",
       "      <td>...</td>\n",
       "      <td>74.000000</td>\n",
       "      <td>16.000000</td>\n",
       "      <td>2975.000000</td>\n",
       "      <td>800.000000</td>\n",
       "      <td>2078.000000</td>\n",
       "      <td>4235.000000</td>\n",
       "      <td>1.000000</td>\n",
       "      <td>625.000000</td>\n",
       "      <td>711.000000</td>\n",
       "      <td>1.000000</td>\n",
       "    </tr>\n",
       "  </tbody>\n",
       "</table>\n",
       "<p>8 rows × 55 columns</p>\n",
       "</div>"
      ],
      "text/plain": [
       "       QT_VG_TOTAL  QT_ING_ENEM  QT_ING_VESTIBULAR  QT_VG_TOTAL_DIURNO  \\\n",
       "count  2279.000000  2279.000000        2279.000000         2279.000000   \n",
       "mean    143.805616    22.897323          31.741992           79.702501   \n",
       "std     210.008277    33.879790          68.832099          124.384261   \n",
       "min       0.000000     0.000000           0.000000            0.000000   \n",
       "25%      14.000000     1.000000           1.000000            0.000000   \n",
       "50%     100.000000    16.000000          13.000000           60.000000   \n",
       "75%     180.000000    31.000000          30.000000          120.000000   \n",
       "max    2721.000000   707.000000         982.000000         1720.000000   \n",
       "\n",
       "       QT_VG_TOTAL_NOTURNO       QT_MAT   QT_MAT_FEM  QT_MAT_MASC  \\\n",
       "count          2279.000000  2279.000000  2279.000000  2279.000000   \n",
       "mean             64.103115   235.887231   131.121983   104.765248   \n",
       "std             102.007894   351.331237   226.328783   158.477387   \n",
       "min               0.000000     0.000000     0.000000     0.000000   \n",
       "25%               0.000000    51.000000    19.000000    19.000000   \n",
       "50%               0.000000   153.000000    66.000000    61.000000   \n",
       "75%             111.500000   319.000000   165.000000   132.000000   \n",
       "max            1431.000000  5666.000000  3156.000000  2510.000000   \n",
       "\n",
       "       QT_MAT_DIURNO  QT_MAT_NOTURNO  ...  QT_MAT_DEFICIENTE  \\\n",
       "count    2279.000000     2279.000000  ...        2279.000000   \n",
       "mean      144.523914       72.465116  ...           1.650285   \n",
       "std       258.935498      159.030832  ...           4.286404   \n",
       "min         0.000000        0.000000  ...           0.000000   \n",
       "25%         0.000000        0.000000  ...           0.000000   \n",
       "50%        44.000000        0.000000  ...           0.000000   \n",
       "75%       207.000000       72.000000  ...           2.000000   \n",
       "max      3715.000000     1951.000000  ...          74.000000   \n",
       "\n",
       "       QT_CONC_DEFICIENTE  QT_MAT_FINANC  QT_CONC_FINANC  \\\n",
       "count         2279.000000    2279.000000     2279.000000   \n",
       "mean             0.222905      64.285652       12.795086   \n",
       "std              0.819742     153.445356       37.811413   \n",
       "min              0.000000       0.000000        0.000000   \n",
       "25%              0.000000       0.000000        0.000000   \n",
       "50%              0.000000       4.000000        0.000000   \n",
       "75%              0.000000      64.000000       10.000000   \n",
       "max             16.000000    2975.000000      800.000000   \n",
       "\n",
       "       QT_MAT_PROCESCPUBLICA  QT_MAT_PROCESCPRIVADA  QT_MAT_PROCNAOINFORMADA  \\\n",
       "count            2279.000000            2279.000000              2279.000000   \n",
       "mean              130.525669             105.352348                 0.009215   \n",
       "std               188.848319             211.330934                 0.095570   \n",
       "min                 0.000000               0.000000                 0.000000   \n",
       "25%                26.000000              19.000000                 0.000000   \n",
       "50%                73.000000              60.000000                 0.000000   \n",
       "75%               170.500000             132.000000                 0.000000   \n",
       "max              2078.000000            4235.000000                 1.000000   \n",
       "\n",
       "       QT_CONC_PROCESCPUBLICA  QT_CONC_PROCESCPRIVADA  \\\n",
       "count             2279.000000             2279.000000   \n",
       "mean                18.857832               18.211496   \n",
       "std                 35.455718               37.243805   \n",
       "min                  0.000000                0.000000   \n",
       "25%                  2.000000                1.000000   \n",
       "50%                 10.000000                9.000000   \n",
       "75%                 21.000000               23.000000   \n",
       "max                625.000000              711.000000   \n",
       "\n",
       "       QT_CONC_PROCNAOINFORMADA  \n",
       "count               2279.000000  \n",
       "mean                   0.002194  \n",
       "std                    0.046798  \n",
       "min                    0.000000  \n",
       "25%                    0.000000  \n",
       "50%                    0.000000  \n",
       "75%                    0.000000  \n",
       "max                    1.000000  \n",
       "\n",
       "[8 rows x 55 columns]"
      ]
     },
     "execution_count": 50,
     "metadata": {},
     "output_type": "execute_result"
    }
   ],
   "source": [
    "# Visualização rápida das medidas estatisticas\n",
    "dados_censo_padronizado[colunas_númericas].describe()"
   ]
  },
  {
   "cell_type": "markdown",
   "metadata": {},
   "source": [
    "### Análise baseada nas medidas estatísticas básicas"
   ]
  },
  {
   "cell_type": "markdown",
   "metadata": {},
   "source": [
    "📊 Análise de Matrículas Gerais, Femininas e Masculinas\n",
    "Foi verificado que a quantidade de:\n",
    "\n",
    "Matrículas Gerais atingiu o máximo de 5666\n",
    "\n",
    "Matrículas Femininas atingiu o máximo de 3156\n",
    "\n",
    "Matrículas Masculinas atingiu o máximo de 2510\n",
    "\n",
    "🔍 Com isso em mente, a próxima pergunta a ser respondida é:\n",
    "\n",
    "Qual foi a instituição que registrou esses valores máximos, assim como o ano e o curso correspondente?"
   ]
  },
  {
   "cell_type": "code",
   "execution_count": 53,
   "metadata": {},
   "outputs": [
    {
     "data": {
      "application/vnd.microsoft.datawrangler.viewer.v0+json": {
       "columns": [
        {
         "name": "index",
         "rawType": "int64",
         "type": "integer"
        },
        {
         "name": "SG_IES",
         "rawType": "object",
         "type": "string"
        },
        {
         "name": "NU_ANO_CENSO",
         "rawType": "object",
         "type": "string"
        },
        {
         "name": "NO_CURSO",
         "rawType": "object",
         "type": "string"
        }
       ],
       "ref": "daef4468-298a-426d-ac0c-6e41c686c77c",
       "rows": [
        [
         "160",
         "UNICEUB",
         "2018",
         "DIREITO"
        ]
       ],
       "shape": {
        "columns": 3,
        "rows": 1
       }
      },
      "text/html": [
       "<div>\n",
       "<style scoped>\n",
       "    .dataframe tbody tr th:only-of-type {\n",
       "        vertical-align: middle;\n",
       "    }\n",
       "\n",
       "    .dataframe tbody tr th {\n",
       "        vertical-align: top;\n",
       "    }\n",
       "\n",
       "    .dataframe thead th {\n",
       "        text-align: right;\n",
       "    }\n",
       "</style>\n",
       "<table border=\"1\" class=\"dataframe\">\n",
       "  <thead>\n",
       "    <tr style=\"text-align: right;\">\n",
       "      <th></th>\n",
       "      <th>SG_IES</th>\n",
       "      <th>NU_ANO_CENSO</th>\n",
       "      <th>NO_CURSO</th>\n",
       "    </tr>\n",
       "  </thead>\n",
       "  <tbody>\n",
       "    <tr>\n",
       "      <th>160</th>\n",
       "      <td>UNICEUB</td>\n",
       "      <td>2018</td>\n",
       "      <td>DIREITO</td>\n",
       "    </tr>\n",
       "  </tbody>\n",
       "</table>\n",
       "</div>"
      ],
      "text/plain": [
       "      SG_IES NU_ANO_CENSO NO_CURSO\n",
       "160  UNICEUB         2018  DIREITO"
      ]
     },
     "execution_count": 53,
     "metadata": {},
     "output_type": "execute_result"
    }
   ],
   "source": [
    "# Matriculas Gerais\n",
    "dados_censo_padronizado[dados_censo_padronizado['QT_MAT'] == 5666][['SG_IES','NU_ANO_CENSO','NO_CURSO']]\n"
   ]
  },
  {
   "cell_type": "code",
   "execution_count": null,
   "metadata": {},
   "outputs": [
    {
     "data": {
      "application/vnd.microsoft.datawrangler.viewer.v0+json": {
       "columns": [
        {
         "name": "index",
         "rawType": "int64",
         "type": "integer"
        },
        {
         "name": "SG_IES",
         "rawType": "object",
         "type": "string"
        },
        {
         "name": "NU_ANO_CENSO",
         "rawType": "object",
         "type": "string"
        },
        {
         "name": "NO_CURSO",
         "rawType": "object",
         "type": "string"
        }
       ],
       "ref": "3dfe202a-2b16-4a93-8893-c14d303cd1f6",
       "rows": [
        [
         "160",
         "UNICEUB",
         "2018",
         "DIREITO"
        ]
       ],
       "shape": {
        "columns": 3,
        "rows": 1
       }
      },
      "text/html": [
       "<div>\n",
       "<style scoped>\n",
       "    .dataframe tbody tr th:only-of-type {\n",
       "        vertical-align: middle;\n",
       "    }\n",
       "\n",
       "    .dataframe tbody tr th {\n",
       "        vertical-align: top;\n",
       "    }\n",
       "\n",
       "    .dataframe thead th {\n",
       "        text-align: right;\n",
       "    }\n",
       "</style>\n",
       "<table border=\"1\" class=\"dataframe\">\n",
       "  <thead>\n",
       "    <tr style=\"text-align: right;\">\n",
       "      <th></th>\n",
       "      <th>SG_IES</th>\n",
       "      <th>NU_ANO_CENSO</th>\n",
       "      <th>NO_CURSO</th>\n",
       "    </tr>\n",
       "  </thead>\n",
       "  <tbody>\n",
       "    <tr>\n",
       "      <th>160</th>\n",
       "      <td>UNICEUB</td>\n",
       "      <td>2018</td>\n",
       "      <td>DIREITO</td>\n",
       "    </tr>\n",
       "  </tbody>\n",
       "</table>\n",
       "</div>"
      ],
      "text/plain": [
       "      SG_IES NU_ANO_CENSO NO_CURSO\n",
       "160  UNICEUB         2018  DIREITO"
      ]
     },
     "execution_count": 54,
     "metadata": {},
     "output_type": "execute_result"
    }
   ],
   "source": [
    "# Matriculas Feminina\n",
    "dados_censo_padronizado[dados_censo_padronizado['QT_MAT_FEM'] == 3156][['SG_IES','NU_ANO_CENSO','NO_CURSO']]"
   ]
  },
  {
   "cell_type": "code",
   "execution_count": null,
   "metadata": {},
   "outputs": [
    {
     "data": {
      "application/vnd.microsoft.datawrangler.viewer.v0+json": {
       "columns": [
        {
         "name": "index",
         "rawType": "int64",
         "type": "integer"
        },
        {
         "name": "SG_IES",
         "rawType": "object",
         "type": "string"
        },
        {
         "name": "NU_ANO_CENSO",
         "rawType": "object",
         "type": "string"
        },
        {
         "name": "NO_CURSO",
         "rawType": "object",
         "type": "string"
        }
       ],
       "ref": "85780808-a166-4424-b123-57f1b4f969a0",
       "rows": [
        [
         "160",
         "UNICEUB",
         "2018",
         "DIREITO"
        ]
       ],
       "shape": {
        "columns": 3,
        "rows": 1
       }
      },
      "text/html": [
       "<div>\n",
       "<style scoped>\n",
       "    .dataframe tbody tr th:only-of-type {\n",
       "        vertical-align: middle;\n",
       "    }\n",
       "\n",
       "    .dataframe tbody tr th {\n",
       "        vertical-align: top;\n",
       "    }\n",
       "\n",
       "    .dataframe thead th {\n",
       "        text-align: right;\n",
       "    }\n",
       "</style>\n",
       "<table border=\"1\" class=\"dataframe\">\n",
       "  <thead>\n",
       "    <tr style=\"text-align: right;\">\n",
       "      <th></th>\n",
       "      <th>SG_IES</th>\n",
       "      <th>NU_ANO_CENSO</th>\n",
       "      <th>NO_CURSO</th>\n",
       "    </tr>\n",
       "  </thead>\n",
       "  <tbody>\n",
       "    <tr>\n",
       "      <th>160</th>\n",
       "      <td>UNICEUB</td>\n",
       "      <td>2018</td>\n",
       "      <td>DIREITO</td>\n",
       "    </tr>\n",
       "  </tbody>\n",
       "</table>\n",
       "</div>"
      ],
      "text/plain": [
       "      SG_IES NU_ANO_CENSO NO_CURSO\n",
       "160  UNICEUB         2018  DIREITO"
      ]
     },
     "execution_count": 55,
     "metadata": {},
     "output_type": "execute_result"
    }
   ],
   "source": [
    "# Matriculas Masculina\n",
    "dados_censo_padronizado[dados_censo_padronizado['QT_MAT_MASC'] == 2510][['SG_IES','NU_ANO_CENSO','NO_CURSO']]"
   ]
  },
  {
   "cell_type": "markdown",
   "metadata": {},
   "source": [
    "🏆 Curso com Maior Número de Inscrições\n",
    "\n",
    "Foi verificado que o curso de Direito, no ano de 2018, foi o curso com o maior número de inscrições durante todo o período analisado, entre 2018 e 2023, considerando todas as 6 instituições avaliadas.\n",
    "\n",
    "------------------------------------------------------------------------------------------"
   ]
  },
  {
   "cell_type": "code",
   "execution_count": 57,
   "metadata": {},
   "outputs": [
    {
     "data": {
      "text/plain": [
       "np.float64(9.0)"
      ]
     },
     "execution_count": 57,
     "metadata": {},
     "output_type": "execute_result"
    }
   ],
   "source": [
    "dados_censo_padronizado['QT_CONC_60_MAIS'].max()"
   ]
  },
  {
   "cell_type": "code",
   "execution_count": 58,
   "metadata": {},
   "outputs": [
    {
     "data": {
      "application/vnd.microsoft.datawrangler.viewer.v0+json": {
       "columns": [
        {
         "name": "index",
         "rawType": "int64",
         "type": "integer"
        },
        {
         "name": "NU_ANO_CENSO",
         "rawType": "object",
         "type": "string"
        },
        {
         "name": "SG_IES",
         "rawType": "object",
         "type": "string"
        },
        {
         "name": "CO_IES",
         "rawType": "object",
         "type": "string"
        },
        {
         "name": "NO_CURSO",
         "rawType": "object",
         "type": "string"
        },
        {
         "name": "TP_ORGANIZACAO_ACADEMICA",
         "rawType": "object",
         "type": "string"
        },
        {
         "name": "TP_REDE",
         "rawType": "object",
         "type": "string"
        },
        {
         "name": "NO_CINE_ROTULO",
         "rawType": "object",
         "type": "string"
        },
        {
         "name": "NO_CINE_AREA_GERAL",
         "rawType": "object",
         "type": "string"
        },
        {
         "name": "NO_CINE_AREA_ESPECIFICA",
         "rawType": "object",
         "type": "string"
        },
        {
         "name": "NO_CINE_AREA_DETALHADA",
         "rawType": "object",
         "type": "string"
        },
        {
         "name": "TP_GRAU_ACADEMICO",
         "rawType": "object",
         "type": "string"
        },
        {
         "name": "IN_GRATUITO",
         "rawType": "object",
         "type": "string"
        },
        {
         "name": "TP_MODALIDADE_ENSINO",
         "rawType": "object",
         "type": "string"
        },
        {
         "name": "TP_NIVEL_ACADEMICO",
         "rawType": "object",
         "type": "string"
        },
        {
         "name": "QT_VG_TOTAL",
         "rawType": "float64",
         "type": "float"
        },
        {
         "name": "QT_ING_ENEM",
         "rawType": "float64",
         "type": "float"
        },
        {
         "name": "QT_ING_VESTIBULAR",
         "rawType": "float64",
         "type": "float"
        },
        {
         "name": "QT_VG_TOTAL_DIURNO",
         "rawType": "float64",
         "type": "float"
        },
        {
         "name": "QT_VG_TOTAL_NOTURNO",
         "rawType": "float64",
         "type": "float"
        },
        {
         "name": "QT_MAT",
         "rawType": "float64",
         "type": "float"
        },
        {
         "name": "QT_MAT_FEM",
         "rawType": "float64",
         "type": "float"
        },
        {
         "name": "QT_MAT_MASC",
         "rawType": "float64",
         "type": "float"
        },
        {
         "name": "QT_MAT_DIURNO",
         "rawType": "float64",
         "type": "float"
        },
        {
         "name": "QT_MAT_NOTURNO",
         "rawType": "float64",
         "type": "float"
        },
        {
         "name": "QT_MAT_0_17",
         "rawType": "float64",
         "type": "float"
        },
        {
         "name": "QT_MAT_18_24",
         "rawType": "float64",
         "type": "float"
        },
        {
         "name": "QT_MAT_25_29",
         "rawType": "float64",
         "type": "float"
        },
        {
         "name": "QT_MAT_30_34",
         "rawType": "float64",
         "type": "float"
        },
        {
         "name": "QT_MAT_35_39",
         "rawType": "float64",
         "type": "float"
        },
        {
         "name": "QT_MAT_40_49",
         "rawType": "float64",
         "type": "float"
        },
        {
         "name": "QT_MAT_50_59",
         "rawType": "float64",
         "type": "float"
        },
        {
         "name": "QT_MAT_60_MAIS",
         "rawType": "float64",
         "type": "float"
        },
        {
         "name": "QT_MAT_BRANCA",
         "rawType": "float64",
         "type": "float"
        },
        {
         "name": "QT_MAT_PRETA",
         "rawType": "float64",
         "type": "float"
        },
        {
         "name": "QT_MAT_PARDA",
         "rawType": "float64",
         "type": "float"
        },
        {
         "name": "QT_MAT_AMARELA",
         "rawType": "float64",
         "type": "float"
        },
        {
         "name": "QT_MAT_INDIGENA",
         "rawType": "float64",
         "type": "float"
        },
        {
         "name": "QT_MAT_CORND",
         "rawType": "float64",
         "type": "float"
        },
        {
         "name": "QT_CONC",
         "rawType": "float64",
         "type": "float"
        },
        {
         "name": "QT_CONC_FEM",
         "rawType": "float64",
         "type": "float"
        },
        {
         "name": "QT_CONC_MASC",
         "rawType": "float64",
         "type": "float"
        },
        {
         "name": "QT_CONC_DIURNO",
         "rawType": "float64",
         "type": "float"
        },
        {
         "name": "QT_CONC_NOTURNO",
         "rawType": "float64",
         "type": "float"
        },
        {
         "name": "QT_CONC_0_17",
         "rawType": "float64",
         "type": "float"
        },
        {
         "name": "QT_CONC_18_24",
         "rawType": "float64",
         "type": "float"
        },
        {
         "name": "QT_CONC_25_29",
         "rawType": "float64",
         "type": "float"
        },
        {
         "name": "QT_CONC_30_34",
         "rawType": "float64",
         "type": "float"
        },
        {
         "name": "QT_CONC_35_39",
         "rawType": "float64",
         "type": "float"
        },
        {
         "name": "QT_CONC_40_49",
         "rawType": "float64",
         "type": "float"
        },
        {
         "name": "QT_CONC_50_59",
         "rawType": "float64",
         "type": "float"
        },
        {
         "name": "QT_CONC_60_MAIS",
         "rawType": "float64",
         "type": "float"
        },
        {
         "name": "QT_CONC_BRANCA",
         "rawType": "float64",
         "type": "float"
        },
        {
         "name": "QT_CONC_PRETA",
         "rawType": "float64",
         "type": "float"
        },
        {
         "name": "QT_CONC_PARDA",
         "rawType": "float64",
         "type": "float"
        },
        {
         "name": "QT_CONC_AMARELA",
         "rawType": "float64",
         "type": "float"
        },
        {
         "name": "QT_CONC_INDIGENA",
         "rawType": "float64",
         "type": "float"
        },
        {
         "name": "QT_CONC_CORND",
         "rawType": "float64",
         "type": "float"
        },
        {
         "name": "QT_MAT_NACESTRANG",
         "rawType": "float64",
         "type": "float"
        },
        {
         "name": "QT_CONC_NACESTRANG",
         "rawType": "float64",
         "type": "float"
        },
        {
         "name": "QT_MAT_DEFICIENTE",
         "rawType": "float64",
         "type": "float"
        },
        {
         "name": "QT_CONC_DEFICIENTE",
         "rawType": "float64",
         "type": "float"
        },
        {
         "name": "QT_MAT_FINANC",
         "rawType": "float64",
         "type": "float"
        },
        {
         "name": "QT_CONC_FINANC",
         "rawType": "float64",
         "type": "float"
        },
        {
         "name": "QT_MAT_PROCESCPUBLICA",
         "rawType": "float64",
         "type": "float"
        },
        {
         "name": "QT_MAT_PROCESCPRIVADA",
         "rawType": "float64",
         "type": "float"
        },
        {
         "name": "QT_MAT_PROCNAOINFORMADA",
         "rawType": "float64",
         "type": "float"
        },
        {
         "name": "QT_CONC_PROCESCPUBLICA",
         "rawType": "float64",
         "type": "float"
        },
        {
         "name": "QT_CONC_PROCESCPRIVADA",
         "rawType": "float64",
         "type": "float"
        },
        {
         "name": "QT_CONC_PROCNAOINFORMADA",
         "rawType": "float64",
         "type": "float"
        }
       ],
       "ref": "92fd51e3-722e-4380-97af-c9166e46812c",
       "rows": [
        [
         "2377",
         "2022",
         "UNICEUB",
         "402",
         "DIREITO",
         "CENTRO UNIVERSITARIO",
         "PRIVADA",
         "DIREITO",
         "NEGOCIOS, ADMINISTRACAO E DIREITO",
         "DIREITO",
         "DIREITO",
         "BACHARELADO",
         "NAO",
         "PRESENCIAL",
         "GRADUACAO",
         "2352.0",
         "210.0",
         "413.0",
         "1372.0",
         "980.0",
         "3631.0",
         "1968.0",
         "1663.0",
         "2853.0",
         "778.0",
         "11.0",
         "2602.0",
         "467.0",
         "177.0",
         "125.0",
         "157.0",
         "66.0",
         "26.0",
         "1682.0",
         "139.0",
         "1106.0",
         "44.0",
         "6.0",
         "654.0",
         "671.0",
         "385.0",
         "286.0",
         "471.0",
         "200.0",
         "0.0",
         "381.0",
         "144.0",
         "50.0",
         "37.0",
         "37.0",
         "13.0",
         "9.0",
         "179.0",
         "18.0",
         "377.0",
         "7.0",
         "2.0",
         "88.0",
         "12.0",
         "3.0",
         "65.0",
         "16.0",
         "626.0",
         "90.0",
         "894.0",
         "2737.0",
         "0.0",
         "164.0",
         "507.0",
         "0.0"
        ]
       ],
       "shape": {
        "columns": 69,
        "rows": 1
       }
      },
      "text/html": [
       "<div>\n",
       "<style scoped>\n",
       "    .dataframe tbody tr th:only-of-type {\n",
       "        vertical-align: middle;\n",
       "    }\n",
       "\n",
       "    .dataframe tbody tr th {\n",
       "        vertical-align: top;\n",
       "    }\n",
       "\n",
       "    .dataframe thead th {\n",
       "        text-align: right;\n",
       "    }\n",
       "</style>\n",
       "<table border=\"1\" class=\"dataframe\">\n",
       "  <thead>\n",
       "    <tr style=\"text-align: right;\">\n",
       "      <th></th>\n",
       "      <th>NU_ANO_CENSO</th>\n",
       "      <th>SG_IES</th>\n",
       "      <th>CO_IES</th>\n",
       "      <th>NO_CURSO</th>\n",
       "      <th>TP_ORGANIZACAO_ACADEMICA</th>\n",
       "      <th>TP_REDE</th>\n",
       "      <th>NO_CINE_ROTULO</th>\n",
       "      <th>NO_CINE_AREA_GERAL</th>\n",
       "      <th>NO_CINE_AREA_ESPECIFICA</th>\n",
       "      <th>NO_CINE_AREA_DETALHADA</th>\n",
       "      <th>...</th>\n",
       "      <th>QT_MAT_DEFICIENTE</th>\n",
       "      <th>QT_CONC_DEFICIENTE</th>\n",
       "      <th>QT_MAT_FINANC</th>\n",
       "      <th>QT_CONC_FINANC</th>\n",
       "      <th>QT_MAT_PROCESCPUBLICA</th>\n",
       "      <th>QT_MAT_PROCESCPRIVADA</th>\n",
       "      <th>QT_MAT_PROCNAOINFORMADA</th>\n",
       "      <th>QT_CONC_PROCESCPUBLICA</th>\n",
       "      <th>QT_CONC_PROCESCPRIVADA</th>\n",
       "      <th>QT_CONC_PROCNAOINFORMADA</th>\n",
       "    </tr>\n",
       "  </thead>\n",
       "  <tbody>\n",
       "    <tr>\n",
       "      <th>2377</th>\n",
       "      <td>2022</td>\n",
       "      <td>UNICEUB</td>\n",
       "      <td>402</td>\n",
       "      <td>DIREITO</td>\n",
       "      <td>CENTRO UNIVERSITARIO</td>\n",
       "      <td>PRIVADA</td>\n",
       "      <td>DIREITO</td>\n",
       "      <td>NEGOCIOS, ADMINISTRACAO E DIREITO</td>\n",
       "      <td>DIREITO</td>\n",
       "      <td>DIREITO</td>\n",
       "      <td>...</td>\n",
       "      <td>65.0</td>\n",
       "      <td>16.0</td>\n",
       "      <td>626.0</td>\n",
       "      <td>90.0</td>\n",
       "      <td>894.0</td>\n",
       "      <td>2737.0</td>\n",
       "      <td>0.0</td>\n",
       "      <td>164.0</td>\n",
       "      <td>507.0</td>\n",
       "      <td>0.0</td>\n",
       "    </tr>\n",
       "  </tbody>\n",
       "</table>\n",
       "<p>1 rows × 69 columns</p>\n",
       "</div>"
      ],
      "text/plain": [
       "     NU_ANO_CENSO   SG_IES CO_IES NO_CURSO TP_ORGANIZACAO_ACADEMICA  TP_REDE  \\\n",
       "2377         2022  UNICEUB    402  DIREITO     CENTRO UNIVERSITARIO  PRIVADA   \n",
       "\n",
       "     NO_CINE_ROTULO                 NO_CINE_AREA_GERAL  \\\n",
       "2377        DIREITO  NEGOCIOS, ADMINISTRACAO E DIREITO   \n",
       "\n",
       "     NO_CINE_AREA_ESPECIFICA NO_CINE_AREA_DETALHADA  ... QT_MAT_DEFICIENTE  \\\n",
       "2377                 DIREITO                DIREITO  ...              65.0   \n",
       "\n",
       "     QT_CONC_DEFICIENTE QT_MAT_FINANC QT_CONC_FINANC  QT_MAT_PROCESCPUBLICA  \\\n",
       "2377               16.0         626.0           90.0                  894.0   \n",
       "\n",
       "      QT_MAT_PROCESCPRIVADA  QT_MAT_PROCNAOINFORMADA  QT_CONC_PROCESCPUBLICA  \\\n",
       "2377                 2737.0                      0.0                   164.0   \n",
       "\n",
       "      QT_CONC_PROCESCPRIVADA  QT_CONC_PROCNAOINFORMADA  \n",
       "2377                   507.0                       0.0  \n",
       "\n",
       "[1 rows x 69 columns]"
      ]
     },
     "execution_count": 58,
     "metadata": {},
     "output_type": "execute_result"
    }
   ],
   "source": [
    "dados_censo_padronizado[dados_censo_padronizado['QT_CONC_60_MAIS'] == 9]"
   ]
  },
  {
   "cell_type": "markdown",
   "metadata": {},
   "source": [
    "\n",
    "👵👴 Participação de Pessoas com Mais de 60 Anos\n",
    "Ao verificar os dados entre 2018 e 2023, observamos que:\n",
    "\n",
    "O número máximo de pessoas com mais de 60 anos Concluintes em um único curso foi de 9.\n",
    "\n",
    "A média geral por curso foi de apenas 0,1.\n",
    "\n",
    "🧐 Esse dado levanta questionamentos importantes:\n",
    "\n",
    "Será que pessoas acima de 60 anos realmente têm mais dificuldades para concluirem cursos superiores?\n",
    "Ou será que o problema está na falta de preparo, acessibilidade, incentivo ou oportunidades para esse grupo etário?\n",
    "\n",
    "São reflexões essenciais quando pensamos em educação inclusiva e ao longo da vida.\n",
    "\n",
    "--------------------------------------------"
   ]
  },
  {
   "cell_type": "markdown",
   "metadata": {},
   "source": [
    "📊 Disparidades Raciais na Formação Acadêmica (2018–2023)\n",
    "\n",
    "Durante o período de 2018 a 2023, os dados indicam uma grande desigualdade racial nas médias e nos totais de concluintes nos cursos de graduação:\n",
    "\n",
    "🎓 Média de concluintes por curso (todas as instituições):\n",
    "\n",
    "Pretos: 2\n",
    "\n",
    "Brancos: 14\n",
    "\n",
    "Pardos: 17\n",
    "\n",
    "🔢 Número máximo de formados em todo o período:\n",
    "\n",
    "Pretos: 84\n",
    "\n",
    "Brancos: 393\n",
    "\n",
    "Pardos: 506\n",
    "\n",
    "Além disso, outros grupos minorizados também apresentam números muito baixos:\n",
    "\n",
    "Amarelos: máximo de 29 concluintes\n",
    "\n",
    "Indígenas: máximo de 6 concluintes\n",
    "\n",
    "❗ Reflexão Crítica\n",
    "\n",
    "Esses dados escancaram uma discrepância racial preocupante no ensino superior. A média extremamente baixa de pessoas pretas se formando, frente aos números de brancos e pardos, levanta questões importantes:\n",
    "\n",
    "Estamos diante de um cenário de falta de oportunidades, acessibilidade e inclusão para pessoas pretas e outros grupos minorizados?\n",
    "\n",
    "Essa é uma pergunta que não pode ser ignorada. Mesmo sem considerar outros fatores como renda, localização ou escolaridade anterior, o cenário já mostra sinais claros de exclusão estrutural.\n",
    "\n",
    "-----------------------------------"
   ]
  },
  {
   "cell_type": "markdown",
   "metadata": {},
   "source": [
    "## 1. Quantos alunos ingressaram e quantos se formaram?"
   ]
  },
  {
   "cell_type": "code",
   "execution_count": 61,
   "metadata": {},
   "outputs": [
    {
     "data": {
      "application/vnd.plotly.v1+json": {
       "config": {
        "plotlyServerURL": "https://plot.ly"
       },
       "data": [
        {
         "marker": {
          "color": "blue"
         },
         "name": "Matriculados",
         "type": "bar",
         "x": [
          "2018",
          "2019",
          "2020",
          "2021",
          "2022",
          "2023"
         ],
         "y": {
          "bdata": "AAAAAAD69EAAAAAAcDL0QAAAAABwwvVAAAAAAEAK9kAAAAAA0Bz3QAAAAABAKfdA",
          "dtype": "f8"
         }
        },
        {
         "marker": {
          "color": "green"
         },
         "name": "Concluintes",
         "type": "bar",
         "x": [
          "2018",
          "2019",
          "2020",
          "2021",
          "2022",
          "2023"
         ],
         "y": {
          "bdata": "AAAAAIBPz0AAAAAAADDNQAAAAAAAe8lAAAAAAAAqyEAAAAAAgB/KQAAAAAAAv8xA",
          "dtype": "f8"
         }
        }
       ],
       "layout": {
        "barmode": "group",
        "template": {
         "data": {
          "bar": [
           {
            "error_x": {
             "color": "#2a3f5f"
            },
            "error_y": {
             "color": "#2a3f5f"
            },
            "marker": {
             "line": {
              "color": "#E5ECF6",
              "width": 0.5
             },
             "pattern": {
              "fillmode": "overlay",
              "size": 10,
              "solidity": 0.2
             }
            },
            "type": "bar"
           }
          ],
          "barpolar": [
           {
            "marker": {
             "line": {
              "color": "#E5ECF6",
              "width": 0.5
             },
             "pattern": {
              "fillmode": "overlay",
              "size": 10,
              "solidity": 0.2
             }
            },
            "type": "barpolar"
           }
          ],
          "carpet": [
           {
            "aaxis": {
             "endlinecolor": "#2a3f5f",
             "gridcolor": "white",
             "linecolor": "white",
             "minorgridcolor": "white",
             "startlinecolor": "#2a3f5f"
            },
            "baxis": {
             "endlinecolor": "#2a3f5f",
             "gridcolor": "white",
             "linecolor": "white",
             "minorgridcolor": "white",
             "startlinecolor": "#2a3f5f"
            },
            "type": "carpet"
           }
          ],
          "choropleth": [
           {
            "colorbar": {
             "outlinewidth": 0,
             "ticks": ""
            },
            "type": "choropleth"
           }
          ],
          "contour": [
           {
            "colorbar": {
             "outlinewidth": 0,
             "ticks": ""
            },
            "colorscale": [
             [
              0,
              "#0d0887"
             ],
             [
              0.1111111111111111,
              "#46039f"
             ],
             [
              0.2222222222222222,
              "#7201a8"
             ],
             [
              0.3333333333333333,
              "#9c179e"
             ],
             [
              0.4444444444444444,
              "#bd3786"
             ],
             [
              0.5555555555555556,
              "#d8576b"
             ],
             [
              0.6666666666666666,
              "#ed7953"
             ],
             [
              0.7777777777777778,
              "#fb9f3a"
             ],
             [
              0.8888888888888888,
              "#fdca26"
             ],
             [
              1,
              "#f0f921"
             ]
            ],
            "type": "contour"
           }
          ],
          "contourcarpet": [
           {
            "colorbar": {
             "outlinewidth": 0,
             "ticks": ""
            },
            "type": "contourcarpet"
           }
          ],
          "heatmap": [
           {
            "colorbar": {
             "outlinewidth": 0,
             "ticks": ""
            },
            "colorscale": [
             [
              0,
              "#0d0887"
             ],
             [
              0.1111111111111111,
              "#46039f"
             ],
             [
              0.2222222222222222,
              "#7201a8"
             ],
             [
              0.3333333333333333,
              "#9c179e"
             ],
             [
              0.4444444444444444,
              "#bd3786"
             ],
             [
              0.5555555555555556,
              "#d8576b"
             ],
             [
              0.6666666666666666,
              "#ed7953"
             ],
             [
              0.7777777777777778,
              "#fb9f3a"
             ],
             [
              0.8888888888888888,
              "#fdca26"
             ],
             [
              1,
              "#f0f921"
             ]
            ],
            "type": "heatmap"
           }
          ],
          "histogram": [
           {
            "marker": {
             "pattern": {
              "fillmode": "overlay",
              "size": 10,
              "solidity": 0.2
             }
            },
            "type": "histogram"
           }
          ],
          "histogram2d": [
           {
            "colorbar": {
             "outlinewidth": 0,
             "ticks": ""
            },
            "colorscale": [
             [
              0,
              "#0d0887"
             ],
             [
              0.1111111111111111,
              "#46039f"
             ],
             [
              0.2222222222222222,
              "#7201a8"
             ],
             [
              0.3333333333333333,
              "#9c179e"
             ],
             [
              0.4444444444444444,
              "#bd3786"
             ],
             [
              0.5555555555555556,
              "#d8576b"
             ],
             [
              0.6666666666666666,
              "#ed7953"
             ],
             [
              0.7777777777777778,
              "#fb9f3a"
             ],
             [
              0.8888888888888888,
              "#fdca26"
             ],
             [
              1,
              "#f0f921"
             ]
            ],
            "type": "histogram2d"
           }
          ],
          "histogram2dcontour": [
           {
            "colorbar": {
             "outlinewidth": 0,
             "ticks": ""
            },
            "colorscale": [
             [
              0,
              "#0d0887"
             ],
             [
              0.1111111111111111,
              "#46039f"
             ],
             [
              0.2222222222222222,
              "#7201a8"
             ],
             [
              0.3333333333333333,
              "#9c179e"
             ],
             [
              0.4444444444444444,
              "#bd3786"
             ],
             [
              0.5555555555555556,
              "#d8576b"
             ],
             [
              0.6666666666666666,
              "#ed7953"
             ],
             [
              0.7777777777777778,
              "#fb9f3a"
             ],
             [
              0.8888888888888888,
              "#fdca26"
             ],
             [
              1,
              "#f0f921"
             ]
            ],
            "type": "histogram2dcontour"
           }
          ],
          "mesh3d": [
           {
            "colorbar": {
             "outlinewidth": 0,
             "ticks": ""
            },
            "type": "mesh3d"
           }
          ],
          "parcoords": [
           {
            "line": {
             "colorbar": {
              "outlinewidth": 0,
              "ticks": ""
             }
            },
            "type": "parcoords"
           }
          ],
          "pie": [
           {
            "automargin": true,
            "type": "pie"
           }
          ],
          "scatter": [
           {
            "fillpattern": {
             "fillmode": "overlay",
             "size": 10,
             "solidity": 0.2
            },
            "type": "scatter"
           }
          ],
          "scatter3d": [
           {
            "line": {
             "colorbar": {
              "outlinewidth": 0,
              "ticks": ""
             }
            },
            "marker": {
             "colorbar": {
              "outlinewidth": 0,
              "ticks": ""
             }
            },
            "type": "scatter3d"
           }
          ],
          "scattercarpet": [
           {
            "marker": {
             "colorbar": {
              "outlinewidth": 0,
              "ticks": ""
             }
            },
            "type": "scattercarpet"
           }
          ],
          "scattergeo": [
           {
            "marker": {
             "colorbar": {
              "outlinewidth": 0,
              "ticks": ""
             }
            },
            "type": "scattergeo"
           }
          ],
          "scattergl": [
           {
            "marker": {
             "colorbar": {
              "outlinewidth": 0,
              "ticks": ""
             }
            },
            "type": "scattergl"
           }
          ],
          "scattermap": [
           {
            "marker": {
             "colorbar": {
              "outlinewidth": 0,
              "ticks": ""
             }
            },
            "type": "scattermap"
           }
          ],
          "scattermapbox": [
           {
            "marker": {
             "colorbar": {
              "outlinewidth": 0,
              "ticks": ""
             }
            },
            "type": "scattermapbox"
           }
          ],
          "scatterpolar": [
           {
            "marker": {
             "colorbar": {
              "outlinewidth": 0,
              "ticks": ""
             }
            },
            "type": "scatterpolar"
           }
          ],
          "scatterpolargl": [
           {
            "marker": {
             "colorbar": {
              "outlinewidth": 0,
              "ticks": ""
             }
            },
            "type": "scatterpolargl"
           }
          ],
          "scatterternary": [
           {
            "marker": {
             "colorbar": {
              "outlinewidth": 0,
              "ticks": ""
             }
            },
            "type": "scatterternary"
           }
          ],
          "surface": [
           {
            "colorbar": {
             "outlinewidth": 0,
             "ticks": ""
            },
            "colorscale": [
             [
              0,
              "#0d0887"
             ],
             [
              0.1111111111111111,
              "#46039f"
             ],
             [
              0.2222222222222222,
              "#7201a8"
             ],
             [
              0.3333333333333333,
              "#9c179e"
             ],
             [
              0.4444444444444444,
              "#bd3786"
             ],
             [
              0.5555555555555556,
              "#d8576b"
             ],
             [
              0.6666666666666666,
              "#ed7953"
             ],
             [
              0.7777777777777778,
              "#fb9f3a"
             ],
             [
              0.8888888888888888,
              "#fdca26"
             ],
             [
              1,
              "#f0f921"
             ]
            ],
            "type": "surface"
           }
          ],
          "table": [
           {
            "cells": {
             "fill": {
              "color": "#EBF0F8"
             },
             "line": {
              "color": "white"
             }
            },
            "header": {
             "fill": {
              "color": "#C8D4E3"
             },
             "line": {
              "color": "white"
             }
            },
            "type": "table"
           }
          ]
         },
         "layout": {
          "annotationdefaults": {
           "arrowcolor": "#2a3f5f",
           "arrowhead": 0,
           "arrowwidth": 1
          },
          "autotypenumbers": "strict",
          "coloraxis": {
           "colorbar": {
            "outlinewidth": 0,
            "ticks": ""
           }
          },
          "colorscale": {
           "diverging": [
            [
             0,
             "#8e0152"
            ],
            [
             0.1,
             "#c51b7d"
            ],
            [
             0.2,
             "#de77ae"
            ],
            [
             0.3,
             "#f1b6da"
            ],
            [
             0.4,
             "#fde0ef"
            ],
            [
             0.5,
             "#f7f7f7"
            ],
            [
             0.6,
             "#e6f5d0"
            ],
            [
             0.7,
             "#b8e186"
            ],
            [
             0.8,
             "#7fbc41"
            ],
            [
             0.9,
             "#4d9221"
            ],
            [
             1,
             "#276419"
            ]
           ],
           "sequential": [
            [
             0,
             "#0d0887"
            ],
            [
             0.1111111111111111,
             "#46039f"
            ],
            [
             0.2222222222222222,
             "#7201a8"
            ],
            [
             0.3333333333333333,
             "#9c179e"
            ],
            [
             0.4444444444444444,
             "#bd3786"
            ],
            [
             0.5555555555555556,
             "#d8576b"
            ],
            [
             0.6666666666666666,
             "#ed7953"
            ],
            [
             0.7777777777777778,
             "#fb9f3a"
            ],
            [
             0.8888888888888888,
             "#fdca26"
            ],
            [
             1,
             "#f0f921"
            ]
           ],
           "sequentialminus": [
            [
             0,
             "#0d0887"
            ],
            [
             0.1111111111111111,
             "#46039f"
            ],
            [
             0.2222222222222222,
             "#7201a8"
            ],
            [
             0.3333333333333333,
             "#9c179e"
            ],
            [
             0.4444444444444444,
             "#bd3786"
            ],
            [
             0.5555555555555556,
             "#d8576b"
            ],
            [
             0.6666666666666666,
             "#ed7953"
            ],
            [
             0.7777777777777778,
             "#fb9f3a"
            ],
            [
             0.8888888888888888,
             "#fdca26"
            ],
            [
             1,
             "#f0f921"
            ]
           ]
          },
          "colorway": [
           "#636efa",
           "#EF553B",
           "#00cc96",
           "#ab63fa",
           "#FFA15A",
           "#19d3f3",
           "#FF6692",
           "#B6E880",
           "#FF97FF",
           "#FECB52"
          ],
          "font": {
           "color": "#2a3f5f"
          },
          "geo": {
           "bgcolor": "white",
           "lakecolor": "white",
           "landcolor": "#E5ECF6",
           "showlakes": true,
           "showland": true,
           "subunitcolor": "white"
          },
          "hoverlabel": {
           "align": "left"
          },
          "hovermode": "closest",
          "mapbox": {
           "style": "light"
          },
          "paper_bgcolor": "white",
          "plot_bgcolor": "#E5ECF6",
          "polar": {
           "angularaxis": {
            "gridcolor": "white",
            "linecolor": "white",
            "ticks": ""
           },
           "bgcolor": "#E5ECF6",
           "radialaxis": {
            "gridcolor": "white",
            "linecolor": "white",
            "ticks": ""
           }
          },
          "scene": {
           "xaxis": {
            "backgroundcolor": "#E5ECF6",
            "gridcolor": "white",
            "gridwidth": 2,
            "linecolor": "white",
            "showbackground": true,
            "ticks": "",
            "zerolinecolor": "white"
           },
           "yaxis": {
            "backgroundcolor": "#E5ECF6",
            "gridcolor": "white",
            "gridwidth": 2,
            "linecolor": "white",
            "showbackground": true,
            "ticks": "",
            "zerolinecolor": "white"
           },
           "zaxis": {
            "backgroundcolor": "#E5ECF6",
            "gridcolor": "white",
            "gridwidth": 2,
            "linecolor": "white",
            "showbackground": true,
            "ticks": "",
            "zerolinecolor": "white"
           }
          },
          "shapedefaults": {
           "line": {
            "color": "#2a3f5f"
           }
          },
          "ternary": {
           "aaxis": {
            "gridcolor": "white",
            "linecolor": "white",
            "ticks": ""
           },
           "baxis": {
            "gridcolor": "white",
            "linecolor": "white",
            "ticks": ""
           },
           "bgcolor": "#E5ECF6",
           "caxis": {
            "gridcolor": "white",
            "linecolor": "white",
            "ticks": ""
           }
          },
          "title": {
           "x": 0.05
          },
          "xaxis": {
           "automargin": true,
           "gridcolor": "white",
           "linecolor": "white",
           "ticks": "",
           "title": {
            "standoff": 15
           },
           "zerolinecolor": "white",
           "zerolinewidth": 2
          },
          "yaxis": {
           "automargin": true,
           "gridcolor": "white",
           "linecolor": "white",
           "ticks": "",
           "title": {
            "standoff": 15
           },
           "zerolinecolor": "white",
           "zerolinewidth": 2
          }
         }
        },
        "title": {
         "text": "Matriculados e Concluintes"
        },
        "yaxis": {
         "range": [
          0,
          104354.8
         ]
        }
       }
      }
     },
     "metadata": {},
     "output_type": "display_data"
    }
   ],
   "source": [
    "colunas_analise = [\"QT_MAT\", \"QT_CONC\"]\n",
    "dados_ano = dados_censo_padronizado.groupby(\"NU_ANO_CENSO\")[colunas_analise].sum()\n",
    "maior_valor_y = dados_ano.max().max()\n",
    "\n",
    "fig_geral = go.Figure()\n",
    "fig_geral.add_trace(go.Bar(\n",
    "    x=dados_ano.index,\n",
    "    y=dados_ano[\"QT_MAT\"],\n",
    "    name=\"Matriculados\",\n",
    "    marker_color=\"blue\"\n",
    "))\n",
    "fig_geral.add_trace(go.Bar(\n",
    "    x=dados_ano.index,\n",
    "    y=dados_ano[\"QT_CONC\"],\n",
    "    name=\"Concluintes\",\n",
    "    marker_color=\"green\"\n",
    "))\n",
    "\n",
    "fig_geral.update_layout(\n",
    "    title=\"Matriculados e Concluintes\",\n",
    "    barmode=\"group\",\n",
    "    yaxis_range=[0, maior_valor_y * 1.1]\n",
    ")\n",
    "\n",
    "fig_geral.show()"
   ]
  },
  {
   "cell_type": "markdown",
   "metadata": {},
   "source": [
    " A análise dos dados revela uma tendência interessante sobre a evolução do número de alunos matriculados e concluintes ao longo dos anos. De 2018 a 2023, houve um crescimento no número de matriculados, saindo de 85.920 em 2018 para 94.868 em 2023. Por outro lado, o número de concluintes flutuou, começando em 16.031 em 2018, caindo até 12.372 em 2021 e voltando a subir para 14.718 em 2023.\n",
    "\n",
    "Essa discrepância entre o aumento dos matriculados e a variação dos concluintes pode indicar desafios no percurso acadêmico dos alunos, como dificuldades em concluir o curso dentro do período esperado. O crescimento contínuo de matrículas sugere uma demanda crescente pela educação ao longo dos anos, o que pode estar relacionado a fatores como expansão da oferta educacional, aumento da acessibilidade ou mudanças na percepção da importância dos estudos.\n"
   ]
  },
  {
   "cell_type": "code",
   "execution_count": 62,
   "metadata": {},
   "outputs": [
    {
     "data": {
      "application/vnd.plotly.v1+json": {
       "config": {
        "plotlyServerURL": "https://plot.ly"
       },
       "data": [
        {
         "marker": {
          "color": "blue"
         },
         "name": "Matriculados Masculinos",
         "type": "bar",
         "x": [
          "2018",
          "2019",
          "2020",
          "2021",
          "2022",
          "2023"
         ],
         "y": {
          "bdata": "AAAAAODF4kAAAAAAIPnhQAAAAABgdONAAAAAAACM40AAAAAAYIPkQAAAAABAUuRA",
          "dtype": "f8"
         }
        },
        {
         "marker": {
          "color": "green"
         },
         "name": "Concluintes Masculinos",
         "type": "bar",
         "x": [
          "2018",
          "2019",
          "2020",
          "2021",
          "2022",
          "2023"
         ],
         "y": {
          "bdata": "AAAAAABVukAAAAAAADa4QAAAAAAAd7VAAAAAAAAatEAAAAAAAAa1QAAAAAAAhbdA",
          "dtype": "f8"
         }
        }
       ],
       "layout": {
        "barmode": "group",
        "template": {
         "data": {
          "bar": [
           {
            "error_x": {
             "color": "#2a3f5f"
            },
            "error_y": {
             "color": "#2a3f5f"
            },
            "marker": {
             "line": {
              "color": "#E5ECF6",
              "width": 0.5
             },
             "pattern": {
              "fillmode": "overlay",
              "size": 10,
              "solidity": 0.2
             }
            },
            "type": "bar"
           }
          ],
          "barpolar": [
           {
            "marker": {
             "line": {
              "color": "#E5ECF6",
              "width": 0.5
             },
             "pattern": {
              "fillmode": "overlay",
              "size": 10,
              "solidity": 0.2
             }
            },
            "type": "barpolar"
           }
          ],
          "carpet": [
           {
            "aaxis": {
             "endlinecolor": "#2a3f5f",
             "gridcolor": "white",
             "linecolor": "white",
             "minorgridcolor": "white",
             "startlinecolor": "#2a3f5f"
            },
            "baxis": {
             "endlinecolor": "#2a3f5f",
             "gridcolor": "white",
             "linecolor": "white",
             "minorgridcolor": "white",
             "startlinecolor": "#2a3f5f"
            },
            "type": "carpet"
           }
          ],
          "choropleth": [
           {
            "colorbar": {
             "outlinewidth": 0,
             "ticks": ""
            },
            "type": "choropleth"
           }
          ],
          "contour": [
           {
            "colorbar": {
             "outlinewidth": 0,
             "ticks": ""
            },
            "colorscale": [
             [
              0,
              "#0d0887"
             ],
             [
              0.1111111111111111,
              "#46039f"
             ],
             [
              0.2222222222222222,
              "#7201a8"
             ],
             [
              0.3333333333333333,
              "#9c179e"
             ],
             [
              0.4444444444444444,
              "#bd3786"
             ],
             [
              0.5555555555555556,
              "#d8576b"
             ],
             [
              0.6666666666666666,
              "#ed7953"
             ],
             [
              0.7777777777777778,
              "#fb9f3a"
             ],
             [
              0.8888888888888888,
              "#fdca26"
             ],
             [
              1,
              "#f0f921"
             ]
            ],
            "type": "contour"
           }
          ],
          "contourcarpet": [
           {
            "colorbar": {
             "outlinewidth": 0,
             "ticks": ""
            },
            "type": "contourcarpet"
           }
          ],
          "heatmap": [
           {
            "colorbar": {
             "outlinewidth": 0,
             "ticks": ""
            },
            "colorscale": [
             [
              0,
              "#0d0887"
             ],
             [
              0.1111111111111111,
              "#46039f"
             ],
             [
              0.2222222222222222,
              "#7201a8"
             ],
             [
              0.3333333333333333,
              "#9c179e"
             ],
             [
              0.4444444444444444,
              "#bd3786"
             ],
             [
              0.5555555555555556,
              "#d8576b"
             ],
             [
              0.6666666666666666,
              "#ed7953"
             ],
             [
              0.7777777777777778,
              "#fb9f3a"
             ],
             [
              0.8888888888888888,
              "#fdca26"
             ],
             [
              1,
              "#f0f921"
             ]
            ],
            "type": "heatmap"
           }
          ],
          "histogram": [
           {
            "marker": {
             "pattern": {
              "fillmode": "overlay",
              "size": 10,
              "solidity": 0.2
             }
            },
            "type": "histogram"
           }
          ],
          "histogram2d": [
           {
            "colorbar": {
             "outlinewidth": 0,
             "ticks": ""
            },
            "colorscale": [
             [
              0,
              "#0d0887"
             ],
             [
              0.1111111111111111,
              "#46039f"
             ],
             [
              0.2222222222222222,
              "#7201a8"
             ],
             [
              0.3333333333333333,
              "#9c179e"
             ],
             [
              0.4444444444444444,
              "#bd3786"
             ],
             [
              0.5555555555555556,
              "#d8576b"
             ],
             [
              0.6666666666666666,
              "#ed7953"
             ],
             [
              0.7777777777777778,
              "#fb9f3a"
             ],
             [
              0.8888888888888888,
              "#fdca26"
             ],
             [
              1,
              "#f0f921"
             ]
            ],
            "type": "histogram2d"
           }
          ],
          "histogram2dcontour": [
           {
            "colorbar": {
             "outlinewidth": 0,
             "ticks": ""
            },
            "colorscale": [
             [
              0,
              "#0d0887"
             ],
             [
              0.1111111111111111,
              "#46039f"
             ],
             [
              0.2222222222222222,
              "#7201a8"
             ],
             [
              0.3333333333333333,
              "#9c179e"
             ],
             [
              0.4444444444444444,
              "#bd3786"
             ],
             [
              0.5555555555555556,
              "#d8576b"
             ],
             [
              0.6666666666666666,
              "#ed7953"
             ],
             [
              0.7777777777777778,
              "#fb9f3a"
             ],
             [
              0.8888888888888888,
              "#fdca26"
             ],
             [
              1,
              "#f0f921"
             ]
            ],
            "type": "histogram2dcontour"
           }
          ],
          "mesh3d": [
           {
            "colorbar": {
             "outlinewidth": 0,
             "ticks": ""
            },
            "type": "mesh3d"
           }
          ],
          "parcoords": [
           {
            "line": {
             "colorbar": {
              "outlinewidth": 0,
              "ticks": ""
             }
            },
            "type": "parcoords"
           }
          ],
          "pie": [
           {
            "automargin": true,
            "type": "pie"
           }
          ],
          "scatter": [
           {
            "fillpattern": {
             "fillmode": "overlay",
             "size": 10,
             "solidity": 0.2
            },
            "type": "scatter"
           }
          ],
          "scatter3d": [
           {
            "line": {
             "colorbar": {
              "outlinewidth": 0,
              "ticks": ""
             }
            },
            "marker": {
             "colorbar": {
              "outlinewidth": 0,
              "ticks": ""
             }
            },
            "type": "scatter3d"
           }
          ],
          "scattercarpet": [
           {
            "marker": {
             "colorbar": {
              "outlinewidth": 0,
              "ticks": ""
             }
            },
            "type": "scattercarpet"
           }
          ],
          "scattergeo": [
           {
            "marker": {
             "colorbar": {
              "outlinewidth": 0,
              "ticks": ""
             }
            },
            "type": "scattergeo"
           }
          ],
          "scattergl": [
           {
            "marker": {
             "colorbar": {
              "outlinewidth": 0,
              "ticks": ""
             }
            },
            "type": "scattergl"
           }
          ],
          "scattermap": [
           {
            "marker": {
             "colorbar": {
              "outlinewidth": 0,
              "ticks": ""
             }
            },
            "type": "scattermap"
           }
          ],
          "scattermapbox": [
           {
            "marker": {
             "colorbar": {
              "outlinewidth": 0,
              "ticks": ""
             }
            },
            "type": "scattermapbox"
           }
          ],
          "scatterpolar": [
           {
            "marker": {
             "colorbar": {
              "outlinewidth": 0,
              "ticks": ""
             }
            },
            "type": "scatterpolar"
           }
          ],
          "scatterpolargl": [
           {
            "marker": {
             "colorbar": {
              "outlinewidth": 0,
              "ticks": ""
             }
            },
            "type": "scatterpolargl"
           }
          ],
          "scatterternary": [
           {
            "marker": {
             "colorbar": {
              "outlinewidth": 0,
              "ticks": ""
             }
            },
            "type": "scatterternary"
           }
          ],
          "surface": [
           {
            "colorbar": {
             "outlinewidth": 0,
             "ticks": ""
            },
            "colorscale": [
             [
              0,
              "#0d0887"
             ],
             [
              0.1111111111111111,
              "#46039f"
             ],
             [
              0.2222222222222222,
              "#7201a8"
             ],
             [
              0.3333333333333333,
              "#9c179e"
             ],
             [
              0.4444444444444444,
              "#bd3786"
             ],
             [
              0.5555555555555556,
              "#d8576b"
             ],
             [
              0.6666666666666666,
              "#ed7953"
             ],
             [
              0.7777777777777778,
              "#fb9f3a"
             ],
             [
              0.8888888888888888,
              "#fdca26"
             ],
             [
              1,
              "#f0f921"
             ]
            ],
            "type": "surface"
           }
          ],
          "table": [
           {
            "cells": {
             "fill": {
              "color": "#EBF0F8"
             },
             "line": {
              "color": "white"
             }
            },
            "header": {
             "fill": {
              "color": "#C8D4E3"
             },
             "line": {
              "color": "white"
             }
            },
            "type": "table"
           }
          ]
         },
         "layout": {
          "annotationdefaults": {
           "arrowcolor": "#2a3f5f",
           "arrowhead": 0,
           "arrowwidth": 1
          },
          "autotypenumbers": "strict",
          "coloraxis": {
           "colorbar": {
            "outlinewidth": 0,
            "ticks": ""
           }
          },
          "colorscale": {
           "diverging": [
            [
             0,
             "#8e0152"
            ],
            [
             0.1,
             "#c51b7d"
            ],
            [
             0.2,
             "#de77ae"
            ],
            [
             0.3,
             "#f1b6da"
            ],
            [
             0.4,
             "#fde0ef"
            ],
            [
             0.5,
             "#f7f7f7"
            ],
            [
             0.6,
             "#e6f5d0"
            ],
            [
             0.7,
             "#b8e186"
            ],
            [
             0.8,
             "#7fbc41"
            ],
            [
             0.9,
             "#4d9221"
            ],
            [
             1,
             "#276419"
            ]
           ],
           "sequential": [
            [
             0,
             "#0d0887"
            ],
            [
             0.1111111111111111,
             "#46039f"
            ],
            [
             0.2222222222222222,
             "#7201a8"
            ],
            [
             0.3333333333333333,
             "#9c179e"
            ],
            [
             0.4444444444444444,
             "#bd3786"
            ],
            [
             0.5555555555555556,
             "#d8576b"
            ],
            [
             0.6666666666666666,
             "#ed7953"
            ],
            [
             0.7777777777777778,
             "#fb9f3a"
            ],
            [
             0.8888888888888888,
             "#fdca26"
            ],
            [
             1,
             "#f0f921"
            ]
           ],
           "sequentialminus": [
            [
             0,
             "#0d0887"
            ],
            [
             0.1111111111111111,
             "#46039f"
            ],
            [
             0.2222222222222222,
             "#7201a8"
            ],
            [
             0.3333333333333333,
             "#9c179e"
            ],
            [
             0.4444444444444444,
             "#bd3786"
            ],
            [
             0.5555555555555556,
             "#d8576b"
            ],
            [
             0.6666666666666666,
             "#ed7953"
            ],
            [
             0.7777777777777778,
             "#fb9f3a"
            ],
            [
             0.8888888888888888,
             "#fdca26"
            ],
            [
             1,
             "#f0f921"
            ]
           ]
          },
          "colorway": [
           "#636efa",
           "#EF553B",
           "#00cc96",
           "#ab63fa",
           "#FFA15A",
           "#19d3f3",
           "#FF6692",
           "#B6E880",
           "#FF97FF",
           "#FECB52"
          ],
          "font": {
           "color": "#2a3f5f"
          },
          "geo": {
           "bgcolor": "white",
           "lakecolor": "white",
           "landcolor": "#E5ECF6",
           "showlakes": true,
           "showland": true,
           "subunitcolor": "white"
          },
          "hoverlabel": {
           "align": "left"
          },
          "hovermode": "closest",
          "mapbox": {
           "style": "light"
          },
          "paper_bgcolor": "white",
          "plot_bgcolor": "#E5ECF6",
          "polar": {
           "angularaxis": {
            "gridcolor": "white",
            "linecolor": "white",
            "ticks": ""
           },
           "bgcolor": "#E5ECF6",
           "radialaxis": {
            "gridcolor": "white",
            "linecolor": "white",
            "ticks": ""
           }
          },
          "scene": {
           "xaxis": {
            "backgroundcolor": "#E5ECF6",
            "gridcolor": "white",
            "gridwidth": 2,
            "linecolor": "white",
            "showbackground": true,
            "ticks": "",
            "zerolinecolor": "white"
           },
           "yaxis": {
            "backgroundcolor": "#E5ECF6",
            "gridcolor": "white",
            "gridwidth": 2,
            "linecolor": "white",
            "showbackground": true,
            "ticks": "",
            "zerolinecolor": "white"
           },
           "zaxis": {
            "backgroundcolor": "#E5ECF6",
            "gridcolor": "white",
            "gridwidth": 2,
            "linecolor": "white",
            "showbackground": true,
            "ticks": "",
            "zerolinecolor": "white"
           }
          },
          "shapedefaults": {
           "line": {
            "color": "#2a3f5f"
           }
          },
          "ternary": {
           "aaxis": {
            "gridcolor": "white",
            "linecolor": "white",
            "ticks": ""
           },
           "baxis": {
            "gridcolor": "white",
            "linecolor": "white",
            "ticks": ""
           },
           "bgcolor": "#E5ECF6",
           "caxis": {
            "gridcolor": "white",
            "linecolor": "white",
            "ticks": ""
           }
          },
          "title": {
           "x": 0.05
          },
          "xaxis": {
           "automargin": true,
           "gridcolor": "white",
           "linecolor": "white",
           "ticks": "",
           "title": {
            "standoff": 15
           },
           "zerolinecolor": "white",
           "zerolinewidth": 2
          },
          "yaxis": {
           "automargin": true,
           "gridcolor": "white",
           "linecolor": "white",
           "ticks": "",
           "title": {
            "standoff": 15
           },
           "zerolinecolor": "white",
           "zerolinewidth": 2
          }
         }
        },
        "title": {
         "text": "Matriculados e Concluintes (Masculino)"
        },
        "yaxis": {
         "range": [
          0,
          104354.8
         ]
        }
       }
      }
     },
     "metadata": {},
     "output_type": "display_data"
    }
   ],
   "source": [
    "colunas_masc = [\"QT_MAT_MASC\", \"QT_CONC_MASC\"]\n",
    "dados_masc = dados_censo_padronizado.groupby(\"NU_ANO_CENSO\")[colunas_masc].sum()\n",
    "\n",
    "fig_masc = go.Figure()\n",
    "fig_masc.add_trace(go.Bar(\n",
    "    x=dados_masc.index,\n",
    "    y=dados_masc[\"QT_MAT_MASC\"],\n",
    "    name=\"Matriculados Masculinos\",\n",
    "    marker_color=\"blue\"\n",
    "))\n",
    "fig_masc.add_trace(go.Bar(\n",
    "    x=dados_masc.index,\n",
    "    y=dados_masc[\"QT_CONC_MASC\"],\n",
    "    name=\"Concluintes Masculinos\",\n",
    "    marker_color=\"green\"\n",
    "))\n",
    "\n",
    "fig_masc.update_layout(\n",
    "    title=\"Matriculados e Concluintes (Masculino)\",\n",
    "    barmode=\"group\",\n",
    "    yaxis_range=[0, maior_valor_y * 1.1]\n",
    ")\n",
    "\n",
    "fig_masc.show()\n",
    "\n",
    "\n",
    "\n",
    "\n"
   ]
  },
  {
   "cell_type": "markdown",
   "metadata": {},
   "source": [
    "A análise dos dados evidencia uma diferença significativa entre o número de homens matriculados e homens concluintes nos cursos de graduação ao longo dos anos. Entre 2018 e 2023, a quantidade de matriculados manteve-se relativamente estável, com pequenos aumentos anuais, enquanto o número de concluintes variou, apresentando uma queda acentuada em 2020 e 2021, seguida por um leve crescimento até 2023.\n",
    "\n",
    "Esse comportamento sugere possíveis dificuldades enfrentadas pelos alunos no decorrer do curso, como evasão, trancamento de matrícula ou dificuldades acadêmicas, impedindo a conclusão dentro do período esperado. Além disso, a quantidade relativamente baixa de concluintes em comparação aos matriculados pode indicar desafios estruturais na retenção dos estudantes, demandando investigações mais aprofundadas sobre os fatores que afetam essa trajetória acadêmica.\n",
    "📊 A evolução dos dados sugere que, embora haja um crescimento contínuo no número de ingressantes, a conclusão do curso ainda representa um desafio para muitos alunos, o que pode estar ligado a fatores como condições financeiras, qualidade da oferta educacional, suporte acadêmico e motivação ao longo dos anos.\n",
    "Se quiser, posso te ajudar a explorar hipóteses específicas sobre essa tendência! 😃"
   ]
  },
  {
   "cell_type": "code",
   "execution_count": 63,
   "metadata": {},
   "outputs": [
    {
     "data": {
      "application/vnd.plotly.v1+json": {
       "config": {
        "plotlyServerURL": "https://plot.ly"
       },
       "data": [
        {
         "marker": {
          "color": "pink"
         },
         "name": "Matriculados Femininos",
         "type": "bar",
         "x": [
          "2018",
          "2019",
          "2020",
          "2021",
          "2022",
          "2023"
         ],
         "y": {
          "bdata": "AAAAACAu50AAAAAAwGvmQAAAAACAEOhAAAAAAICI6EAAAAAAQLbpQAAAAABAAOpA",
          "dtype": "f8"
         }
        },
        {
         "marker": {
          "color": "purple"
         },
         "name": "Concluintes Femininos",
         "type": "bar",
         "x": [
          "2018",
          "2019",
          "2020",
          "2021",
          "2022",
          "2023"
         ],
         "y": {
          "bdata": "AAAAAAAlwkAAAAAAABXBQAAAAAAAf71AAAAAAAA6vEAAAAAAADm/QAAAAACA/MBA",
          "dtype": "f8"
         }
        }
       ],
       "layout": {
        "barmode": "group",
        "template": {
         "data": {
          "bar": [
           {
            "error_x": {
             "color": "#2a3f5f"
            },
            "error_y": {
             "color": "#2a3f5f"
            },
            "marker": {
             "line": {
              "color": "#E5ECF6",
              "width": 0.5
             },
             "pattern": {
              "fillmode": "overlay",
              "size": 10,
              "solidity": 0.2
             }
            },
            "type": "bar"
           }
          ],
          "barpolar": [
           {
            "marker": {
             "line": {
              "color": "#E5ECF6",
              "width": 0.5
             },
             "pattern": {
              "fillmode": "overlay",
              "size": 10,
              "solidity": 0.2
             }
            },
            "type": "barpolar"
           }
          ],
          "carpet": [
           {
            "aaxis": {
             "endlinecolor": "#2a3f5f",
             "gridcolor": "white",
             "linecolor": "white",
             "minorgridcolor": "white",
             "startlinecolor": "#2a3f5f"
            },
            "baxis": {
             "endlinecolor": "#2a3f5f",
             "gridcolor": "white",
             "linecolor": "white",
             "minorgridcolor": "white",
             "startlinecolor": "#2a3f5f"
            },
            "type": "carpet"
           }
          ],
          "choropleth": [
           {
            "colorbar": {
             "outlinewidth": 0,
             "ticks": ""
            },
            "type": "choropleth"
           }
          ],
          "contour": [
           {
            "colorbar": {
             "outlinewidth": 0,
             "ticks": ""
            },
            "colorscale": [
             [
              0,
              "#0d0887"
             ],
             [
              0.1111111111111111,
              "#46039f"
             ],
             [
              0.2222222222222222,
              "#7201a8"
             ],
             [
              0.3333333333333333,
              "#9c179e"
             ],
             [
              0.4444444444444444,
              "#bd3786"
             ],
             [
              0.5555555555555556,
              "#d8576b"
             ],
             [
              0.6666666666666666,
              "#ed7953"
             ],
             [
              0.7777777777777778,
              "#fb9f3a"
             ],
             [
              0.8888888888888888,
              "#fdca26"
             ],
             [
              1,
              "#f0f921"
             ]
            ],
            "type": "contour"
           }
          ],
          "contourcarpet": [
           {
            "colorbar": {
             "outlinewidth": 0,
             "ticks": ""
            },
            "type": "contourcarpet"
           }
          ],
          "heatmap": [
           {
            "colorbar": {
             "outlinewidth": 0,
             "ticks": ""
            },
            "colorscale": [
             [
              0,
              "#0d0887"
             ],
             [
              0.1111111111111111,
              "#46039f"
             ],
             [
              0.2222222222222222,
              "#7201a8"
             ],
             [
              0.3333333333333333,
              "#9c179e"
             ],
             [
              0.4444444444444444,
              "#bd3786"
             ],
             [
              0.5555555555555556,
              "#d8576b"
             ],
             [
              0.6666666666666666,
              "#ed7953"
             ],
             [
              0.7777777777777778,
              "#fb9f3a"
             ],
             [
              0.8888888888888888,
              "#fdca26"
             ],
             [
              1,
              "#f0f921"
             ]
            ],
            "type": "heatmap"
           }
          ],
          "histogram": [
           {
            "marker": {
             "pattern": {
              "fillmode": "overlay",
              "size": 10,
              "solidity": 0.2
             }
            },
            "type": "histogram"
           }
          ],
          "histogram2d": [
           {
            "colorbar": {
             "outlinewidth": 0,
             "ticks": ""
            },
            "colorscale": [
             [
              0,
              "#0d0887"
             ],
             [
              0.1111111111111111,
              "#46039f"
             ],
             [
              0.2222222222222222,
              "#7201a8"
             ],
             [
              0.3333333333333333,
              "#9c179e"
             ],
             [
              0.4444444444444444,
              "#bd3786"
             ],
             [
              0.5555555555555556,
              "#d8576b"
             ],
             [
              0.6666666666666666,
              "#ed7953"
             ],
             [
              0.7777777777777778,
              "#fb9f3a"
             ],
             [
              0.8888888888888888,
              "#fdca26"
             ],
             [
              1,
              "#f0f921"
             ]
            ],
            "type": "histogram2d"
           }
          ],
          "histogram2dcontour": [
           {
            "colorbar": {
             "outlinewidth": 0,
             "ticks": ""
            },
            "colorscale": [
             [
              0,
              "#0d0887"
             ],
             [
              0.1111111111111111,
              "#46039f"
             ],
             [
              0.2222222222222222,
              "#7201a8"
             ],
             [
              0.3333333333333333,
              "#9c179e"
             ],
             [
              0.4444444444444444,
              "#bd3786"
             ],
             [
              0.5555555555555556,
              "#d8576b"
             ],
             [
              0.6666666666666666,
              "#ed7953"
             ],
             [
              0.7777777777777778,
              "#fb9f3a"
             ],
             [
              0.8888888888888888,
              "#fdca26"
             ],
             [
              1,
              "#f0f921"
             ]
            ],
            "type": "histogram2dcontour"
           }
          ],
          "mesh3d": [
           {
            "colorbar": {
             "outlinewidth": 0,
             "ticks": ""
            },
            "type": "mesh3d"
           }
          ],
          "parcoords": [
           {
            "line": {
             "colorbar": {
              "outlinewidth": 0,
              "ticks": ""
             }
            },
            "type": "parcoords"
           }
          ],
          "pie": [
           {
            "automargin": true,
            "type": "pie"
           }
          ],
          "scatter": [
           {
            "fillpattern": {
             "fillmode": "overlay",
             "size": 10,
             "solidity": 0.2
            },
            "type": "scatter"
           }
          ],
          "scatter3d": [
           {
            "line": {
             "colorbar": {
              "outlinewidth": 0,
              "ticks": ""
             }
            },
            "marker": {
             "colorbar": {
              "outlinewidth": 0,
              "ticks": ""
             }
            },
            "type": "scatter3d"
           }
          ],
          "scattercarpet": [
           {
            "marker": {
             "colorbar": {
              "outlinewidth": 0,
              "ticks": ""
             }
            },
            "type": "scattercarpet"
           }
          ],
          "scattergeo": [
           {
            "marker": {
             "colorbar": {
              "outlinewidth": 0,
              "ticks": ""
             }
            },
            "type": "scattergeo"
           }
          ],
          "scattergl": [
           {
            "marker": {
             "colorbar": {
              "outlinewidth": 0,
              "ticks": ""
             }
            },
            "type": "scattergl"
           }
          ],
          "scattermap": [
           {
            "marker": {
             "colorbar": {
              "outlinewidth": 0,
              "ticks": ""
             }
            },
            "type": "scattermap"
           }
          ],
          "scattermapbox": [
           {
            "marker": {
             "colorbar": {
              "outlinewidth": 0,
              "ticks": ""
             }
            },
            "type": "scattermapbox"
           }
          ],
          "scatterpolar": [
           {
            "marker": {
             "colorbar": {
              "outlinewidth": 0,
              "ticks": ""
             }
            },
            "type": "scatterpolar"
           }
          ],
          "scatterpolargl": [
           {
            "marker": {
             "colorbar": {
              "outlinewidth": 0,
              "ticks": ""
             }
            },
            "type": "scatterpolargl"
           }
          ],
          "scatterternary": [
           {
            "marker": {
             "colorbar": {
              "outlinewidth": 0,
              "ticks": ""
             }
            },
            "type": "scatterternary"
           }
          ],
          "surface": [
           {
            "colorbar": {
             "outlinewidth": 0,
             "ticks": ""
            },
            "colorscale": [
             [
              0,
              "#0d0887"
             ],
             [
              0.1111111111111111,
              "#46039f"
             ],
             [
              0.2222222222222222,
              "#7201a8"
             ],
             [
              0.3333333333333333,
              "#9c179e"
             ],
             [
              0.4444444444444444,
              "#bd3786"
             ],
             [
              0.5555555555555556,
              "#d8576b"
             ],
             [
              0.6666666666666666,
              "#ed7953"
             ],
             [
              0.7777777777777778,
              "#fb9f3a"
             ],
             [
              0.8888888888888888,
              "#fdca26"
             ],
             [
              1,
              "#f0f921"
             ]
            ],
            "type": "surface"
           }
          ],
          "table": [
           {
            "cells": {
             "fill": {
              "color": "#EBF0F8"
             },
             "line": {
              "color": "white"
             }
            },
            "header": {
             "fill": {
              "color": "#C8D4E3"
             },
             "line": {
              "color": "white"
             }
            },
            "type": "table"
           }
          ]
         },
         "layout": {
          "annotationdefaults": {
           "arrowcolor": "#2a3f5f",
           "arrowhead": 0,
           "arrowwidth": 1
          },
          "autotypenumbers": "strict",
          "coloraxis": {
           "colorbar": {
            "outlinewidth": 0,
            "ticks": ""
           }
          },
          "colorscale": {
           "diverging": [
            [
             0,
             "#8e0152"
            ],
            [
             0.1,
             "#c51b7d"
            ],
            [
             0.2,
             "#de77ae"
            ],
            [
             0.3,
             "#f1b6da"
            ],
            [
             0.4,
             "#fde0ef"
            ],
            [
             0.5,
             "#f7f7f7"
            ],
            [
             0.6,
             "#e6f5d0"
            ],
            [
             0.7,
             "#b8e186"
            ],
            [
             0.8,
             "#7fbc41"
            ],
            [
             0.9,
             "#4d9221"
            ],
            [
             1,
             "#276419"
            ]
           ],
           "sequential": [
            [
             0,
             "#0d0887"
            ],
            [
             0.1111111111111111,
             "#46039f"
            ],
            [
             0.2222222222222222,
             "#7201a8"
            ],
            [
             0.3333333333333333,
             "#9c179e"
            ],
            [
             0.4444444444444444,
             "#bd3786"
            ],
            [
             0.5555555555555556,
             "#d8576b"
            ],
            [
             0.6666666666666666,
             "#ed7953"
            ],
            [
             0.7777777777777778,
             "#fb9f3a"
            ],
            [
             0.8888888888888888,
             "#fdca26"
            ],
            [
             1,
             "#f0f921"
            ]
           ],
           "sequentialminus": [
            [
             0,
             "#0d0887"
            ],
            [
             0.1111111111111111,
             "#46039f"
            ],
            [
             0.2222222222222222,
             "#7201a8"
            ],
            [
             0.3333333333333333,
             "#9c179e"
            ],
            [
             0.4444444444444444,
             "#bd3786"
            ],
            [
             0.5555555555555556,
             "#d8576b"
            ],
            [
             0.6666666666666666,
             "#ed7953"
            ],
            [
             0.7777777777777778,
             "#fb9f3a"
            ],
            [
             0.8888888888888888,
             "#fdca26"
            ],
            [
             1,
             "#f0f921"
            ]
           ]
          },
          "colorway": [
           "#636efa",
           "#EF553B",
           "#00cc96",
           "#ab63fa",
           "#FFA15A",
           "#19d3f3",
           "#FF6692",
           "#B6E880",
           "#FF97FF",
           "#FECB52"
          ],
          "font": {
           "color": "#2a3f5f"
          },
          "geo": {
           "bgcolor": "white",
           "lakecolor": "white",
           "landcolor": "#E5ECF6",
           "showlakes": true,
           "showland": true,
           "subunitcolor": "white"
          },
          "hoverlabel": {
           "align": "left"
          },
          "hovermode": "closest",
          "mapbox": {
           "style": "light"
          },
          "paper_bgcolor": "white",
          "plot_bgcolor": "#E5ECF6",
          "polar": {
           "angularaxis": {
            "gridcolor": "white",
            "linecolor": "white",
            "ticks": ""
           },
           "bgcolor": "#E5ECF6",
           "radialaxis": {
            "gridcolor": "white",
            "linecolor": "white",
            "ticks": ""
           }
          },
          "scene": {
           "xaxis": {
            "backgroundcolor": "#E5ECF6",
            "gridcolor": "white",
            "gridwidth": 2,
            "linecolor": "white",
            "showbackground": true,
            "ticks": "",
            "zerolinecolor": "white"
           },
           "yaxis": {
            "backgroundcolor": "#E5ECF6",
            "gridcolor": "white",
            "gridwidth": 2,
            "linecolor": "white",
            "showbackground": true,
            "ticks": "",
            "zerolinecolor": "white"
           },
           "zaxis": {
            "backgroundcolor": "#E5ECF6",
            "gridcolor": "white",
            "gridwidth": 2,
            "linecolor": "white",
            "showbackground": true,
            "ticks": "",
            "zerolinecolor": "white"
           }
          },
          "shapedefaults": {
           "line": {
            "color": "#2a3f5f"
           }
          },
          "ternary": {
           "aaxis": {
            "gridcolor": "white",
            "linecolor": "white",
            "ticks": ""
           },
           "baxis": {
            "gridcolor": "white",
            "linecolor": "white",
            "ticks": ""
           },
           "bgcolor": "#E5ECF6",
           "caxis": {
            "gridcolor": "white",
            "linecolor": "white",
            "ticks": ""
           }
          },
          "title": {
           "x": 0.05
          },
          "xaxis": {
           "automargin": true,
           "gridcolor": "white",
           "linecolor": "white",
           "ticks": "",
           "title": {
            "standoff": 15
           },
           "zerolinecolor": "white",
           "zerolinewidth": 2
          },
          "yaxis": {
           "automargin": true,
           "gridcolor": "white",
           "linecolor": "white",
           "ticks": "",
           "title": {
            "standoff": 15
           },
           "zerolinecolor": "white",
           "zerolinewidth": 2
          }
         }
        },
        "title": {
         "text": "Matriculados e Concluintes (Feminino)"
        },
        "yaxis": {
         "range": [
          0,
          104354.8
         ]
        }
       }
      }
     },
     "metadata": {},
     "output_type": "display_data"
    }
   ],
   "source": [
    "colunas_fem = [\"QT_MAT_FEM\", \"QT_CONC_FEM\"]\n",
    "dados_fem = dados_censo_padronizado.groupby(\"NU_ANO_CENSO\")[colunas_fem].sum()\n",
    "\n",
    "fig_fem = go.Figure()\n",
    "fig_fem.add_trace(go.Bar(\n",
    "    x=dados_fem.index,\n",
    "    y=dados_fem[\"QT_MAT_FEM\"],\n",
    "    name=\"Matriculados Femininos\",\n",
    "    marker_color=\"pink\"\n",
    "))\n",
    "fig_fem.add_trace(go.Bar(\n",
    "    x=dados_fem.index,\n",
    "    y=dados_fem[\"QT_CONC_FEM\"],\n",
    "    name=\"Concluintes Femininos\",\n",
    "    marker_color=\"purple\"\n",
    "))\n",
    "\n",
    "fig_fem.update_layout(\n",
    "    title=\"Matriculados e Concluintes (Feminino)\",\n",
    "    barmode=\"group\",\n",
    "    yaxis_range=[0, maior_valor_y * 1.1]\n",
    ")\n",
    "\n",
    "fig_fem.show()"
   ]
  },
  {
   "cell_type": "markdown",
   "metadata": {},
   "source": [
    " O gráfico apresenta a relação entre homens matriculados e homens concluintes no ensino superior ao longo dos anos 2018 a 2023. Observa-se que, embora o número de matriculados tenha tido variações pequenas entre os anos, o número de concluintes é significativamente menor, evidenciando uma possível taxa de evasão expressiva.\n",
    "                     \n",
    "Em 2018, havia aproximadamente 38.447 homens matriculados, enquanto apenas 6.741 concluíram seus cursos. Essa diferença se mantém nos anos seguintes, com o menor número de conclusões em 2021 (5.146 concluíram), o que pode sugerir dificuldades enfrentadas pelos alunos naquele período.\n",
    "            \n",
    "Por outro lado, em 2023, há um leve aumento no número de concluintes (6.021), o que pode indicar uma melhora na retenção estudantil ou adaptações institucionais para incentivar a finalização dos cursos.\n",
    "Esses dados podem ser utilizados para investigar fatores que influenciam a evasão, como políticas educacionais, dificuldades financeiras, estrutura curricular e suporte acadêmico.\n",
    "Se quiser, posso te ajudar a aprofundar ainda mais essa análise! 🚀"
   ]
  },
  {
   "cell_type": "code",
   "execution_count": null,
   "metadata": {},
   "outputs": [
    {
     "data": {
      "application/vnd.microsoft.datawrangler.viewer.v0+json": {
       "columns": [
        {
         "name": "NU_ANO_CENSO",
         "rawType": "object",
         "type": "string"
        },
        {
         "name": "QT_MAT",
         "rawType": "float64",
         "type": "float"
        },
        {
         "name": "QT_CONC",
         "rawType": "float64",
         "type": "float"
        },
        {
         "name": "QT_MAT_MASC",
         "rawType": "float64",
         "type": "float"
        },
        {
         "name": "QT_CONC_MASC",
         "rawType": "float64",
         "type": "float"
        },
        {
         "name": "QT_MAT_FEM",
         "rawType": "float64",
         "type": "float"
        },
        {
         "name": "QT_CONC_FEM",
         "rawType": "float64",
         "type": "float"
        }
       ],
       "ref": "87e10105-4c95-4ca3-bfc7-edabbff54d90",
       "rows": [
        [
         "2018",
         "85920.0",
         "16031.0",
         "38447.0",
         "6741.0",
         "47473.0",
         "9290.0"
        ],
        [
         "2019",
         "82727.0",
         "14944.0",
         "36809.0",
         "6198.0",
         "45918.0",
         "8746.0"
        ],
        [
         "2020",
         "89127.0",
         "13046.0",
         "39843.0",
         "5495.0",
         "49284.0",
         "7551.0"
        ],
        [
         "2021",
         "90276.0",
         "12372.0",
         "40032.0",
         "5146.0",
         "50244.0",
         "7226.0"
        ],
        [
         "2022",
         "94669.0",
         "13375.0",
         "42011.0",
         "5382.0",
         "52658.0",
         "7993.0"
        ],
        [
         "2023",
         "94868.0",
         "14718.0",
         "41618.0",
         "6021.0",
         "53250.0",
         "8697.0"
        ]
       ],
       "shape": {
        "columns": 6,
        "rows": 6
       }
      },
      "text/html": [
       "<div>\n",
       "<style scoped>\n",
       "    .dataframe tbody tr th:only-of-type {\n",
       "        vertical-align: middle;\n",
       "    }\n",
       "\n",
       "    .dataframe tbody tr th {\n",
       "        vertical-align: top;\n",
       "    }\n",
       "\n",
       "    .dataframe thead th {\n",
       "        text-align: right;\n",
       "    }\n",
       "</style>\n",
       "<table border=\"1\" class=\"dataframe\">\n",
       "  <thead>\n",
       "    <tr style=\"text-align: right;\">\n",
       "      <th></th>\n",
       "      <th>QT_MAT</th>\n",
       "      <th>QT_CONC</th>\n",
       "      <th>QT_MAT_MASC</th>\n",
       "      <th>QT_CONC_MASC</th>\n",
       "      <th>QT_MAT_FEM</th>\n",
       "      <th>QT_CONC_FEM</th>\n",
       "    </tr>\n",
       "    <tr>\n",
       "      <th>NU_ANO_CENSO</th>\n",
       "      <th></th>\n",
       "      <th></th>\n",
       "      <th></th>\n",
       "      <th></th>\n",
       "      <th></th>\n",
       "      <th></th>\n",
       "    </tr>\n",
       "  </thead>\n",
       "  <tbody>\n",
       "    <tr>\n",
       "      <th>2018</th>\n",
       "      <td>85920.0</td>\n",
       "      <td>16031.0</td>\n",
       "      <td>38447.0</td>\n",
       "      <td>6741.0</td>\n",
       "      <td>47473.0</td>\n",
       "      <td>9290.0</td>\n",
       "    </tr>\n",
       "    <tr>\n",
       "      <th>2019</th>\n",
       "      <td>82727.0</td>\n",
       "      <td>14944.0</td>\n",
       "      <td>36809.0</td>\n",
       "      <td>6198.0</td>\n",
       "      <td>45918.0</td>\n",
       "      <td>8746.0</td>\n",
       "    </tr>\n",
       "    <tr>\n",
       "      <th>2020</th>\n",
       "      <td>89127.0</td>\n",
       "      <td>13046.0</td>\n",
       "      <td>39843.0</td>\n",
       "      <td>5495.0</td>\n",
       "      <td>49284.0</td>\n",
       "      <td>7551.0</td>\n",
       "    </tr>\n",
       "    <tr>\n",
       "      <th>2021</th>\n",
       "      <td>90276.0</td>\n",
       "      <td>12372.0</td>\n",
       "      <td>40032.0</td>\n",
       "      <td>5146.0</td>\n",
       "      <td>50244.0</td>\n",
       "      <td>7226.0</td>\n",
       "    </tr>\n",
       "    <tr>\n",
       "      <th>2022</th>\n",
       "      <td>94669.0</td>\n",
       "      <td>13375.0</td>\n",
       "      <td>42011.0</td>\n",
       "      <td>5382.0</td>\n",
       "      <td>52658.0</td>\n",
       "      <td>7993.0</td>\n",
       "    </tr>\n",
       "    <tr>\n",
       "      <th>2023</th>\n",
       "      <td>94868.0</td>\n",
       "      <td>14718.0</td>\n",
       "      <td>41618.0</td>\n",
       "      <td>6021.0</td>\n",
       "      <td>53250.0</td>\n",
       "      <td>8697.0</td>\n",
       "    </tr>\n",
       "  </tbody>\n",
       "</table>\n",
       "</div>"
      ],
      "text/plain": [
       "               QT_MAT  QT_CONC  QT_MAT_MASC  QT_CONC_MASC  QT_MAT_FEM  \\\n",
       "NU_ANO_CENSO                                                            \n",
       "2018          85920.0  16031.0      38447.0        6741.0     47473.0   \n",
       "2019          82727.0  14944.0      36809.0        6198.0     45918.0   \n",
       "2020          89127.0  13046.0      39843.0        5495.0     49284.0   \n",
       "2021          90276.0  12372.0      40032.0        5146.0     50244.0   \n",
       "2022          94669.0  13375.0      42011.0        5382.0     52658.0   \n",
       "2023          94868.0  14718.0      41618.0        6021.0     53250.0   \n",
       "\n",
       "              QT_CONC_FEM  \n",
       "NU_ANO_CENSO               \n",
       "2018               9290.0  \n",
       "2019               8746.0  \n",
       "2020               7551.0  \n",
       "2021               7226.0  \n",
       "2022               7993.0  \n",
       "2023               8697.0  "
      ]
     },
     "execution_count": 54,
     "metadata": {},
     "output_type": "execute_result"
    }
   ],
   "source": [
    "dados_censo_padronizado.groupby(by='NU_ANO_CENSO').sum()[['QT_MAT','QT_CONC','QT_MAT_MASC','QT_CONC_MASC','QT_MAT_FEM','QT_CONC_FEM']]"
   ]
  },
  {
   "cell_type": "markdown",
   "metadata": {},
   "source": [
    "### 2. Existe diferença de evasão entre cursos noturnos e diurnos?"
   ]
  },
  {
   "cell_type": "code",
   "execution_count": null,
   "metadata": {},
   "outputs": [
    {
     "data": {
      "text/plain": [
       "Index(['NU_ANO_CENSO', 'SG_IES', 'CO_IES', 'NO_CURSO',\n",
       "       'TP_ORGANIZACAO_ACADEMICA', 'TP_REDE', 'NO_CINE_ROTULO',\n",
       "       'NO_CINE_AREA_GERAL', 'NO_CINE_AREA_ESPECIFICA',\n",
       "       'NO_CINE_AREA_DETALHADA', 'TP_GRAU_ACADEMICO', 'IN_GRATUITO',\n",
       "       'TP_MODALIDADE_ENSINO', 'TP_NIVEL_ACADEMICO', 'QT_VG_TOTAL',\n",
       "       'QT_ING_ENEM', 'QT_ING_VESTIBULAR', 'QT_VG_TOTAL_DIURNO',\n",
       "       'QT_VG_TOTAL_NOTURNO', 'QT_MAT', 'QT_MAT_FEM', 'QT_MAT_MASC',\n",
       "       'QT_MAT_DIURNO', 'QT_MAT_NOTURNO', 'QT_MAT_0_17', 'QT_MAT_18_24',\n",
       "       'QT_MAT_25_29', 'QT_MAT_30_34', 'QT_MAT_35_39', 'QT_MAT_40_49',\n",
       "       'QT_MAT_50_59', 'QT_MAT_60_MAIS', 'QT_MAT_BRANCA', 'QT_MAT_PRETA',\n",
       "       'QT_MAT_PARDA', 'QT_MAT_AMARELA', 'QT_MAT_INDIGENA', 'QT_MAT_CORND',\n",
       "       'QT_CONC', 'QT_CONC_FEM', 'QT_CONC_MASC', 'QT_CONC_DIURNO',\n",
       "       'QT_CONC_NOTURNO', 'QT_CONC_0_17', 'QT_CONC_18_24', 'QT_CONC_25_29',\n",
       "       'QT_CONC_30_34', 'QT_CONC_35_39', 'QT_CONC_40_49', 'QT_CONC_50_59',\n",
       "       'QT_CONC_60_MAIS', 'QT_CONC_BRANCA', 'QT_CONC_PRETA', 'QT_CONC_PARDA',\n",
       "       'QT_CONC_AMARELA', 'QT_CONC_INDIGENA', 'QT_CONC_CORND',\n",
       "       'QT_MAT_NACESTRANG', 'QT_CONC_NACESTRANG', 'QT_MAT_DEFICIENTE',\n",
       "       'QT_CONC_DEFICIENTE', 'QT_MAT_FINANC', 'QT_CONC_FINANC',\n",
       "       'QT_MAT_PROCESCPUBLICA', 'QT_MAT_PROCESCPRIVADA',\n",
       "       'QT_MAT_PROCNAOINFORMADA', 'QT_CONC_PROCESCPUBLICA',\n",
       "       'QT_CONC_PROCESCPRIVADA', 'QT_CONC_PROCNAOINFORMADA'],\n",
       "      dtype='object')"
      ]
     },
     "execution_count": 55,
     "metadata": {},
     "output_type": "execute_result"
    }
   ],
   "source": [
    "dados_censo_padronizado.columns"
   ]
  },
  {
   "cell_type": "code",
   "execution_count": 64,
   "metadata": {},
   "outputs": [
    {
     "data": {
      "image/png": "[encoded data removed]",
      "text/plain": [
       "<Figure size 1500x800 with 2 Axes>"
      ]
     },
     "metadata": {},
     "output_type": "display_data"
    }
   ],
   "source": [
    "\n",
    "# Agrupando os dados corretamente\n",
    "dados_diurno = dados_censo_padronizado.groupby('NU_ANO_CENSO')[['QT_MAT_DIURNO', 'QT_CONC_DIURNO']].sum()\n",
    "dados_noturno = dados_censo_padronizado.groupby('NU_ANO_CENSO')[['QT_MAT_NOTURNO', 'QT_CONC_NOTURNO']].sum()\n",
    "\n",
    "# Criando os subplots\n",
    "fig, ax = plt.subplots(1, 2, figsize=(15, 8))\n",
    "\n",
    "# Gráfico do período diurno\n",
    "ax[0].bar(dados_diurno.index, dados_diurno['QT_MAT_DIURNO'], label='Matriculados', color='blue')\n",
    "ax[0].bar(dados_diurno.index, dados_diurno['QT_CONC_DIURNO'], label='Concluintes', color='green')\n",
    "\n",
    "ax[0].set_title(\"Matriculados & Concluintes - DIURNO\")\n",
    "ax[0].set_xlabel(\"Ano do Censo\")\n",
    "ax[0].set_ylabel(\"Quantidade\")\n",
    "ax[0].legend()\n",
    "\n",
    "# Gráfico do período noturno\n",
    "ax[1].bar(dados_noturno.index, dados_noturno['QT_MAT_NOTURNO'], label='Matriculados', color='blue')\n",
    "ax[1].bar(dados_noturno.index, dados_noturno['QT_CONC_NOTURNO'], label='Concluintes', color='green')\n",
    "\n",
    "ax[1].set_title(\"Matriculados & Concluintes - NOTURNO\")\n",
    "ax[1].set_xlabel(\"Ano do Censo\")\n",
    "ax[1].set_ylabel(\"Quantidade\")\n",
    "ax[1].legend()\n",
    "\n",
    "# Ajustando layout para melhor visualização\n",
    "plt.tight_layout()\n",
    "plt.show()"
   ]
  },
  {
   "cell_type": "code",
   "execution_count": 70,
   "metadata": {},
   "outputs": [
    {
     "data": {
      "application/vnd.microsoft.datawrangler.viewer.v0+json": {
       "columns": [
        {
         "name": "NU_ANO_CENSO",
         "rawType": "object",
         "type": "string"
        },
        {
         "name": "QT_MAT_DIURNO",
         "rawType": "float64",
         "type": "float"
        },
        {
         "name": "QT_CONC_DIURNO",
         "rawType": "float64",
         "type": "float"
        },
        {
         "name": "QT_MAT_NOTURNO",
         "rawType": "float64",
         "type": "float"
        },
        {
         "name": "QT_CONC_NOTURNO",
         "rawType": "float64",
         "type": "float"
        }
       ],
       "ref": "5b122748-e4c1-4f98-9c5e-b834c1dfc9a6",
       "rows": [
        [
         "2018",
         "55279.0",
         "9770.0",
         "30641.0",
         "6261.0"
        ],
        [
         "2019",
         "53918.0",
         "9259.0",
         "28809.0",
         "5685.0"
        ],
        [
         "2020",
         "53084.0",
         "7428.0",
         "25946.0",
         "3902.0"
        ],
        [
         "2021",
         "54288.0",
         "6978.0",
         "26506.0",
         "3737.0"
        ],
        [
         "2022",
         "56237.0",
         "7423.0",
         "27471.0",
         "4198.0"
        ],
        [
         "2023",
         "56564.0",
         "8523.0",
         "25775.0",
         "4314.0"
        ]
       ],
       "shape": {
        "columns": 4,
        "rows": 6
       }
      },
      "text/html": [
       "<div>\n",
       "<style scoped>\n",
       "    .dataframe tbody tr th:only-of-type {\n",
       "        vertical-align: middle;\n",
       "    }\n",
       "\n",
       "    .dataframe tbody tr th {\n",
       "        vertical-align: top;\n",
       "    }\n",
       "\n",
       "    .dataframe thead th {\n",
       "        text-align: right;\n",
       "    }\n",
       "</style>\n",
       "<table border=\"1\" class=\"dataframe\">\n",
       "  <thead>\n",
       "    <tr style=\"text-align: right;\">\n",
       "      <th></th>\n",
       "      <th>QT_MAT_DIURNO</th>\n",
       "      <th>QT_CONC_DIURNO</th>\n",
       "      <th>QT_MAT_NOTURNO</th>\n",
       "      <th>QT_CONC_NOTURNO</th>\n",
       "    </tr>\n",
       "    <tr>\n",
       "      <th>NU_ANO_CENSO</th>\n",
       "      <th></th>\n",
       "      <th></th>\n",
       "      <th></th>\n",
       "      <th></th>\n",
       "    </tr>\n",
       "  </thead>\n",
       "  <tbody>\n",
       "    <tr>\n",
       "      <th>2018</th>\n",
       "      <td>55279.0</td>\n",
       "      <td>9770.0</td>\n",
       "      <td>30641.0</td>\n",
       "      <td>6261.0</td>\n",
       "    </tr>\n",
       "    <tr>\n",
       "      <th>2019</th>\n",
       "      <td>53918.0</td>\n",
       "      <td>9259.0</td>\n",
       "      <td>28809.0</td>\n",
       "      <td>5685.0</td>\n",
       "    </tr>\n",
       "    <tr>\n",
       "      <th>2020</th>\n",
       "      <td>53084.0</td>\n",
       "      <td>7428.0</td>\n",
       "      <td>25946.0</td>\n",
       "      <td>3902.0</td>\n",
       "    </tr>\n",
       "    <tr>\n",
       "      <th>2021</th>\n",
       "      <td>54288.0</td>\n",
       "      <td>6978.0</td>\n",
       "      <td>26506.0</td>\n",
       "      <td>3737.0</td>\n",
       "    </tr>\n",
       "    <tr>\n",
       "      <th>2022</th>\n",
       "      <td>56237.0</td>\n",
       "      <td>7423.0</td>\n",
       "      <td>27471.0</td>\n",
       "      <td>4198.0</td>\n",
       "    </tr>\n",
       "    <tr>\n",
       "      <th>2023</th>\n",
       "      <td>56564.0</td>\n",
       "      <td>8523.0</td>\n",
       "      <td>25775.0</td>\n",
       "      <td>4314.0</td>\n",
       "    </tr>\n",
       "  </tbody>\n",
       "</table>\n",
       "</div>"
      ],
      "text/plain": [
       "              QT_MAT_DIURNO  QT_CONC_DIURNO  QT_MAT_NOTURNO  QT_CONC_NOTURNO\n",
       "NU_ANO_CENSO                                                                \n",
       "2018                55279.0          9770.0         30641.0           6261.0\n",
       "2019                53918.0          9259.0         28809.0           5685.0\n",
       "2020                53084.0          7428.0         25946.0           3902.0\n",
       "2021                54288.0          6978.0         26506.0           3737.0\n",
       "2022                56237.0          7423.0         27471.0           4198.0\n",
       "2023                56564.0          8523.0         25775.0           4314.0"
      ]
     },
     "execution_count": 70,
     "metadata": {},
     "output_type": "execute_result"
    }
   ],
   "source": [
    "dados_censo_padronizado.groupby(by=['NU_ANO_CENSO'])[['QT_MAT_DIURNO','QT_CONC_DIURNO','QT_MAT_NOTURNO','QT_CONC_NOTURNO']].sum()"
   ]
  },
  {
   "cell_type": "markdown",
   "metadata": {},
   "source": [
    "⏰ Análise por Turno: Matriculas e Formandos (2018–2023)\n",
    "Observa-se que o turno da manhã (diurno) é a opção predominante ao longo dos anos, apresentando maiores números de matrículas e formandos quando comparado ao turno noturno.\n",
    "\n",
    "| Ano  | Matrículas Diurno | Formandos Diurno | Matrículas Noturno | Formandos Noturno |\n",
    "|-------|-------------------|------------------|--------------------|-------------------|\n",
    "| 2018  | 55.279            | 9.770            | 30.641             | 6.261             |\n",
    "| 2023  | 56.564            | 8.523            | 25.775             | 4.314             |\n",
    "\n",
    "Em 2018, o turno diurno teve 55.279 matrículas e 9.770 formandos, enquanto o noturno registrou 30.641 matrículas e 6.261 formandos.\n",
    "\n",
    "Em 2023, o diurno manteve-se estável com 56.564 matrículas e 8.523 formandos, já o noturno apresentou uma queda para 25.775 matrículas e 4.314 formandos."
   ]
  },
  {
   "cell_type": "markdown",
   "metadata": {},
   "source": [
    "### 3. A evasão é diferente entre mulheres e homens?"
   ]
  },
  {
   "cell_type": "code",
   "execution_count": 73,
   "metadata": {},
   "outputs": [
    {
     "data": {
      "image/png": "[encoded data removed]",
      "text/plain": [
       "<Figure size 1200x800 with 4 Axes>"
      ]
     },
     "metadata": {},
     "output_type": "display_data"
    }
   ],
   "source": [
    "import matplotlib.pyplot as plt\n",
    "\n",
    "# Agrupando os dados corretamente\n",
    "dados_agrupados = dados_censo_padronizado.groupby('NU_ANO_CENSO').sum()\n",
    "\n",
    "# Criando a figura e os subplots\n",
    "fig, ax = plt.subplots(2, 2, figsize=(12, 8))\n",
    "\n",
    "# Gráfico de barras para homens\n",
    "ax[0][0].set_title(\"Evasão entre Homens\")\n",
    "ax[0][0].bar(dados_agrupados.index, dados_agrupados['QT_MAT_MASC'], label='Matriculados', color='grey')\n",
    "ax[0][0].bar(dados_agrupados.index, dados_agrupados['QT_CONC_MASC'], label='Concluintes', color='green')\n",
    "ax[0][0].set_xlabel(\"Ano do Censo\")\n",
    "ax[0][0].set_ylabel(\"Quantidade\")\n",
    "ax[0][0].legend()\n",
    "\n",
    "# Gráfico de pizza para homens\n",
    "ax[0][1].set_title(\"Proporção de Matrícula e Conclusão - Homens\")\n",
    "ax[0][1].pie(\n",
    "    [dados_agrupados['QT_MAT_MASC'].sum(), dados_agrupados['QT_CONC_MASC'].sum()],\n",
    "    labels=['Matriculados', 'Concluintes'],\n",
    "    autopct='%1.1f%%',\n",
    "    colors=['grey', 'green']\n",
    ")\n",
    "\n",
    "# Gráfico de barras para mulheres\n",
    "ax[1][0].set_title(\"Evasão entre Mulheres\")\n",
    "ax[1][0].bar(dados_agrupados.index, dados_agrupados['QT_MAT_FEM'], label=\"Matriculados\", color='pink')\n",
    "ax[1][0].bar(dados_agrupados.index, dados_agrupados['QT_CONC_FEM'], label=\"Concluintes\", color='purple')\n",
    "ax[1][0].set_xlabel(\"Ano do Censo\")\n",
    "ax[1][0].set_ylabel(\"Quantidade\")\n",
    "ax[1][0].legend()\n",
    "\n",
    "# Gráfico de pizza para mulheres\n",
    "ax[1][1].set_title(\"Proporção de Matrícula e Conclusão - Mulheres\")\n",
    "ax[1][1].pie(\n",
    "    [dados_agrupados['QT_MAT_FEM'].sum(), dados_agrupados['QT_CONC_FEM'].sum()],\n",
    "    labels=['Matriculados', 'Concluintes'],\n",
    "    autopct='%1.1f%%',\n",
    "    colors=['pink', 'purple']\n",
    ")\n",
    "\n",
    "# Ajustando layout para melhor visualização\n",
    "plt.tight_layout()\n",
    "plt.show()"
   ]
  },
  {
   "cell_type": "markdown",
   "metadata": {},
   "source": [
    "Os dados indicam que, ao longo dos anos analisados (2018-2023), há uma diferença considerável entre o número de matrículas e o número de conclusões tanto para homens quanto para mulheres. Observa-se que, apesar de um número elevado de alunos se matricularem, uma parcela significativa não conclui os estudos.\n",
    "\n",
    "Comparando os gêneros, homens apresentam uma taxa de conclusão um pouco maior que mulheres, mas em ambos os casos, a diferença entre matriculados e concluintes ainda é visível. Isso pode indicar desafios estruturais, como evasão escolar, dificuldades financeiras ou falta de acesso a recursos educacionais suficientes\n"
   ]
  },
  {
   "cell_type": "markdown",
   "metadata": {},
   "source": [
    "### 4. A evasão varia entre faixas etárias?"
   ]
  },
  {
   "cell_type": "code",
   "execution_count": 228,
   "metadata": {},
   "outputs": [
    {
     "name": "stdout",
     "output_type": "stream",
     "text": [
      "Matriculados 0 a 17 anos: 1301.0\n",
      "Matriculados 18 a 24 anos: 364877.0\n",
      "Matriculados 25 a 29 anos: 84921.0\n",
      "Matriculados 30 a 34 anos: 32084.0\n",
      "Matriculados 35 a 39 anos: 21224.0\n",
      "Matriculados 40 a 49 anos: 23571.0\n",
      "Matriculados 50 a 59 anos: 7859.0\n",
      "Matriculados 60 anos ou mais: 1750.0\n"
     ]
    }
   ],
   "source": [
    "# Somando individualmente cada faixa etária\n",
    "mat_0_17 = dados_censo_padronizado['QT_MAT_0_17'].sum()\n",
    "mat_18_24 = dados_censo_padronizado['QT_MAT_18_24'].sum()\n",
    "mat_25_29 = dados_censo_padronizado['QT_MAT_25_29'].sum()\n",
    "mat_30_34 = dados_censo_padronizado['QT_MAT_30_34'].sum()\n",
    "mat_35_39 = dados_censo_padronizado['QT_MAT_35_39'].sum()\n",
    "mat_40_49 = dados_censo_padronizado['QT_MAT_40_49'].sum()\n",
    "mat_50_59 = dados_censo_padronizado['QT_MAT_50_59'].sum()\n",
    "mat_60_mais = dados_censo_padronizado['QT_MAT_60_MAIS'].sum()\n",
    "\n",
    "# Exibindo os valores\n",
    "print(f\"Matriculados 0 a 17 anos: {mat_0_17}\")\n",
    "print(f\"Matriculados 18 a 24 anos: {mat_18_24}\")\n",
    "print(f\"Matriculados 25 a 29 anos: {mat_25_29}\")\n",
    "print(f\"Matriculados 30 a 34 anos: {mat_30_34}\")\n",
    "print(f\"Matriculados 35 a 39 anos: {mat_35_39}\")\n",
    "print(f\"Matriculados 40 a 49 anos: {mat_40_49}\")\n",
    "print(f\"Matriculados 50 a 59 anos: {mat_50_59}\")\n",
    "print(f\"Matriculados 60 anos ou mais: {mat_60_mais}\")"
   ]
  },
  {
   "cell_type": "code",
   "execution_count": null,
   "metadata": {},
   "outputs": [
    {
     "data": {
      "text/plain": [
       "<BarContainer object of 8 artists>"
      ]
     },
     "execution_count": 59,
     "metadata": {},
     "output_type": "execute_result"
    },
    {
     "data": {
      "image/png": "[encoded data removed]",
      "text/plain": [
       "<Figure size 1200x800 with 1 Axes>"
      ]
     },
     "metadata": {},
     "output_type": "display_data"
    }
   ],
   "source": [
    "faixa_etaria_mat = ['QT_MAT_0_17', 'QT_MAT_18_24','QT_MAT_25_29', 'QT_MAT_30_34', 'QT_MAT_35_39', 'QT_MAT_40_49','QT_MAT_50_59', 'QT_MAT_60_MAIS']\n",
    "faixa_etaria_conc = ['QT_CONC_0_17', 'QT_CONC_18_24', 'QT_CONC_25_29','QT_CONC_30_34', 'QT_CONC_35_39', 'QT_CONC_40_49', 'QT_CONC_50_59','QT_CONC_60_MAIS']\n",
    "\n",
    "faixa_etaria_padronizada = ['0-17', '18-24', '25-29', '30-34', '35-39', '40-49', '50-59', '60+']\n",
    "fig,ax = plt.subplots(figsize=(12,8))\n",
    "valores_mat = dados_censo_padronizado[faixa_etaria_mat].sum()  # soma todas as linhas para cada faixa etária\n",
    "valores_conc = dados_censo_padronizado[faixa_etaria_conc].sum()  \n",
    "\n",
    "ax.bar(faixa_etaria_padronizada,valores_mat)\n",
    "ax.bar(faixa_etaria_padronizada,valores_conc)\n"
   ]
  },
  {
   "cell_type": "markdown",
   "metadata": {},
   "source": [
    " ### 5. A cor/raça influencia na taxa de evasão?"
   ]
  },
  {
   "cell_type": "code",
   "execution_count": null,
   "metadata": {},
   "outputs": [
    {
     "data": {
      "text/plain": [
       "<BarContainer object of 6 artists>"
      ]
     },
     "execution_count": 61,
     "metadata": {},
     "output_type": "execute_result"
    },
    {
     "data": {
      "image/png": "[encoded data removed]",
      "text/plain": [
       "<Figure size 1200x800 with 1 Axes>"
      ]
     },
     "metadata": {},
     "output_type": "display_data"
    }
   ],
   "source": [
    "cor_raca_mat = ['QT_MAT_BRANCA', 'QT_MAT_PRETA','QT_MAT_PARDA', 'QT_MAT_AMARELA', 'QT_MAT_INDIGENA', 'QT_MAT_CORND']\n",
    "cor_raca_conc = ['QT_CONC_BRANCA', 'QT_CONC_PRETA', 'QT_CONC_PARDA','QT_CONC_AMARELA', 'QT_CONC_INDIGENA', 'QT_CONC_CORND']\n",
    "\n",
    "cor_raca_padronizada = ['BRANCA', 'PRETA', 'PARDA', 'AMARELA', 'INDIGENA', 'CORND']\n",
    "fig,ax = plt.subplots(figsize=(12,8))\n",
    "valores_mat = dados_censo_padronizado[cor_raca_mat].sum()  # soma todas as linhas para cada faixa etária\n",
    "valores_conc = dados_censo_padronizado[cor_raca_conc].sum()  \n",
    "\n",
    "ax.bar(cor_raca_padronizada,valores_mat)\n",
    "ax.bar(cor_raca_padronizada,valores_conc)\n"
   ]
  },
  {
   "cell_type": "markdown",
   "metadata": {},
   "source": [
    "### 6. Alunos com deficiência têm maior evasão?"
   ]
  },
  {
   "cell_type": "code",
   "execution_count": 229,
   "metadata": {},
   "outputs": [
    {
     "data": {
      "text/plain": [
       "np.float64(3761.0)"
      ]
     },
     "execution_count": 229,
     "metadata": {},
     "output_type": "execute_result"
    }
   ],
   "source": [
    "dados_censo_padronizado['QT_MAT_DEFICIENTE'].sum()"
   ]
  },
  {
   "cell_type": "code",
   "execution_count": null,
   "metadata": {},
   "outputs": [
    {
     "data": {
      "text/plain": [
       "<BarContainer object of 1 artists>"
      ]
     },
     "execution_count": 63,
     "metadata": {},
     "output_type": "execute_result"
    },
    {
     "data": {
      "image/png": "[encoded data removed]",
      "text/plain": [
       "<Figure size 1200x800 with 1 Axes>"
      ]
     },
     "metadata": {},
     "output_type": "display_data"
    }
   ],
   "source": [
    "fig,ax = plt.subplots(figsize=(12,8))\n",
    "valores_mat = dados_censo_padronizado['QT_MAT_DEFICIENTE'].sum() \n",
    "valores_conc = dados_censo_padronizado['QT_CONC_DEFICIENTE'].sum()  \n",
    "\n",
    "ax.bar('Matriculados',valores_mat)\n",
    "ax.bar(\"Concluentes\",valores_conc)\n",
    "\n",
    "       "
   ]
  },
  {
   "cell_type": "markdown",
   "metadata": {},
   "source": [
    " ### 7.A evasão é diferente entre cursos de áreas diferentes?"
   ]
  },
  {
   "cell_type": "code",
   "execution_count": 74,
   "metadata": {},
   "outputs": [
    {
     "data": {
      "image/png": "[encoded data removed]",
      "text/plain": [
       "<Figure size 1600x600 with 1 Axes>"
      ]
     },
     "metadata": {},
     "output_type": "display_data"
    }
   ],
   "source": [
    "fig,ax = plt.subplots(figsize=(16,6))\n",
    "agrupando_curso_geral = dados_censo_padronizado.groupby(by='NO_CINE_AREA_GERAL').sum()\n",
    "\n",
    "ax.barh(agrupando_curso_geral.index,agrupando_curso_geral['QT_MAT'])\n",
    "ax.barh(agrupando_curso_geral.index,agrupando_curso_geral['QT_CONC'])\n",
    "\n",
    "plt.xticks(rotation=45)\n",
    "\n",
    "plt.show()"
   ]
  },
  {
   "cell_type": "markdown",
   "metadata": {},
   "source": [
    "\n",
    "- Em Negócios, Administração e Direito, há um número expressivo de matrículas, mas o número de concluintes parece bem menor. Isso pode indicar desafios na retenção ou conclusão desses cursos.\n",
    "\n",
    "- Serviços segue um padrão semelhante, com muitas matrículas e um número relativamente menor de concluintes.\n",
    "\n",
    "- Em Engenharia, Produção e Construção, a diferença entre matrículas e concluintes também é perceptível, sugerindo \n",
    "possíveis dificuldades na trajetória acadêmica.\n",
    "\n",
    "- Saúde e Bem-Estar mantém um volume alto de matrículas, e embora haja menos concluintes, o número ainda é relevante.\n",
    "\n",
    "- Computação e TIC tem um número expressivo de matrículas, mas os concluintes representam uma fração menor, possivelmente indicando desafios na finalização do curso.\n",
    "\n",
    "- Ciências Sociais, Comunicação e Informação apresenta uma proporção relativamente mais equilibrada entre matrículas e concluintes.\n",
    "\n",
    "- Programas Básicos possuem os menores números em ambas as categorias, o que pode indicar menor procura ou duração mais curta desses cursos.\n"
   ]
  },
  {
   "cell_type": "markdown",
   "metadata": {},
   "source": [
    "### Entendendo melhor a evasão em cursos de NEGOCIOS,ADMINISTRAÇÃO E DIREITO"
   ]
  },
  {
   "cell_type": "code",
   "execution_count": null,
   "metadata": {},
   "outputs": [
    {
     "data": {
      "text/plain": [
       "array(['NEGOCIOS E ADMINISTRACAO', 'DIREITO'], dtype=object)"
      ]
     },
     "execution_count": 67,
     "metadata": {},
     "output_type": "execute_result"
    }
   ],
   "source": [
    "dados_censo_padronizado[dados_censo_padronizado['NO_CINE_AREA_GERAL'] == \"NEGOCIOS, ADMINISTRACAO E DIREITO\"]['NO_CINE_AREA_ESPECIFICA'].unique()"
   ]
  },
  {
   "cell_type": "code",
   "execution_count": 76,
   "metadata": {},
   "outputs": [],
   "source": [
    "\n",
    "negocio_adm = dados_censo_padronizado[dados_censo_padronizado['NO_CINE_AREA_ESPECIFICA'].isin([\"NEGOCIOS E ADMINISTRACAO\",\"DIREITO\"])]"
   ]
  },
  {
   "cell_type": "code",
   "execution_count": null,
   "metadata": {},
   "outputs": [
    {
     "data": {
      "image/png": "[encoded data removed]",
      "text/plain": [
       "<Figure size 1200x600 with 1 Axes>"
      ]
     },
     "metadata": {},
     "output_type": "display_data"
    }
   ],
   "source": [
    "\n",
    "negocio_adm_agrupado = negocio_adm.groupby('NO_CINE_AREA_ESPECIFICA')[['QT_MAT', 'QT_CONC']].sum()\n",
    "\n",
    "fig, ax = plt.subplots(figsize=(12, 6))\n",
    "\n",
    "ax.bar(negocio_adm_agrupado.index, negocio_adm_agrupado['QT_MAT'], label='Matriculados', color='blue')\n",
    "ax.bar(negocio_adm_agrupado.index, negocio_adm_agrupado['QT_CONC'], label='Concluintes', color='green')\n",
    "\n",
    "ax.set_title(\"Quantidade de Matriculados e Concluintes por Área\")\n",
    "ax.set_xlabel(\"Área de Estudo\")\n",
    "ax.set_ylabel(\"Quantidade\")\n",
    "ax.legend()\n",
    "\n",
    "plt.xticks(rotation=45) \n",
    "plt.tight_layout()\n",
    "plt.show()"
   ]
  },
  {
   "cell_type": "markdown",
   "metadata": {},
   "source": [
    "### Verificando a evasão em cursos mais especifico"
   ]
  },
  {
   "cell_type": "code",
   "execution_count": 79,
   "metadata": {},
   "outputs": [],
   "source": [
    "dados_censo_padronizado['Taxa_evasao_geral'] = dados_censo_padronizado['QT_MAT'] - dados_censo_padronizado['QT_CONC'] "
   ]
  },
  {
   "cell_type": "code",
   "execution_count": null,
   "metadata": {},
   "outputs": [],
   "source": [
    "# Pegando os 5 cursos com maior taxa de evasão\n",
    "top5 = dados_censo_padronizado.groupby(by='NO_CINE_AREA_DETALHADA')[['Taxa_evasao_geral']].sum().rename(columns={'Taxa_evasao_geral':\"Taxa_de_evasao\"}).nlargest(5,'Taxa_de_evasao').reset_index()\n",
    "#nlargeste pega as cinco primeira linhas desse agrupamento e coloca esse nome na coluna dos valores."
   ]
  },
  {
   "cell_type": "code",
   "execution_count": 81,
   "metadata": {},
   "outputs": [
    {
     "data": {
      "application/vnd.microsoft.datawrangler.viewer.v0+json": {
       "columns": [
        {
         "name": "index",
         "rawType": "int64",
         "type": "integer"
        },
        {
         "name": "NO_CINE_AREA_DETALHADA",
         "rawType": "object",
         "type": "string"
        },
        {
         "name": "Taxa_de_evasao",
         "rawType": "float64",
         "type": "float"
        }
       ],
       "ref": "55c12898-e330-43f7-81b5-87794f807e76",
       "rows": [
        [
         "0",
         "DIREITO",
         "50826.0"
        ],
        [
         "1",
         "PROMOCAO, PREVENCAO, TERAPIA E REABILITACAO",
         "31088.0"
        ],
        [
         "2",
         "GESTAO E ADMINISTRACAO",
         "29375.0"
        ],
        [
         "3",
         "FORMACAO DE PROFESSORES EM AREAS ESPECIFICAS (EXCETO LETRAS)",
         "27774.0"
        ],
        [
         "4",
         "PSICOLOGIA",
         "27405.0"
        ]
       ],
       "shape": {
        "columns": 2,
        "rows": 5
       }
      },
      "text/html": [
       "<div>\n",
       "<style scoped>\n",
       "    .dataframe tbody tr th:only-of-type {\n",
       "        vertical-align: middle;\n",
       "    }\n",
       "\n",
       "    .dataframe tbody tr th {\n",
       "        vertical-align: top;\n",
       "    }\n",
       "\n",
       "    .dataframe thead th {\n",
       "        text-align: right;\n",
       "    }\n",
       "</style>\n",
       "<table border=\"1\" class=\"dataframe\">\n",
       "  <thead>\n",
       "    <tr style=\"text-align: right;\">\n",
       "      <th></th>\n",
       "      <th>NO_CINE_AREA_DETALHADA</th>\n",
       "      <th>Taxa_de_evasao</th>\n",
       "    </tr>\n",
       "  </thead>\n",
       "  <tbody>\n",
       "    <tr>\n",
       "      <th>0</th>\n",
       "      <td>DIREITO</td>\n",
       "      <td>50826.0</td>\n",
       "    </tr>\n",
       "    <tr>\n",
       "      <th>1</th>\n",
       "      <td>PROMOCAO, PREVENCAO, TERAPIA E REABILITACAO</td>\n",
       "      <td>31088.0</td>\n",
       "    </tr>\n",
       "    <tr>\n",
       "      <th>2</th>\n",
       "      <td>GESTAO E ADMINISTRACAO</td>\n",
       "      <td>29375.0</td>\n",
       "    </tr>\n",
       "    <tr>\n",
       "      <th>3</th>\n",
       "      <td>FORMACAO DE PROFESSORES EM AREAS ESPECIFICAS (...</td>\n",
       "      <td>27774.0</td>\n",
       "    </tr>\n",
       "    <tr>\n",
       "      <th>4</th>\n",
       "      <td>PSICOLOGIA</td>\n",
       "      <td>27405.0</td>\n",
       "    </tr>\n",
       "  </tbody>\n",
       "</table>\n",
       "</div>"
      ],
      "text/plain": [
       "                              NO_CINE_AREA_DETALHADA  Taxa_de_evasao\n",
       "0                                            DIREITO         50826.0\n",
       "1        PROMOCAO, PREVENCAO, TERAPIA E REABILITACAO         31088.0\n",
       "2                             GESTAO E ADMINISTRACAO         29375.0\n",
       "3  FORMACAO DE PROFESSORES EM AREAS ESPECIFICAS (...         27774.0\n",
       "4                                         PSICOLOGIA         27405.0"
      ]
     },
     "execution_count": 81,
     "metadata": {},
     "output_type": "execute_result"
    }
   ],
   "source": [
    "top5"
   ]
  },
  {
   "cell_type": "code",
   "execution_count": 85,
   "metadata": {},
   "outputs": [
    {
     "data": {
      "image/png": "[encoded data removed]",
      "text/plain": [
       "<Figure size 1200x600 with 1 Axes>"
      ]
     },
     "metadata": {},
     "output_type": "display_data"
    }
   ],
   "source": [
    "fig,ax = plt.subplots(figsize=(12,6))\n",
    "\n",
    "ax.barh(curso_direito_top5['NO_CINE_AREA_DETALHADA'],curso_direito_top5['QT_MAT'])\n",
    "ax.barh(curso_direito_top5['NO_CINE_AREA_DETALHADA'],curso_direito_top5['QT_CONC'])\n",
    "\n",
    "plt.xticks(rotation=45)\n",
    "\n",
    "plt.show()"
   ]
  },
  {
   "cell_type": "markdown",
   "metadata": {},
   "source": [
    "🎓 Resumo: Comparação entre Cursos - Matrículas x Concluintes\n",
    "\n",
    "Direito: Maior número de matrículas, mas grande queda nos concluintes → indica alta evasão ou formação longa.\n",
    "\n",
    "Gestão/Administração: Muitas matrículas, mas baixa taxa de conclusão.\n",
    "\n",
    "Psicologia: Alto número de ingressos, porém grande diferença para os concluintes, sinalizando desafios na formação.\n",
    "\n",
    "Formação de Professores (Áreas Específicas) | Promoção, Prevenção, Terapia e Reabilitação: \n",
    "\n",
    "    -Menos matrículas, mas com retenção mais próximo dos concluintes, em comparação com as demais"
   ]
  },
  {
   "cell_type": "markdown",
   "metadata": {},
   "source": [
    "### 8. A evasão é maior em cursos EAD?"
   ]
  },
  {
   "cell_type": "code",
   "execution_count": null,
   "metadata": {},
   "outputs": [
    {
     "data": {
      "text/plain": [
       "array(['PRESENCIAL', 'CURSO A DISTANCIA'], dtype=object)"
      ]
     },
     "execution_count": 79,
     "metadata": {},
     "output_type": "execute_result"
    }
   ],
   "source": [
    "dados_censo_padronizado['TP_MODALIDADE_ENSINO'].unique()"
   ]
  },
  {
   "cell_type": "code",
   "execution_count": 247,
   "metadata": {},
   "outputs": [
    {
     "data": {
      "text/plain": [
       "([0, 1], [Text(0, 0, 'CURSO A DISTANCIA'), Text(1, 0, 'PRESENCIAL')])"
      ]
     },
     "execution_count": 247,
     "metadata": {},
     "output_type": "execute_result"
    },
    {
     "data": {
      "image/png": "[encoded data removed]",
      "text/plain": [
       "<Figure size 1200x600 with 1 Axes>"
      ]
     },
     "metadata": {},
     "output_type": "display_data"
    }
   ],
   "source": [
    "fig,ax = plt.subplots(figsize=(12,6))\n",
    "agrupando_modalidade_ensino= dados_censo_padronizado.groupby(by='TP_MODALIDADE_ENSINO').sum()\n",
    "\n",
    "ax.bar(agrupando_modalidade_ensino.index,agrupando_modalidade_ensino['QT_MAT'])\n",
    "ax.bar(agrupando_modalidade_ensino.index,agrupando_modalidade_ensino['QT_CONC'])\n",
    "\n",
    "plt.xticks(rotation=45)"
   ]
  },
  {
   "cell_type": "markdown",
   "metadata": {},
   "source": [
    "Verifica-se que os cursos presenciais apresentam, em geral, um número significativamente maior de matrículas em comparação aos cursos a distância. No entanto, ambos os formatos registram altas taxas de não concluintes. Ainda assim, ao observarmos proporcionalmente, os cursos a distância tendem a apresentar uma taxa de conclusão relativamente maior, mesmo com um número menor de matriculados."
   ]
  },
  {
   "cell_type": "code",
   "execution_count": null,
   "metadata": {},
   "outputs": [],
   "source": []
  }
 ],
 "metadata": {
  "kernelspec": {
   "display_name": "base",
   "language": "python",
   "name": "python3"
  },
  "language_info": {
   "codemirror_mode": {
    "name": "ipython",
    "version": 3
   },
   "file_extension": ".py",
   "mimetype": "text/x-python",
   "name": "python",
   "nbconvert_exporter": "python",
   "pygments_lexer": "ipython3",
   "version": "3.12.9"
  }
 },
 "nbformat": 4,
 "nbformat_minor": 2
}
